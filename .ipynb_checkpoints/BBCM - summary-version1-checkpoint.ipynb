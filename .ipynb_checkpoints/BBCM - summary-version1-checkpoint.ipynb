{
 "cells": [
  {
   "cell_type": "code",
   "execution_count": 3,
   "metadata": {},
   "outputs": [],
   "source": [
    "import sys\n",
    "import psutil\n",
    "import numpy as np\n",
    "import pandas as pd\n",
    "import plotly.io as pio\n",
    "from collections import Counter\n",
    "import dataframe_image as dfi\n",
    "import plotly.graph_objects as go\n"
   ]
  },
  {
   "cell_type": "code",
   "execution_count": 4,
   "metadata": {},
   "outputs": [],
   "source": [
    "# !{sys.executable} -m pip install  -U imgkit\n"
   ]
  },
  {
   "cell_type": "markdown",
   "metadata": {},
   "source": [
    "# Acoounts "
   ]
  },
  {
   "cell_type": "code",
   "execution_count": 5,
   "metadata": {
    "code_folding": [
     0
    ]
   },
   "outputs": [],
   "source": [
    "class accounts_split:\n",
    "    \n",
    "    def __init__(self, version):\n",
    "        self.version = version\n",
    "        self.langs = ['ar', 'en', 'fr', 'es']\n",
    "        self.master_file = pd.read_excel(f'{self.version}/data_collection/BBCM - Masterfile.xlsx', engine='openpyxl')\n",
    "        self.fb_collectable = pd.read_csv(f'{self.version}/data_collection/fb-accounts-v3-ct-imported-pages.csv')\n",
    "        self.tw_collectable = pd.read_csv(f'{self.version}/data_collection/tw-accounts-v3-collectable.csv')\n",
    "        self.fb_accounts_collections = pd.read_csv(f'{self.version}/data_collection/fb-v3-post-collections-20210402.csv')\n",
    "        self.tw_accounts_collections = pd.read_csv(f'{self.version}/data_collection/tw-v3-tweet-collections.csv')\n",
    "        self.consolidated_accounts_collection = pd.read_csv(f'{self.version}/data_collection/store-all-messages-v3.csv')\n",
    "        self.acc_sum = self.accounts_summary(self.master_file, self.fb_collectable, self.tw_collectable, self.tw_accounts_collections, self.fb_accounts_collections, self.consolidated_accounts_collection)\n",
    "        \n",
    "    def annotate(self, folder):\n",
    "        self.fig = self.accounts_annotation(self.acc_sum)\n",
    "        pio.write_image(self.fig, f\"{self.version}/{folder}/accounts_collection_split_v3.jpeg\")\n",
    "    \n",
    "    def create_dict(self, lst):\n",
    "        res_dct = {}\n",
    "        for i,t in enumerate(lst):\n",
    "            res_dct[t] = i\n",
    "        return res_dct\n",
    "        \n",
    "\n",
    "\n",
    "    def accounts_summary(self, master, tw, fb, tw_coll, fb_coll, lang_coll):\n",
    "        all_accounts = len(master.iloc[:,:22].iloc[:563])\n",
    "        fb_accounts = len(fb)\n",
    "        tw_accounts = len(tw)\n",
    "        tw_collections = len(tw_coll)\n",
    "        fb_collections = len(fb_coll)\n",
    "        collectable = fb_accounts + tw_accounts\n",
    "        not_collectable = all_accounts - collectable\n",
    "        self.acc_coll_sum = self.accounts_collection_summary(lang_coll)\n",
    "\n",
    "        return [all_accounts, fb_accounts, tw_accounts, collectable, not_collectable, tw_collections, fb_collections,  tw_collections + fb_collections] + self.acc_coll_sum\n",
    "\n",
    "    def accounts_collection_summary(self, df):\n",
    "        lang_collection = []\n",
    "        for lang in self.langs:\n",
    "            lang_collection.append(len(df[df['M52/language'] == lang]))\n",
    "        lang_collection.append(np.sum(lang_collection))\n",
    "        print(lang_collection)\n",
    "        return lang_collection\n",
    "    \n",
    "    def account_prefixes(self, acc_sum, account_sources):\n",
    "        annotated = []\n",
    "        filtered_collections = self.account_collection_prefixes(self.acc_coll_sum, account_sources[-4:])\n",
    "        annotated.append(f'{account_sources[0]} - {acc_sum[0]}')\n",
    "        annotated.append(f'{account_sources[1]} - {acc_sum[3]}')\n",
    "        annotated.append(f'{account_sources[2]} - {acc_sum[4] - 2}')\n",
    "        annotated.append(f'{account_sources[3]} - {acc_sum[1]} ')\n",
    "        annotated.append(f'{account_sources[4]} - {acc_sum[2]} ')\n",
    "        annotated.append(f'{account_sources[5]} - {acc_sum[5]} ')\n",
    "        annotated.append(f'{account_sources[6]} - {acc_sum[6]} ')\n",
    "        annotated.append(f'{account_sources[7]} - {acc_sum[7]} ')\n",
    "        return annotated + filtered_collections\n",
    "\n",
    "\n",
    "    def account_collection_prefixes(self, acc_coll_sum, sources):\n",
    "        annotated = []\n",
    "        annotated.append(f'{sources[0]} - {acc_coll_sum[0]}')\n",
    "        annotated.append(f'{sources[1]} - {acc_coll_sum[1]}')\n",
    "        annotated.append(f'{sources[2]} - {acc_coll_sum[2]}')\n",
    "        annotated.append(f'{sources[3]} - {acc_coll_sum[3]}')\n",
    "\n",
    "        return annotated \n",
    "    \n",
    "    def accounts_annotation(self, acc_sum):\n",
    "        account_sources = [\"source_accounts\", \"collectable\", \"not collectable\", \"Twitter accounts\", \"Facebook accounts\", \"Twitter collection\", \"Facebook collection\", \"Consolidate\", \"Arabic\", \"English\", \"Spanish\", \"French\"]\n",
    "        account_sources_map = self.create_dict(account_sources)\n",
    "        account_labels = self.account_prefixes(acc_sum, account_sources)\n",
    "        fig = go.Figure(data=[go.Sankey(\n",
    "            arrangement = \"snap\",\n",
    "            valueformat = \".0f\",\n",
    "            node = dict(\n",
    "              pad = 15,\n",
    "              thickness = 20,\n",
    "              line = dict(color = \"black\", width = 0.5),\n",
    "              label = account_labels,\n",
    "              x =  [0, 0.22, 0.1, 0,  0,  0.61, 0.5, 0.84, 1, 1, 1, 1 ],\n",
    "              y =  [0, 0.1,   1,  0, 0.9,  0.1, 0.7, 0.3, 0.6, 0.7, 0.8, 1 ],\n",
    "            ),\n",
    "            link = dict(\n",
    "              source = [account_sources_map[account_sources[0]], account_sources_map[account_sources[0]], account_sources_map[account_sources[1]], account_sources_map[account_sources[1]], account_sources_map[account_sources[3]], account_sources_map[account_sources[4]], account_sources_map[account_sources[5]], account_sources_map[account_sources[6]], account_sources_map[account_sources[7]], account_sources_map[account_sources[7]], account_sources_map[account_sources[7]],  account_sources_map[account_sources[7]]  ], \n",
    "              target = [account_sources_map[account_sources[1]], account_sources_map[account_sources[2]], account_sources_map[account_sources[3]], account_sources_map[account_sources[4]], account_sources_map[account_sources[5]], account_sources_map[account_sources[6]], account_sources_map[account_sources[7]], account_sources_map[account_sources[7]], account_sources_map[account_sources[8]], account_sources_map[account_sources[9]], account_sources_map[account_sources[10]], account_sources_map[account_sources[11]]  ],\n",
    "              value =  [acc_sum[0]/acc_sum[0],                   acc_sum[4]/acc_sum[0],                   acc_sum[2]/acc_sum[0],                   acc_sum[1]/acc_sum[0],                   acc_sum[5]/acc_sum[7],                   acc_sum[6]/acc_sum[7],                   acc_sum[5]/acc_sum[7],                   acc_sum[6]/acc_sum[7],                   acc_sum[8]/acc_sum[12],                  acc_sum[9]/acc_sum[12],                  acc_sum[10]/acc_sum[12],                  acc_sum[11]/acc_sum[12]   ]\n",
    "          ))])\n",
    "\n",
    "        fig.update_layout(title_text=\"New accounts collection\", font_size=12)\n",
    "        fig.show()\n",
    "        return fig\n"
   ]
  },
  {
   "cell_type": "markdown",
   "metadata": {},
   "source": [
    "# Keyword annotators"
   ]
  },
  {
   "cell_type": "code",
   "execution_count": 197,
   "metadata": {
    "code_folding": [
     0
    ]
   },
   "outputs": [],
   "source": [
    "class keyword_annotator_split:\n",
    "    \n",
    "    def __init__(self, version, square):\n",
    "        self.version = version\n",
    "        self.square = square\n",
    "        self.langs = ['ar', 'en', 'fr', 'es']\n",
    "        self.lang_map = {'ar': 'Arabic', 'en': 'English', 'es': 'Spanish', 'fr': 'French'}\n",
    "        self.language_data = pd.read_csv(f'{self.version}/keyword_annotations/store-all-messages.csv')\n",
    "        self.lang_sum = self.language_summary(self.language_data)\n",
    " \n",
    "        \n",
    "    def annotate(self, folder):\n",
    "        langs_analysis = []\n",
    "        for lang in self.langs:\n",
    "            annotated_data = pd.read_csv(f'{self.version}/keyword_annotations/store-all-messages-annotated-{self.version}-{lang}.csv')\n",
    "            self.themes = [t for t in list(annotated_data.columns) if t !='M52/language']\n",
    "            self.themes_mapping =  {'keyword.match.theme/chinese-culture-and-people':'chinese culture and people',\n",
    "                                     'keyword.match.theme/covid-19':'covid-19',\n",
    "                                     'keyword.match.theme/economy':'economy',\n",
    "                                     'keyword.match.theme/environment':'environment',\n",
    "                                     'keyword.match.theme/geopolitics':'geopolitics',\n",
    "                                     'keyword.match.theme/military-and-security':'military and security',\n",
    "                                     'keyword.match.theme/politics-and-society':'politics and society',\n",
    "                                     'keyword.match.theme/technology':'technology'}\n",
    "            # rename columns\n",
    "            annotated_renamed = self.rename_columns(annotated_data)\n",
    "            # count the number of themes for each language \n",
    "            self.annotation_count(annotated_renamed)  \n",
    "            self.unannotated_count(annotated_renamed)\n",
    "            themes_count = self.theme_count\n",
    "            # create sankey diagram, source prefixes is to generate output data such as econmy - 100 etc\n",
    "            self.fig = self.keyword_annotation(self.lang_sum['all'], lang, self.lang_sum[lang], themes_count)\n",
    "            pio.write_image(self.fig, f\"{self.version}/{folder}/keyword_annotator_split_{self.version}_{lang}.png\")\n",
    "        \n",
    "            \n",
    "    def language_summary(self, language_data):\n",
    "        langs_proportions = {}\n",
    "        for lang in self.langs:\n",
    "            langs_proportions[lang] = len(language_data[language_data['M52/language'] == lang])\n",
    "        langs_proportions['all'] = len(language_data)\n",
    "        return langs_proportions\n",
    "        \n",
    "\n",
    "    def rename_columns(self, df):\n",
    "        renamed = df.rename(columns = self.themes_mapping).drop('M52/language', axis = 1)\n",
    "        return renamed\n",
    "\n",
    "    def annotation_count(self, df):\n",
    "        self.theme_count = {}\n",
    "        for t in list(self.themes_mapping.values()):\n",
    "            self.theme_count[t] = df[t].value_counts()[1]\n",
    "        return self.theme_count\n",
    "\n",
    "    def unannotated_count(self, df):\n",
    "        self.theme_count['unannotated'] = len(df[(~df).all(axis=1)])\n",
    "        return self.theme_count\n",
    "    \n",
    "    # map between annotation counts and list of sources     \n",
    "    def source_prefixes(self, all_proportion, proportion, sources, annotation_count):\n",
    "        annotated = []\n",
    "        annotated.append(f'{sources[0]} - {proportion} - {round((proportion/all_proportion)*100)}%')\n",
    "        for i, ant in enumerate(sources[1:-1]):\n",
    "            annotated.append(f'{ant} - {annotation_count[sources[i+1]]} - {round((annotation_count[sources[i+1]]/proportion)*100)}%')        \n",
    "        return annotated + [f'{sources[-1:][0]} - {all_proportion}']\n",
    "    \n",
    "    \n",
    "    def keyword_annotation(self, all_proportion, lang, porportion, annotation_count):\n",
    "        sources = [ lang, \"economy\", \"politics and society\", \"covid-19\", \"technology\", \"environment\", \"military and security\", \"geopolitics\", \"chinese culture and people\", \"unannotated\", 'source data']    \n",
    "        sources2idx = {k:v for v, k in enumerate(sources)}\n",
    "        idx2sources = {k:v for v, k in sources2idx.items()}\n",
    "        labels = self.source_prefixes(all_proportion,  porportion, sources, annotation_count)\n",
    "        fig = go.Figure(data=[go.Sankey(\n",
    "            arrangement = \"snap\",\n",
    "             valueformat = \".0f\",\n",
    "            node = dict(\n",
    "              pad = 15,\n",
    "              thickness = 20,\n",
    "              line = dict(color = \"black\", width = 0.5),\n",
    "              label = labels,\n",
    "            ),\n",
    "            link = dict(\n",
    "              source = [sources2idx[idx2sources[sources2idx['source data']]], sources2idx[idx2sources[sources2idx[lang]]],                      sources2idx[idx2sources[sources2idx[lang]]],                       sources2idx[idx2sources[sources2idx[lang]]],                                   sources2idx[idx2sources[sources2idx[lang]]],                          sources2idx[idx2sources[sources2idx[lang]]],                                         sources2idx[idx2sources[sources2idx[lang]]],                                    sources2idx[idx2sources[sources2idx[lang]]],                         sources2idx[idx2sources[sources2idx[lang]]],                          sources2idx[idx2sources[sources2idx[lang]]]                          ], \n",
    "              target = [sources2idx[idx2sources[sources2idx[lang]]],          sources2idx[idx2sources[sources2idx['economy']]],                 sources2idx[idx2sources[sources2idx['covid-19']]],                 sources2idx[idx2sources[sources2idx['politics and society']]],                 sources2idx[idx2sources[sources2idx['geopolitics']]],                 sources2idx[idx2sources[sources2idx['chinese culture and people']]],                 sources2idx[idx2sources[sources2idx['military and security']]],                 sources2idx[idx2sources[sources2idx['technology']]],                 sources2idx[idx2sources[sources2idx['environment']]],                 sources2idx[idx2sources[sources2idx['unannotated']]]                 ],\n",
    "              value =  [porportion/all_proportion,                            annotation_count[idx2sources[sources2idx['economy']]]/porportion, annotation_count[idx2sources[sources2idx['covid-19']]]/porportion, annotation_count[idx2sources[sources2idx['politics and society']]]/porportion, annotation_count[idx2sources[sources2idx['geopolitics']]]/porportion, annotation_count[idx2sources[sources2idx['chinese culture and people']]]/porportion, annotation_count[idx2sources[sources2idx['military and security']]]/porportion, annotation_count[idx2sources[sources2idx['technology']]]/porportion, annotation_count[idx2sources[sources2idx['environment']]]/porportion, annotation_count[idx2sources[sources2idx['unannotated']]]/porportion ]\n",
    "          ))])\n",
    "        fig.update_layout(title_text=f\"{self.lang_map[lang]} keyword annotation proportion {self.version}\", font_size=12)\n",
    "        fig.show()\n",
    "        return fig\n"
   ]
  },
  {
   "cell_type": "markdown",
   "metadata": {},
   "source": [
    "# Heatmap"
   ]
  },
  {
   "cell_type": "code",
   "execution_count": 383,
   "metadata": {
    "code_folding": []
   },
   "outputs": [],
   "source": [
    "# create a mask to remove half of the plot\n",
    "class overlap_heatmap:\n",
    "    \n",
    "    def __init__(self, version):\n",
    "        self.version = version\n",
    "        self.langs = ['ar', 'en', 'fr', 'es']\n",
    "        self.lang_map = {'ar': 'Arabic', 'en': 'English', 'es': 'Spanish', 'fr': 'French'}\n",
    "        self.language_data = pd.read_csv(f'{version}/keyword_annotations/store-all-messages.csv')\n",
    "        \n",
    "    def annotate(self, version, folder):\n",
    "        langs_analysis = []\n",
    "        hms = []\n",
    "        for lang in self.langs:\n",
    "            annotated_data = pd.read_csv(f'{version}/keyword_annotations/store-all-messages-annotated-{self.version}-{lang}.csv')\n",
    "            self.themes = [t for t in list(annotated_data.columns) if t !='M52/language']\n",
    "            self.themes_mapping =  {'keyword.match.theme/chinese-culture-and-people':'chinese culture and people',\n",
    "                                     'keyword.match.theme/covid-19':'covid-19',\n",
    "                                     'keyword.match.theme/economy':'economy',\n",
    "                                     'keyword.match.theme/environment':'environment',\n",
    "                                     'keyword.match.theme/geopolitics':'geopolitics',\n",
    "                                     'keyword.match.theme/military-and-security':'military and security',\n",
    "                                     'keyword.match.theme/politics-and-society':'politics and society',\n",
    "                                     'keyword.match.theme/technology':'technology'}\n",
    "            annotated_renamed = self.rename_columns(annotated_data).drop('M52/language', axis = 1)\n",
    "            df = self.analyze_overlap(annotated_renamed)\n",
    "            self.build_heatmap(version, folder, df, lang)\n",
    "            \n",
    "        \n",
    "            \n",
    "    def analyze_overlap(self, df):\n",
    "        df = (df.T @ df) + ((0-df.T)@(0-df))\n",
    "        df[:] = np.tril(df.values, k=0)\n",
    "        return df\n",
    "    \n",
    "    \n",
    "    def color_white(val):\n",
    "        \"\"\"Color the nan text white\"\"\"\n",
    "        if val == 0:\n",
    "            return 'color: white'\n",
    "\n",
    "    def color_white_background(val):\n",
    "        if val == 0:\n",
    "            return 'background-color: white'\n",
    "\n",
    "    def rename_columns(self, df):\n",
    "        renamed = df.rename(columns = self.themes_mapping)\n",
    "        return renamed\n",
    "\n",
    "    def build_heatmap(self, version, folder, df, lang):\n",
    "        fig = df.style.background_gradient(cmap ='viridis')\\\n",
    "            .set_properties(**{'font-size': '20px'}).applymap(lambda x: color_white_background(x)).applymap(lambda x: color_white(x))\n",
    "        fig.set_caption(f'{self.lang_map[lang]} overlap heatmap {self.version}').export_png(f'{self.version}/{folder}/{self.lang_map[lang]}_heatmap.png')\n",
    "        display(fig)\n",
    "        return fig\n"
   ]
  },
  {
   "cell_type": "markdown",
   "metadata": {
    "code_folding": []
   },
   "source": [
    "# Project level"
   ]
  },
  {
   "cell_type": "code",
   "execution_count": 364,
   "metadata": {
    "code_folding": []
   },
   "outputs": [],
   "source": [
    "version = 'v2'\n",
    "class project_level:\n",
    "    \n",
    "    def __init__(self):\n",
    "        self.dc = accounts_split(version)\n",
    "        self.ka = keyword_annotator_split(version)\n",
    "        self.hm = overlap_heatmap(version)\n",
    "        \n",
    "        \n",
    "    def keyword_annotator_split(self, folder):\n",
    "        self.ka.annotate(folder)\n",
    "    def heatmap(self, folder):\n",
    "        \n",
    "        return self.hm.annotate(version, folder)\n",
    "        "
   ]
  },
  {
   "cell_type": "code",
   "execution_count": 366,
   "metadata": {},
   "outputs": [
    {
     "name": "stdout",
     "output_type": "stream",
     "text": [
      "[14994, 145052, 10750, 13356, 184152]\n"
     ]
    },
    {
     "data": {
      "application/vnd.plotly.v1+json": {
       "config": {
        "plotlyServerURL": "https://plot.ly"
       },
       "data": [
        {
         "arrangement": "snap",
         "link": {
          "source": [
           10,
           0,
           0,
           0,
           0,
           0,
           0,
           0,
           0,
           0
          ],
          "target": [
           0,
           1,
           3,
           2,
           7,
           8,
           6,
           4,
           5,
           9
          ],
          "value": [
           0.10312211435274152,
           0.1936108422071636,
           0.32774685382381413,
           0.3900048402710552,
           0.39962487899322363,
           0.20438044530493707,
           0.14823330106485963,
           0.1453291384317522,
           0.2663359148112294,
           0.24842691190706678
          ]
         },
         "node": {
          "label": [
           "ar - 16528 - 10%",
           "economy - 3200 - 19%",
           "politics and society - 6446 - 39%",
           "covid-19 - 5417 - 33%",
           "technology - 2402 - 15%",
           "environment - 4402 - 27%",
           "military and security - 2450 - 15%",
           "geopolitics - 6605 - 40%",
           "chinese culture and people - 3378 - 20%",
           "unannotated - 4106 - 25%",
           "source data - 160276"
          ],
          "line": {
           "color": "black",
           "width": 0.5
          },
          "pad": 15,
          "thickness": 20
         },
         "type": "sankey",
         "valueformat": ".0f"
        }
       ],
       "layout": {
        "font": {
         "size": 12
        },
        "template": {
         "data": {
          "bar": [
           {
            "error_x": {
             "color": "#2a3f5f"
            },
            "error_y": {
             "color": "#2a3f5f"
            },
            "marker": {
             "line": {
              "color": "#E5ECF6",
              "width": 0.5
             }
            },
            "type": "bar"
           }
          ],
          "barpolar": [
           {
            "marker": {
             "line": {
              "color": "#E5ECF6",
              "width": 0.5
             }
            },
            "type": "barpolar"
           }
          ],
          "carpet": [
           {
            "aaxis": {
             "endlinecolor": "#2a3f5f",
             "gridcolor": "white",
             "linecolor": "white",
             "minorgridcolor": "white",
             "startlinecolor": "#2a3f5f"
            },
            "baxis": {
             "endlinecolor": "#2a3f5f",
             "gridcolor": "white",
             "linecolor": "white",
             "minorgridcolor": "white",
             "startlinecolor": "#2a3f5f"
            },
            "type": "carpet"
           }
          ],
          "choropleth": [
           {
            "colorbar": {
             "outlinewidth": 0,
             "ticks": ""
            },
            "type": "choropleth"
           }
          ],
          "contour": [
           {
            "colorbar": {
             "outlinewidth": 0,
             "ticks": ""
            },
            "colorscale": [
             [
              0,
              "#0d0887"
             ],
             [
              0.1111111111111111,
              "#46039f"
             ],
             [
              0.2222222222222222,
              "#7201a8"
             ],
             [
              0.3333333333333333,
              "#9c179e"
             ],
             [
              0.4444444444444444,
              "#bd3786"
             ],
             [
              0.5555555555555556,
              "#d8576b"
             ],
             [
              0.6666666666666666,
              "#ed7953"
             ],
             [
              0.7777777777777778,
              "#fb9f3a"
             ],
             [
              0.8888888888888888,
              "#fdca26"
             ],
             [
              1,
              "#f0f921"
             ]
            ],
            "type": "contour"
           }
          ],
          "contourcarpet": [
           {
            "colorbar": {
             "outlinewidth": 0,
             "ticks": ""
            },
            "type": "contourcarpet"
           }
          ],
          "heatmap": [
           {
            "colorbar": {
             "outlinewidth": 0,
             "ticks": ""
            },
            "colorscale": [
             [
              0,
              "#0d0887"
             ],
             [
              0.1111111111111111,
              "#46039f"
             ],
             [
              0.2222222222222222,
              "#7201a8"
             ],
             [
              0.3333333333333333,
              "#9c179e"
             ],
             [
              0.4444444444444444,
              "#bd3786"
             ],
             [
              0.5555555555555556,
              "#d8576b"
             ],
             [
              0.6666666666666666,
              "#ed7953"
             ],
             [
              0.7777777777777778,
              "#fb9f3a"
             ],
             [
              0.8888888888888888,
              "#fdca26"
             ],
             [
              1,
              "#f0f921"
             ]
            ],
            "type": "heatmap"
           }
          ],
          "heatmapgl": [
           {
            "colorbar": {
             "outlinewidth": 0,
             "ticks": ""
            },
            "colorscale": [
             [
              0,
              "#0d0887"
             ],
             [
              0.1111111111111111,
              "#46039f"
             ],
             [
              0.2222222222222222,
              "#7201a8"
             ],
             [
              0.3333333333333333,
              "#9c179e"
             ],
             [
              0.4444444444444444,
              "#bd3786"
             ],
             [
              0.5555555555555556,
              "#d8576b"
             ],
             [
              0.6666666666666666,
              "#ed7953"
             ],
             [
              0.7777777777777778,
              "#fb9f3a"
             ],
             [
              0.8888888888888888,
              "#fdca26"
             ],
             [
              1,
              "#f0f921"
             ]
            ],
            "type": "heatmapgl"
           }
          ],
          "histogram": [
           {
            "marker": {
             "colorbar": {
              "outlinewidth": 0,
              "ticks": ""
             }
            },
            "type": "histogram"
           }
          ],
          "histogram2d": [
           {
            "colorbar": {
             "outlinewidth": 0,
             "ticks": ""
            },
            "colorscale": [
             [
              0,
              "#0d0887"
             ],
             [
              0.1111111111111111,
              "#46039f"
             ],
             [
              0.2222222222222222,
              "#7201a8"
             ],
             [
              0.3333333333333333,
              "#9c179e"
             ],
             [
              0.4444444444444444,
              "#bd3786"
             ],
             [
              0.5555555555555556,
              "#d8576b"
             ],
             [
              0.6666666666666666,
              "#ed7953"
             ],
             [
              0.7777777777777778,
              "#fb9f3a"
             ],
             [
              0.8888888888888888,
              "#fdca26"
             ],
             [
              1,
              "#f0f921"
             ]
            ],
            "type": "histogram2d"
           }
          ],
          "histogram2dcontour": [
           {
            "colorbar": {
             "outlinewidth": 0,
             "ticks": ""
            },
            "colorscale": [
             [
              0,
              "#0d0887"
             ],
             [
              0.1111111111111111,
              "#46039f"
             ],
             [
              0.2222222222222222,
              "#7201a8"
             ],
             [
              0.3333333333333333,
              "#9c179e"
             ],
             [
              0.4444444444444444,
              "#bd3786"
             ],
             [
              0.5555555555555556,
              "#d8576b"
             ],
             [
              0.6666666666666666,
              "#ed7953"
             ],
             [
              0.7777777777777778,
              "#fb9f3a"
             ],
             [
              0.8888888888888888,
              "#fdca26"
             ],
             [
              1,
              "#f0f921"
             ]
            ],
            "type": "histogram2dcontour"
           }
          ],
          "mesh3d": [
           {
            "colorbar": {
             "outlinewidth": 0,
             "ticks": ""
            },
            "type": "mesh3d"
           }
          ],
          "parcoords": [
           {
            "line": {
             "colorbar": {
              "outlinewidth": 0,
              "ticks": ""
             }
            },
            "type": "parcoords"
           }
          ],
          "pie": [
           {
            "automargin": true,
            "type": "pie"
           }
          ],
          "scatter": [
           {
            "marker": {
             "colorbar": {
              "outlinewidth": 0,
              "ticks": ""
             }
            },
            "type": "scatter"
           }
          ],
          "scatter3d": [
           {
            "line": {
             "colorbar": {
              "outlinewidth": 0,
              "ticks": ""
             }
            },
            "marker": {
             "colorbar": {
              "outlinewidth": 0,
              "ticks": ""
             }
            },
            "type": "scatter3d"
           }
          ],
          "scattercarpet": [
           {
            "marker": {
             "colorbar": {
              "outlinewidth": 0,
              "ticks": ""
             }
            },
            "type": "scattercarpet"
           }
          ],
          "scattergeo": [
           {
            "marker": {
             "colorbar": {
              "outlinewidth": 0,
              "ticks": ""
             }
            },
            "type": "scattergeo"
           }
          ],
          "scattergl": [
           {
            "marker": {
             "colorbar": {
              "outlinewidth": 0,
              "ticks": ""
             }
            },
            "type": "scattergl"
           }
          ],
          "scattermapbox": [
           {
            "marker": {
             "colorbar": {
              "outlinewidth": 0,
              "ticks": ""
             }
            },
            "type": "scattermapbox"
           }
          ],
          "scatterpolar": [
           {
            "marker": {
             "colorbar": {
              "outlinewidth": 0,
              "ticks": ""
             }
            },
            "type": "scatterpolar"
           }
          ],
          "scatterpolargl": [
           {
            "marker": {
             "colorbar": {
              "outlinewidth": 0,
              "ticks": ""
             }
            },
            "type": "scatterpolargl"
           }
          ],
          "scatterternary": [
           {
            "marker": {
             "colorbar": {
              "outlinewidth": 0,
              "ticks": ""
             }
            },
            "type": "scatterternary"
           }
          ],
          "surface": [
           {
            "colorbar": {
             "outlinewidth": 0,
             "ticks": ""
            },
            "colorscale": [
             [
              0,
              "#0d0887"
             ],
             [
              0.1111111111111111,
              "#46039f"
             ],
             [
              0.2222222222222222,
              "#7201a8"
             ],
             [
              0.3333333333333333,
              "#9c179e"
             ],
             [
              0.4444444444444444,
              "#bd3786"
             ],
             [
              0.5555555555555556,
              "#d8576b"
             ],
             [
              0.6666666666666666,
              "#ed7953"
             ],
             [
              0.7777777777777778,
              "#fb9f3a"
             ],
             [
              0.8888888888888888,
              "#fdca26"
             ],
             [
              1,
              "#f0f921"
             ]
            ],
            "type": "surface"
           }
          ],
          "table": [
           {
            "cells": {
             "fill": {
              "color": "#EBF0F8"
             },
             "line": {
              "color": "white"
             }
            },
            "header": {
             "fill": {
              "color": "#C8D4E3"
             },
             "line": {
              "color": "white"
             }
            },
            "type": "table"
           }
          ]
         },
         "layout": {
          "annotationdefaults": {
           "arrowcolor": "#2a3f5f",
           "arrowhead": 0,
           "arrowwidth": 1
          },
          "autotypenumbers": "strict",
          "coloraxis": {
           "colorbar": {
            "outlinewidth": 0,
            "ticks": ""
           }
          },
          "colorscale": {
           "diverging": [
            [
             0,
             "#8e0152"
            ],
            [
             0.1,
             "#c51b7d"
            ],
            [
             0.2,
             "#de77ae"
            ],
            [
             0.3,
             "#f1b6da"
            ],
            [
             0.4,
             "#fde0ef"
            ],
            [
             0.5,
             "#f7f7f7"
            ],
            [
             0.6,
             "#e6f5d0"
            ],
            [
             0.7,
             "#b8e186"
            ],
            [
             0.8,
             "#7fbc41"
            ],
            [
             0.9,
             "#4d9221"
            ],
            [
             1,
             "#276419"
            ]
           ],
           "sequential": [
            [
             0,
             "#0d0887"
            ],
            [
             0.1111111111111111,
             "#46039f"
            ],
            [
             0.2222222222222222,
             "#7201a8"
            ],
            [
             0.3333333333333333,
             "#9c179e"
            ],
            [
             0.4444444444444444,
             "#bd3786"
            ],
            [
             0.5555555555555556,
             "#d8576b"
            ],
            [
             0.6666666666666666,
             "#ed7953"
            ],
            [
             0.7777777777777778,
             "#fb9f3a"
            ],
            [
             0.8888888888888888,
             "#fdca26"
            ],
            [
             1,
             "#f0f921"
            ]
           ],
           "sequentialminus": [
            [
             0,
             "#0d0887"
            ],
            [
             0.1111111111111111,
             "#46039f"
            ],
            [
             0.2222222222222222,
             "#7201a8"
            ],
            [
             0.3333333333333333,
             "#9c179e"
            ],
            [
             0.4444444444444444,
             "#bd3786"
            ],
            [
             0.5555555555555556,
             "#d8576b"
            ],
            [
             0.6666666666666666,
             "#ed7953"
            ],
            [
             0.7777777777777778,
             "#fb9f3a"
            ],
            [
             0.8888888888888888,
             "#fdca26"
            ],
            [
             1,
             "#f0f921"
            ]
           ]
          },
          "colorway": [
           "#636efa",
           "#EF553B",
           "#00cc96",
           "#ab63fa",
           "#FFA15A",
           "#19d3f3",
           "#FF6692",
           "#B6E880",
           "#FF97FF",
           "#FECB52"
          ],
          "font": {
           "color": "#2a3f5f"
          },
          "geo": {
           "bgcolor": "white",
           "lakecolor": "white",
           "landcolor": "#E5ECF6",
           "showlakes": true,
           "showland": true,
           "subunitcolor": "white"
          },
          "hoverlabel": {
           "align": "left"
          },
          "hovermode": "closest",
          "mapbox": {
           "style": "light"
          },
          "paper_bgcolor": "white",
          "plot_bgcolor": "#E5ECF6",
          "polar": {
           "angularaxis": {
            "gridcolor": "white",
            "linecolor": "white",
            "ticks": ""
           },
           "bgcolor": "#E5ECF6",
           "radialaxis": {
            "gridcolor": "white",
            "linecolor": "white",
            "ticks": ""
           }
          },
          "scene": {
           "xaxis": {
            "backgroundcolor": "#E5ECF6",
            "gridcolor": "white",
            "gridwidth": 2,
            "linecolor": "white",
            "showbackground": true,
            "ticks": "",
            "zerolinecolor": "white"
           },
           "yaxis": {
            "backgroundcolor": "#E5ECF6",
            "gridcolor": "white",
            "gridwidth": 2,
            "linecolor": "white",
            "showbackground": true,
            "ticks": "",
            "zerolinecolor": "white"
           },
           "zaxis": {
            "backgroundcolor": "#E5ECF6",
            "gridcolor": "white",
            "gridwidth": 2,
            "linecolor": "white",
            "showbackground": true,
            "ticks": "",
            "zerolinecolor": "white"
           }
          },
          "shapedefaults": {
           "line": {
            "color": "#2a3f5f"
           }
          },
          "ternary": {
           "aaxis": {
            "gridcolor": "white",
            "linecolor": "white",
            "ticks": ""
           },
           "baxis": {
            "gridcolor": "white",
            "linecolor": "white",
            "ticks": ""
           },
           "bgcolor": "#E5ECF6",
           "caxis": {
            "gridcolor": "white",
            "linecolor": "white",
            "ticks": ""
           }
          },
          "title": {
           "x": 0.05
          },
          "xaxis": {
           "automargin": true,
           "gridcolor": "white",
           "linecolor": "white",
           "ticks": "",
           "title": {
            "standoff": 15
           },
           "zerolinecolor": "white",
           "zerolinewidth": 2
          },
          "yaxis": {
           "automargin": true,
           "gridcolor": "white",
           "linecolor": "white",
           "ticks": "",
           "title": {
            "standoff": 15
           },
           "zerolinecolor": "white",
           "zerolinewidth": 2
          }
         }
        },
        "title": {
         "text": "Arabic keyword annotation proportion v2"
        }
       }
      },
      "text/html": [
       "<div>                            <div id=\"06b5341f-8fe9-420c-bf33-14249eb55f8a\" class=\"plotly-graph-div\" style=\"height:525px; width:100%;\"></div>            <script type=\"text/javascript\">                require([\"plotly\"], function(Plotly) {                    window.PLOTLYENV=window.PLOTLYENV || {};                                    if (document.getElementById(\"06b5341f-8fe9-420c-bf33-14249eb55f8a\")) {                    Plotly.newPlot(                        \"06b5341f-8fe9-420c-bf33-14249eb55f8a\",                        [{\"arrangement\": \"snap\", \"link\": {\"source\": [10, 0, 0, 0, 0, 0, 0, 0, 0, 0], \"target\": [0, 1, 3, 2, 7, 8, 6, 4, 5, 9], \"value\": [0.10312211435274152, 0.1936108422071636, 0.32774685382381413, 0.3900048402710552, 0.39962487899322363, 0.20438044530493707, 0.14823330106485963, 0.1453291384317522, 0.2663359148112294, 0.24842691190706678]}, \"node\": {\"label\": [\"ar - 16528 - 10%\", \"economy - 3200 - 19%\", \"politics and society - 6446 - 39%\", \"covid-19 - 5417 - 33%\", \"technology - 2402 - 15%\", \"environment - 4402 - 27%\", \"military and security - 2450 - 15%\", \"geopolitics - 6605 - 40%\", \"chinese culture and people - 3378 - 20%\", \"unannotated - 4106 - 25%\", \"source data - 160276\"], \"line\": {\"color\": \"black\", \"width\": 0.5}, \"pad\": 15, \"thickness\": 20}, \"type\": \"sankey\", \"valueformat\": \".0f\"}],                        {\"font\": {\"size\": 12}, \"template\": {\"data\": {\"bar\": [{\"error_x\": {\"color\": \"#2a3f5f\"}, \"error_y\": {\"color\": \"#2a3f5f\"}, \"marker\": {\"line\": {\"color\": \"#E5ECF6\", \"width\": 0.5}}, \"type\": \"bar\"}], \"barpolar\": [{\"marker\": {\"line\": {\"color\": \"#E5ECF6\", \"width\": 0.5}}, \"type\": \"barpolar\"}], \"carpet\": [{\"aaxis\": {\"endlinecolor\": \"#2a3f5f\", \"gridcolor\": \"white\", \"linecolor\": \"white\", \"minorgridcolor\": \"white\", \"startlinecolor\": \"#2a3f5f\"}, \"baxis\": {\"endlinecolor\": \"#2a3f5f\", \"gridcolor\": \"white\", \"linecolor\": \"white\", \"minorgridcolor\": \"white\", \"startlinecolor\": \"#2a3f5f\"}, \"type\": \"carpet\"}], \"choropleth\": [{\"colorbar\": {\"outlinewidth\": 0, \"ticks\": \"\"}, \"type\": \"choropleth\"}], \"contour\": [{\"colorbar\": {\"outlinewidth\": 0, \"ticks\": \"\"}, \"colorscale\": [[0.0, \"#0d0887\"], [0.1111111111111111, \"#46039f\"], [0.2222222222222222, \"#7201a8\"], [0.3333333333333333, \"#9c179e\"], [0.4444444444444444, \"#bd3786\"], [0.5555555555555556, \"#d8576b\"], [0.6666666666666666, \"#ed7953\"], [0.7777777777777778, \"#fb9f3a\"], [0.8888888888888888, \"#fdca26\"], [1.0, \"#f0f921\"]], \"type\": \"contour\"}], \"contourcarpet\": [{\"colorbar\": {\"outlinewidth\": 0, \"ticks\": \"\"}, \"type\": \"contourcarpet\"}], \"heatmap\": [{\"colorbar\": {\"outlinewidth\": 0, \"ticks\": \"\"}, \"colorscale\": [[0.0, \"#0d0887\"], [0.1111111111111111, \"#46039f\"], [0.2222222222222222, \"#7201a8\"], [0.3333333333333333, \"#9c179e\"], [0.4444444444444444, \"#bd3786\"], [0.5555555555555556, \"#d8576b\"], [0.6666666666666666, \"#ed7953\"], [0.7777777777777778, \"#fb9f3a\"], [0.8888888888888888, \"#fdca26\"], [1.0, \"#f0f921\"]], \"type\": \"heatmap\"}], \"heatmapgl\": [{\"colorbar\": {\"outlinewidth\": 0, \"ticks\": \"\"}, \"colorscale\": [[0.0, \"#0d0887\"], [0.1111111111111111, \"#46039f\"], [0.2222222222222222, \"#7201a8\"], [0.3333333333333333, \"#9c179e\"], [0.4444444444444444, \"#bd3786\"], [0.5555555555555556, \"#d8576b\"], [0.6666666666666666, \"#ed7953\"], [0.7777777777777778, \"#fb9f3a\"], [0.8888888888888888, \"#fdca26\"], [1.0, \"#f0f921\"]], \"type\": \"heatmapgl\"}], \"histogram\": [{\"marker\": {\"colorbar\": {\"outlinewidth\": 0, \"ticks\": \"\"}}, \"type\": \"histogram\"}], \"histogram2d\": [{\"colorbar\": {\"outlinewidth\": 0, \"ticks\": \"\"}, \"colorscale\": [[0.0, \"#0d0887\"], [0.1111111111111111, \"#46039f\"], [0.2222222222222222, \"#7201a8\"], [0.3333333333333333, \"#9c179e\"], [0.4444444444444444, \"#bd3786\"], [0.5555555555555556, \"#d8576b\"], [0.6666666666666666, \"#ed7953\"], [0.7777777777777778, \"#fb9f3a\"], [0.8888888888888888, \"#fdca26\"], [1.0, \"#f0f921\"]], \"type\": \"histogram2d\"}], \"histogram2dcontour\": [{\"colorbar\": {\"outlinewidth\": 0, \"ticks\": \"\"}, \"colorscale\": [[0.0, \"#0d0887\"], [0.1111111111111111, \"#46039f\"], [0.2222222222222222, \"#7201a8\"], [0.3333333333333333, \"#9c179e\"], [0.4444444444444444, \"#bd3786\"], [0.5555555555555556, \"#d8576b\"], [0.6666666666666666, \"#ed7953\"], [0.7777777777777778, \"#fb9f3a\"], [0.8888888888888888, \"#fdca26\"], [1.0, \"#f0f921\"]], \"type\": \"histogram2dcontour\"}], \"mesh3d\": [{\"colorbar\": {\"outlinewidth\": 0, \"ticks\": \"\"}, \"type\": \"mesh3d\"}], \"parcoords\": [{\"line\": {\"colorbar\": {\"outlinewidth\": 0, \"ticks\": \"\"}}, \"type\": \"parcoords\"}], \"pie\": [{\"automargin\": true, \"type\": \"pie\"}], \"scatter\": [{\"marker\": {\"colorbar\": {\"outlinewidth\": 0, \"ticks\": \"\"}}, \"type\": \"scatter\"}], \"scatter3d\": [{\"line\": {\"colorbar\": {\"outlinewidth\": 0, \"ticks\": \"\"}}, \"marker\": {\"colorbar\": {\"outlinewidth\": 0, \"ticks\": \"\"}}, \"type\": \"scatter3d\"}], \"scattercarpet\": [{\"marker\": {\"colorbar\": {\"outlinewidth\": 0, \"ticks\": \"\"}}, \"type\": \"scattercarpet\"}], \"scattergeo\": [{\"marker\": {\"colorbar\": {\"outlinewidth\": 0, \"ticks\": \"\"}}, \"type\": \"scattergeo\"}], \"scattergl\": [{\"marker\": {\"colorbar\": {\"outlinewidth\": 0, \"ticks\": \"\"}}, \"type\": \"scattergl\"}], \"scattermapbox\": [{\"marker\": {\"colorbar\": {\"outlinewidth\": 0, \"ticks\": \"\"}}, \"type\": \"scattermapbox\"}], \"scatterpolar\": [{\"marker\": {\"colorbar\": {\"outlinewidth\": 0, \"ticks\": \"\"}}, \"type\": \"scatterpolar\"}], \"scatterpolargl\": [{\"marker\": {\"colorbar\": {\"outlinewidth\": 0, \"ticks\": \"\"}}, \"type\": \"scatterpolargl\"}], \"scatterternary\": [{\"marker\": {\"colorbar\": {\"outlinewidth\": 0, \"ticks\": \"\"}}, \"type\": \"scatterternary\"}], \"surface\": [{\"colorbar\": {\"outlinewidth\": 0, \"ticks\": \"\"}, \"colorscale\": [[0.0, \"#0d0887\"], [0.1111111111111111, \"#46039f\"], [0.2222222222222222, \"#7201a8\"], [0.3333333333333333, \"#9c179e\"], [0.4444444444444444, \"#bd3786\"], [0.5555555555555556, \"#d8576b\"], [0.6666666666666666, \"#ed7953\"], [0.7777777777777778, \"#fb9f3a\"], [0.8888888888888888, \"#fdca26\"], [1.0, \"#f0f921\"]], \"type\": \"surface\"}], \"table\": [{\"cells\": {\"fill\": {\"color\": \"#EBF0F8\"}, \"line\": {\"color\": \"white\"}}, \"header\": {\"fill\": {\"color\": \"#C8D4E3\"}, \"line\": {\"color\": \"white\"}}, \"type\": \"table\"}]}, \"layout\": {\"annotationdefaults\": {\"arrowcolor\": \"#2a3f5f\", \"arrowhead\": 0, \"arrowwidth\": 1}, \"autotypenumbers\": \"strict\", \"coloraxis\": {\"colorbar\": {\"outlinewidth\": 0, \"ticks\": \"\"}}, \"colorscale\": {\"diverging\": [[0, \"#8e0152\"], [0.1, \"#c51b7d\"], [0.2, \"#de77ae\"], [0.3, \"#f1b6da\"], [0.4, \"#fde0ef\"], [0.5, \"#f7f7f7\"], [0.6, \"#e6f5d0\"], [0.7, \"#b8e186\"], [0.8, \"#7fbc41\"], [0.9, \"#4d9221\"], [1, \"#276419\"]], \"sequential\": [[0.0, \"#0d0887\"], [0.1111111111111111, \"#46039f\"], [0.2222222222222222, \"#7201a8\"], [0.3333333333333333, \"#9c179e\"], [0.4444444444444444, \"#bd3786\"], [0.5555555555555556, \"#d8576b\"], [0.6666666666666666, \"#ed7953\"], [0.7777777777777778, \"#fb9f3a\"], [0.8888888888888888, \"#fdca26\"], [1.0, \"#f0f921\"]], \"sequentialminus\": [[0.0, \"#0d0887\"], [0.1111111111111111, \"#46039f\"], [0.2222222222222222, \"#7201a8\"], [0.3333333333333333, \"#9c179e\"], [0.4444444444444444, \"#bd3786\"], [0.5555555555555556, \"#d8576b\"], [0.6666666666666666, \"#ed7953\"], [0.7777777777777778, \"#fb9f3a\"], [0.8888888888888888, \"#fdca26\"], [1.0, \"#f0f921\"]]}, \"colorway\": [\"#636efa\", \"#EF553B\", \"#00cc96\", \"#ab63fa\", \"#FFA15A\", \"#19d3f3\", \"#FF6692\", \"#B6E880\", \"#FF97FF\", \"#FECB52\"], \"font\": {\"color\": \"#2a3f5f\"}, \"geo\": {\"bgcolor\": \"white\", \"lakecolor\": \"white\", \"landcolor\": \"#E5ECF6\", \"showlakes\": true, \"showland\": true, \"subunitcolor\": \"white\"}, \"hoverlabel\": {\"align\": \"left\"}, \"hovermode\": \"closest\", \"mapbox\": {\"style\": \"light\"}, \"paper_bgcolor\": \"white\", \"plot_bgcolor\": \"#E5ECF6\", \"polar\": {\"angularaxis\": {\"gridcolor\": \"white\", \"linecolor\": \"white\", \"ticks\": \"\"}, \"bgcolor\": \"#E5ECF6\", \"radialaxis\": {\"gridcolor\": \"white\", \"linecolor\": \"white\", \"ticks\": \"\"}}, \"scene\": {\"xaxis\": {\"backgroundcolor\": \"#E5ECF6\", \"gridcolor\": \"white\", \"gridwidth\": 2, \"linecolor\": \"white\", \"showbackground\": true, \"ticks\": \"\", \"zerolinecolor\": \"white\"}, \"yaxis\": {\"backgroundcolor\": \"#E5ECF6\", \"gridcolor\": \"white\", \"gridwidth\": 2, \"linecolor\": \"white\", \"showbackground\": true, \"ticks\": \"\", \"zerolinecolor\": \"white\"}, \"zaxis\": {\"backgroundcolor\": \"#E5ECF6\", \"gridcolor\": \"white\", \"gridwidth\": 2, \"linecolor\": \"white\", \"showbackground\": true, \"ticks\": \"\", \"zerolinecolor\": \"white\"}}, \"shapedefaults\": {\"line\": {\"color\": \"#2a3f5f\"}}, \"ternary\": {\"aaxis\": {\"gridcolor\": \"white\", \"linecolor\": \"white\", \"ticks\": \"\"}, \"baxis\": {\"gridcolor\": \"white\", \"linecolor\": \"white\", \"ticks\": \"\"}, \"bgcolor\": \"#E5ECF6\", \"caxis\": {\"gridcolor\": \"white\", \"linecolor\": \"white\", \"ticks\": \"\"}}, \"title\": {\"x\": 0.05}, \"xaxis\": {\"automargin\": true, \"gridcolor\": \"white\", \"linecolor\": \"white\", \"ticks\": \"\", \"title\": {\"standoff\": 15}, \"zerolinecolor\": \"white\", \"zerolinewidth\": 2}, \"yaxis\": {\"automargin\": true, \"gridcolor\": \"white\", \"linecolor\": \"white\", \"ticks\": \"\", \"title\": {\"standoff\": 15}, \"zerolinecolor\": \"white\", \"zerolinewidth\": 2}}}, \"title\": {\"text\": \"Arabic keyword annotation proportion v2\"}},                        {\"responsive\": true}                    ).then(function(){\n",
       "                            \n",
       "var gd = document.getElementById('06b5341f-8fe9-420c-bf33-14249eb55f8a');\n",
       "var x = new MutationObserver(function (mutations, observer) {{\n",
       "        var display = window.getComputedStyle(gd).display;\n",
       "        if (!display || display === 'none') {{\n",
       "            console.log([gd, 'removed!']);\n",
       "            Plotly.purge(gd);\n",
       "            observer.disconnect();\n",
       "        }}\n",
       "}});\n",
       "\n",
       "// Listen for the removal of the full notebook cells\n",
       "var notebookContainer = gd.closest('#notebook-container');\n",
       "if (notebookContainer) {{\n",
       "    x.observe(notebookContainer, {childList: true});\n",
       "}}\n",
       "\n",
       "// Listen for the clearing of the current output cell\n",
       "var outputEl = gd.closest('.output');\n",
       "if (outputEl) {{\n",
       "    x.observe(outputEl, {childList: true});\n",
       "}}\n",
       "\n",
       "                        })                };                });            </script>        </div>"
      ]
     },
     "metadata": {},
     "output_type": "display_data"
    },
    {
     "data": {
      "application/vnd.plotly.v1+json": {
       "config": {
        "plotlyServerURL": "https://plot.ly"
       },
       "data": [
        {
         "arrangement": "snap",
         "link": {
          "source": [
           10,
           0,
           0,
           0,
           0,
           0,
           0,
           0,
           0,
           0
          ],
          "target": [
           0,
           1,
           3,
           2,
           7,
           8,
           6,
           4,
           5,
           9
          ],
          "value": [
           0.6259015697921086,
           0.17084841053859265,
           0.17719828144781044,
           0.1214749244893687,
           0.1742276981967164,
           0.11481603317483577,
           0.05039026286671252,
           0.04196696472183179,
           0.0402922734930271,
           0.39300417675967186
          ]
         },
         "node": {
          "label": [
           "en - 100317 - 63%",
           "economy - 17139 - 17%",
           "politics and society - 12186 - 12%",
           "covid-19 - 17776 - 18%",
           "technology - 4210 - 4%",
           "environment - 4042 - 4%",
           "military and security - 5055 - 5%",
           "geopolitics - 17478 - 17%",
           "chinese culture and people - 11518 - 11%",
           "unannotated - 39425 - 39%",
           "source data - 160276"
          ],
          "line": {
           "color": "black",
           "width": 0.5
          },
          "pad": 15,
          "thickness": 20
         },
         "type": "sankey",
         "valueformat": ".0f"
        }
       ],
       "layout": {
        "font": {
         "size": 12
        },
        "template": {
         "data": {
          "bar": [
           {
            "error_x": {
             "color": "#2a3f5f"
            },
            "error_y": {
             "color": "#2a3f5f"
            },
            "marker": {
             "line": {
              "color": "#E5ECF6",
              "width": 0.5
             }
            },
            "type": "bar"
           }
          ],
          "barpolar": [
           {
            "marker": {
             "line": {
              "color": "#E5ECF6",
              "width": 0.5
             }
            },
            "type": "barpolar"
           }
          ],
          "carpet": [
           {
            "aaxis": {
             "endlinecolor": "#2a3f5f",
             "gridcolor": "white",
             "linecolor": "white",
             "minorgridcolor": "white",
             "startlinecolor": "#2a3f5f"
            },
            "baxis": {
             "endlinecolor": "#2a3f5f",
             "gridcolor": "white",
             "linecolor": "white",
             "minorgridcolor": "white",
             "startlinecolor": "#2a3f5f"
            },
            "type": "carpet"
           }
          ],
          "choropleth": [
           {
            "colorbar": {
             "outlinewidth": 0,
             "ticks": ""
            },
            "type": "choropleth"
           }
          ],
          "contour": [
           {
            "colorbar": {
             "outlinewidth": 0,
             "ticks": ""
            },
            "colorscale": [
             [
              0,
              "#0d0887"
             ],
             [
              0.1111111111111111,
              "#46039f"
             ],
             [
              0.2222222222222222,
              "#7201a8"
             ],
             [
              0.3333333333333333,
              "#9c179e"
             ],
             [
              0.4444444444444444,
              "#bd3786"
             ],
             [
              0.5555555555555556,
              "#d8576b"
             ],
             [
              0.6666666666666666,
              "#ed7953"
             ],
             [
              0.7777777777777778,
              "#fb9f3a"
             ],
             [
              0.8888888888888888,
              "#fdca26"
             ],
             [
              1,
              "#f0f921"
             ]
            ],
            "type": "contour"
           }
          ],
          "contourcarpet": [
           {
            "colorbar": {
             "outlinewidth": 0,
             "ticks": ""
            },
            "type": "contourcarpet"
           }
          ],
          "heatmap": [
           {
            "colorbar": {
             "outlinewidth": 0,
             "ticks": ""
            },
            "colorscale": [
             [
              0,
              "#0d0887"
             ],
             [
              0.1111111111111111,
              "#46039f"
             ],
             [
              0.2222222222222222,
              "#7201a8"
             ],
             [
              0.3333333333333333,
              "#9c179e"
             ],
             [
              0.4444444444444444,
              "#bd3786"
             ],
             [
              0.5555555555555556,
              "#d8576b"
             ],
             [
              0.6666666666666666,
              "#ed7953"
             ],
             [
              0.7777777777777778,
              "#fb9f3a"
             ],
             [
              0.8888888888888888,
              "#fdca26"
             ],
             [
              1,
              "#f0f921"
             ]
            ],
            "type": "heatmap"
           }
          ],
          "heatmapgl": [
           {
            "colorbar": {
             "outlinewidth": 0,
             "ticks": ""
            },
            "colorscale": [
             [
              0,
              "#0d0887"
             ],
             [
              0.1111111111111111,
              "#46039f"
             ],
             [
              0.2222222222222222,
              "#7201a8"
             ],
             [
              0.3333333333333333,
              "#9c179e"
             ],
             [
              0.4444444444444444,
              "#bd3786"
             ],
             [
              0.5555555555555556,
              "#d8576b"
             ],
             [
              0.6666666666666666,
              "#ed7953"
             ],
             [
              0.7777777777777778,
              "#fb9f3a"
             ],
             [
              0.8888888888888888,
              "#fdca26"
             ],
             [
              1,
              "#f0f921"
             ]
            ],
            "type": "heatmapgl"
           }
          ],
          "histogram": [
           {
            "marker": {
             "colorbar": {
              "outlinewidth": 0,
              "ticks": ""
             }
            },
            "type": "histogram"
           }
          ],
          "histogram2d": [
           {
            "colorbar": {
             "outlinewidth": 0,
             "ticks": ""
            },
            "colorscale": [
             [
              0,
              "#0d0887"
             ],
             [
              0.1111111111111111,
              "#46039f"
             ],
             [
              0.2222222222222222,
              "#7201a8"
             ],
             [
              0.3333333333333333,
              "#9c179e"
             ],
             [
              0.4444444444444444,
              "#bd3786"
             ],
             [
              0.5555555555555556,
              "#d8576b"
             ],
             [
              0.6666666666666666,
              "#ed7953"
             ],
             [
              0.7777777777777778,
              "#fb9f3a"
             ],
             [
              0.8888888888888888,
              "#fdca26"
             ],
             [
              1,
              "#f0f921"
             ]
            ],
            "type": "histogram2d"
           }
          ],
          "histogram2dcontour": [
           {
            "colorbar": {
             "outlinewidth": 0,
             "ticks": ""
            },
            "colorscale": [
             [
              0,
              "#0d0887"
             ],
             [
              0.1111111111111111,
              "#46039f"
             ],
             [
              0.2222222222222222,
              "#7201a8"
             ],
             [
              0.3333333333333333,
              "#9c179e"
             ],
             [
              0.4444444444444444,
              "#bd3786"
             ],
             [
              0.5555555555555556,
              "#d8576b"
             ],
             [
              0.6666666666666666,
              "#ed7953"
             ],
             [
              0.7777777777777778,
              "#fb9f3a"
             ],
             [
              0.8888888888888888,
              "#fdca26"
             ],
             [
              1,
              "#f0f921"
             ]
            ],
            "type": "histogram2dcontour"
           }
          ],
          "mesh3d": [
           {
            "colorbar": {
             "outlinewidth": 0,
             "ticks": ""
            },
            "type": "mesh3d"
           }
          ],
          "parcoords": [
           {
            "line": {
             "colorbar": {
              "outlinewidth": 0,
              "ticks": ""
             }
            },
            "type": "parcoords"
           }
          ],
          "pie": [
           {
            "automargin": true,
            "type": "pie"
           }
          ],
          "scatter": [
           {
            "marker": {
             "colorbar": {
              "outlinewidth": 0,
              "ticks": ""
             }
            },
            "type": "scatter"
           }
          ],
          "scatter3d": [
           {
            "line": {
             "colorbar": {
              "outlinewidth": 0,
              "ticks": ""
             }
            },
            "marker": {
             "colorbar": {
              "outlinewidth": 0,
              "ticks": ""
             }
            },
            "type": "scatter3d"
           }
          ],
          "scattercarpet": [
           {
            "marker": {
             "colorbar": {
              "outlinewidth": 0,
              "ticks": ""
             }
            },
            "type": "scattercarpet"
           }
          ],
          "scattergeo": [
           {
            "marker": {
             "colorbar": {
              "outlinewidth": 0,
              "ticks": ""
             }
            },
            "type": "scattergeo"
           }
          ],
          "scattergl": [
           {
            "marker": {
             "colorbar": {
              "outlinewidth": 0,
              "ticks": ""
             }
            },
            "type": "scattergl"
           }
          ],
          "scattermapbox": [
           {
            "marker": {
             "colorbar": {
              "outlinewidth": 0,
              "ticks": ""
             }
            },
            "type": "scattermapbox"
           }
          ],
          "scatterpolar": [
           {
            "marker": {
             "colorbar": {
              "outlinewidth": 0,
              "ticks": ""
             }
            },
            "type": "scatterpolar"
           }
          ],
          "scatterpolargl": [
           {
            "marker": {
             "colorbar": {
              "outlinewidth": 0,
              "ticks": ""
             }
            },
            "type": "scatterpolargl"
           }
          ],
          "scatterternary": [
           {
            "marker": {
             "colorbar": {
              "outlinewidth": 0,
              "ticks": ""
             }
            },
            "type": "scatterternary"
           }
          ],
          "surface": [
           {
            "colorbar": {
             "outlinewidth": 0,
             "ticks": ""
            },
            "colorscale": [
             [
              0,
              "#0d0887"
             ],
             [
              0.1111111111111111,
              "#46039f"
             ],
             [
              0.2222222222222222,
              "#7201a8"
             ],
             [
              0.3333333333333333,
              "#9c179e"
             ],
             [
              0.4444444444444444,
              "#bd3786"
             ],
             [
              0.5555555555555556,
              "#d8576b"
             ],
             [
              0.6666666666666666,
              "#ed7953"
             ],
             [
              0.7777777777777778,
              "#fb9f3a"
             ],
             [
              0.8888888888888888,
              "#fdca26"
             ],
             [
              1,
              "#f0f921"
             ]
            ],
            "type": "surface"
           }
          ],
          "table": [
           {
            "cells": {
             "fill": {
              "color": "#EBF0F8"
             },
             "line": {
              "color": "white"
             }
            },
            "header": {
             "fill": {
              "color": "#C8D4E3"
             },
             "line": {
              "color": "white"
             }
            },
            "type": "table"
           }
          ]
         },
         "layout": {
          "annotationdefaults": {
           "arrowcolor": "#2a3f5f",
           "arrowhead": 0,
           "arrowwidth": 1
          },
          "autotypenumbers": "strict",
          "coloraxis": {
           "colorbar": {
            "outlinewidth": 0,
            "ticks": ""
           }
          },
          "colorscale": {
           "diverging": [
            [
             0,
             "#8e0152"
            ],
            [
             0.1,
             "#c51b7d"
            ],
            [
             0.2,
             "#de77ae"
            ],
            [
             0.3,
             "#f1b6da"
            ],
            [
             0.4,
             "#fde0ef"
            ],
            [
             0.5,
             "#f7f7f7"
            ],
            [
             0.6,
             "#e6f5d0"
            ],
            [
             0.7,
             "#b8e186"
            ],
            [
             0.8,
             "#7fbc41"
            ],
            [
             0.9,
             "#4d9221"
            ],
            [
             1,
             "#276419"
            ]
           ],
           "sequential": [
            [
             0,
             "#0d0887"
            ],
            [
             0.1111111111111111,
             "#46039f"
            ],
            [
             0.2222222222222222,
             "#7201a8"
            ],
            [
             0.3333333333333333,
             "#9c179e"
            ],
            [
             0.4444444444444444,
             "#bd3786"
            ],
            [
             0.5555555555555556,
             "#d8576b"
            ],
            [
             0.6666666666666666,
             "#ed7953"
            ],
            [
             0.7777777777777778,
             "#fb9f3a"
            ],
            [
             0.8888888888888888,
             "#fdca26"
            ],
            [
             1,
             "#f0f921"
            ]
           ],
           "sequentialminus": [
            [
             0,
             "#0d0887"
            ],
            [
             0.1111111111111111,
             "#46039f"
            ],
            [
             0.2222222222222222,
             "#7201a8"
            ],
            [
             0.3333333333333333,
             "#9c179e"
            ],
            [
             0.4444444444444444,
             "#bd3786"
            ],
            [
             0.5555555555555556,
             "#d8576b"
            ],
            [
             0.6666666666666666,
             "#ed7953"
            ],
            [
             0.7777777777777778,
             "#fb9f3a"
            ],
            [
             0.8888888888888888,
             "#fdca26"
            ],
            [
             1,
             "#f0f921"
            ]
           ]
          },
          "colorway": [
           "#636efa",
           "#EF553B",
           "#00cc96",
           "#ab63fa",
           "#FFA15A",
           "#19d3f3",
           "#FF6692",
           "#B6E880",
           "#FF97FF",
           "#FECB52"
          ],
          "font": {
           "color": "#2a3f5f"
          },
          "geo": {
           "bgcolor": "white",
           "lakecolor": "white",
           "landcolor": "#E5ECF6",
           "showlakes": true,
           "showland": true,
           "subunitcolor": "white"
          },
          "hoverlabel": {
           "align": "left"
          },
          "hovermode": "closest",
          "mapbox": {
           "style": "light"
          },
          "paper_bgcolor": "white",
          "plot_bgcolor": "#E5ECF6",
          "polar": {
           "angularaxis": {
            "gridcolor": "white",
            "linecolor": "white",
            "ticks": ""
           },
           "bgcolor": "#E5ECF6",
           "radialaxis": {
            "gridcolor": "white",
            "linecolor": "white",
            "ticks": ""
           }
          },
          "scene": {
           "xaxis": {
            "backgroundcolor": "#E5ECF6",
            "gridcolor": "white",
            "gridwidth": 2,
            "linecolor": "white",
            "showbackground": true,
            "ticks": "",
            "zerolinecolor": "white"
           },
           "yaxis": {
            "backgroundcolor": "#E5ECF6",
            "gridcolor": "white",
            "gridwidth": 2,
            "linecolor": "white",
            "showbackground": true,
            "ticks": "",
            "zerolinecolor": "white"
           },
           "zaxis": {
            "backgroundcolor": "#E5ECF6",
            "gridcolor": "white",
            "gridwidth": 2,
            "linecolor": "white",
            "showbackground": true,
            "ticks": "",
            "zerolinecolor": "white"
           }
          },
          "shapedefaults": {
           "line": {
            "color": "#2a3f5f"
           }
          },
          "ternary": {
           "aaxis": {
            "gridcolor": "white",
            "linecolor": "white",
            "ticks": ""
           },
           "baxis": {
            "gridcolor": "white",
            "linecolor": "white",
            "ticks": ""
           },
           "bgcolor": "#E5ECF6",
           "caxis": {
            "gridcolor": "white",
            "linecolor": "white",
            "ticks": ""
           }
          },
          "title": {
           "x": 0.05
          },
          "xaxis": {
           "automargin": true,
           "gridcolor": "white",
           "linecolor": "white",
           "ticks": "",
           "title": {
            "standoff": 15
           },
           "zerolinecolor": "white",
           "zerolinewidth": 2
          },
          "yaxis": {
           "automargin": true,
           "gridcolor": "white",
           "linecolor": "white",
           "ticks": "",
           "title": {
            "standoff": 15
           },
           "zerolinecolor": "white",
           "zerolinewidth": 2
          }
         }
        },
        "title": {
         "text": "English keyword annotation proportion v2"
        }
       }
      },
      "text/html": [
       "<div>                            <div id=\"1e6e8af1-9177-4719-8b9c-49bb33384a51\" class=\"plotly-graph-div\" style=\"height:525px; width:100%;\"></div>            <script type=\"text/javascript\">                require([\"plotly\"], function(Plotly) {                    window.PLOTLYENV=window.PLOTLYENV || {};                                    if (document.getElementById(\"1e6e8af1-9177-4719-8b9c-49bb33384a51\")) {                    Plotly.newPlot(                        \"1e6e8af1-9177-4719-8b9c-49bb33384a51\",                        [{\"arrangement\": \"snap\", \"link\": {\"source\": [10, 0, 0, 0, 0, 0, 0, 0, 0, 0], \"target\": [0, 1, 3, 2, 7, 8, 6, 4, 5, 9], \"value\": [0.6259015697921086, 0.17084841053859265, 0.17719828144781044, 0.1214749244893687, 0.1742276981967164, 0.11481603317483577, 0.05039026286671252, 0.04196696472183179, 0.0402922734930271, 0.39300417675967186]}, \"node\": {\"label\": [\"en - 100317 - 63%\", \"economy - 17139 - 17%\", \"politics and society - 12186 - 12%\", \"covid-19 - 17776 - 18%\", \"technology - 4210 - 4%\", \"environment - 4042 - 4%\", \"military and security - 5055 - 5%\", \"geopolitics - 17478 - 17%\", \"chinese culture and people - 11518 - 11%\", \"unannotated - 39425 - 39%\", \"source data - 160276\"], \"line\": {\"color\": \"black\", \"width\": 0.5}, \"pad\": 15, \"thickness\": 20}, \"type\": \"sankey\", \"valueformat\": \".0f\"}],                        {\"font\": {\"size\": 12}, \"template\": {\"data\": {\"bar\": [{\"error_x\": {\"color\": \"#2a3f5f\"}, \"error_y\": {\"color\": \"#2a3f5f\"}, \"marker\": {\"line\": {\"color\": \"#E5ECF6\", \"width\": 0.5}}, \"type\": \"bar\"}], \"barpolar\": [{\"marker\": {\"line\": {\"color\": \"#E5ECF6\", \"width\": 0.5}}, \"type\": \"barpolar\"}], \"carpet\": [{\"aaxis\": {\"endlinecolor\": \"#2a3f5f\", \"gridcolor\": \"white\", \"linecolor\": \"white\", \"minorgridcolor\": \"white\", \"startlinecolor\": \"#2a3f5f\"}, \"baxis\": {\"endlinecolor\": \"#2a3f5f\", \"gridcolor\": \"white\", \"linecolor\": \"white\", \"minorgridcolor\": \"white\", \"startlinecolor\": \"#2a3f5f\"}, \"type\": \"carpet\"}], \"choropleth\": [{\"colorbar\": {\"outlinewidth\": 0, \"ticks\": \"\"}, \"type\": \"choropleth\"}], \"contour\": [{\"colorbar\": {\"outlinewidth\": 0, \"ticks\": \"\"}, \"colorscale\": [[0.0, \"#0d0887\"], [0.1111111111111111, \"#46039f\"], [0.2222222222222222, \"#7201a8\"], [0.3333333333333333, \"#9c179e\"], [0.4444444444444444, \"#bd3786\"], [0.5555555555555556, \"#d8576b\"], [0.6666666666666666, \"#ed7953\"], [0.7777777777777778, \"#fb9f3a\"], [0.8888888888888888, \"#fdca26\"], [1.0, \"#f0f921\"]], \"type\": \"contour\"}], \"contourcarpet\": [{\"colorbar\": {\"outlinewidth\": 0, \"ticks\": \"\"}, \"type\": \"contourcarpet\"}], \"heatmap\": [{\"colorbar\": {\"outlinewidth\": 0, \"ticks\": \"\"}, \"colorscale\": [[0.0, \"#0d0887\"], [0.1111111111111111, \"#46039f\"], [0.2222222222222222, \"#7201a8\"], [0.3333333333333333, \"#9c179e\"], [0.4444444444444444, \"#bd3786\"], [0.5555555555555556, \"#d8576b\"], [0.6666666666666666, \"#ed7953\"], [0.7777777777777778, \"#fb9f3a\"], [0.8888888888888888, \"#fdca26\"], [1.0, \"#f0f921\"]], \"type\": \"heatmap\"}], \"heatmapgl\": [{\"colorbar\": {\"outlinewidth\": 0, \"ticks\": \"\"}, \"colorscale\": [[0.0, \"#0d0887\"], [0.1111111111111111, \"#46039f\"], [0.2222222222222222, \"#7201a8\"], [0.3333333333333333, \"#9c179e\"], [0.4444444444444444, \"#bd3786\"], [0.5555555555555556, \"#d8576b\"], [0.6666666666666666, \"#ed7953\"], [0.7777777777777778, \"#fb9f3a\"], [0.8888888888888888, \"#fdca26\"], [1.0, \"#f0f921\"]], \"type\": \"heatmapgl\"}], \"histogram\": [{\"marker\": {\"colorbar\": {\"outlinewidth\": 0, \"ticks\": \"\"}}, \"type\": \"histogram\"}], \"histogram2d\": [{\"colorbar\": {\"outlinewidth\": 0, \"ticks\": \"\"}, \"colorscale\": [[0.0, \"#0d0887\"], [0.1111111111111111, \"#46039f\"], [0.2222222222222222, \"#7201a8\"], [0.3333333333333333, \"#9c179e\"], [0.4444444444444444, \"#bd3786\"], [0.5555555555555556, \"#d8576b\"], [0.6666666666666666, \"#ed7953\"], [0.7777777777777778, \"#fb9f3a\"], [0.8888888888888888, \"#fdca26\"], [1.0, \"#f0f921\"]], \"type\": \"histogram2d\"}], \"histogram2dcontour\": [{\"colorbar\": {\"outlinewidth\": 0, \"ticks\": \"\"}, \"colorscale\": [[0.0, \"#0d0887\"], [0.1111111111111111, \"#46039f\"], [0.2222222222222222, \"#7201a8\"], [0.3333333333333333, \"#9c179e\"], [0.4444444444444444, \"#bd3786\"], [0.5555555555555556, \"#d8576b\"], [0.6666666666666666, \"#ed7953\"], [0.7777777777777778, \"#fb9f3a\"], [0.8888888888888888, \"#fdca26\"], [1.0, \"#f0f921\"]], \"type\": \"histogram2dcontour\"}], \"mesh3d\": [{\"colorbar\": {\"outlinewidth\": 0, \"ticks\": \"\"}, \"type\": \"mesh3d\"}], \"parcoords\": [{\"line\": {\"colorbar\": {\"outlinewidth\": 0, \"ticks\": \"\"}}, \"type\": \"parcoords\"}], \"pie\": [{\"automargin\": true, \"type\": \"pie\"}], \"scatter\": [{\"marker\": {\"colorbar\": {\"outlinewidth\": 0, \"ticks\": \"\"}}, \"type\": \"scatter\"}], \"scatter3d\": [{\"line\": {\"colorbar\": {\"outlinewidth\": 0, \"ticks\": \"\"}}, \"marker\": {\"colorbar\": {\"outlinewidth\": 0, \"ticks\": \"\"}}, \"type\": \"scatter3d\"}], \"scattercarpet\": [{\"marker\": {\"colorbar\": {\"outlinewidth\": 0, \"ticks\": \"\"}}, \"type\": \"scattercarpet\"}], \"scattergeo\": [{\"marker\": {\"colorbar\": {\"outlinewidth\": 0, \"ticks\": \"\"}}, \"type\": \"scattergeo\"}], \"scattergl\": [{\"marker\": {\"colorbar\": {\"outlinewidth\": 0, \"ticks\": \"\"}}, \"type\": \"scattergl\"}], \"scattermapbox\": [{\"marker\": {\"colorbar\": {\"outlinewidth\": 0, \"ticks\": \"\"}}, \"type\": \"scattermapbox\"}], \"scatterpolar\": [{\"marker\": {\"colorbar\": {\"outlinewidth\": 0, \"ticks\": \"\"}}, \"type\": \"scatterpolar\"}], \"scatterpolargl\": [{\"marker\": {\"colorbar\": {\"outlinewidth\": 0, \"ticks\": \"\"}}, \"type\": \"scatterpolargl\"}], \"scatterternary\": [{\"marker\": {\"colorbar\": {\"outlinewidth\": 0, \"ticks\": \"\"}}, \"type\": \"scatterternary\"}], \"surface\": [{\"colorbar\": {\"outlinewidth\": 0, \"ticks\": \"\"}, \"colorscale\": [[0.0, \"#0d0887\"], [0.1111111111111111, \"#46039f\"], [0.2222222222222222, \"#7201a8\"], [0.3333333333333333, \"#9c179e\"], [0.4444444444444444, \"#bd3786\"], [0.5555555555555556, \"#d8576b\"], [0.6666666666666666, \"#ed7953\"], [0.7777777777777778, \"#fb9f3a\"], [0.8888888888888888, \"#fdca26\"], [1.0, \"#f0f921\"]], \"type\": \"surface\"}], \"table\": [{\"cells\": {\"fill\": {\"color\": \"#EBF0F8\"}, \"line\": {\"color\": \"white\"}}, \"header\": {\"fill\": {\"color\": \"#C8D4E3\"}, \"line\": {\"color\": \"white\"}}, \"type\": \"table\"}]}, \"layout\": {\"annotationdefaults\": {\"arrowcolor\": \"#2a3f5f\", \"arrowhead\": 0, \"arrowwidth\": 1}, \"autotypenumbers\": \"strict\", \"coloraxis\": {\"colorbar\": {\"outlinewidth\": 0, \"ticks\": \"\"}}, \"colorscale\": {\"diverging\": [[0, \"#8e0152\"], [0.1, \"#c51b7d\"], [0.2, \"#de77ae\"], [0.3, \"#f1b6da\"], [0.4, \"#fde0ef\"], [0.5, \"#f7f7f7\"], [0.6, \"#e6f5d0\"], [0.7, \"#b8e186\"], [0.8, \"#7fbc41\"], [0.9, \"#4d9221\"], [1, \"#276419\"]], \"sequential\": [[0.0, \"#0d0887\"], [0.1111111111111111, \"#46039f\"], [0.2222222222222222, \"#7201a8\"], [0.3333333333333333, \"#9c179e\"], [0.4444444444444444, \"#bd3786\"], [0.5555555555555556, \"#d8576b\"], [0.6666666666666666, \"#ed7953\"], [0.7777777777777778, \"#fb9f3a\"], [0.8888888888888888, \"#fdca26\"], [1.0, \"#f0f921\"]], \"sequentialminus\": [[0.0, \"#0d0887\"], [0.1111111111111111, \"#46039f\"], [0.2222222222222222, \"#7201a8\"], [0.3333333333333333, \"#9c179e\"], [0.4444444444444444, \"#bd3786\"], [0.5555555555555556, \"#d8576b\"], [0.6666666666666666, \"#ed7953\"], [0.7777777777777778, \"#fb9f3a\"], [0.8888888888888888, \"#fdca26\"], [1.0, \"#f0f921\"]]}, \"colorway\": [\"#636efa\", \"#EF553B\", \"#00cc96\", \"#ab63fa\", \"#FFA15A\", \"#19d3f3\", \"#FF6692\", \"#B6E880\", \"#FF97FF\", \"#FECB52\"], \"font\": {\"color\": \"#2a3f5f\"}, \"geo\": {\"bgcolor\": \"white\", \"lakecolor\": \"white\", \"landcolor\": \"#E5ECF6\", \"showlakes\": true, \"showland\": true, \"subunitcolor\": \"white\"}, \"hoverlabel\": {\"align\": \"left\"}, \"hovermode\": \"closest\", \"mapbox\": {\"style\": \"light\"}, \"paper_bgcolor\": \"white\", \"plot_bgcolor\": \"#E5ECF6\", \"polar\": {\"angularaxis\": {\"gridcolor\": \"white\", \"linecolor\": \"white\", \"ticks\": \"\"}, \"bgcolor\": \"#E5ECF6\", \"radialaxis\": {\"gridcolor\": \"white\", \"linecolor\": \"white\", \"ticks\": \"\"}}, \"scene\": {\"xaxis\": {\"backgroundcolor\": \"#E5ECF6\", \"gridcolor\": \"white\", \"gridwidth\": 2, \"linecolor\": \"white\", \"showbackground\": true, \"ticks\": \"\", \"zerolinecolor\": \"white\"}, \"yaxis\": {\"backgroundcolor\": \"#E5ECF6\", \"gridcolor\": \"white\", \"gridwidth\": 2, \"linecolor\": \"white\", \"showbackground\": true, \"ticks\": \"\", \"zerolinecolor\": \"white\"}, \"zaxis\": {\"backgroundcolor\": \"#E5ECF6\", \"gridcolor\": \"white\", \"gridwidth\": 2, \"linecolor\": \"white\", \"showbackground\": true, \"ticks\": \"\", \"zerolinecolor\": \"white\"}}, \"shapedefaults\": {\"line\": {\"color\": \"#2a3f5f\"}}, \"ternary\": {\"aaxis\": {\"gridcolor\": \"white\", \"linecolor\": \"white\", \"ticks\": \"\"}, \"baxis\": {\"gridcolor\": \"white\", \"linecolor\": \"white\", \"ticks\": \"\"}, \"bgcolor\": \"#E5ECF6\", \"caxis\": {\"gridcolor\": \"white\", \"linecolor\": \"white\", \"ticks\": \"\"}}, \"title\": {\"x\": 0.05}, \"xaxis\": {\"automargin\": true, \"gridcolor\": \"white\", \"linecolor\": \"white\", \"ticks\": \"\", \"title\": {\"standoff\": 15}, \"zerolinecolor\": \"white\", \"zerolinewidth\": 2}, \"yaxis\": {\"automargin\": true, \"gridcolor\": \"white\", \"linecolor\": \"white\", \"ticks\": \"\", \"title\": {\"standoff\": 15}, \"zerolinecolor\": \"white\", \"zerolinewidth\": 2}}}, \"title\": {\"text\": \"English keyword annotation proportion v2\"}},                        {\"responsive\": true}                    ).then(function(){\n",
       "                            \n",
       "var gd = document.getElementById('1e6e8af1-9177-4719-8b9c-49bb33384a51');\n",
       "var x = new MutationObserver(function (mutations, observer) {{\n",
       "        var display = window.getComputedStyle(gd).display;\n",
       "        if (!display || display === 'none') {{\n",
       "            console.log([gd, 'removed!']);\n",
       "            Plotly.purge(gd);\n",
       "            observer.disconnect();\n",
       "        }}\n",
       "}});\n",
       "\n",
       "// Listen for the removal of the full notebook cells\n",
       "var notebookContainer = gd.closest('#notebook-container');\n",
       "if (notebookContainer) {{\n",
       "    x.observe(notebookContainer, {childList: true});\n",
       "}}\n",
       "\n",
       "// Listen for the clearing of the current output cell\n",
       "var outputEl = gd.closest('.output');\n",
       "if (outputEl) {{\n",
       "    x.observe(outputEl, {childList: true});\n",
       "}}\n",
       "\n",
       "                        })                };                });            </script>        </div>"
      ]
     },
     "metadata": {},
     "output_type": "display_data"
    },
    {
     "data": {
      "application/vnd.plotly.v1+json": {
       "config": {
        "plotlyServerURL": "https://plot.ly"
       },
       "data": [
        {
         "arrangement": "snap",
         "link": {
          "source": [
           10,
           0,
           0,
           0,
           0,
           0,
           0,
           0,
           0,
           0
          ],
          "target": [
           0,
           1,
           3,
           2,
           7,
           8,
           6,
           4,
           5,
           9
          ],
          "value": [
           0.04378072824377948,
           0.1569046601111586,
           0.11016103748040473,
           0.07695596408721676,
           0.12469716403021235,
           0.05500926321789939,
           0.03733789368676072,
           0.033347584437793926,
           0.0065555080518740205,
           0.5671939575317088
          ]
         },
         "node": {
          "label": [
           "fr - 7017 - 4%",
           "economy - 1101 - 16%",
           "politics and society - 540 - 8%",
           "covid-19 - 773 - 11%",
           "technology - 234 - 3%",
           "environment - 46 - 1%",
           "military and security - 262 - 4%",
           "geopolitics - 875 - 12%",
           "chinese culture and people - 386 - 6%",
           "unannotated - 3980 - 57%",
           "source data - 160276"
          ],
          "line": {
           "color": "black",
           "width": 0.5
          },
          "pad": 15,
          "thickness": 20
         },
         "type": "sankey",
         "valueformat": ".0f"
        }
       ],
       "layout": {
        "font": {
         "size": 12
        },
        "template": {
         "data": {
          "bar": [
           {
            "error_x": {
             "color": "#2a3f5f"
            },
            "error_y": {
             "color": "#2a3f5f"
            },
            "marker": {
             "line": {
              "color": "#E5ECF6",
              "width": 0.5
             }
            },
            "type": "bar"
           }
          ],
          "barpolar": [
           {
            "marker": {
             "line": {
              "color": "#E5ECF6",
              "width": 0.5
             }
            },
            "type": "barpolar"
           }
          ],
          "carpet": [
           {
            "aaxis": {
             "endlinecolor": "#2a3f5f",
             "gridcolor": "white",
             "linecolor": "white",
             "minorgridcolor": "white",
             "startlinecolor": "#2a3f5f"
            },
            "baxis": {
             "endlinecolor": "#2a3f5f",
             "gridcolor": "white",
             "linecolor": "white",
             "minorgridcolor": "white",
             "startlinecolor": "#2a3f5f"
            },
            "type": "carpet"
           }
          ],
          "choropleth": [
           {
            "colorbar": {
             "outlinewidth": 0,
             "ticks": ""
            },
            "type": "choropleth"
           }
          ],
          "contour": [
           {
            "colorbar": {
             "outlinewidth": 0,
             "ticks": ""
            },
            "colorscale": [
             [
              0,
              "#0d0887"
             ],
             [
              0.1111111111111111,
              "#46039f"
             ],
             [
              0.2222222222222222,
              "#7201a8"
             ],
             [
              0.3333333333333333,
              "#9c179e"
             ],
             [
              0.4444444444444444,
              "#bd3786"
             ],
             [
              0.5555555555555556,
              "#d8576b"
             ],
             [
              0.6666666666666666,
              "#ed7953"
             ],
             [
              0.7777777777777778,
              "#fb9f3a"
             ],
             [
              0.8888888888888888,
              "#fdca26"
             ],
             [
              1,
              "#f0f921"
             ]
            ],
            "type": "contour"
           }
          ],
          "contourcarpet": [
           {
            "colorbar": {
             "outlinewidth": 0,
             "ticks": ""
            },
            "type": "contourcarpet"
           }
          ],
          "heatmap": [
           {
            "colorbar": {
             "outlinewidth": 0,
             "ticks": ""
            },
            "colorscale": [
             [
              0,
              "#0d0887"
             ],
             [
              0.1111111111111111,
              "#46039f"
             ],
             [
              0.2222222222222222,
              "#7201a8"
             ],
             [
              0.3333333333333333,
              "#9c179e"
             ],
             [
              0.4444444444444444,
              "#bd3786"
             ],
             [
              0.5555555555555556,
              "#d8576b"
             ],
             [
              0.6666666666666666,
              "#ed7953"
             ],
             [
              0.7777777777777778,
              "#fb9f3a"
             ],
             [
              0.8888888888888888,
              "#fdca26"
             ],
             [
              1,
              "#f0f921"
             ]
            ],
            "type": "heatmap"
           }
          ],
          "heatmapgl": [
           {
            "colorbar": {
             "outlinewidth": 0,
             "ticks": ""
            },
            "colorscale": [
             [
              0,
              "#0d0887"
             ],
             [
              0.1111111111111111,
              "#46039f"
             ],
             [
              0.2222222222222222,
              "#7201a8"
             ],
             [
              0.3333333333333333,
              "#9c179e"
             ],
             [
              0.4444444444444444,
              "#bd3786"
             ],
             [
              0.5555555555555556,
              "#d8576b"
             ],
             [
              0.6666666666666666,
              "#ed7953"
             ],
             [
              0.7777777777777778,
              "#fb9f3a"
             ],
             [
              0.8888888888888888,
              "#fdca26"
             ],
             [
              1,
              "#f0f921"
             ]
            ],
            "type": "heatmapgl"
           }
          ],
          "histogram": [
           {
            "marker": {
             "colorbar": {
              "outlinewidth": 0,
              "ticks": ""
             }
            },
            "type": "histogram"
           }
          ],
          "histogram2d": [
           {
            "colorbar": {
             "outlinewidth": 0,
             "ticks": ""
            },
            "colorscale": [
             [
              0,
              "#0d0887"
             ],
             [
              0.1111111111111111,
              "#46039f"
             ],
             [
              0.2222222222222222,
              "#7201a8"
             ],
             [
              0.3333333333333333,
              "#9c179e"
             ],
             [
              0.4444444444444444,
              "#bd3786"
             ],
             [
              0.5555555555555556,
              "#d8576b"
             ],
             [
              0.6666666666666666,
              "#ed7953"
             ],
             [
              0.7777777777777778,
              "#fb9f3a"
             ],
             [
              0.8888888888888888,
              "#fdca26"
             ],
             [
              1,
              "#f0f921"
             ]
            ],
            "type": "histogram2d"
           }
          ],
          "histogram2dcontour": [
           {
            "colorbar": {
             "outlinewidth": 0,
             "ticks": ""
            },
            "colorscale": [
             [
              0,
              "#0d0887"
             ],
             [
              0.1111111111111111,
              "#46039f"
             ],
             [
              0.2222222222222222,
              "#7201a8"
             ],
             [
              0.3333333333333333,
              "#9c179e"
             ],
             [
              0.4444444444444444,
              "#bd3786"
             ],
             [
              0.5555555555555556,
              "#d8576b"
             ],
             [
              0.6666666666666666,
              "#ed7953"
             ],
             [
              0.7777777777777778,
              "#fb9f3a"
             ],
             [
              0.8888888888888888,
              "#fdca26"
             ],
             [
              1,
              "#f0f921"
             ]
            ],
            "type": "histogram2dcontour"
           }
          ],
          "mesh3d": [
           {
            "colorbar": {
             "outlinewidth": 0,
             "ticks": ""
            },
            "type": "mesh3d"
           }
          ],
          "parcoords": [
           {
            "line": {
             "colorbar": {
              "outlinewidth": 0,
              "ticks": ""
             }
            },
            "type": "parcoords"
           }
          ],
          "pie": [
           {
            "automargin": true,
            "type": "pie"
           }
          ],
          "scatter": [
           {
            "marker": {
             "colorbar": {
              "outlinewidth": 0,
              "ticks": ""
             }
            },
            "type": "scatter"
           }
          ],
          "scatter3d": [
           {
            "line": {
             "colorbar": {
              "outlinewidth": 0,
              "ticks": ""
             }
            },
            "marker": {
             "colorbar": {
              "outlinewidth": 0,
              "ticks": ""
             }
            },
            "type": "scatter3d"
           }
          ],
          "scattercarpet": [
           {
            "marker": {
             "colorbar": {
              "outlinewidth": 0,
              "ticks": ""
             }
            },
            "type": "scattercarpet"
           }
          ],
          "scattergeo": [
           {
            "marker": {
             "colorbar": {
              "outlinewidth": 0,
              "ticks": ""
             }
            },
            "type": "scattergeo"
           }
          ],
          "scattergl": [
           {
            "marker": {
             "colorbar": {
              "outlinewidth": 0,
              "ticks": ""
             }
            },
            "type": "scattergl"
           }
          ],
          "scattermapbox": [
           {
            "marker": {
             "colorbar": {
              "outlinewidth": 0,
              "ticks": ""
             }
            },
            "type": "scattermapbox"
           }
          ],
          "scatterpolar": [
           {
            "marker": {
             "colorbar": {
              "outlinewidth": 0,
              "ticks": ""
             }
            },
            "type": "scatterpolar"
           }
          ],
          "scatterpolargl": [
           {
            "marker": {
             "colorbar": {
              "outlinewidth": 0,
              "ticks": ""
             }
            },
            "type": "scatterpolargl"
           }
          ],
          "scatterternary": [
           {
            "marker": {
             "colorbar": {
              "outlinewidth": 0,
              "ticks": ""
             }
            },
            "type": "scatterternary"
           }
          ],
          "surface": [
           {
            "colorbar": {
             "outlinewidth": 0,
             "ticks": ""
            },
            "colorscale": [
             [
              0,
              "#0d0887"
             ],
             [
              0.1111111111111111,
              "#46039f"
             ],
             [
              0.2222222222222222,
              "#7201a8"
             ],
             [
              0.3333333333333333,
              "#9c179e"
             ],
             [
              0.4444444444444444,
              "#bd3786"
             ],
             [
              0.5555555555555556,
              "#d8576b"
             ],
             [
              0.6666666666666666,
              "#ed7953"
             ],
             [
              0.7777777777777778,
              "#fb9f3a"
             ],
             [
              0.8888888888888888,
              "#fdca26"
             ],
             [
              1,
              "#f0f921"
             ]
            ],
            "type": "surface"
           }
          ],
          "table": [
           {
            "cells": {
             "fill": {
              "color": "#EBF0F8"
             },
             "line": {
              "color": "white"
             }
            },
            "header": {
             "fill": {
              "color": "#C8D4E3"
             },
             "line": {
              "color": "white"
             }
            },
            "type": "table"
           }
          ]
         },
         "layout": {
          "annotationdefaults": {
           "arrowcolor": "#2a3f5f",
           "arrowhead": 0,
           "arrowwidth": 1
          },
          "autotypenumbers": "strict",
          "coloraxis": {
           "colorbar": {
            "outlinewidth": 0,
            "ticks": ""
           }
          },
          "colorscale": {
           "diverging": [
            [
             0,
             "#8e0152"
            ],
            [
             0.1,
             "#c51b7d"
            ],
            [
             0.2,
             "#de77ae"
            ],
            [
             0.3,
             "#f1b6da"
            ],
            [
             0.4,
             "#fde0ef"
            ],
            [
             0.5,
             "#f7f7f7"
            ],
            [
             0.6,
             "#e6f5d0"
            ],
            [
             0.7,
             "#b8e186"
            ],
            [
             0.8,
             "#7fbc41"
            ],
            [
             0.9,
             "#4d9221"
            ],
            [
             1,
             "#276419"
            ]
           ],
           "sequential": [
            [
             0,
             "#0d0887"
            ],
            [
             0.1111111111111111,
             "#46039f"
            ],
            [
             0.2222222222222222,
             "#7201a8"
            ],
            [
             0.3333333333333333,
             "#9c179e"
            ],
            [
             0.4444444444444444,
             "#bd3786"
            ],
            [
             0.5555555555555556,
             "#d8576b"
            ],
            [
             0.6666666666666666,
             "#ed7953"
            ],
            [
             0.7777777777777778,
             "#fb9f3a"
            ],
            [
             0.8888888888888888,
             "#fdca26"
            ],
            [
             1,
             "#f0f921"
            ]
           ],
           "sequentialminus": [
            [
             0,
             "#0d0887"
            ],
            [
             0.1111111111111111,
             "#46039f"
            ],
            [
             0.2222222222222222,
             "#7201a8"
            ],
            [
             0.3333333333333333,
             "#9c179e"
            ],
            [
             0.4444444444444444,
             "#bd3786"
            ],
            [
             0.5555555555555556,
             "#d8576b"
            ],
            [
             0.6666666666666666,
             "#ed7953"
            ],
            [
             0.7777777777777778,
             "#fb9f3a"
            ],
            [
             0.8888888888888888,
             "#fdca26"
            ],
            [
             1,
             "#f0f921"
            ]
           ]
          },
          "colorway": [
           "#636efa",
           "#EF553B",
           "#00cc96",
           "#ab63fa",
           "#FFA15A",
           "#19d3f3",
           "#FF6692",
           "#B6E880",
           "#FF97FF",
           "#FECB52"
          ],
          "font": {
           "color": "#2a3f5f"
          },
          "geo": {
           "bgcolor": "white",
           "lakecolor": "white",
           "landcolor": "#E5ECF6",
           "showlakes": true,
           "showland": true,
           "subunitcolor": "white"
          },
          "hoverlabel": {
           "align": "left"
          },
          "hovermode": "closest",
          "mapbox": {
           "style": "light"
          },
          "paper_bgcolor": "white",
          "plot_bgcolor": "#E5ECF6",
          "polar": {
           "angularaxis": {
            "gridcolor": "white",
            "linecolor": "white",
            "ticks": ""
           },
           "bgcolor": "#E5ECF6",
           "radialaxis": {
            "gridcolor": "white",
            "linecolor": "white",
            "ticks": ""
           }
          },
          "scene": {
           "xaxis": {
            "backgroundcolor": "#E5ECF6",
            "gridcolor": "white",
            "gridwidth": 2,
            "linecolor": "white",
            "showbackground": true,
            "ticks": "",
            "zerolinecolor": "white"
           },
           "yaxis": {
            "backgroundcolor": "#E5ECF6",
            "gridcolor": "white",
            "gridwidth": 2,
            "linecolor": "white",
            "showbackground": true,
            "ticks": "",
            "zerolinecolor": "white"
           },
           "zaxis": {
            "backgroundcolor": "#E5ECF6",
            "gridcolor": "white",
            "gridwidth": 2,
            "linecolor": "white",
            "showbackground": true,
            "ticks": "",
            "zerolinecolor": "white"
           }
          },
          "shapedefaults": {
           "line": {
            "color": "#2a3f5f"
           }
          },
          "ternary": {
           "aaxis": {
            "gridcolor": "white",
            "linecolor": "white",
            "ticks": ""
           },
           "baxis": {
            "gridcolor": "white",
            "linecolor": "white",
            "ticks": ""
           },
           "bgcolor": "#E5ECF6",
           "caxis": {
            "gridcolor": "white",
            "linecolor": "white",
            "ticks": ""
           }
          },
          "title": {
           "x": 0.05
          },
          "xaxis": {
           "automargin": true,
           "gridcolor": "white",
           "linecolor": "white",
           "ticks": "",
           "title": {
            "standoff": 15
           },
           "zerolinecolor": "white",
           "zerolinewidth": 2
          },
          "yaxis": {
           "automargin": true,
           "gridcolor": "white",
           "linecolor": "white",
           "ticks": "",
           "title": {
            "standoff": 15
           },
           "zerolinecolor": "white",
           "zerolinewidth": 2
          }
         }
        },
        "title": {
         "text": "French keyword annotation proportion v2"
        }
       }
      },
      "text/html": [
       "<div>                            <div id=\"f079f150-268b-424b-ba5a-d8d8403f47c2\" class=\"plotly-graph-div\" style=\"height:525px; width:100%;\"></div>            <script type=\"text/javascript\">                require([\"plotly\"], function(Plotly) {                    window.PLOTLYENV=window.PLOTLYENV || {};                                    if (document.getElementById(\"f079f150-268b-424b-ba5a-d8d8403f47c2\")) {                    Plotly.newPlot(                        \"f079f150-268b-424b-ba5a-d8d8403f47c2\",                        [{\"arrangement\": \"snap\", \"link\": {\"source\": [10, 0, 0, 0, 0, 0, 0, 0, 0, 0], \"target\": [0, 1, 3, 2, 7, 8, 6, 4, 5, 9], \"value\": [0.04378072824377948, 0.1569046601111586, 0.11016103748040473, 0.07695596408721676, 0.12469716403021235, 0.05500926321789939, 0.03733789368676072, 0.033347584437793926, 0.0065555080518740205, 0.5671939575317088]}, \"node\": {\"label\": [\"fr - 7017 - 4%\", \"economy - 1101 - 16%\", \"politics and society - 540 - 8%\", \"covid-19 - 773 - 11%\", \"technology - 234 - 3%\", \"environment - 46 - 1%\", \"military and security - 262 - 4%\", \"geopolitics - 875 - 12%\", \"chinese culture and people - 386 - 6%\", \"unannotated - 3980 - 57%\", \"source data - 160276\"], \"line\": {\"color\": \"black\", \"width\": 0.5}, \"pad\": 15, \"thickness\": 20}, \"type\": \"sankey\", \"valueformat\": \".0f\"}],                        {\"font\": {\"size\": 12}, \"template\": {\"data\": {\"bar\": [{\"error_x\": {\"color\": \"#2a3f5f\"}, \"error_y\": {\"color\": \"#2a3f5f\"}, \"marker\": {\"line\": {\"color\": \"#E5ECF6\", \"width\": 0.5}}, \"type\": \"bar\"}], \"barpolar\": [{\"marker\": {\"line\": {\"color\": \"#E5ECF6\", \"width\": 0.5}}, \"type\": \"barpolar\"}], \"carpet\": [{\"aaxis\": {\"endlinecolor\": \"#2a3f5f\", \"gridcolor\": \"white\", \"linecolor\": \"white\", \"minorgridcolor\": \"white\", \"startlinecolor\": \"#2a3f5f\"}, \"baxis\": {\"endlinecolor\": \"#2a3f5f\", \"gridcolor\": \"white\", \"linecolor\": \"white\", \"minorgridcolor\": \"white\", \"startlinecolor\": \"#2a3f5f\"}, \"type\": \"carpet\"}], \"choropleth\": [{\"colorbar\": {\"outlinewidth\": 0, \"ticks\": \"\"}, \"type\": \"choropleth\"}], \"contour\": [{\"colorbar\": {\"outlinewidth\": 0, \"ticks\": \"\"}, \"colorscale\": [[0.0, \"#0d0887\"], [0.1111111111111111, \"#46039f\"], [0.2222222222222222, \"#7201a8\"], [0.3333333333333333, \"#9c179e\"], [0.4444444444444444, \"#bd3786\"], [0.5555555555555556, \"#d8576b\"], [0.6666666666666666, \"#ed7953\"], [0.7777777777777778, \"#fb9f3a\"], [0.8888888888888888, \"#fdca26\"], [1.0, \"#f0f921\"]], \"type\": \"contour\"}], \"contourcarpet\": [{\"colorbar\": {\"outlinewidth\": 0, \"ticks\": \"\"}, \"type\": \"contourcarpet\"}], \"heatmap\": [{\"colorbar\": {\"outlinewidth\": 0, \"ticks\": \"\"}, \"colorscale\": [[0.0, \"#0d0887\"], [0.1111111111111111, \"#46039f\"], [0.2222222222222222, \"#7201a8\"], [0.3333333333333333, \"#9c179e\"], [0.4444444444444444, \"#bd3786\"], [0.5555555555555556, \"#d8576b\"], [0.6666666666666666, \"#ed7953\"], [0.7777777777777778, \"#fb9f3a\"], [0.8888888888888888, \"#fdca26\"], [1.0, \"#f0f921\"]], \"type\": \"heatmap\"}], \"heatmapgl\": [{\"colorbar\": {\"outlinewidth\": 0, \"ticks\": \"\"}, \"colorscale\": [[0.0, \"#0d0887\"], [0.1111111111111111, \"#46039f\"], [0.2222222222222222, \"#7201a8\"], [0.3333333333333333, \"#9c179e\"], [0.4444444444444444, \"#bd3786\"], [0.5555555555555556, \"#d8576b\"], [0.6666666666666666, \"#ed7953\"], [0.7777777777777778, \"#fb9f3a\"], [0.8888888888888888, \"#fdca26\"], [1.0, \"#f0f921\"]], \"type\": \"heatmapgl\"}], \"histogram\": [{\"marker\": {\"colorbar\": {\"outlinewidth\": 0, \"ticks\": \"\"}}, \"type\": \"histogram\"}], \"histogram2d\": [{\"colorbar\": {\"outlinewidth\": 0, \"ticks\": \"\"}, \"colorscale\": [[0.0, \"#0d0887\"], [0.1111111111111111, \"#46039f\"], [0.2222222222222222, \"#7201a8\"], [0.3333333333333333, \"#9c179e\"], [0.4444444444444444, \"#bd3786\"], [0.5555555555555556, \"#d8576b\"], [0.6666666666666666, \"#ed7953\"], [0.7777777777777778, \"#fb9f3a\"], [0.8888888888888888, \"#fdca26\"], [1.0, \"#f0f921\"]], \"type\": \"histogram2d\"}], \"histogram2dcontour\": [{\"colorbar\": {\"outlinewidth\": 0, \"ticks\": \"\"}, \"colorscale\": [[0.0, \"#0d0887\"], [0.1111111111111111, \"#46039f\"], [0.2222222222222222, \"#7201a8\"], [0.3333333333333333, \"#9c179e\"], [0.4444444444444444, \"#bd3786\"], [0.5555555555555556, \"#d8576b\"], [0.6666666666666666, \"#ed7953\"], [0.7777777777777778, \"#fb9f3a\"], [0.8888888888888888, \"#fdca26\"], [1.0, \"#f0f921\"]], \"type\": \"histogram2dcontour\"}], \"mesh3d\": [{\"colorbar\": {\"outlinewidth\": 0, \"ticks\": \"\"}, \"type\": \"mesh3d\"}], \"parcoords\": [{\"line\": {\"colorbar\": {\"outlinewidth\": 0, \"ticks\": \"\"}}, \"type\": \"parcoords\"}], \"pie\": [{\"automargin\": true, \"type\": \"pie\"}], \"scatter\": [{\"marker\": {\"colorbar\": {\"outlinewidth\": 0, \"ticks\": \"\"}}, \"type\": \"scatter\"}], \"scatter3d\": [{\"line\": {\"colorbar\": {\"outlinewidth\": 0, \"ticks\": \"\"}}, \"marker\": {\"colorbar\": {\"outlinewidth\": 0, \"ticks\": \"\"}}, \"type\": \"scatter3d\"}], \"scattercarpet\": [{\"marker\": {\"colorbar\": {\"outlinewidth\": 0, \"ticks\": \"\"}}, \"type\": \"scattercarpet\"}], \"scattergeo\": [{\"marker\": {\"colorbar\": {\"outlinewidth\": 0, \"ticks\": \"\"}}, \"type\": \"scattergeo\"}], \"scattergl\": [{\"marker\": {\"colorbar\": {\"outlinewidth\": 0, \"ticks\": \"\"}}, \"type\": \"scattergl\"}], \"scattermapbox\": [{\"marker\": {\"colorbar\": {\"outlinewidth\": 0, \"ticks\": \"\"}}, \"type\": \"scattermapbox\"}], \"scatterpolar\": [{\"marker\": {\"colorbar\": {\"outlinewidth\": 0, \"ticks\": \"\"}}, \"type\": \"scatterpolar\"}], \"scatterpolargl\": [{\"marker\": {\"colorbar\": {\"outlinewidth\": 0, \"ticks\": \"\"}}, \"type\": \"scatterpolargl\"}], \"scatterternary\": [{\"marker\": {\"colorbar\": {\"outlinewidth\": 0, \"ticks\": \"\"}}, \"type\": \"scatterternary\"}], \"surface\": [{\"colorbar\": {\"outlinewidth\": 0, \"ticks\": \"\"}, \"colorscale\": [[0.0, \"#0d0887\"], [0.1111111111111111, \"#46039f\"], [0.2222222222222222, \"#7201a8\"], [0.3333333333333333, \"#9c179e\"], [0.4444444444444444, \"#bd3786\"], [0.5555555555555556, \"#d8576b\"], [0.6666666666666666, \"#ed7953\"], [0.7777777777777778, \"#fb9f3a\"], [0.8888888888888888, \"#fdca26\"], [1.0, \"#f0f921\"]], \"type\": \"surface\"}], \"table\": [{\"cells\": {\"fill\": {\"color\": \"#EBF0F8\"}, \"line\": {\"color\": \"white\"}}, \"header\": {\"fill\": {\"color\": \"#C8D4E3\"}, \"line\": {\"color\": \"white\"}}, \"type\": \"table\"}]}, \"layout\": {\"annotationdefaults\": {\"arrowcolor\": \"#2a3f5f\", \"arrowhead\": 0, \"arrowwidth\": 1}, \"autotypenumbers\": \"strict\", \"coloraxis\": {\"colorbar\": {\"outlinewidth\": 0, \"ticks\": \"\"}}, \"colorscale\": {\"diverging\": [[0, \"#8e0152\"], [0.1, \"#c51b7d\"], [0.2, \"#de77ae\"], [0.3, \"#f1b6da\"], [0.4, \"#fde0ef\"], [0.5, \"#f7f7f7\"], [0.6, \"#e6f5d0\"], [0.7, \"#b8e186\"], [0.8, \"#7fbc41\"], [0.9, \"#4d9221\"], [1, \"#276419\"]], \"sequential\": [[0.0, \"#0d0887\"], [0.1111111111111111, \"#46039f\"], [0.2222222222222222, \"#7201a8\"], [0.3333333333333333, \"#9c179e\"], [0.4444444444444444, \"#bd3786\"], [0.5555555555555556, \"#d8576b\"], [0.6666666666666666, \"#ed7953\"], [0.7777777777777778, \"#fb9f3a\"], [0.8888888888888888, \"#fdca26\"], [1.0, \"#f0f921\"]], \"sequentialminus\": [[0.0, \"#0d0887\"], [0.1111111111111111, \"#46039f\"], [0.2222222222222222, \"#7201a8\"], [0.3333333333333333, \"#9c179e\"], [0.4444444444444444, \"#bd3786\"], [0.5555555555555556, \"#d8576b\"], [0.6666666666666666, \"#ed7953\"], [0.7777777777777778, \"#fb9f3a\"], [0.8888888888888888, \"#fdca26\"], [1.0, \"#f0f921\"]]}, \"colorway\": [\"#636efa\", \"#EF553B\", \"#00cc96\", \"#ab63fa\", \"#FFA15A\", \"#19d3f3\", \"#FF6692\", \"#B6E880\", \"#FF97FF\", \"#FECB52\"], \"font\": {\"color\": \"#2a3f5f\"}, \"geo\": {\"bgcolor\": \"white\", \"lakecolor\": \"white\", \"landcolor\": \"#E5ECF6\", \"showlakes\": true, \"showland\": true, \"subunitcolor\": \"white\"}, \"hoverlabel\": {\"align\": \"left\"}, \"hovermode\": \"closest\", \"mapbox\": {\"style\": \"light\"}, \"paper_bgcolor\": \"white\", \"plot_bgcolor\": \"#E5ECF6\", \"polar\": {\"angularaxis\": {\"gridcolor\": \"white\", \"linecolor\": \"white\", \"ticks\": \"\"}, \"bgcolor\": \"#E5ECF6\", \"radialaxis\": {\"gridcolor\": \"white\", \"linecolor\": \"white\", \"ticks\": \"\"}}, \"scene\": {\"xaxis\": {\"backgroundcolor\": \"#E5ECF6\", \"gridcolor\": \"white\", \"gridwidth\": 2, \"linecolor\": \"white\", \"showbackground\": true, \"ticks\": \"\", \"zerolinecolor\": \"white\"}, \"yaxis\": {\"backgroundcolor\": \"#E5ECF6\", \"gridcolor\": \"white\", \"gridwidth\": 2, \"linecolor\": \"white\", \"showbackground\": true, \"ticks\": \"\", \"zerolinecolor\": \"white\"}, \"zaxis\": {\"backgroundcolor\": \"#E5ECF6\", \"gridcolor\": \"white\", \"gridwidth\": 2, \"linecolor\": \"white\", \"showbackground\": true, \"ticks\": \"\", \"zerolinecolor\": \"white\"}}, \"shapedefaults\": {\"line\": {\"color\": \"#2a3f5f\"}}, \"ternary\": {\"aaxis\": {\"gridcolor\": \"white\", \"linecolor\": \"white\", \"ticks\": \"\"}, \"baxis\": {\"gridcolor\": \"white\", \"linecolor\": \"white\", \"ticks\": \"\"}, \"bgcolor\": \"#E5ECF6\", \"caxis\": {\"gridcolor\": \"white\", \"linecolor\": \"white\", \"ticks\": \"\"}}, \"title\": {\"x\": 0.05}, \"xaxis\": {\"automargin\": true, \"gridcolor\": \"white\", \"linecolor\": \"white\", \"ticks\": \"\", \"title\": {\"standoff\": 15}, \"zerolinecolor\": \"white\", \"zerolinewidth\": 2}, \"yaxis\": {\"automargin\": true, \"gridcolor\": \"white\", \"linecolor\": \"white\", \"ticks\": \"\", \"title\": {\"standoff\": 15}, \"zerolinecolor\": \"white\", \"zerolinewidth\": 2}}}, \"title\": {\"text\": \"French keyword annotation proportion v2\"}},                        {\"responsive\": true}                    ).then(function(){\n",
       "                            \n",
       "var gd = document.getElementById('f079f150-268b-424b-ba5a-d8d8403f47c2');\n",
       "var x = new MutationObserver(function (mutations, observer) {{\n",
       "        var display = window.getComputedStyle(gd).display;\n",
       "        if (!display || display === 'none') {{\n",
       "            console.log([gd, 'removed!']);\n",
       "            Plotly.purge(gd);\n",
       "            observer.disconnect();\n",
       "        }}\n",
       "}});\n",
       "\n",
       "// Listen for the removal of the full notebook cells\n",
       "var notebookContainer = gd.closest('#notebook-container');\n",
       "if (notebookContainer) {{\n",
       "    x.observe(notebookContainer, {childList: true});\n",
       "}}\n",
       "\n",
       "// Listen for the clearing of the current output cell\n",
       "var outputEl = gd.closest('.output');\n",
       "if (outputEl) {{\n",
       "    x.observe(outputEl, {childList: true});\n",
       "}}\n",
       "\n",
       "                        })                };                });            </script>        </div>"
      ]
     },
     "metadata": {},
     "output_type": "display_data"
    },
    {
     "data": {
      "application/vnd.plotly.v1+json": {
       "config": {
        "plotlyServerURL": "https://plot.ly"
       },
       "data": [
        {
         "arrangement": "snap",
         "link": {
          "source": [
           10,
           0,
           0,
           0,
           0,
           0,
           0,
           0,
           0,
           0
          ],
          "target": [
           0,
           1,
           3,
           2,
           7,
           8,
           6,
           4,
           5,
           9
          ],
          "value": [
           0.059029424243180514,
           0.18486417926223445,
           0.2934150724024944,
           0.18792939435577635,
           0.2610717683120178,
           0.14406510939646971,
           0.02135080858260226,
           0.04280731423739562,
           0.028643906563788183,
           0.26498255998308845
          ]
         },
         "node": {
          "label": [
           "es - 9461 - 6%",
           "economy - 1749 - 18%",
           "politics and society - 1778 - 19%",
           "covid-19 - 2776 - 29%",
           "technology - 405 - 4%",
           "environment - 271 - 3%",
           "military and security - 202 - 2%",
           "geopolitics - 2470 - 26%",
           "chinese culture and people - 1363 - 14%",
           "unannotated - 2507 - 26%",
           "source data - 160276"
          ],
          "line": {
           "color": "black",
           "width": 0.5
          },
          "pad": 15,
          "thickness": 20
         },
         "type": "sankey",
         "valueformat": ".0f"
        }
       ],
       "layout": {
        "font": {
         "size": 12
        },
        "template": {
         "data": {
          "bar": [
           {
            "error_x": {
             "color": "#2a3f5f"
            },
            "error_y": {
             "color": "#2a3f5f"
            },
            "marker": {
             "line": {
              "color": "#E5ECF6",
              "width": 0.5
             }
            },
            "type": "bar"
           }
          ],
          "barpolar": [
           {
            "marker": {
             "line": {
              "color": "#E5ECF6",
              "width": 0.5
             }
            },
            "type": "barpolar"
           }
          ],
          "carpet": [
           {
            "aaxis": {
             "endlinecolor": "#2a3f5f",
             "gridcolor": "white",
             "linecolor": "white",
             "minorgridcolor": "white",
             "startlinecolor": "#2a3f5f"
            },
            "baxis": {
             "endlinecolor": "#2a3f5f",
             "gridcolor": "white",
             "linecolor": "white",
             "minorgridcolor": "white",
             "startlinecolor": "#2a3f5f"
            },
            "type": "carpet"
           }
          ],
          "choropleth": [
           {
            "colorbar": {
             "outlinewidth": 0,
             "ticks": ""
            },
            "type": "choropleth"
           }
          ],
          "contour": [
           {
            "colorbar": {
             "outlinewidth": 0,
             "ticks": ""
            },
            "colorscale": [
             [
              0,
              "#0d0887"
             ],
             [
              0.1111111111111111,
              "#46039f"
             ],
             [
              0.2222222222222222,
              "#7201a8"
             ],
             [
              0.3333333333333333,
              "#9c179e"
             ],
             [
              0.4444444444444444,
              "#bd3786"
             ],
             [
              0.5555555555555556,
              "#d8576b"
             ],
             [
              0.6666666666666666,
              "#ed7953"
             ],
             [
              0.7777777777777778,
              "#fb9f3a"
             ],
             [
              0.8888888888888888,
              "#fdca26"
             ],
             [
              1,
              "#f0f921"
             ]
            ],
            "type": "contour"
           }
          ],
          "contourcarpet": [
           {
            "colorbar": {
             "outlinewidth": 0,
             "ticks": ""
            },
            "type": "contourcarpet"
           }
          ],
          "heatmap": [
           {
            "colorbar": {
             "outlinewidth": 0,
             "ticks": ""
            },
            "colorscale": [
             [
              0,
              "#0d0887"
             ],
             [
              0.1111111111111111,
              "#46039f"
             ],
             [
              0.2222222222222222,
              "#7201a8"
             ],
             [
              0.3333333333333333,
              "#9c179e"
             ],
             [
              0.4444444444444444,
              "#bd3786"
             ],
             [
              0.5555555555555556,
              "#d8576b"
             ],
             [
              0.6666666666666666,
              "#ed7953"
             ],
             [
              0.7777777777777778,
              "#fb9f3a"
             ],
             [
              0.8888888888888888,
              "#fdca26"
             ],
             [
              1,
              "#f0f921"
             ]
            ],
            "type": "heatmap"
           }
          ],
          "heatmapgl": [
           {
            "colorbar": {
             "outlinewidth": 0,
             "ticks": ""
            },
            "colorscale": [
             [
              0,
              "#0d0887"
             ],
             [
              0.1111111111111111,
              "#46039f"
             ],
             [
              0.2222222222222222,
              "#7201a8"
             ],
             [
              0.3333333333333333,
              "#9c179e"
             ],
             [
              0.4444444444444444,
              "#bd3786"
             ],
             [
              0.5555555555555556,
              "#d8576b"
             ],
             [
              0.6666666666666666,
              "#ed7953"
             ],
             [
              0.7777777777777778,
              "#fb9f3a"
             ],
             [
              0.8888888888888888,
              "#fdca26"
             ],
             [
              1,
              "#f0f921"
             ]
            ],
            "type": "heatmapgl"
           }
          ],
          "histogram": [
           {
            "marker": {
             "colorbar": {
              "outlinewidth": 0,
              "ticks": ""
             }
            },
            "type": "histogram"
           }
          ],
          "histogram2d": [
           {
            "colorbar": {
             "outlinewidth": 0,
             "ticks": ""
            },
            "colorscale": [
             [
              0,
              "#0d0887"
             ],
             [
              0.1111111111111111,
              "#46039f"
             ],
             [
              0.2222222222222222,
              "#7201a8"
             ],
             [
              0.3333333333333333,
              "#9c179e"
             ],
             [
              0.4444444444444444,
              "#bd3786"
             ],
             [
              0.5555555555555556,
              "#d8576b"
             ],
             [
              0.6666666666666666,
              "#ed7953"
             ],
             [
              0.7777777777777778,
              "#fb9f3a"
             ],
             [
              0.8888888888888888,
              "#fdca26"
             ],
             [
              1,
              "#f0f921"
             ]
            ],
            "type": "histogram2d"
           }
          ],
          "histogram2dcontour": [
           {
            "colorbar": {
             "outlinewidth": 0,
             "ticks": ""
            },
            "colorscale": [
             [
              0,
              "#0d0887"
             ],
             [
              0.1111111111111111,
              "#46039f"
             ],
             [
              0.2222222222222222,
              "#7201a8"
             ],
             [
              0.3333333333333333,
              "#9c179e"
             ],
             [
              0.4444444444444444,
              "#bd3786"
             ],
             [
              0.5555555555555556,
              "#d8576b"
             ],
             [
              0.6666666666666666,
              "#ed7953"
             ],
             [
              0.7777777777777778,
              "#fb9f3a"
             ],
             [
              0.8888888888888888,
              "#fdca26"
             ],
             [
              1,
              "#f0f921"
             ]
            ],
            "type": "histogram2dcontour"
           }
          ],
          "mesh3d": [
           {
            "colorbar": {
             "outlinewidth": 0,
             "ticks": ""
            },
            "type": "mesh3d"
           }
          ],
          "parcoords": [
           {
            "line": {
             "colorbar": {
              "outlinewidth": 0,
              "ticks": ""
             }
            },
            "type": "parcoords"
           }
          ],
          "pie": [
           {
            "automargin": true,
            "type": "pie"
           }
          ],
          "scatter": [
           {
            "marker": {
             "colorbar": {
              "outlinewidth": 0,
              "ticks": ""
             }
            },
            "type": "scatter"
           }
          ],
          "scatter3d": [
           {
            "line": {
             "colorbar": {
              "outlinewidth": 0,
              "ticks": ""
             }
            },
            "marker": {
             "colorbar": {
              "outlinewidth": 0,
              "ticks": ""
             }
            },
            "type": "scatter3d"
           }
          ],
          "scattercarpet": [
           {
            "marker": {
             "colorbar": {
              "outlinewidth": 0,
              "ticks": ""
             }
            },
            "type": "scattercarpet"
           }
          ],
          "scattergeo": [
           {
            "marker": {
             "colorbar": {
              "outlinewidth": 0,
              "ticks": ""
             }
            },
            "type": "scattergeo"
           }
          ],
          "scattergl": [
           {
            "marker": {
             "colorbar": {
              "outlinewidth": 0,
              "ticks": ""
             }
            },
            "type": "scattergl"
           }
          ],
          "scattermapbox": [
           {
            "marker": {
             "colorbar": {
              "outlinewidth": 0,
              "ticks": ""
             }
            },
            "type": "scattermapbox"
           }
          ],
          "scatterpolar": [
           {
            "marker": {
             "colorbar": {
              "outlinewidth": 0,
              "ticks": ""
             }
            },
            "type": "scatterpolar"
           }
          ],
          "scatterpolargl": [
           {
            "marker": {
             "colorbar": {
              "outlinewidth": 0,
              "ticks": ""
             }
            },
            "type": "scatterpolargl"
           }
          ],
          "scatterternary": [
           {
            "marker": {
             "colorbar": {
              "outlinewidth": 0,
              "ticks": ""
             }
            },
            "type": "scatterternary"
           }
          ],
          "surface": [
           {
            "colorbar": {
             "outlinewidth": 0,
             "ticks": ""
            },
            "colorscale": [
             [
              0,
              "#0d0887"
             ],
             [
              0.1111111111111111,
              "#46039f"
             ],
             [
              0.2222222222222222,
              "#7201a8"
             ],
             [
              0.3333333333333333,
              "#9c179e"
             ],
             [
              0.4444444444444444,
              "#bd3786"
             ],
             [
              0.5555555555555556,
              "#d8576b"
             ],
             [
              0.6666666666666666,
              "#ed7953"
             ],
             [
              0.7777777777777778,
              "#fb9f3a"
             ],
             [
              0.8888888888888888,
              "#fdca26"
             ],
             [
              1,
              "#f0f921"
             ]
            ],
            "type": "surface"
           }
          ],
          "table": [
           {
            "cells": {
             "fill": {
              "color": "#EBF0F8"
             },
             "line": {
              "color": "white"
             }
            },
            "header": {
             "fill": {
              "color": "#C8D4E3"
             },
             "line": {
              "color": "white"
             }
            },
            "type": "table"
           }
          ]
         },
         "layout": {
          "annotationdefaults": {
           "arrowcolor": "#2a3f5f",
           "arrowhead": 0,
           "arrowwidth": 1
          },
          "autotypenumbers": "strict",
          "coloraxis": {
           "colorbar": {
            "outlinewidth": 0,
            "ticks": ""
           }
          },
          "colorscale": {
           "diverging": [
            [
             0,
             "#8e0152"
            ],
            [
             0.1,
             "#c51b7d"
            ],
            [
             0.2,
             "#de77ae"
            ],
            [
             0.3,
             "#f1b6da"
            ],
            [
             0.4,
             "#fde0ef"
            ],
            [
             0.5,
             "#f7f7f7"
            ],
            [
             0.6,
             "#e6f5d0"
            ],
            [
             0.7,
             "#b8e186"
            ],
            [
             0.8,
             "#7fbc41"
            ],
            [
             0.9,
             "#4d9221"
            ],
            [
             1,
             "#276419"
            ]
           ],
           "sequential": [
            [
             0,
             "#0d0887"
            ],
            [
             0.1111111111111111,
             "#46039f"
            ],
            [
             0.2222222222222222,
             "#7201a8"
            ],
            [
             0.3333333333333333,
             "#9c179e"
            ],
            [
             0.4444444444444444,
             "#bd3786"
            ],
            [
             0.5555555555555556,
             "#d8576b"
            ],
            [
             0.6666666666666666,
             "#ed7953"
            ],
            [
             0.7777777777777778,
             "#fb9f3a"
            ],
            [
             0.8888888888888888,
             "#fdca26"
            ],
            [
             1,
             "#f0f921"
            ]
           ],
           "sequentialminus": [
            [
             0,
             "#0d0887"
            ],
            [
             0.1111111111111111,
             "#46039f"
            ],
            [
             0.2222222222222222,
             "#7201a8"
            ],
            [
             0.3333333333333333,
             "#9c179e"
            ],
            [
             0.4444444444444444,
             "#bd3786"
            ],
            [
             0.5555555555555556,
             "#d8576b"
            ],
            [
             0.6666666666666666,
             "#ed7953"
            ],
            [
             0.7777777777777778,
             "#fb9f3a"
            ],
            [
             0.8888888888888888,
             "#fdca26"
            ],
            [
             1,
             "#f0f921"
            ]
           ]
          },
          "colorway": [
           "#636efa",
           "#EF553B",
           "#00cc96",
           "#ab63fa",
           "#FFA15A",
           "#19d3f3",
           "#FF6692",
           "#B6E880",
           "#FF97FF",
           "#FECB52"
          ],
          "font": {
           "color": "#2a3f5f"
          },
          "geo": {
           "bgcolor": "white",
           "lakecolor": "white",
           "landcolor": "#E5ECF6",
           "showlakes": true,
           "showland": true,
           "subunitcolor": "white"
          },
          "hoverlabel": {
           "align": "left"
          },
          "hovermode": "closest",
          "mapbox": {
           "style": "light"
          },
          "paper_bgcolor": "white",
          "plot_bgcolor": "#E5ECF6",
          "polar": {
           "angularaxis": {
            "gridcolor": "white",
            "linecolor": "white",
            "ticks": ""
           },
           "bgcolor": "#E5ECF6",
           "radialaxis": {
            "gridcolor": "white",
            "linecolor": "white",
            "ticks": ""
           }
          },
          "scene": {
           "xaxis": {
            "backgroundcolor": "#E5ECF6",
            "gridcolor": "white",
            "gridwidth": 2,
            "linecolor": "white",
            "showbackground": true,
            "ticks": "",
            "zerolinecolor": "white"
           },
           "yaxis": {
            "backgroundcolor": "#E5ECF6",
            "gridcolor": "white",
            "gridwidth": 2,
            "linecolor": "white",
            "showbackground": true,
            "ticks": "",
            "zerolinecolor": "white"
           },
           "zaxis": {
            "backgroundcolor": "#E5ECF6",
            "gridcolor": "white",
            "gridwidth": 2,
            "linecolor": "white",
            "showbackground": true,
            "ticks": "",
            "zerolinecolor": "white"
           }
          },
          "shapedefaults": {
           "line": {
            "color": "#2a3f5f"
           }
          },
          "ternary": {
           "aaxis": {
            "gridcolor": "white",
            "linecolor": "white",
            "ticks": ""
           },
           "baxis": {
            "gridcolor": "white",
            "linecolor": "white",
            "ticks": ""
           },
           "bgcolor": "#E5ECF6",
           "caxis": {
            "gridcolor": "white",
            "linecolor": "white",
            "ticks": ""
           }
          },
          "title": {
           "x": 0.05
          },
          "xaxis": {
           "automargin": true,
           "gridcolor": "white",
           "linecolor": "white",
           "ticks": "",
           "title": {
            "standoff": 15
           },
           "zerolinecolor": "white",
           "zerolinewidth": 2
          },
          "yaxis": {
           "automargin": true,
           "gridcolor": "white",
           "linecolor": "white",
           "ticks": "",
           "title": {
            "standoff": 15
           },
           "zerolinecolor": "white",
           "zerolinewidth": 2
          }
         }
        },
        "title": {
         "text": "Spanish keyword annotation proportion v2"
        }
       }
      },
      "text/html": [
       "<div>                            <div id=\"cc487821-244d-40cf-92f0-041c4154f2d9\" class=\"plotly-graph-div\" style=\"height:525px; width:100%;\"></div>            <script type=\"text/javascript\">                require([\"plotly\"], function(Plotly) {                    window.PLOTLYENV=window.PLOTLYENV || {};                                    if (document.getElementById(\"cc487821-244d-40cf-92f0-041c4154f2d9\")) {                    Plotly.newPlot(                        \"cc487821-244d-40cf-92f0-041c4154f2d9\",                        [{\"arrangement\": \"snap\", \"link\": {\"source\": [10, 0, 0, 0, 0, 0, 0, 0, 0, 0], \"target\": [0, 1, 3, 2, 7, 8, 6, 4, 5, 9], \"value\": [0.059029424243180514, 0.18486417926223445, 0.2934150724024944, 0.18792939435577635, 0.2610717683120178, 0.14406510939646971, 0.02135080858260226, 0.04280731423739562, 0.028643906563788183, 0.26498255998308845]}, \"node\": {\"label\": [\"es - 9461 - 6%\", \"economy - 1749 - 18%\", \"politics and society - 1778 - 19%\", \"covid-19 - 2776 - 29%\", \"technology - 405 - 4%\", \"environment - 271 - 3%\", \"military and security - 202 - 2%\", \"geopolitics - 2470 - 26%\", \"chinese culture and people - 1363 - 14%\", \"unannotated - 2507 - 26%\", \"source data - 160276\"], \"line\": {\"color\": \"black\", \"width\": 0.5}, \"pad\": 15, \"thickness\": 20}, \"type\": \"sankey\", \"valueformat\": \".0f\"}],                        {\"font\": {\"size\": 12}, \"template\": {\"data\": {\"bar\": [{\"error_x\": {\"color\": \"#2a3f5f\"}, \"error_y\": {\"color\": \"#2a3f5f\"}, \"marker\": {\"line\": {\"color\": \"#E5ECF6\", \"width\": 0.5}}, \"type\": \"bar\"}], \"barpolar\": [{\"marker\": {\"line\": {\"color\": \"#E5ECF6\", \"width\": 0.5}}, \"type\": \"barpolar\"}], \"carpet\": [{\"aaxis\": {\"endlinecolor\": \"#2a3f5f\", \"gridcolor\": \"white\", \"linecolor\": \"white\", \"minorgridcolor\": \"white\", \"startlinecolor\": \"#2a3f5f\"}, \"baxis\": {\"endlinecolor\": \"#2a3f5f\", \"gridcolor\": \"white\", \"linecolor\": \"white\", \"minorgridcolor\": \"white\", \"startlinecolor\": \"#2a3f5f\"}, \"type\": \"carpet\"}], \"choropleth\": [{\"colorbar\": {\"outlinewidth\": 0, \"ticks\": \"\"}, \"type\": \"choropleth\"}], \"contour\": [{\"colorbar\": {\"outlinewidth\": 0, \"ticks\": \"\"}, \"colorscale\": [[0.0, \"#0d0887\"], [0.1111111111111111, \"#46039f\"], [0.2222222222222222, \"#7201a8\"], [0.3333333333333333, \"#9c179e\"], [0.4444444444444444, \"#bd3786\"], [0.5555555555555556, \"#d8576b\"], [0.6666666666666666, \"#ed7953\"], [0.7777777777777778, \"#fb9f3a\"], [0.8888888888888888, \"#fdca26\"], [1.0, \"#f0f921\"]], \"type\": \"contour\"}], \"contourcarpet\": [{\"colorbar\": {\"outlinewidth\": 0, \"ticks\": \"\"}, \"type\": \"contourcarpet\"}], \"heatmap\": [{\"colorbar\": {\"outlinewidth\": 0, \"ticks\": \"\"}, \"colorscale\": [[0.0, \"#0d0887\"], [0.1111111111111111, \"#46039f\"], [0.2222222222222222, \"#7201a8\"], [0.3333333333333333, \"#9c179e\"], [0.4444444444444444, \"#bd3786\"], [0.5555555555555556, \"#d8576b\"], [0.6666666666666666, \"#ed7953\"], [0.7777777777777778, \"#fb9f3a\"], [0.8888888888888888, \"#fdca26\"], [1.0, \"#f0f921\"]], \"type\": \"heatmap\"}], \"heatmapgl\": [{\"colorbar\": {\"outlinewidth\": 0, \"ticks\": \"\"}, \"colorscale\": [[0.0, \"#0d0887\"], [0.1111111111111111, \"#46039f\"], [0.2222222222222222, \"#7201a8\"], [0.3333333333333333, \"#9c179e\"], [0.4444444444444444, \"#bd3786\"], [0.5555555555555556, \"#d8576b\"], [0.6666666666666666, \"#ed7953\"], [0.7777777777777778, \"#fb9f3a\"], [0.8888888888888888, \"#fdca26\"], [1.0, \"#f0f921\"]], \"type\": \"heatmapgl\"}], \"histogram\": [{\"marker\": {\"colorbar\": {\"outlinewidth\": 0, \"ticks\": \"\"}}, \"type\": \"histogram\"}], \"histogram2d\": [{\"colorbar\": {\"outlinewidth\": 0, \"ticks\": \"\"}, \"colorscale\": [[0.0, \"#0d0887\"], [0.1111111111111111, \"#46039f\"], [0.2222222222222222, \"#7201a8\"], [0.3333333333333333, \"#9c179e\"], [0.4444444444444444, \"#bd3786\"], [0.5555555555555556, \"#d8576b\"], [0.6666666666666666, \"#ed7953\"], [0.7777777777777778, \"#fb9f3a\"], [0.8888888888888888, \"#fdca26\"], [1.0, \"#f0f921\"]], \"type\": \"histogram2d\"}], \"histogram2dcontour\": [{\"colorbar\": {\"outlinewidth\": 0, \"ticks\": \"\"}, \"colorscale\": [[0.0, \"#0d0887\"], [0.1111111111111111, \"#46039f\"], [0.2222222222222222, \"#7201a8\"], [0.3333333333333333, \"#9c179e\"], [0.4444444444444444, \"#bd3786\"], [0.5555555555555556, \"#d8576b\"], [0.6666666666666666, \"#ed7953\"], [0.7777777777777778, \"#fb9f3a\"], [0.8888888888888888, \"#fdca26\"], [1.0, \"#f0f921\"]], \"type\": \"histogram2dcontour\"}], \"mesh3d\": [{\"colorbar\": {\"outlinewidth\": 0, \"ticks\": \"\"}, \"type\": \"mesh3d\"}], \"parcoords\": [{\"line\": {\"colorbar\": {\"outlinewidth\": 0, \"ticks\": \"\"}}, \"type\": \"parcoords\"}], \"pie\": [{\"automargin\": true, \"type\": \"pie\"}], \"scatter\": [{\"marker\": {\"colorbar\": {\"outlinewidth\": 0, \"ticks\": \"\"}}, \"type\": \"scatter\"}], \"scatter3d\": [{\"line\": {\"colorbar\": {\"outlinewidth\": 0, \"ticks\": \"\"}}, \"marker\": {\"colorbar\": {\"outlinewidth\": 0, \"ticks\": \"\"}}, \"type\": \"scatter3d\"}], \"scattercarpet\": [{\"marker\": {\"colorbar\": {\"outlinewidth\": 0, \"ticks\": \"\"}}, \"type\": \"scattercarpet\"}], \"scattergeo\": [{\"marker\": {\"colorbar\": {\"outlinewidth\": 0, \"ticks\": \"\"}}, \"type\": \"scattergeo\"}], \"scattergl\": [{\"marker\": {\"colorbar\": {\"outlinewidth\": 0, \"ticks\": \"\"}}, \"type\": \"scattergl\"}], \"scattermapbox\": [{\"marker\": {\"colorbar\": {\"outlinewidth\": 0, \"ticks\": \"\"}}, \"type\": \"scattermapbox\"}], \"scatterpolar\": [{\"marker\": {\"colorbar\": {\"outlinewidth\": 0, \"ticks\": \"\"}}, \"type\": \"scatterpolar\"}], \"scatterpolargl\": [{\"marker\": {\"colorbar\": {\"outlinewidth\": 0, \"ticks\": \"\"}}, \"type\": \"scatterpolargl\"}], \"scatterternary\": [{\"marker\": {\"colorbar\": {\"outlinewidth\": 0, \"ticks\": \"\"}}, \"type\": \"scatterternary\"}], \"surface\": [{\"colorbar\": {\"outlinewidth\": 0, \"ticks\": \"\"}, \"colorscale\": [[0.0, \"#0d0887\"], [0.1111111111111111, \"#46039f\"], [0.2222222222222222, \"#7201a8\"], [0.3333333333333333, \"#9c179e\"], [0.4444444444444444, \"#bd3786\"], [0.5555555555555556, \"#d8576b\"], [0.6666666666666666, \"#ed7953\"], [0.7777777777777778, \"#fb9f3a\"], [0.8888888888888888, \"#fdca26\"], [1.0, \"#f0f921\"]], \"type\": \"surface\"}], \"table\": [{\"cells\": {\"fill\": {\"color\": \"#EBF0F8\"}, \"line\": {\"color\": \"white\"}}, \"header\": {\"fill\": {\"color\": \"#C8D4E3\"}, \"line\": {\"color\": \"white\"}}, \"type\": \"table\"}]}, \"layout\": {\"annotationdefaults\": {\"arrowcolor\": \"#2a3f5f\", \"arrowhead\": 0, \"arrowwidth\": 1}, \"autotypenumbers\": \"strict\", \"coloraxis\": {\"colorbar\": {\"outlinewidth\": 0, \"ticks\": \"\"}}, \"colorscale\": {\"diverging\": [[0, \"#8e0152\"], [0.1, \"#c51b7d\"], [0.2, \"#de77ae\"], [0.3, \"#f1b6da\"], [0.4, \"#fde0ef\"], [0.5, \"#f7f7f7\"], [0.6, \"#e6f5d0\"], [0.7, \"#b8e186\"], [0.8, \"#7fbc41\"], [0.9, \"#4d9221\"], [1, \"#276419\"]], \"sequential\": [[0.0, \"#0d0887\"], [0.1111111111111111, \"#46039f\"], [0.2222222222222222, \"#7201a8\"], [0.3333333333333333, \"#9c179e\"], [0.4444444444444444, \"#bd3786\"], [0.5555555555555556, \"#d8576b\"], [0.6666666666666666, \"#ed7953\"], [0.7777777777777778, \"#fb9f3a\"], [0.8888888888888888, \"#fdca26\"], [1.0, \"#f0f921\"]], \"sequentialminus\": [[0.0, \"#0d0887\"], [0.1111111111111111, \"#46039f\"], [0.2222222222222222, \"#7201a8\"], [0.3333333333333333, \"#9c179e\"], [0.4444444444444444, \"#bd3786\"], [0.5555555555555556, \"#d8576b\"], [0.6666666666666666, \"#ed7953\"], [0.7777777777777778, \"#fb9f3a\"], [0.8888888888888888, \"#fdca26\"], [1.0, \"#f0f921\"]]}, \"colorway\": [\"#636efa\", \"#EF553B\", \"#00cc96\", \"#ab63fa\", \"#FFA15A\", \"#19d3f3\", \"#FF6692\", \"#B6E880\", \"#FF97FF\", \"#FECB52\"], \"font\": {\"color\": \"#2a3f5f\"}, \"geo\": {\"bgcolor\": \"white\", \"lakecolor\": \"white\", \"landcolor\": \"#E5ECF6\", \"showlakes\": true, \"showland\": true, \"subunitcolor\": \"white\"}, \"hoverlabel\": {\"align\": \"left\"}, \"hovermode\": \"closest\", \"mapbox\": {\"style\": \"light\"}, \"paper_bgcolor\": \"white\", \"plot_bgcolor\": \"#E5ECF6\", \"polar\": {\"angularaxis\": {\"gridcolor\": \"white\", \"linecolor\": \"white\", \"ticks\": \"\"}, \"bgcolor\": \"#E5ECF6\", \"radialaxis\": {\"gridcolor\": \"white\", \"linecolor\": \"white\", \"ticks\": \"\"}}, \"scene\": {\"xaxis\": {\"backgroundcolor\": \"#E5ECF6\", \"gridcolor\": \"white\", \"gridwidth\": 2, \"linecolor\": \"white\", \"showbackground\": true, \"ticks\": \"\", \"zerolinecolor\": \"white\"}, \"yaxis\": {\"backgroundcolor\": \"#E5ECF6\", \"gridcolor\": \"white\", \"gridwidth\": 2, \"linecolor\": \"white\", \"showbackground\": true, \"ticks\": \"\", \"zerolinecolor\": \"white\"}, \"zaxis\": {\"backgroundcolor\": \"#E5ECF6\", \"gridcolor\": \"white\", \"gridwidth\": 2, \"linecolor\": \"white\", \"showbackground\": true, \"ticks\": \"\", \"zerolinecolor\": \"white\"}}, \"shapedefaults\": {\"line\": {\"color\": \"#2a3f5f\"}}, \"ternary\": {\"aaxis\": {\"gridcolor\": \"white\", \"linecolor\": \"white\", \"ticks\": \"\"}, \"baxis\": {\"gridcolor\": \"white\", \"linecolor\": \"white\", \"ticks\": \"\"}, \"bgcolor\": \"#E5ECF6\", \"caxis\": {\"gridcolor\": \"white\", \"linecolor\": \"white\", \"ticks\": \"\"}}, \"title\": {\"x\": 0.05}, \"xaxis\": {\"automargin\": true, \"gridcolor\": \"white\", \"linecolor\": \"white\", \"ticks\": \"\", \"title\": {\"standoff\": 15}, \"zerolinecolor\": \"white\", \"zerolinewidth\": 2}, \"yaxis\": {\"automargin\": true, \"gridcolor\": \"white\", \"linecolor\": \"white\", \"ticks\": \"\", \"title\": {\"standoff\": 15}, \"zerolinecolor\": \"white\", \"zerolinewidth\": 2}}}, \"title\": {\"text\": \"Spanish keyword annotation proportion v2\"}},                        {\"responsive\": true}                    ).then(function(){\n",
       "                            \n",
       "var gd = document.getElementById('cc487821-244d-40cf-92f0-041c4154f2d9');\n",
       "var x = new MutationObserver(function (mutations, observer) {{\n",
       "        var display = window.getComputedStyle(gd).display;\n",
       "        if (!display || display === 'none') {{\n",
       "            console.log([gd, 'removed!']);\n",
       "            Plotly.purge(gd);\n",
       "            observer.disconnect();\n",
       "        }}\n",
       "}});\n",
       "\n",
       "// Listen for the removal of the full notebook cells\n",
       "var notebookContainer = gd.closest('#notebook-container');\n",
       "if (notebookContainer) {{\n",
       "    x.observe(notebookContainer, {childList: true});\n",
       "}}\n",
       "\n",
       "// Listen for the clearing of the current output cell\n",
       "var outputEl = gd.closest('.output');\n",
       "if (outputEl) {{\n",
       "    x.observe(outputEl, {childList: true});\n",
       "}}\n",
       "\n",
       "                        })                };                });            </script>        </div>"
      ]
     },
     "metadata": {},
     "output_type": "display_data"
    },
    {
     "data": {
      "text/html": [
       "<style  type=\"text/css\" >\n",
       "#T_5766a8ec_9d7c_11eb_8d4d_acde48001122row0_col0,#T_5766a8ec_9d7c_11eb_8d4d_acde48001122row1_col1,#T_5766a8ec_9d7c_11eb_8d4d_acde48001122row2_col2,#T_5766a8ec_9d7c_11eb_8d4d_acde48001122row3_col3,#T_5766a8ec_9d7c_11eb_8d4d_acde48001122row4_col4,#T_5766a8ec_9d7c_11eb_8d4d_acde48001122row5_col5,#T_5766a8ec_9d7c_11eb_8d4d_acde48001122row6_col6,#T_5766a8ec_9d7c_11eb_8d4d_acde48001122row7_col7{\n",
       "            background-color:  #fde725;\n",
       "            color:  #000000;\n",
       "            font-size:  20px;\n",
       "            background-color:  #fde725;\n",
       "            color:  #000000;\n",
       "            font-size:  20px;\n",
       "        }#T_5766a8ec_9d7c_11eb_8d4d_acde48001122row0_col1,#T_5766a8ec_9d7c_11eb_8d4d_acde48001122row0_col2,#T_5766a8ec_9d7c_11eb_8d4d_acde48001122row0_col3,#T_5766a8ec_9d7c_11eb_8d4d_acde48001122row0_col4,#T_5766a8ec_9d7c_11eb_8d4d_acde48001122row0_col5,#T_5766a8ec_9d7c_11eb_8d4d_acde48001122row0_col6,#T_5766a8ec_9d7c_11eb_8d4d_acde48001122row0_col7,#T_5766a8ec_9d7c_11eb_8d4d_acde48001122row1_col2,#T_5766a8ec_9d7c_11eb_8d4d_acde48001122row1_col3,#T_5766a8ec_9d7c_11eb_8d4d_acde48001122row1_col4,#T_5766a8ec_9d7c_11eb_8d4d_acde48001122row1_col5,#T_5766a8ec_9d7c_11eb_8d4d_acde48001122row1_col6,#T_5766a8ec_9d7c_11eb_8d4d_acde48001122row1_col7,#T_5766a8ec_9d7c_11eb_8d4d_acde48001122row2_col3,#T_5766a8ec_9d7c_11eb_8d4d_acde48001122row2_col4,#T_5766a8ec_9d7c_11eb_8d4d_acde48001122row2_col5,#T_5766a8ec_9d7c_11eb_8d4d_acde48001122row2_col6,#T_5766a8ec_9d7c_11eb_8d4d_acde48001122row2_col7,#T_5766a8ec_9d7c_11eb_8d4d_acde48001122row3_col4,#T_5766a8ec_9d7c_11eb_8d4d_acde48001122row3_col5,#T_5766a8ec_9d7c_11eb_8d4d_acde48001122row3_col6,#T_5766a8ec_9d7c_11eb_8d4d_acde48001122row3_col7,#T_5766a8ec_9d7c_11eb_8d4d_acde48001122row4_col5,#T_5766a8ec_9d7c_11eb_8d4d_acde48001122row4_col6,#T_5766a8ec_9d7c_11eb_8d4d_acde48001122row4_col7,#T_5766a8ec_9d7c_11eb_8d4d_acde48001122row5_col6,#T_5766a8ec_9d7c_11eb_8d4d_acde48001122row5_col7,#T_5766a8ec_9d7c_11eb_8d4d_acde48001122row6_col7{\n",
       "            background-color:  #440154;\n",
       "            color:  #f1f1f1;\n",
       "            font-size:  20px;\n",
       "            background-color:  white;\n",
       "            color:  white;\n",
       "            background-color:  #440154;\n",
       "            color:  #f1f1f1;\n",
       "            font-size:  20px;\n",
       "            background-color:  white;\n",
       "            color:  white;\n",
       "        }#T_5766a8ec_9d7c_11eb_8d4d_acde48001122row1_col0{\n",
       "            background-color:  #3c4f8a;\n",
       "            color:  #f1f1f1;\n",
       "            font-size:  20px;\n",
       "            background-color:  #3c4f8a;\n",
       "            color:  #f1f1f1;\n",
       "            font-size:  20px;\n",
       "        }#T_5766a8ec_9d7c_11eb_8d4d_acde48001122row2_col0{\n",
       "            background-color:  #440154;\n",
       "            color:  #f1f1f1;\n",
       "            font-size:  20px;\n",
       "            background-color:  #440154;\n",
       "            color:  #f1f1f1;\n",
       "            font-size:  20px;\n",
       "        }#T_5766a8ec_9d7c_11eb_8d4d_acde48001122row2_col1{\n",
       "            background-color:  #34608d;\n",
       "            color:  #f1f1f1;\n",
       "            font-size:  20px;\n",
       "            background-color:  #34608d;\n",
       "            color:  #f1f1f1;\n",
       "            font-size:  20px;\n",
       "        }#T_5766a8ec_9d7c_11eb_8d4d_acde48001122row3_col0{\n",
       "            background-color:  #463480;\n",
       "            color:  #f1f1f1;\n",
       "            font-size:  20px;\n",
       "            background-color:  #463480;\n",
       "            color:  #f1f1f1;\n",
       "            font-size:  20px;\n",
       "        }#T_5766a8ec_9d7c_11eb_8d4d_acde48001122row3_col1{\n",
       "            background-color:  #26828e;\n",
       "            color:  #000000;\n",
       "            font-size:  20px;\n",
       "            background-color:  #26828e;\n",
       "            color:  #000000;\n",
       "            font-size:  20px;\n",
       "        }#T_5766a8ec_9d7c_11eb_8d4d_acde48001122row3_col2{\n",
       "            background-color:  #20928c;\n",
       "            color:  #000000;\n",
       "            font-size:  20px;\n",
       "            background-color:  #20928c;\n",
       "            color:  #000000;\n",
       "            font-size:  20px;\n",
       "        }#T_5766a8ec_9d7c_11eb_8d4d_acde48001122row4_col0{\n",
       "            background-color:  #21a685;\n",
       "            color:  #000000;\n",
       "            font-size:  20px;\n",
       "            background-color:  #21a685;\n",
       "            color:  #000000;\n",
       "            font-size:  20px;\n",
       "        }#T_5766a8ec_9d7c_11eb_8d4d_acde48001122row4_col1{\n",
       "            background-color:  #1fa088;\n",
       "            color:  #000000;\n",
       "            font-size:  20px;\n",
       "            background-color:  #1fa088;\n",
       "            color:  #000000;\n",
       "            font-size:  20px;\n",
       "        }#T_5766a8ec_9d7c_11eb_8d4d_acde48001122row4_col2{\n",
       "            background-color:  #31b57b;\n",
       "            color:  #000000;\n",
       "            font-size:  20px;\n",
       "            background-color:  #31b57b;\n",
       "            color:  #000000;\n",
       "            font-size:  20px;\n",
       "        }#T_5766a8ec_9d7c_11eb_8d4d_acde48001122row4_col3{\n",
       "            background-color:  #3fbc73;\n",
       "            color:  #000000;\n",
       "            font-size:  20px;\n",
       "            background-color:  #3fbc73;\n",
       "            color:  #000000;\n",
       "            font-size:  20px;\n",
       "        }#T_5766a8ec_9d7c_11eb_8d4d_acde48001122row5_col0{\n",
       "            background-color:  #423f85;\n",
       "            color:  #f1f1f1;\n",
       "            font-size:  20px;\n",
       "            background-color:  #423f85;\n",
       "            color:  #f1f1f1;\n",
       "            font-size:  20px;\n",
       "        }#T_5766a8ec_9d7c_11eb_8d4d_acde48001122row5_col1,#T_5766a8ec_9d7c_11eb_8d4d_acde48001122row7_col1{\n",
       "            background-color:  #2f6b8e;\n",
       "            color:  #f1f1f1;\n",
       "            font-size:  20px;\n",
       "            background-color:  #2f6b8e;\n",
       "            color:  #f1f1f1;\n",
       "            font-size:  20px;\n",
       "        }#T_5766a8ec_9d7c_11eb_8d4d_acde48001122row5_col2{\n",
       "            background-color:  #287c8e;\n",
       "            color:  #000000;\n",
       "            font-size:  20px;\n",
       "            background-color:  #287c8e;\n",
       "            color:  #000000;\n",
       "            font-size:  20px;\n",
       "        }#T_5766a8ec_9d7c_11eb_8d4d_acde48001122row5_col3,#T_5766a8ec_9d7c_11eb_8d4d_acde48001122row7_col3{\n",
       "            background-color:  #2e6f8e;\n",
       "            color:  #f1f1f1;\n",
       "            font-size:  20px;\n",
       "            background-color:  #2e6f8e;\n",
       "            color:  #f1f1f1;\n",
       "            font-size:  20px;\n",
       "        }#T_5766a8ec_9d7c_11eb_8d4d_acde48001122row5_col4{\n",
       "            background-color:  #31668e;\n",
       "            color:  #f1f1f1;\n",
       "            font-size:  20px;\n",
       "            background-color:  #31668e;\n",
       "            color:  #f1f1f1;\n",
       "            font-size:  20px;\n",
       "        }#T_5766a8ec_9d7c_11eb_8d4d_acde48001122row6_col0{\n",
       "            background-color:  #297b8e;\n",
       "            color:  #000000;\n",
       "            font-size:  20px;\n",
       "            background-color:  #297b8e;\n",
       "            color:  #000000;\n",
       "            font-size:  20px;\n",
       "        }#T_5766a8ec_9d7c_11eb_8d4d_acde48001122row6_col1{\n",
       "            background-color:  #1e9d89;\n",
       "            color:  #000000;\n",
       "            font-size:  20px;\n",
       "            background-color:  #1e9d89;\n",
       "            color:  #000000;\n",
       "            font-size:  20px;\n",
       "        }#T_5766a8ec_9d7c_11eb_8d4d_acde48001122row6_col2{\n",
       "            background-color:  #3bbb75;\n",
       "            color:  #000000;\n",
       "            font-size:  20px;\n",
       "            background-color:  #3bbb75;\n",
       "            color:  #000000;\n",
       "            font-size:  20px;\n",
       "        }#T_5766a8ec_9d7c_11eb_8d4d_acde48001122row6_col3{\n",
       "            background-color:  #37b878;\n",
       "            color:  #000000;\n",
       "            font-size:  20px;\n",
       "            background-color:  #37b878;\n",
       "            color:  #000000;\n",
       "            font-size:  20px;\n",
       "        }#T_5766a8ec_9d7c_11eb_8d4d_acde48001122row6_col4{\n",
       "            background-color:  #28ae80;\n",
       "            color:  #000000;\n",
       "            font-size:  20px;\n",
       "            background-color:  #28ae80;\n",
       "            color:  #000000;\n",
       "            font-size:  20px;\n",
       "        }#T_5766a8ec_9d7c_11eb_8d4d_acde48001122row6_col5{\n",
       "            background-color:  #95d840;\n",
       "            color:  #000000;\n",
       "            font-size:  20px;\n",
       "            background-color:  #95d840;\n",
       "            color:  #000000;\n",
       "            font-size:  20px;\n",
       "        }#T_5766a8ec_9d7c_11eb_8d4d_acde48001122row7_col0{\n",
       "            background-color:  #443a83;\n",
       "            color:  #f1f1f1;\n",
       "            font-size:  20px;\n",
       "            background-color:  #443a83;\n",
       "            color:  #f1f1f1;\n",
       "            font-size:  20px;\n",
       "        }#T_5766a8ec_9d7c_11eb_8d4d_acde48001122row7_col2{\n",
       "            background-color:  #26818e;\n",
       "            color:  #000000;\n",
       "            font-size:  20px;\n",
       "            background-color:  #26818e;\n",
       "            color:  #000000;\n",
       "            font-size:  20px;\n",
       "        }#T_5766a8ec_9d7c_11eb_8d4d_acde48001122row7_col4,#T_5766a8ec_9d7c_11eb_8d4d_acde48001122row7_col6{\n",
       "            background-color:  #355e8d;\n",
       "            color:  #f1f1f1;\n",
       "            font-size:  20px;\n",
       "            background-color:  #355e8d;\n",
       "            color:  #f1f1f1;\n",
       "            font-size:  20px;\n",
       "        }#T_5766a8ec_9d7c_11eb_8d4d_acde48001122row7_col5{\n",
       "            background-color:  #4ac16d;\n",
       "            color:  #000000;\n",
       "            font-size:  20px;\n",
       "            background-color:  #4ac16d;\n",
       "            color:  #000000;\n",
       "            font-size:  20px;\n",
       "        }</style><table id=\"T_5766a8ec_9d7c_11eb_8d4d_acde48001122\" ><caption>Arabic overlap heatmap v2</caption><thead>    <tr>        <th class=\"blank level0\" ></th>        <th class=\"col_heading level0 col0\" >chinese culture and people</th>        <th class=\"col_heading level0 col1\" >covid-19</th>        <th class=\"col_heading level0 col2\" >economy</th>        <th class=\"col_heading level0 col3\" >environment</th>        <th class=\"col_heading level0 col4\" >geopolitics</th>        <th class=\"col_heading level0 col5\" >military and security</th>        <th class=\"col_heading level0 col6\" >politics and society</th>        <th class=\"col_heading level0 col7\" >technology</th>    </tr></thead><tbody>\n",
       "                <tr>\n",
       "                        <th id=\"T_5766a8ec_9d7c_11eb_8d4d_acde48001122level0_row0\" class=\"row_heading level0 row0\" >chinese culture and people</th>\n",
       "                        <td id=\"T_5766a8ec_9d7c_11eb_8d4d_acde48001122row0_col0\" class=\"data row0 col0\" >3379</td>\n",
       "                        <td id=\"T_5766a8ec_9d7c_11eb_8d4d_acde48001122row0_col1\" class=\"data row0 col1\" >0</td>\n",
       "                        <td id=\"T_5766a8ec_9d7c_11eb_8d4d_acde48001122row0_col2\" class=\"data row0 col2\" >0</td>\n",
       "                        <td id=\"T_5766a8ec_9d7c_11eb_8d4d_acde48001122row0_col3\" class=\"data row0 col3\" >0</td>\n",
       "                        <td id=\"T_5766a8ec_9d7c_11eb_8d4d_acde48001122row0_col4\" class=\"data row0 col4\" >0</td>\n",
       "                        <td id=\"T_5766a8ec_9d7c_11eb_8d4d_acde48001122row0_col5\" class=\"data row0 col5\" >0</td>\n",
       "                        <td id=\"T_5766a8ec_9d7c_11eb_8d4d_acde48001122row0_col6\" class=\"data row0 col6\" >0</td>\n",
       "                        <td id=\"T_5766a8ec_9d7c_11eb_8d4d_acde48001122row0_col7\" class=\"data row0 col7\" >0</td>\n",
       "            </tr>\n",
       "            <tr>\n",
       "                        <th id=\"T_5766a8ec_9d7c_11eb_8d4d_acde48001122level0_row1\" class=\"row_heading level0 row1\" >covid-19</th>\n",
       "                        <td id=\"T_5766a8ec_9d7c_11eb_8d4d_acde48001122row1_col0\" class=\"data row1 col0\" >1981</td>\n",
       "                        <td id=\"T_5766a8ec_9d7c_11eb_8d4d_acde48001122row1_col1\" class=\"data row1 col1\" >5418</td>\n",
       "                        <td id=\"T_5766a8ec_9d7c_11eb_8d4d_acde48001122row1_col2\" class=\"data row1 col2\" >0</td>\n",
       "                        <td id=\"T_5766a8ec_9d7c_11eb_8d4d_acde48001122row1_col3\" class=\"data row1 col3\" >0</td>\n",
       "                        <td id=\"T_5766a8ec_9d7c_11eb_8d4d_acde48001122row1_col4\" class=\"data row1 col4\" >0</td>\n",
       "                        <td id=\"T_5766a8ec_9d7c_11eb_8d4d_acde48001122row1_col5\" class=\"data row1 col5\" >0</td>\n",
       "                        <td id=\"T_5766a8ec_9d7c_11eb_8d4d_acde48001122row1_col6\" class=\"data row1 col6\" >0</td>\n",
       "                        <td id=\"T_5766a8ec_9d7c_11eb_8d4d_acde48001122row1_col7\" class=\"data row1 col7\" >0</td>\n",
       "            </tr>\n",
       "            <tr>\n",
       "                        <th id=\"T_5766a8ec_9d7c_11eb_8d4d_acde48001122level0_row2\" class=\"row_heading level0 row2\" >economy</th>\n",
       "                        <td id=\"T_5766a8ec_9d7c_11eb_8d4d_acde48001122row2_col0\" class=\"data row2 col0\" >1541</td>\n",
       "                        <td id=\"T_5766a8ec_9d7c_11eb_8d4d_acde48001122row2_col1\" class=\"data row2 col1\" >1646</td>\n",
       "                        <td id=\"T_5766a8ec_9d7c_11eb_8d4d_acde48001122row2_col2\" class=\"data row2 col2\" >3201</td>\n",
       "                        <td id=\"T_5766a8ec_9d7c_11eb_8d4d_acde48001122row2_col3\" class=\"data row2 col3\" >0</td>\n",
       "                        <td id=\"T_5766a8ec_9d7c_11eb_8d4d_acde48001122row2_col4\" class=\"data row2 col4\" >0</td>\n",
       "                        <td id=\"T_5766a8ec_9d7c_11eb_8d4d_acde48001122row2_col5\" class=\"data row2 col5\" >0</td>\n",
       "                        <td id=\"T_5766a8ec_9d7c_11eb_8d4d_acde48001122row2_col6\" class=\"data row2 col6\" >0</td>\n",
       "                        <td id=\"T_5766a8ec_9d7c_11eb_8d4d_acde48001122row2_col7\" class=\"data row2 col7\" >0</td>\n",
       "            </tr>\n",
       "            <tr>\n",
       "                        <th id=\"T_5766a8ec_9d7c_11eb_8d4d_acde48001122level0_row3\" class=\"row_heading level0 row3\" >environment</th>\n",
       "                        <td id=\"T_5766a8ec_9d7c_11eb_8d4d_acde48001122row3_col0\" class=\"data row3 col0\" >1816</td>\n",
       "                        <td id=\"T_5766a8ec_9d7c_11eb_8d4d_acde48001122row3_col1\" class=\"data row3 col1\" >2385</td>\n",
       "                        <td id=\"T_5766a8ec_9d7c_11eb_8d4d_acde48001122row3_col2\" class=\"data row3 col2\" >1619</td>\n",
       "                        <td id=\"T_5766a8ec_9d7c_11eb_8d4d_acde48001122row3_col3\" class=\"data row3 col3\" >4403</td>\n",
       "                        <td id=\"T_5766a8ec_9d7c_11eb_8d4d_acde48001122row3_col4\" class=\"data row3 col4\" >0</td>\n",
       "                        <td id=\"T_5766a8ec_9d7c_11eb_8d4d_acde48001122row3_col5\" class=\"data row3 col5\" >0</td>\n",
       "                        <td id=\"T_5766a8ec_9d7c_11eb_8d4d_acde48001122row3_col6\" class=\"data row3 col6\" >0</td>\n",
       "                        <td id=\"T_5766a8ec_9d7c_11eb_8d4d_acde48001122row3_col7\" class=\"data row3 col7\" >0</td>\n",
       "            </tr>\n",
       "            <tr>\n",
       "                        <th id=\"T_5766a8ec_9d7c_11eb_8d4d_acde48001122level0_row4\" class=\"row_heading level0 row4\" >geopolitics</th>\n",
       "                        <td id=\"T_5766a8ec_9d7c_11eb_8d4d_acde48001122row4_col0\" class=\"data row4 col0\" >2628</td>\n",
       "                        <td id=\"T_5766a8ec_9d7c_11eb_8d4d_acde48001122row4_col1\" class=\"data row4 col1\" >3049</td>\n",
       "                        <td id=\"T_5766a8ec_9d7c_11eb_8d4d_acde48001122row4_col2\" class=\"data row4 col2\" >2098</td>\n",
       "                        <td id=\"T_5766a8ec_9d7c_11eb_8d4d_acde48001122row4_col3\" class=\"data row4 col3\" >3042</td>\n",
       "                        <td id=\"T_5766a8ec_9d7c_11eb_8d4d_acde48001122row4_col4\" class=\"data row4 col4\" >6606</td>\n",
       "                        <td id=\"T_5766a8ec_9d7c_11eb_8d4d_acde48001122row4_col5\" class=\"data row4 col5\" >0</td>\n",
       "                        <td id=\"T_5766a8ec_9d7c_11eb_8d4d_acde48001122row4_col6\" class=\"data row4 col6\" >0</td>\n",
       "                        <td id=\"T_5766a8ec_9d7c_11eb_8d4d_acde48001122row4_col7\" class=\"data row4 col7\" >0</td>\n",
       "            </tr>\n",
       "            <tr>\n",
       "                        <th id=\"T_5766a8ec_9d7c_11eb_8d4d_acde48001122level0_row5\" class=\"row_heading level0 row5\" >military and security</th>\n",
       "                        <td id=\"T_5766a8ec_9d7c_11eb_8d4d_acde48001122row5_col0\" class=\"data row5 col0\" >1880</td>\n",
       "                        <td id=\"T_5766a8ec_9d7c_11eb_8d4d_acde48001122row5_col1\" class=\"data row5 col1\" >1876</td>\n",
       "                        <td id=\"T_5766a8ec_9d7c_11eb_8d4d_acde48001122row5_col2\" class=\"data row5 col2\" >1331</td>\n",
       "                        <td id=\"T_5766a8ec_9d7c_11eb_8d4d_acde48001122row5_col3\" class=\"data row5 col3\" >1596</td>\n",
       "                        <td id=\"T_5766a8ec_9d7c_11eb_8d4d_acde48001122row5_col4\" class=\"data row5 col4\" >2159</td>\n",
       "                        <td id=\"T_5766a8ec_9d7c_11eb_8d4d_acde48001122row5_col5\" class=\"data row5 col5\" >2451</td>\n",
       "                        <td id=\"T_5766a8ec_9d7c_11eb_8d4d_acde48001122row5_col6\" class=\"data row5 col6\" >0</td>\n",
       "                        <td id=\"T_5766a8ec_9d7c_11eb_8d4d_acde48001122row5_col7\" class=\"data row5 col7\" >0</td>\n",
       "            </tr>\n",
       "            <tr>\n",
       "                        <th id=\"T_5766a8ec_9d7c_11eb_8d4d_acde48001122level0_row6\" class=\"row_heading level0 row6\" >politics and society</th>\n",
       "                        <td id=\"T_5766a8ec_9d7c_11eb_8d4d_acde48001122row6_col0\" class=\"data row6 col0\" >2297</td>\n",
       "                        <td id=\"T_5766a8ec_9d7c_11eb_8d4d_acde48001122row6_col1\" class=\"data row6 col1\" >3001</td>\n",
       "                        <td id=\"T_5766a8ec_9d7c_11eb_8d4d_acde48001122row6_col2\" class=\"data row6 col2\" >2184</td>\n",
       "                        <td id=\"T_5766a8ec_9d7c_11eb_8d4d_acde48001122row6_col3\" class=\"data row6 col3\" >2947</td>\n",
       "                        <td id=\"T_5766a8ec_9d7c_11eb_8d4d_acde48001122row6_col4\" class=\"data row6 col4\" >4150</td>\n",
       "                        <td id=\"T_5766a8ec_9d7c_11eb_8d4d_acde48001122row6_col5\" class=\"data row6 col5\" >2066</td>\n",
       "                        <td id=\"T_5766a8ec_9d7c_11eb_8d4d_acde48001122row6_col6\" class=\"data row6 col6\" >6447</td>\n",
       "                        <td id=\"T_5766a8ec_9d7c_11eb_8d4d_acde48001122row6_col7\" class=\"data row6 col7\" >0</td>\n",
       "            </tr>\n",
       "            <tr>\n",
       "                        <th id=\"T_5766a8ec_9d7c_11eb_8d4d_acde48001122level0_row7\" class=\"row_heading level0 row7\" >technology</th>\n",
       "                        <td id=\"T_5766a8ec_9d7c_11eb_8d4d_acde48001122row7_col0\" class=\"data row7 col0\" >1855</td>\n",
       "                        <td id=\"T_5766a8ec_9d7c_11eb_8d4d_acde48001122row7_col1\" class=\"data row7 col1\" >1867</td>\n",
       "                        <td id=\"T_5766a8ec_9d7c_11eb_8d4d_acde48001122row7_col2\" class=\"data row7 col2\" >1398</td>\n",
       "                        <td id=\"T_5766a8ec_9d7c_11eb_8d4d_acde48001122row7_col3\" class=\"data row7 col3\" >1588</td>\n",
       "                        <td id=\"T_5766a8ec_9d7c_11eb_8d4d_acde48001122row7_col4\" class=\"data row7 col4\" >1949</td>\n",
       "                        <td id=\"T_5766a8ec_9d7c_11eb_8d4d_acde48001122row7_col5\" class=\"data row7 col5\" >1744</td>\n",
       "                        <td id=\"T_5766a8ec_9d7c_11eb_8d4d_acde48001122row7_col6\" class=\"data row7 col6\" >1909</td>\n",
       "                        <td id=\"T_5766a8ec_9d7c_11eb_8d4d_acde48001122row7_col7\" class=\"data row7 col7\" >2403</td>\n",
       "            </tr>\n",
       "    </tbody></table>"
      ],
      "text/plain": [
       "<pandas.io.formats.style.Styler at 0x7feb4dcfbe80>"
      ]
     },
     "metadata": {},
     "output_type": "display_data"
    },
    {
     "data": {
      "text/html": [
       "<style  type=\"text/css\" >\n",
       "#T_58470b58_9d7c_11eb_888c_acde48001122row0_col0,#T_58470b58_9d7c_11eb_888c_acde48001122row1_col1,#T_58470b58_9d7c_11eb_888c_acde48001122row2_col2,#T_58470b58_9d7c_11eb_888c_acde48001122row3_col3,#T_58470b58_9d7c_11eb_888c_acde48001122row4_col4,#T_58470b58_9d7c_11eb_888c_acde48001122row5_col5,#T_58470b58_9d7c_11eb_888c_acde48001122row6_col6,#T_58470b58_9d7c_11eb_888c_acde48001122row7_col7{\n",
       "            background-color:  #fde725;\n",
       "            color:  #000000;\n",
       "            font-size:  20px;\n",
       "            background-color:  #fde725;\n",
       "            color:  #000000;\n",
       "            font-size:  20px;\n",
       "        }#T_58470b58_9d7c_11eb_888c_acde48001122row0_col1,#T_58470b58_9d7c_11eb_888c_acde48001122row0_col2,#T_58470b58_9d7c_11eb_888c_acde48001122row0_col3,#T_58470b58_9d7c_11eb_888c_acde48001122row0_col4,#T_58470b58_9d7c_11eb_888c_acde48001122row0_col5,#T_58470b58_9d7c_11eb_888c_acde48001122row0_col6,#T_58470b58_9d7c_11eb_888c_acde48001122row0_col7,#T_58470b58_9d7c_11eb_888c_acde48001122row1_col2,#T_58470b58_9d7c_11eb_888c_acde48001122row1_col3,#T_58470b58_9d7c_11eb_888c_acde48001122row1_col4,#T_58470b58_9d7c_11eb_888c_acde48001122row1_col5,#T_58470b58_9d7c_11eb_888c_acde48001122row1_col6,#T_58470b58_9d7c_11eb_888c_acde48001122row1_col7,#T_58470b58_9d7c_11eb_888c_acde48001122row2_col3,#T_58470b58_9d7c_11eb_888c_acde48001122row2_col4,#T_58470b58_9d7c_11eb_888c_acde48001122row2_col5,#T_58470b58_9d7c_11eb_888c_acde48001122row2_col6,#T_58470b58_9d7c_11eb_888c_acde48001122row2_col7,#T_58470b58_9d7c_11eb_888c_acde48001122row3_col4,#T_58470b58_9d7c_11eb_888c_acde48001122row3_col5,#T_58470b58_9d7c_11eb_888c_acde48001122row3_col6,#T_58470b58_9d7c_11eb_888c_acde48001122row3_col7,#T_58470b58_9d7c_11eb_888c_acde48001122row4_col5,#T_58470b58_9d7c_11eb_888c_acde48001122row4_col6,#T_58470b58_9d7c_11eb_888c_acde48001122row4_col7,#T_58470b58_9d7c_11eb_888c_acde48001122row5_col6,#T_58470b58_9d7c_11eb_888c_acde48001122row5_col7,#T_58470b58_9d7c_11eb_888c_acde48001122row6_col7{\n",
       "            background-color:  #440154;\n",
       "            color:  #f1f1f1;\n",
       "            font-size:  20px;\n",
       "            background-color:  white;\n",
       "            color:  white;\n",
       "            background-color:  #440154;\n",
       "            color:  #f1f1f1;\n",
       "            font-size:  20px;\n",
       "            background-color:  white;\n",
       "            color:  white;\n",
       "        }#T_58470b58_9d7c_11eb_888c_acde48001122row1_col0,#T_58470b58_9d7c_11eb_888c_acde48001122row5_col2{\n",
       "            background-color:  #470e61;\n",
       "            color:  #f1f1f1;\n",
       "            font-size:  20px;\n",
       "            background-color:  #470e61;\n",
       "            color:  #f1f1f1;\n",
       "            font-size:  20px;\n",
       "        }#T_58470b58_9d7c_11eb_888c_acde48001122row2_col0{\n",
       "            background-color:  #482374;\n",
       "            color:  #f1f1f1;\n",
       "            font-size:  20px;\n",
       "            background-color:  #482374;\n",
       "            color:  #f1f1f1;\n",
       "            font-size:  20px;\n",
       "        }#T_58470b58_9d7c_11eb_888c_acde48001122row2_col1{\n",
       "            background-color:  #472a7a;\n",
       "            color:  #f1f1f1;\n",
       "            font-size:  20px;\n",
       "            background-color:  #472a7a;\n",
       "            color:  #f1f1f1;\n",
       "            font-size:  20px;\n",
       "        }#T_58470b58_9d7c_11eb_888c_acde48001122row3_col0{\n",
       "            background-color:  #450457;\n",
       "            color:  #f1f1f1;\n",
       "            font-size:  20px;\n",
       "            background-color:  #450457;\n",
       "            color:  #f1f1f1;\n",
       "            font-size:  20px;\n",
       "        }#T_58470b58_9d7c_11eb_888c_acde48001122row3_col1,#T_58470b58_9d7c_11eb_888c_acde48001122row7_col4{\n",
       "            background-color:  #46085c;\n",
       "            color:  #f1f1f1;\n",
       "            font-size:  20px;\n",
       "            background-color:  #46085c;\n",
       "            color:  #f1f1f1;\n",
       "            font-size:  20px;\n",
       "        }#T_58470b58_9d7c_11eb_888c_acde48001122row3_col2{\n",
       "            background-color:  #481c6e;\n",
       "            color:  #f1f1f1;\n",
       "            font-size:  20px;\n",
       "            background-color:  #481c6e;\n",
       "            color:  #f1f1f1;\n",
       "            font-size:  20px;\n",
       "        }#T_58470b58_9d7c_11eb_888c_acde48001122row4_col0{\n",
       "            background-color:  #482576;\n",
       "            color:  #f1f1f1;\n",
       "            font-size:  20px;\n",
       "            background-color:  #482576;\n",
       "            color:  #f1f1f1;\n",
       "            font-size:  20px;\n",
       "        }#T_58470b58_9d7c_11eb_888c_acde48001122row4_col1,#T_58470b58_9d7c_11eb_888c_acde48001122row6_col2{\n",
       "            background-color:  #443b84;\n",
       "            color:  #f1f1f1;\n",
       "            font-size:  20px;\n",
       "            background-color:  #443b84;\n",
       "            color:  #f1f1f1;\n",
       "            font-size:  20px;\n",
       "        }#T_58470b58_9d7c_11eb_888c_acde48001122row4_col2{\n",
       "            background-color:  #3c508b;\n",
       "            color:  #f1f1f1;\n",
       "            font-size:  20px;\n",
       "            background-color:  #3c508b;\n",
       "            color:  #f1f1f1;\n",
       "            font-size:  20px;\n",
       "        }#T_58470b58_9d7c_11eb_888c_acde48001122row4_col3{\n",
       "            background-color:  #472e7c;\n",
       "            color:  #f1f1f1;\n",
       "            font-size:  20px;\n",
       "            background-color:  #472e7c;\n",
       "            color:  #f1f1f1;\n",
       "            font-size:  20px;\n",
       "        }#T_58470b58_9d7c_11eb_888c_acde48001122row5_col0{\n",
       "            background-color:  #440154;\n",
       "            color:  #f1f1f1;\n",
       "            font-size:  20px;\n",
       "            background-color:  #440154;\n",
       "            color:  #f1f1f1;\n",
       "            font-size:  20px;\n",
       "        }#T_58470b58_9d7c_11eb_888c_acde48001122row5_col1{\n",
       "            background-color:  #460a5d;\n",
       "            color:  #f1f1f1;\n",
       "            font-size:  20px;\n",
       "            background-color:  #460a5d;\n",
       "            color:  #f1f1f1;\n",
       "            font-size:  20px;\n",
       "        }#T_58470b58_9d7c_11eb_888c_acde48001122row5_col3,#T_58470b58_9d7c_11eb_888c_acde48001122row7_col6{\n",
       "            background-color:  #460b5e;\n",
       "            color:  #f1f1f1;\n",
       "            font-size:  20px;\n",
       "            background-color:  #460b5e;\n",
       "            color:  #f1f1f1;\n",
       "            font-size:  20px;\n",
       "        }#T_58470b58_9d7c_11eb_888c_acde48001122row5_col4,#T_58470b58_9d7c_11eb_888c_acde48001122row6_col1,#T_58470b58_9d7c_11eb_888c_acde48001122row7_col2{\n",
       "            background-color:  #481b6d;\n",
       "            color:  #f1f1f1;\n",
       "            font-size:  20px;\n",
       "            background-color:  #481b6d;\n",
       "            color:  #f1f1f1;\n",
       "            font-size:  20px;\n",
       "        }#T_58470b58_9d7c_11eb_888c_acde48001122row6_col0{\n",
       "            background-color:  #3e4c8a;\n",
       "            color:  #f1f1f1;\n",
       "            font-size:  20px;\n",
       "            background-color:  #3e4c8a;\n",
       "            color:  #f1f1f1;\n",
       "            font-size:  20px;\n",
       "        }#T_58470b58_9d7c_11eb_888c_acde48001122row6_col3{\n",
       "            background-color:  #481f70;\n",
       "            color:  #f1f1f1;\n",
       "            font-size:  20px;\n",
       "            background-color:  #481f70;\n",
       "            color:  #f1f1f1;\n",
       "            font-size:  20px;\n",
       "        }#T_58470b58_9d7c_11eb_888c_acde48001122row6_col4{\n",
       "            background-color:  #34618d;\n",
       "            color:  #f1f1f1;\n",
       "            font-size:  20px;\n",
       "            background-color:  #34618d;\n",
       "            color:  #f1f1f1;\n",
       "            font-size:  20px;\n",
       "        }#T_58470b58_9d7c_11eb_888c_acde48001122row6_col5{\n",
       "            background-color:  #3f4889;\n",
       "            color:  #f1f1f1;\n",
       "            font-size:  20px;\n",
       "            background-color:  #3f4889;\n",
       "            color:  #f1f1f1;\n",
       "            font-size:  20px;\n",
       "        }#T_58470b58_9d7c_11eb_888c_acde48001122row7_col0,#T_58470b58_9d7c_11eb_888c_acde48001122row7_col3{\n",
       "            background-color:  #48186a;\n",
       "            color:  #f1f1f1;\n",
       "            font-size:  20px;\n",
       "            background-color:  #48186a;\n",
       "            color:  #f1f1f1;\n",
       "            font-size:  20px;\n",
       "        }#T_58470b58_9d7c_11eb_888c_acde48001122row7_col1{\n",
       "            background-color:  #46075a;\n",
       "            color:  #f1f1f1;\n",
       "            font-size:  20px;\n",
       "            background-color:  #46075a;\n",
       "            color:  #f1f1f1;\n",
       "            font-size:  20px;\n",
       "        }#T_58470b58_9d7c_11eb_888c_acde48001122row7_col5{\n",
       "            background-color:  #481467;\n",
       "            color:  #f1f1f1;\n",
       "            font-size:  20px;\n",
       "            background-color:  #481467;\n",
       "            color:  #f1f1f1;\n",
       "            font-size:  20px;\n",
       "        }</style><table id=\"T_58470b58_9d7c_11eb_888c_acde48001122\" ><caption>English overlap heatmap v2</caption><thead>    <tr>        <th class=\"blank level0\" ></th>        <th class=\"col_heading level0 col0\" >chinese culture and people</th>        <th class=\"col_heading level0 col1\" >covid-19</th>        <th class=\"col_heading level0 col2\" >economy</th>        <th class=\"col_heading level0 col3\" >environment</th>        <th class=\"col_heading level0 col4\" >geopolitics</th>        <th class=\"col_heading level0 col5\" >military and security</th>        <th class=\"col_heading level0 col6\" >politics and society</th>        <th class=\"col_heading level0 col7\" >technology</th>    </tr></thead><tbody>\n",
       "                <tr>\n",
       "                        <th id=\"T_58470b58_9d7c_11eb_888c_acde48001122level0_row0\" class=\"row_heading level0 row0\" >chinese culture and people</th>\n",
       "                        <td id=\"T_58470b58_9d7c_11eb_888c_acde48001122row0_col0\" class=\"data row0 col0\" >11519</td>\n",
       "                        <td id=\"T_58470b58_9d7c_11eb_888c_acde48001122row0_col1\" class=\"data row0 col1\" >0</td>\n",
       "                        <td id=\"T_58470b58_9d7c_11eb_888c_acde48001122row0_col2\" class=\"data row0 col2\" >0</td>\n",
       "                        <td id=\"T_58470b58_9d7c_11eb_888c_acde48001122row0_col3\" class=\"data row0 col3\" >0</td>\n",
       "                        <td id=\"T_58470b58_9d7c_11eb_888c_acde48001122row0_col4\" class=\"data row0 col4\" >0</td>\n",
       "                        <td id=\"T_58470b58_9d7c_11eb_888c_acde48001122row0_col5\" class=\"data row0 col5\" >0</td>\n",
       "                        <td id=\"T_58470b58_9d7c_11eb_888c_acde48001122row0_col6\" class=\"data row0 col6\" >0</td>\n",
       "                        <td id=\"T_58470b58_9d7c_11eb_888c_acde48001122row0_col7\" class=\"data row0 col7\" >0</td>\n",
       "            </tr>\n",
       "            <tr>\n",
       "                        <th id=\"T_58470b58_9d7c_11eb_888c_acde48001122level0_row1\" class=\"row_heading level0 row1\" >covid-19</th>\n",
       "                        <td id=\"T_58470b58_9d7c_11eb_888c_acde48001122row1_col0\" class=\"data row1 col0\" >840</td>\n",
       "                        <td id=\"T_58470b58_9d7c_11eb_888c_acde48001122row1_col1\" class=\"data row1 col1\" >17777</td>\n",
       "                        <td id=\"T_58470b58_9d7c_11eb_888c_acde48001122row1_col2\" class=\"data row1 col2\" >0</td>\n",
       "                        <td id=\"T_58470b58_9d7c_11eb_888c_acde48001122row1_col3\" class=\"data row1 col3\" >0</td>\n",
       "                        <td id=\"T_58470b58_9d7c_11eb_888c_acde48001122row1_col4\" class=\"data row1 col4\" >0</td>\n",
       "                        <td id=\"T_58470b58_9d7c_11eb_888c_acde48001122row1_col5\" class=\"data row1 col5\" >0</td>\n",
       "                        <td id=\"T_58470b58_9d7c_11eb_888c_acde48001122row1_col6\" class=\"data row1 col6\" >0</td>\n",
       "                        <td id=\"T_58470b58_9d7c_11eb_888c_acde48001122row1_col7\" class=\"data row1 col7\" >0</td>\n",
       "            </tr>\n",
       "            <tr>\n",
       "                        <th id=\"T_58470b58_9d7c_11eb_888c_acde48001122level0_row2\" class=\"row_heading level0 row2\" >economy</th>\n",
       "                        <td id=\"T_58470b58_9d7c_11eb_888c_acde48001122row2_col0\" class=\"data row2 col0\" >1464</td>\n",
       "                        <td id=\"T_58470b58_9d7c_11eb_888c_acde48001122row2_col1\" class=\"data row2 col1\" >2127</td>\n",
       "                        <td id=\"T_58470b58_9d7c_11eb_888c_acde48001122row2_col2\" class=\"data row2 col2\" >17140</td>\n",
       "                        <td id=\"T_58470b58_9d7c_11eb_888c_acde48001122row2_col3\" class=\"data row2 col3\" >0</td>\n",
       "                        <td id=\"T_58470b58_9d7c_11eb_888c_acde48001122row2_col4\" class=\"data row2 col4\" >0</td>\n",
       "                        <td id=\"T_58470b58_9d7c_11eb_888c_acde48001122row2_col5\" class=\"data row2 col5\" >0</td>\n",
       "                        <td id=\"T_58470b58_9d7c_11eb_888c_acde48001122row2_col6\" class=\"data row2 col6\" >0</td>\n",
       "                        <td id=\"T_58470b58_9d7c_11eb_888c_acde48001122row2_col7\" class=\"data row2 col7\" >0</td>\n",
       "            </tr>\n",
       "            <tr>\n",
       "                        <th id=\"T_58470b58_9d7c_11eb_888c_acde48001122level0_row3\" class=\"row_heading level0 row3\" >environment</th>\n",
       "                        <td id=\"T_58470b58_9d7c_11eb_888c_acde48001122row3_col0\" class=\"data row3 col0\" >526</td>\n",
       "                        <td id=\"T_58470b58_9d7c_11eb_888c_acde48001122row3_col1\" class=\"data row3 col1\" >362</td>\n",
       "                        <td id=\"T_58470b58_9d7c_11eb_888c_acde48001122row3_col2\" class=\"data row3 col2\" >1285</td>\n",
       "                        <td id=\"T_58470b58_9d7c_11eb_888c_acde48001122row3_col3\" class=\"data row3 col3\" >4043</td>\n",
       "                        <td id=\"T_58470b58_9d7c_11eb_888c_acde48001122row3_col4\" class=\"data row3 col4\" >0</td>\n",
       "                        <td id=\"T_58470b58_9d7c_11eb_888c_acde48001122row3_col5\" class=\"data row3 col5\" >0</td>\n",
       "                        <td id=\"T_58470b58_9d7c_11eb_888c_acde48001122row3_col6\" class=\"data row3 col6\" >0</td>\n",
       "                        <td id=\"T_58470b58_9d7c_11eb_888c_acde48001122row3_col7\" class=\"data row3 col7\" >0</td>\n",
       "            </tr>\n",
       "            <tr>\n",
       "                        <th id=\"T_58470b58_9d7c_11eb_888c_acde48001122level0_row4\" class=\"row_heading level0 row4\" >geopolitics</th>\n",
       "                        <td id=\"T_58470b58_9d7c_11eb_888c_acde48001122row4_col0\" class=\"data row4 col0\" >1570</td>\n",
       "                        <td id=\"T_58470b58_9d7c_11eb_888c_acde48001122row4_col1\" class=\"data row4 col1\" >3060</td>\n",
       "                        <td id=\"T_58470b58_9d7c_11eb_888c_acde48001122row4_col2\" class=\"data row4 col2\" >4181</td>\n",
       "                        <td id=\"T_58470b58_9d7c_11eb_888c_acde48001122row4_col3\" class=\"data row4 col3\" >532</td>\n",
       "                        <td id=\"T_58470b58_9d7c_11eb_888c_acde48001122row4_col4\" class=\"data row4 col4\" >17479</td>\n",
       "                        <td id=\"T_58470b58_9d7c_11eb_888c_acde48001122row4_col5\" class=\"data row4 col5\" >0</td>\n",
       "                        <td id=\"T_58470b58_9d7c_11eb_888c_acde48001122row4_col6\" class=\"data row4 col6\" >0</td>\n",
       "                        <td id=\"T_58470b58_9d7c_11eb_888c_acde48001122row4_col7\" class=\"data row4 col7\" >0</td>\n",
       "            </tr>\n",
       "            <tr>\n",
       "                        <th id=\"T_58470b58_9d7c_11eb_888c_acde48001122level0_row5\" class=\"row_heading level0 row5\" >military and security</th>\n",
       "                        <td id=\"T_58470b58_9d7c_11eb_888c_acde48001122row5_col0\" class=\"data row5 col0\" >411</td>\n",
       "                        <td id=\"T_58470b58_9d7c_11eb_888c_acde48001122row5_col1\" class=\"data row5 col1\" >458</td>\n",
       "                        <td id=\"T_58470b58_9d7c_11eb_888c_acde48001122row5_col2\" class=\"data row5 col2\" >661</td>\n",
       "                        <td id=\"T_58470b58_9d7c_11eb_888c_acde48001122row5_col3\" class=\"data row5 col3\" >120</td>\n",
       "                        <td id=\"T_58470b58_9d7c_11eb_888c_acde48001122row5_col4\" class=\"data row5 col4\" >1261</td>\n",
       "                        <td id=\"T_58470b58_9d7c_11eb_888c_acde48001122row5_col5\" class=\"data row5 col5\" >5056</td>\n",
       "                        <td id=\"T_58470b58_9d7c_11eb_888c_acde48001122row5_col6\" class=\"data row5 col6\" >0</td>\n",
       "                        <td id=\"T_58470b58_9d7c_11eb_888c_acde48001122row5_col7\" class=\"data row5 col7\" >0</td>\n",
       "            </tr>\n",
       "            <tr>\n",
       "                        <th id=\"T_58470b58_9d7c_11eb_888c_acde48001122level0_row6\" class=\"row_heading level0 row6\" >politics and society</th>\n",
       "                        <td id=\"T_58470b58_9d7c_11eb_888c_acde48001122row6_col0\" class=\"data row6 col0\" >2950</td>\n",
       "                        <td id=\"T_58470b58_9d7c_11eb_888c_acde48001122row6_col1\" class=\"data row6 col1\" >1295</td>\n",
       "                        <td id=\"T_58470b58_9d7c_11eb_888c_acde48001122row6_col2\" class=\"data row6 col2\" >2974</td>\n",
       "                        <td id=\"T_58470b58_9d7c_11eb_888c_acde48001122row6_col3\" class=\"data row6 col3\" >336</td>\n",
       "                        <td id=\"T_58470b58_9d7c_11eb_888c_acde48001122row6_col4\" class=\"data row6 col4\" >5335</td>\n",
       "                        <td id=\"T_58470b58_9d7c_11eb_888c_acde48001122row6_col5\" class=\"data row6 col5\" >1090</td>\n",
       "                        <td id=\"T_58470b58_9d7c_11eb_888c_acde48001122row6_col6\" class=\"data row6 col6\" >12187</td>\n",
       "                        <td id=\"T_58470b58_9d7c_11eb_888c_acde48001122row6_col7\" class=\"data row6 col7\" >0</td>\n",
       "            </tr>\n",
       "            <tr>\n",
       "                        <th id=\"T_58470b58_9d7c_11eb_888c_acde48001122level0_row7\" class=\"row_heading level0 row7\" >technology</th>\n",
       "                        <td id=\"T_58470b58_9d7c_11eb_888c_acde48001122row7_col0\" class=\"data row7 col0\" >1125</td>\n",
       "                        <td id=\"T_58470b58_9d7c_11eb_888c_acde48001122row7_col1\" class=\"data row7 col1\" >325</td>\n",
       "                        <td id=\"T_58470b58_9d7c_11eb_888c_acde48001122row7_col2\" class=\"data row7 col2\" >1248</td>\n",
       "                        <td id=\"T_58470b58_9d7c_11eb_888c_acde48001122row7_col3\" class=\"data row7 col3\" >255</td>\n",
       "                        <td id=\"T_58470b58_9d7c_11eb_888c_acde48001122row7_col4\" class=\"data row7 col4\" >395</td>\n",
       "                        <td id=\"T_58470b58_9d7c_11eb_888c_acde48001122row7_col5\" class=\"data row7 col5\" >273</td>\n",
       "                        <td id=\"T_58470b58_9d7c_11eb_888c_acde48001122row7_col6\" class=\"data row7 col6\" >338</td>\n",
       "                        <td id=\"T_58470b58_9d7c_11eb_888c_acde48001122row7_col7\" class=\"data row7 col7\" >4211</td>\n",
       "            </tr>\n",
       "    </tbody></table>"
      ],
      "text/plain": [
       "<pandas.io.formats.style.Styler at 0x7feb16cd5e48>"
      ]
     },
     "metadata": {},
     "output_type": "display_data"
    },
    {
     "data": {
      "text/html": [
       "<style  type=\"text/css\" >\n",
       "#T_59234230_9d7c_11eb_ad9a_acde48001122row0_col0,#T_59234230_9d7c_11eb_ad9a_acde48001122row1_col1,#T_59234230_9d7c_11eb_ad9a_acde48001122row2_col2,#T_59234230_9d7c_11eb_ad9a_acde48001122row3_col3,#T_59234230_9d7c_11eb_ad9a_acde48001122row4_col4,#T_59234230_9d7c_11eb_ad9a_acde48001122row5_col5,#T_59234230_9d7c_11eb_ad9a_acde48001122row6_col6,#T_59234230_9d7c_11eb_ad9a_acde48001122row7_col7{\n",
       "            background-color:  #fde725;\n",
       "            color:  #000000;\n",
       "            font-size:  20px;\n",
       "            background-color:  #fde725;\n",
       "            color:  #000000;\n",
       "            font-size:  20px;\n",
       "        }#T_59234230_9d7c_11eb_ad9a_acde48001122row0_col1,#T_59234230_9d7c_11eb_ad9a_acde48001122row0_col2,#T_59234230_9d7c_11eb_ad9a_acde48001122row0_col3,#T_59234230_9d7c_11eb_ad9a_acde48001122row0_col4,#T_59234230_9d7c_11eb_ad9a_acde48001122row0_col5,#T_59234230_9d7c_11eb_ad9a_acde48001122row0_col6,#T_59234230_9d7c_11eb_ad9a_acde48001122row0_col7,#T_59234230_9d7c_11eb_ad9a_acde48001122row1_col2,#T_59234230_9d7c_11eb_ad9a_acde48001122row1_col3,#T_59234230_9d7c_11eb_ad9a_acde48001122row1_col4,#T_59234230_9d7c_11eb_ad9a_acde48001122row1_col5,#T_59234230_9d7c_11eb_ad9a_acde48001122row1_col6,#T_59234230_9d7c_11eb_ad9a_acde48001122row1_col7,#T_59234230_9d7c_11eb_ad9a_acde48001122row2_col3,#T_59234230_9d7c_11eb_ad9a_acde48001122row2_col4,#T_59234230_9d7c_11eb_ad9a_acde48001122row2_col5,#T_59234230_9d7c_11eb_ad9a_acde48001122row2_col6,#T_59234230_9d7c_11eb_ad9a_acde48001122row2_col7,#T_59234230_9d7c_11eb_ad9a_acde48001122row3_col0,#T_59234230_9d7c_11eb_ad9a_acde48001122row3_col4,#T_59234230_9d7c_11eb_ad9a_acde48001122row3_col5,#T_59234230_9d7c_11eb_ad9a_acde48001122row3_col6,#T_59234230_9d7c_11eb_ad9a_acde48001122row3_col7,#T_59234230_9d7c_11eb_ad9a_acde48001122row4_col5,#T_59234230_9d7c_11eb_ad9a_acde48001122row4_col6,#T_59234230_9d7c_11eb_ad9a_acde48001122row4_col7,#T_59234230_9d7c_11eb_ad9a_acde48001122row5_col6,#T_59234230_9d7c_11eb_ad9a_acde48001122row5_col7,#T_59234230_9d7c_11eb_ad9a_acde48001122row6_col7{\n",
       "            background-color:  #440154;\n",
       "            color:  #f1f1f1;\n",
       "            font-size:  20px;\n",
       "            background-color:  white;\n",
       "            color:  white;\n",
       "            background-color:  #440154;\n",
       "            color:  #f1f1f1;\n",
       "            font-size:  20px;\n",
       "            background-color:  white;\n",
       "            color:  white;\n",
       "        }#T_59234230_9d7c_11eb_ad9a_acde48001122row1_col0{\n",
       "            background-color:  #481769;\n",
       "            color:  #f1f1f1;\n",
       "            font-size:  20px;\n",
       "            background-color:  #481769;\n",
       "            color:  #f1f1f1;\n",
       "            font-size:  20px;\n",
       "        }#T_59234230_9d7c_11eb_ad9a_acde48001122row2_col0{\n",
       "            background-color:  #472a7a;\n",
       "            color:  #f1f1f1;\n",
       "            font-size:  20px;\n",
       "            background-color:  #472a7a;\n",
       "            color:  #f1f1f1;\n",
       "            font-size:  20px;\n",
       "        }#T_59234230_9d7c_11eb_ad9a_acde48001122row2_col1{\n",
       "            background-color:  #443b84;\n",
       "            color:  #f1f1f1;\n",
       "            font-size:  20px;\n",
       "            background-color:  #443b84;\n",
       "            color:  #f1f1f1;\n",
       "            font-size:  20px;\n",
       "        }#T_59234230_9d7c_11eb_ad9a_acde48001122row3_col1{\n",
       "            background-color:  #440256;\n",
       "            color:  #f1f1f1;\n",
       "            font-size:  20px;\n",
       "            background-color:  #440256;\n",
       "            color:  #f1f1f1;\n",
       "            font-size:  20px;\n",
       "        }#T_59234230_9d7c_11eb_ad9a_acde48001122row3_col2{\n",
       "            background-color:  #450457;\n",
       "            color:  #f1f1f1;\n",
       "            font-size:  20px;\n",
       "            background-color:  #450457;\n",
       "            color:  #f1f1f1;\n",
       "            font-size:  20px;\n",
       "        }#T_59234230_9d7c_11eb_ad9a_acde48001122row4_col0{\n",
       "            background-color:  #482475;\n",
       "            color:  #f1f1f1;\n",
       "            font-size:  20px;\n",
       "            background-color:  #482475;\n",
       "            color:  #f1f1f1;\n",
       "            font-size:  20px;\n",
       "        }#T_59234230_9d7c_11eb_ad9a_acde48001122row4_col1{\n",
       "            background-color:  #2c738e;\n",
       "            color:  #f1f1f1;\n",
       "            font-size:  20px;\n",
       "            background-color:  #2c738e;\n",
       "            color:  #f1f1f1;\n",
       "            font-size:  20px;\n",
       "        }#T_59234230_9d7c_11eb_ad9a_acde48001122row4_col2{\n",
       "            background-color:  #433d84;\n",
       "            color:  #f1f1f1;\n",
       "            font-size:  20px;\n",
       "            background-color:  #433d84;\n",
       "            color:  #f1f1f1;\n",
       "            font-size:  20px;\n",
       "        }#T_59234230_9d7c_11eb_ad9a_acde48001122row4_col3{\n",
       "            background-color:  #472d7b;\n",
       "            color:  #f1f1f1;\n",
       "            font-size:  20px;\n",
       "            background-color:  #472d7b;\n",
       "            color:  #f1f1f1;\n",
       "            font-size:  20px;\n",
       "        }#T_59234230_9d7c_11eb_ad9a_acde48001122row5_col0,#T_59234230_9d7c_11eb_ad9a_acde48001122row7_col2,#T_59234230_9d7c_11eb_ad9a_acde48001122row7_col5{\n",
       "            background-color:  #471365;\n",
       "            color:  #f1f1f1;\n",
       "            font-size:  20px;\n",
       "            background-color:  #471365;\n",
       "            color:  #f1f1f1;\n",
       "            font-size:  20px;\n",
       "        }#T_59234230_9d7c_11eb_ad9a_acde48001122row5_col1,#T_59234230_9d7c_11eb_ad9a_acde48001122row5_col4{\n",
       "            background-color:  #481b6d;\n",
       "            color:  #f1f1f1;\n",
       "            font-size:  20px;\n",
       "            background-color:  #481b6d;\n",
       "            color:  #f1f1f1;\n",
       "            font-size:  20px;\n",
       "        }#T_59234230_9d7c_11eb_ad9a_acde48001122row5_col2,#T_59234230_9d7c_11eb_ad9a_acde48001122row7_col1{\n",
       "            background-color:  #481467;\n",
       "            color:  #f1f1f1;\n",
       "            font-size:  20px;\n",
       "            background-color:  #481467;\n",
       "            color:  #f1f1f1;\n",
       "            font-size:  20px;\n",
       "        }#T_59234230_9d7c_11eb_ad9a_acde48001122row5_col3{\n",
       "            background-color:  #482677;\n",
       "            color:  #f1f1f1;\n",
       "            font-size:  20px;\n",
       "            background-color:  #482677;\n",
       "            color:  #f1f1f1;\n",
       "            font-size:  20px;\n",
       "        }#T_59234230_9d7c_11eb_ad9a_acde48001122row6_col0{\n",
       "            background-color:  #46327e;\n",
       "            color:  #f1f1f1;\n",
       "            font-size:  20px;\n",
       "            background-color:  #46327e;\n",
       "            color:  #f1f1f1;\n",
       "            font-size:  20px;\n",
       "        }#T_59234230_9d7c_11eb_ad9a_acde48001122row6_col1{\n",
       "            background-color:  #472c7a;\n",
       "            color:  #f1f1f1;\n",
       "            font-size:  20px;\n",
       "            background-color:  #472c7a;\n",
       "            color:  #f1f1f1;\n",
       "            font-size:  20px;\n",
       "        }#T_59234230_9d7c_11eb_ad9a_acde48001122row6_col2{\n",
       "            background-color:  #46307e;\n",
       "            color:  #f1f1f1;\n",
       "            font-size:  20px;\n",
       "            background-color:  #46307e;\n",
       "            color:  #f1f1f1;\n",
       "            font-size:  20px;\n",
       "        }#T_59234230_9d7c_11eb_ad9a_acde48001122row6_col3{\n",
       "            background-color:  #424186;\n",
       "            color:  #f1f1f1;\n",
       "            font-size:  20px;\n",
       "            background-color:  #424186;\n",
       "            color:  #f1f1f1;\n",
       "            font-size:  20px;\n",
       "        }#T_59234230_9d7c_11eb_ad9a_acde48001122row6_col4{\n",
       "            background-color:  #453781;\n",
       "            color:  #f1f1f1;\n",
       "            font-size:  20px;\n",
       "            background-color:  #453781;\n",
       "            color:  #f1f1f1;\n",
       "            font-size:  20px;\n",
       "        }#T_59234230_9d7c_11eb_ad9a_acde48001122row6_col5{\n",
       "            background-color:  #453581;\n",
       "            color:  #f1f1f1;\n",
       "            font-size:  20px;\n",
       "            background-color:  #453581;\n",
       "            color:  #f1f1f1;\n",
       "            font-size:  20px;\n",
       "        }#T_59234230_9d7c_11eb_ad9a_acde48001122row7_col0,#T_59234230_9d7c_11eb_ad9a_acde48001122row7_col4{\n",
       "            background-color:  #470e61;\n",
       "            color:  #f1f1f1;\n",
       "            font-size:  20px;\n",
       "            background-color:  #470e61;\n",
       "            color:  #f1f1f1;\n",
       "            font-size:  20px;\n",
       "        }#T_59234230_9d7c_11eb_ad9a_acde48001122row7_col3{\n",
       "            background-color:  #471063;\n",
       "            color:  #f1f1f1;\n",
       "            font-size:  20px;\n",
       "            background-color:  #471063;\n",
       "            color:  #f1f1f1;\n",
       "            font-size:  20px;\n",
       "        }#T_59234230_9d7c_11eb_ad9a_acde48001122row7_col6{\n",
       "            background-color:  #460b5e;\n",
       "            color:  #f1f1f1;\n",
       "            font-size:  20px;\n",
       "            background-color:  #460b5e;\n",
       "            color:  #f1f1f1;\n",
       "            font-size:  20px;\n",
       "        }</style><table id=\"T_59234230_9d7c_11eb_ad9a_acde48001122\" ><caption>French overlap heatmap v2</caption><thead>    <tr>        <th class=\"blank level0\" ></th>        <th class=\"col_heading level0 col0\" >chinese culture and people</th>        <th class=\"col_heading level0 col1\" >covid-19</th>        <th class=\"col_heading level0 col2\" >economy</th>        <th class=\"col_heading level0 col3\" >environment</th>        <th class=\"col_heading level0 col4\" >geopolitics</th>        <th class=\"col_heading level0 col5\" >military and security</th>        <th class=\"col_heading level0 col6\" >politics and society</th>        <th class=\"col_heading level0 col7\" >technology</th>    </tr></thead><tbody>\n",
       "                <tr>\n",
       "                        <th id=\"T_59234230_9d7c_11eb_ad9a_acde48001122level0_row0\" class=\"row_heading level0 row0\" >chinese culture and people</th>\n",
       "                        <td id=\"T_59234230_9d7c_11eb_ad9a_acde48001122row0_col0\" class=\"data row0 col0\" >387</td>\n",
       "                        <td id=\"T_59234230_9d7c_11eb_ad9a_acde48001122row0_col1\" class=\"data row0 col1\" >0</td>\n",
       "                        <td id=\"T_59234230_9d7c_11eb_ad9a_acde48001122row0_col2\" class=\"data row0 col2\" >0</td>\n",
       "                        <td id=\"T_59234230_9d7c_11eb_ad9a_acde48001122row0_col3\" class=\"data row0 col3\" >0</td>\n",
       "                        <td id=\"T_59234230_9d7c_11eb_ad9a_acde48001122row0_col4\" class=\"data row0 col4\" >0</td>\n",
       "                        <td id=\"T_59234230_9d7c_11eb_ad9a_acde48001122row0_col5\" class=\"data row0 col5\" >0</td>\n",
       "                        <td id=\"T_59234230_9d7c_11eb_ad9a_acde48001122row0_col6\" class=\"data row0 col6\" >0</td>\n",
       "                        <td id=\"T_59234230_9d7c_11eb_ad9a_acde48001122row0_col7\" class=\"data row0 col7\" >0</td>\n",
       "            </tr>\n",
       "            <tr>\n",
       "                        <th id=\"T_59234230_9d7c_11eb_ad9a_acde48001122level0_row1\" class=\"row_heading level0 row1\" >covid-19</th>\n",
       "                        <td id=\"T_59234230_9d7c_11eb_ad9a_acde48001122row1_col0\" class=\"data row1 col0\" >23</td>\n",
       "                        <td id=\"T_59234230_9d7c_11eb_ad9a_acde48001122row1_col1\" class=\"data row1 col1\" >774</td>\n",
       "                        <td id=\"T_59234230_9d7c_11eb_ad9a_acde48001122row1_col2\" class=\"data row1 col2\" >0</td>\n",
       "                        <td id=\"T_59234230_9d7c_11eb_ad9a_acde48001122row1_col3\" class=\"data row1 col3\" >0</td>\n",
       "                        <td id=\"T_59234230_9d7c_11eb_ad9a_acde48001122row1_col4\" class=\"data row1 col4\" >0</td>\n",
       "                        <td id=\"T_59234230_9d7c_11eb_ad9a_acde48001122row1_col5\" class=\"data row1 col5\" >0</td>\n",
       "                        <td id=\"T_59234230_9d7c_11eb_ad9a_acde48001122row1_col6\" class=\"data row1 col6\" >0</td>\n",
       "                        <td id=\"T_59234230_9d7c_11eb_ad9a_acde48001122row1_col7\" class=\"data row1 col7\" >0</td>\n",
       "            </tr>\n",
       "            <tr>\n",
       "                        <th id=\"T_59234230_9d7c_11eb_ad9a_acde48001122level0_row2\" class=\"row_heading level0 row2\" >economy</th>\n",
       "                        <td id=\"T_59234230_9d7c_11eb_ad9a_acde48001122row2_col0\" class=\"data row2 col0\" >46</td>\n",
       "                        <td id=\"T_59234230_9d7c_11eb_ad9a_acde48001122row2_col1\" class=\"data row2 col1\" >135</td>\n",
       "                        <td id=\"T_59234230_9d7c_11eb_ad9a_acde48001122row2_col2\" class=\"data row2 col2\" >1102</td>\n",
       "                        <td id=\"T_59234230_9d7c_11eb_ad9a_acde48001122row2_col3\" class=\"data row2 col3\" >0</td>\n",
       "                        <td id=\"T_59234230_9d7c_11eb_ad9a_acde48001122row2_col4\" class=\"data row2 col4\" >0</td>\n",
       "                        <td id=\"T_59234230_9d7c_11eb_ad9a_acde48001122row2_col5\" class=\"data row2 col5\" >0</td>\n",
       "                        <td id=\"T_59234230_9d7c_11eb_ad9a_acde48001122row2_col6\" class=\"data row2 col6\" >0</td>\n",
       "                        <td id=\"T_59234230_9d7c_11eb_ad9a_acde48001122row2_col7\" class=\"data row2 col7\" >0</td>\n",
       "            </tr>\n",
       "            <tr>\n",
       "                        <th id=\"T_59234230_9d7c_11eb_ad9a_acde48001122level0_row3\" class=\"row_heading level0 row3\" >environment</th>\n",
       "                        <td id=\"T_59234230_9d7c_11eb_ad9a_acde48001122row3_col0\" class=\"data row3 col0\" >0</td>\n",
       "                        <td id=\"T_59234230_9d7c_11eb_ad9a_acde48001122row3_col1\" class=\"data row3 col1\" >4</td>\n",
       "                        <td id=\"T_59234230_9d7c_11eb_ad9a_acde48001122row3_col2\" class=\"data row3 col2\" >10</td>\n",
       "                        <td id=\"T_59234230_9d7c_11eb_ad9a_acde48001122row3_col3\" class=\"data row3 col3\" >47</td>\n",
       "                        <td id=\"T_59234230_9d7c_11eb_ad9a_acde48001122row3_col4\" class=\"data row3 col4\" >0</td>\n",
       "                        <td id=\"T_59234230_9d7c_11eb_ad9a_acde48001122row3_col5\" class=\"data row3 col5\" >0</td>\n",
       "                        <td id=\"T_59234230_9d7c_11eb_ad9a_acde48001122row3_col6\" class=\"data row3 col6\" >0</td>\n",
       "                        <td id=\"T_59234230_9d7c_11eb_ad9a_acde48001122row3_col7\" class=\"data row3 col7\" >0</td>\n",
       "            </tr>\n",
       "            <tr>\n",
       "                        <th id=\"T_59234230_9d7c_11eb_ad9a_acde48001122level0_row4\" class=\"row_heading level0 row4\" >geopolitics</th>\n",
       "                        <td id=\"T_59234230_9d7c_11eb_ad9a_acde48001122row4_col0\" class=\"data row4 col0\" >39</td>\n",
       "                        <td id=\"T_59234230_9d7c_11eb_ad9a_acde48001122row4_col1\" class=\"data row4 col1\" >294</td>\n",
       "                        <td id=\"T_59234230_9d7c_11eb_ad9a_acde48001122row4_col2\" class=\"data row4 col2\" >198</td>\n",
       "                        <td id=\"T_59234230_9d7c_11eb_ad9a_acde48001122row4_col3\" class=\"data row4 col3\" >6</td>\n",
       "                        <td id=\"T_59234230_9d7c_11eb_ad9a_acde48001122row4_col4\" class=\"data row4 col4\" >876</td>\n",
       "                        <td id=\"T_59234230_9d7c_11eb_ad9a_acde48001122row4_col5\" class=\"data row4 col5\" >0</td>\n",
       "                        <td id=\"T_59234230_9d7c_11eb_ad9a_acde48001122row4_col6\" class=\"data row4 col6\" >0</td>\n",
       "                        <td id=\"T_59234230_9d7c_11eb_ad9a_acde48001122row4_col7\" class=\"data row4 col7\" >0</td>\n",
       "            </tr>\n",
       "            <tr>\n",
       "                        <th id=\"T_59234230_9d7c_11eb_ad9a_acde48001122level0_row5\" class=\"row_heading level0 row5\" >military and security</th>\n",
       "                        <td id=\"T_59234230_9d7c_11eb_ad9a_acde48001122row5_col0\" class=\"data row5 col0\" >19</td>\n",
       "                        <td id=\"T_59234230_9d7c_11eb_ad9a_acde48001122row5_col1\" class=\"data row5 col1\" >55</td>\n",
       "                        <td id=\"T_59234230_9d7c_11eb_ad9a_acde48001122row5_col2\" class=\"data row5 col2\" >57</td>\n",
       "                        <td id=\"T_59234230_9d7c_11eb_ad9a_acde48001122row5_col3\" class=\"data row5 col3\" >5</td>\n",
       "                        <td id=\"T_59234230_9d7c_11eb_ad9a_acde48001122row5_col4\" class=\"data row5 col4\" >63</td>\n",
       "                        <td id=\"T_59234230_9d7c_11eb_ad9a_acde48001122row5_col5\" class=\"data row5 col5\" >263</td>\n",
       "                        <td id=\"T_59234230_9d7c_11eb_ad9a_acde48001122row5_col6\" class=\"data row5 col6\" >0</td>\n",
       "                        <td id=\"T_59234230_9d7c_11eb_ad9a_acde48001122row5_col7\" class=\"data row5 col7\" >0</td>\n",
       "            </tr>\n",
       "            <tr>\n",
       "                        <th id=\"T_59234230_9d7c_11eb_ad9a_acde48001122level0_row6\" class=\"row_heading level0 row6\" >politics and society</th>\n",
       "                        <td id=\"T_59234230_9d7c_11eb_ad9a_acde48001122row6_col0\" class=\"data row6 col0\" >55</td>\n",
       "                        <td id=\"T_59234230_9d7c_11eb_ad9a_acde48001122row6_col1\" class=\"data row6 col1\" >94</td>\n",
       "                        <td id=\"T_59234230_9d7c_11eb_ad9a_acde48001122row6_col2\" class=\"data row6 col2\" >151</td>\n",
       "                        <td id=\"T_59234230_9d7c_11eb_ad9a_acde48001122row6_col3\" class=\"data row6 col3\" >9</td>\n",
       "                        <td id=\"T_59234230_9d7c_11eb_ad9a_acde48001122row6_col4\" class=\"data row6 col4\" >137</td>\n",
       "                        <td id=\"T_59234230_9d7c_11eb_ad9a_acde48001122row6_col5\" class=\"data row6 col5\" >41</td>\n",
       "                        <td id=\"T_59234230_9d7c_11eb_ad9a_acde48001122row6_col6\" class=\"data row6 col6\" >541</td>\n",
       "                        <td id=\"T_59234230_9d7c_11eb_ad9a_acde48001122row6_col7\" class=\"data row6 col7\" >0</td>\n",
       "            </tr>\n",
       "            <tr>\n",
       "                        <th id=\"T_59234230_9d7c_11eb_ad9a_acde48001122level0_row7\" class=\"row_heading level0 row7\" >technology</th>\n",
       "                        <td id=\"T_59234230_9d7c_11eb_ad9a_acde48001122row7_col0\" class=\"data row7 col0\" >15</td>\n",
       "                        <td id=\"T_59234230_9d7c_11eb_ad9a_acde48001122row7_col1\" class=\"data row7 col1\" >40</td>\n",
       "                        <td id=\"T_59234230_9d7c_11eb_ad9a_acde48001122row7_col2\" class=\"data row7 col2\" >55</td>\n",
       "                        <td id=\"T_59234230_9d7c_11eb_ad9a_acde48001122row7_col3\" class=\"data row7 col3\" >2</td>\n",
       "                        <td id=\"T_59234230_9d7c_11eb_ad9a_acde48001122row7_col4\" class=\"data row7 col4\" >33</td>\n",
       "                        <td id=\"T_59234230_9d7c_11eb_ad9a_acde48001122row7_col5\" class=\"data row7 col5\" >13</td>\n",
       "                        <td id=\"T_59234230_9d7c_11eb_ad9a_acde48001122row7_col6\" class=\"data row7 col6\" >16</td>\n",
       "                        <td id=\"T_59234230_9d7c_11eb_ad9a_acde48001122row7_col7\" class=\"data row7 col7\" >235</td>\n",
       "            </tr>\n",
       "    </tbody></table>"
      ],
      "text/plain": [
       "<pandas.io.formats.style.Styler at 0x7feb6ca2c550>"
      ]
     },
     "metadata": {},
     "output_type": "display_data"
    },
    {
     "data": {
      "text/html": [
       "<style  type=\"text/css\" >\n",
       "#T_5a0b9ddc_9d7c_11eb_8e32_acde48001122row0_col0,#T_5a0b9ddc_9d7c_11eb_8e32_acde48001122row1_col1,#T_5a0b9ddc_9d7c_11eb_8e32_acde48001122row2_col2,#T_5a0b9ddc_9d7c_11eb_8e32_acde48001122row3_col3,#T_5a0b9ddc_9d7c_11eb_8e32_acde48001122row4_col4,#T_5a0b9ddc_9d7c_11eb_8e32_acde48001122row5_col5,#T_5a0b9ddc_9d7c_11eb_8e32_acde48001122row6_col6,#T_5a0b9ddc_9d7c_11eb_8e32_acde48001122row7_col7{\n",
       "            background-color:  #fde725;\n",
       "            color:  #000000;\n",
       "            font-size:  20px;\n",
       "            background-color:  #fde725;\n",
       "            color:  #000000;\n",
       "            font-size:  20px;\n",
       "        }#T_5a0b9ddc_9d7c_11eb_8e32_acde48001122row0_col1,#T_5a0b9ddc_9d7c_11eb_8e32_acde48001122row0_col2,#T_5a0b9ddc_9d7c_11eb_8e32_acde48001122row0_col3,#T_5a0b9ddc_9d7c_11eb_8e32_acde48001122row0_col4,#T_5a0b9ddc_9d7c_11eb_8e32_acde48001122row0_col5,#T_5a0b9ddc_9d7c_11eb_8e32_acde48001122row0_col6,#T_5a0b9ddc_9d7c_11eb_8e32_acde48001122row0_col7,#T_5a0b9ddc_9d7c_11eb_8e32_acde48001122row1_col2,#T_5a0b9ddc_9d7c_11eb_8e32_acde48001122row1_col3,#T_5a0b9ddc_9d7c_11eb_8e32_acde48001122row1_col4,#T_5a0b9ddc_9d7c_11eb_8e32_acde48001122row1_col5,#T_5a0b9ddc_9d7c_11eb_8e32_acde48001122row1_col6,#T_5a0b9ddc_9d7c_11eb_8e32_acde48001122row1_col7,#T_5a0b9ddc_9d7c_11eb_8e32_acde48001122row2_col3,#T_5a0b9ddc_9d7c_11eb_8e32_acde48001122row2_col4,#T_5a0b9ddc_9d7c_11eb_8e32_acde48001122row2_col5,#T_5a0b9ddc_9d7c_11eb_8e32_acde48001122row2_col6,#T_5a0b9ddc_9d7c_11eb_8e32_acde48001122row2_col7,#T_5a0b9ddc_9d7c_11eb_8e32_acde48001122row3_col4,#T_5a0b9ddc_9d7c_11eb_8e32_acde48001122row3_col5,#T_5a0b9ddc_9d7c_11eb_8e32_acde48001122row3_col6,#T_5a0b9ddc_9d7c_11eb_8e32_acde48001122row3_col7,#T_5a0b9ddc_9d7c_11eb_8e32_acde48001122row4_col5,#T_5a0b9ddc_9d7c_11eb_8e32_acde48001122row4_col6,#T_5a0b9ddc_9d7c_11eb_8e32_acde48001122row4_col7,#T_5a0b9ddc_9d7c_11eb_8e32_acde48001122row5_col6,#T_5a0b9ddc_9d7c_11eb_8e32_acde48001122row5_col7,#T_5a0b9ddc_9d7c_11eb_8e32_acde48001122row6_col7{\n",
       "            background-color:  #440154;\n",
       "            color:  #f1f1f1;\n",
       "            font-size:  20px;\n",
       "            background-color:  white;\n",
       "            color:  white;\n",
       "            background-color:  #440154;\n",
       "            color:  #f1f1f1;\n",
       "            font-size:  20px;\n",
       "            background-color:  white;\n",
       "            color:  white;\n",
       "        }#T_5a0b9ddc_9d7c_11eb_8e32_acde48001122row1_col0{\n",
       "            background-color:  #482071;\n",
       "            color:  #f1f1f1;\n",
       "            font-size:  20px;\n",
       "            background-color:  #482071;\n",
       "            color:  #f1f1f1;\n",
       "            font-size:  20px;\n",
       "        }#T_5a0b9ddc_9d7c_11eb_8e32_acde48001122row2_col0{\n",
       "            background-color:  #472c7a;\n",
       "            color:  #f1f1f1;\n",
       "            font-size:  20px;\n",
       "            background-color:  #472c7a;\n",
       "            color:  #f1f1f1;\n",
       "            font-size:  20px;\n",
       "        }#T_5a0b9ddc_9d7c_11eb_8e32_acde48001122row2_col1,#T_5a0b9ddc_9d7c_11eb_8e32_acde48001122row7_col5{\n",
       "            background-color:  #472d7b;\n",
       "            color:  #f1f1f1;\n",
       "            font-size:  20px;\n",
       "            background-color:  #472d7b;\n",
       "            color:  #f1f1f1;\n",
       "            font-size:  20px;\n",
       "        }#T_5a0b9ddc_9d7c_11eb_8e32_acde48001122row3_col0,#T_5a0b9ddc_9d7c_11eb_8e32_acde48001122row5_col3{\n",
       "            background-color:  #460a5d;\n",
       "            color:  #f1f1f1;\n",
       "            font-size:  20px;\n",
       "            background-color:  #460a5d;\n",
       "            color:  #f1f1f1;\n",
       "            font-size:  20px;\n",
       "        }#T_5a0b9ddc_9d7c_11eb_8e32_acde48001122row3_col1,#T_5a0b9ddc_9d7c_11eb_8e32_acde48001122row5_col0{\n",
       "            background-color:  #440154;\n",
       "            color:  #f1f1f1;\n",
       "            font-size:  20px;\n",
       "            background-color:  #440154;\n",
       "            color:  #f1f1f1;\n",
       "            font-size:  20px;\n",
       "        }#T_5a0b9ddc_9d7c_11eb_8e32_acde48001122row3_col2{\n",
       "            background-color:  #481467;\n",
       "            color:  #f1f1f1;\n",
       "            font-size:  20px;\n",
       "            background-color:  #481467;\n",
       "            color:  #f1f1f1;\n",
       "            font-size:  20px;\n",
       "        }#T_5a0b9ddc_9d7c_11eb_8e32_acde48001122row4_col0{\n",
       "            background-color:  #46327e;\n",
       "            color:  #f1f1f1;\n",
       "            font-size:  20px;\n",
       "            background-color:  #46327e;\n",
       "            color:  #f1f1f1;\n",
       "            font-size:  20px;\n",
       "        }#T_5a0b9ddc_9d7c_11eb_8e32_acde48001122row4_col1{\n",
       "            background-color:  #39558c;\n",
       "            color:  #f1f1f1;\n",
       "            font-size:  20px;\n",
       "            background-color:  #39558c;\n",
       "            color:  #f1f1f1;\n",
       "            font-size:  20px;\n",
       "        }#T_5a0b9ddc_9d7c_11eb_8e32_acde48001122row4_col2{\n",
       "            background-color:  #33638d;\n",
       "            color:  #f1f1f1;\n",
       "            font-size:  20px;\n",
       "            background-color:  #33638d;\n",
       "            color:  #f1f1f1;\n",
       "            font-size:  20px;\n",
       "        }#T_5a0b9ddc_9d7c_11eb_8e32_acde48001122row4_col3{\n",
       "            background-color:  #414487;\n",
       "            color:  #f1f1f1;\n",
       "            font-size:  20px;\n",
       "            background-color:  #414487;\n",
       "            color:  #f1f1f1;\n",
       "            font-size:  20px;\n",
       "        }#T_5a0b9ddc_9d7c_11eb_8e32_acde48001122row5_col1,#T_5a0b9ddc_9d7c_11eb_8e32_acde48001122row7_col0{\n",
       "            background-color:  #46075a;\n",
       "            color:  #f1f1f1;\n",
       "            font-size:  20px;\n",
       "            background-color:  #46075a;\n",
       "            color:  #f1f1f1;\n",
       "            font-size:  20px;\n",
       "        }#T_5a0b9ddc_9d7c_11eb_8e32_acde48001122row5_col2,#T_5a0b9ddc_9d7c_11eb_8e32_acde48001122row5_col4{\n",
       "            background-color:  #460b5e;\n",
       "            color:  #f1f1f1;\n",
       "            font-size:  20px;\n",
       "            background-color:  #460b5e;\n",
       "            color:  #f1f1f1;\n",
       "            font-size:  20px;\n",
       "        }#T_5a0b9ddc_9d7c_11eb_8e32_acde48001122row6_col0{\n",
       "            background-color:  #3e4989;\n",
       "            color:  #f1f1f1;\n",
       "            font-size:  20px;\n",
       "            background-color:  #3e4989;\n",
       "            color:  #f1f1f1;\n",
       "            font-size:  20px;\n",
       "        }#T_5a0b9ddc_9d7c_11eb_8e32_acde48001122row6_col1{\n",
       "            background-color:  #472e7c;\n",
       "            color:  #f1f1f1;\n",
       "            font-size:  20px;\n",
       "            background-color:  #472e7c;\n",
       "            color:  #f1f1f1;\n",
       "            font-size:  20px;\n",
       "        }#T_5a0b9ddc_9d7c_11eb_8e32_acde48001122row6_col2{\n",
       "            background-color:  #355f8d;\n",
       "            color:  #f1f1f1;\n",
       "            font-size:  20px;\n",
       "            background-color:  #355f8d;\n",
       "            color:  #f1f1f1;\n",
       "            font-size:  20px;\n",
       "        }#T_5a0b9ddc_9d7c_11eb_8e32_acde48001122row6_col3{\n",
       "            background-color:  #3e4a89;\n",
       "            color:  #f1f1f1;\n",
       "            font-size:  20px;\n",
       "            background-color:  #3e4a89;\n",
       "            color:  #f1f1f1;\n",
       "            font-size:  20px;\n",
       "        }#T_5a0b9ddc_9d7c_11eb_8e32_acde48001122row6_col4{\n",
       "            background-color:  #287c8e;\n",
       "            color:  #000000;\n",
       "            font-size:  20px;\n",
       "            background-color:  #287c8e;\n",
       "            color:  #000000;\n",
       "            font-size:  20px;\n",
       "        }#T_5a0b9ddc_9d7c_11eb_8e32_acde48001122row6_col5{\n",
       "            background-color:  #355e8d;\n",
       "            color:  #f1f1f1;\n",
       "            font-size:  20px;\n",
       "            background-color:  #355e8d;\n",
       "            color:  #f1f1f1;\n",
       "            font-size:  20px;\n",
       "        }#T_5a0b9ddc_9d7c_11eb_8e32_acde48001122row7_col1{\n",
       "            background-color:  #450559;\n",
       "            color:  #f1f1f1;\n",
       "            font-size:  20px;\n",
       "            background-color:  #450559;\n",
       "            color:  #f1f1f1;\n",
       "            font-size:  20px;\n",
       "        }#T_5a0b9ddc_9d7c_11eb_8e32_acde48001122row7_col2{\n",
       "            background-color:  #470e61;\n",
       "            color:  #f1f1f1;\n",
       "            font-size:  20px;\n",
       "            background-color:  #470e61;\n",
       "            color:  #f1f1f1;\n",
       "            font-size:  20px;\n",
       "        }#T_5a0b9ddc_9d7c_11eb_8e32_acde48001122row7_col3{\n",
       "            background-color:  #482979;\n",
       "            color:  #f1f1f1;\n",
       "            font-size:  20px;\n",
       "            background-color:  #482979;\n",
       "            color:  #f1f1f1;\n",
       "            font-size:  20px;\n",
       "        }#T_5a0b9ddc_9d7c_11eb_8e32_acde48001122row7_col4{\n",
       "            background-color:  #46085c;\n",
       "            color:  #f1f1f1;\n",
       "            font-size:  20px;\n",
       "            background-color:  #46085c;\n",
       "            color:  #f1f1f1;\n",
       "            font-size:  20px;\n",
       "        }#T_5a0b9ddc_9d7c_11eb_8e32_acde48001122row7_col6{\n",
       "            background-color:  #470d60;\n",
       "            color:  #f1f1f1;\n",
       "            font-size:  20px;\n",
       "            background-color:  #470d60;\n",
       "            color:  #f1f1f1;\n",
       "            font-size:  20px;\n",
       "        }</style><table id=\"T_5a0b9ddc_9d7c_11eb_8e32_acde48001122\" ><caption>Spanish overlap heatmap v2</caption><thead>    <tr>        <th class=\"blank level0\" ></th>        <th class=\"col_heading level0 col0\" >chinese culture and people</th>        <th class=\"col_heading level0 col1\" >covid-19</th>        <th class=\"col_heading level0 col2\" >economy</th>        <th class=\"col_heading level0 col3\" >environment</th>        <th class=\"col_heading level0 col4\" >geopolitics</th>        <th class=\"col_heading level0 col5\" >military and security</th>        <th class=\"col_heading level0 col6\" >politics and society</th>        <th class=\"col_heading level0 col7\" >technology</th>    </tr></thead><tbody>\n",
       "                <tr>\n",
       "                        <th id=\"T_5a0b9ddc_9d7c_11eb_8e32_acde48001122level0_row0\" class=\"row_heading level0 row0\" >chinese culture and people</th>\n",
       "                        <td id=\"T_5a0b9ddc_9d7c_11eb_8e32_acde48001122row0_col0\" class=\"data row0 col0\" >1364</td>\n",
       "                        <td id=\"T_5a0b9ddc_9d7c_11eb_8e32_acde48001122row0_col1\" class=\"data row0 col1\" >0</td>\n",
       "                        <td id=\"T_5a0b9ddc_9d7c_11eb_8e32_acde48001122row0_col2\" class=\"data row0 col2\" >0</td>\n",
       "                        <td id=\"T_5a0b9ddc_9d7c_11eb_8e32_acde48001122row0_col3\" class=\"data row0 col3\" >0</td>\n",
       "                        <td id=\"T_5a0b9ddc_9d7c_11eb_8e32_acde48001122row0_col4\" class=\"data row0 col4\" >0</td>\n",
       "                        <td id=\"T_5a0b9ddc_9d7c_11eb_8e32_acde48001122row0_col5\" class=\"data row0 col5\" >0</td>\n",
       "                        <td id=\"T_5a0b9ddc_9d7c_11eb_8e32_acde48001122row0_col6\" class=\"data row0 col6\" >0</td>\n",
       "                        <td id=\"T_5a0b9ddc_9d7c_11eb_8e32_acde48001122row0_col7\" class=\"data row0 col7\" >0</td>\n",
       "            </tr>\n",
       "            <tr>\n",
       "                        <th id=\"T_5a0b9ddc_9d7c_11eb_8e32_acde48001122level0_row1\" class=\"row_heading level0 row1\" >covid-19</th>\n",
       "                        <td id=\"T_5a0b9ddc_9d7c_11eb_8e32_acde48001122row1_col0\" class=\"data row1 col0\" >141</td>\n",
       "                        <td id=\"T_5a0b9ddc_9d7c_11eb_8e32_acde48001122row1_col1\" class=\"data row1 col1\" >2777</td>\n",
       "                        <td id=\"T_5a0b9ddc_9d7c_11eb_8e32_acde48001122row1_col2\" class=\"data row1 col2\" >0</td>\n",
       "                        <td id=\"T_5a0b9ddc_9d7c_11eb_8e32_acde48001122row1_col3\" class=\"data row1 col3\" >0</td>\n",
       "                        <td id=\"T_5a0b9ddc_9d7c_11eb_8e32_acde48001122row1_col4\" class=\"data row1 col4\" >0</td>\n",
       "                        <td id=\"T_5a0b9ddc_9d7c_11eb_8e32_acde48001122row1_col5\" class=\"data row1 col5\" >0</td>\n",
       "                        <td id=\"T_5a0b9ddc_9d7c_11eb_8e32_acde48001122row1_col6\" class=\"data row1 col6\" >0</td>\n",
       "                        <td id=\"T_5a0b9ddc_9d7c_11eb_8e32_acde48001122row1_col7\" class=\"data row1 col7\" >0</td>\n",
       "            </tr>\n",
       "            <tr>\n",
       "                        <th id=\"T_5a0b9ddc_9d7c_11eb_8e32_acde48001122level0_row2\" class=\"row_heading level0 row2\" >economy</th>\n",
       "                        <td id=\"T_5a0b9ddc_9d7c_11eb_8e32_acde48001122row2_col0\" class=\"data row2 col0\" >189</td>\n",
       "                        <td id=\"T_5a0b9ddc_9d7c_11eb_8e32_acde48001122row2_col1\" class=\"data row2 col1\" >356</td>\n",
       "                        <td id=\"T_5a0b9ddc_9d7c_11eb_8e32_acde48001122row2_col2\" class=\"data row2 col2\" >1750</td>\n",
       "                        <td id=\"T_5a0b9ddc_9d7c_11eb_8e32_acde48001122row2_col3\" class=\"data row2 col3\" >0</td>\n",
       "                        <td id=\"T_5a0b9ddc_9d7c_11eb_8e32_acde48001122row2_col4\" class=\"data row2 col4\" >0</td>\n",
       "                        <td id=\"T_5a0b9ddc_9d7c_11eb_8e32_acde48001122row2_col5\" class=\"data row2 col5\" >0</td>\n",
       "                        <td id=\"T_5a0b9ddc_9d7c_11eb_8e32_acde48001122row2_col6\" class=\"data row2 col6\" >0</td>\n",
       "                        <td id=\"T_5a0b9ddc_9d7c_11eb_8e32_acde48001122row2_col7\" class=\"data row2 col7\" >0</td>\n",
       "            </tr>\n",
       "            <tr>\n",
       "                        <th id=\"T_5a0b9ddc_9d7c_11eb_8e32_acde48001122level0_row3\" class=\"row_heading level0 row3\" >environment</th>\n",
       "                        <td id=\"T_5a0b9ddc_9d7c_11eb_8e32_acde48001122row3_col0\" class=\"data row3 col0\" >56</td>\n",
       "                        <td id=\"T_5a0b9ddc_9d7c_11eb_8e32_acde48001122row3_col1\" class=\"data row3 col1\" >10</td>\n",
       "                        <td id=\"T_5a0b9ddc_9d7c_11eb_8e32_acde48001122row3_col2\" class=\"data row3 col2\" >93</td>\n",
       "                        <td id=\"T_5a0b9ddc_9d7c_11eb_8e32_acde48001122row3_col3\" class=\"data row3 col3\" >272</td>\n",
       "                        <td id=\"T_5a0b9ddc_9d7c_11eb_8e32_acde48001122row3_col4\" class=\"data row3 col4\" >0</td>\n",
       "                        <td id=\"T_5a0b9ddc_9d7c_11eb_8e32_acde48001122row3_col5\" class=\"data row3 col5\" >0</td>\n",
       "                        <td id=\"T_5a0b9ddc_9d7c_11eb_8e32_acde48001122row3_col6\" class=\"data row3 col6\" >0</td>\n",
       "                        <td id=\"T_5a0b9ddc_9d7c_11eb_8e32_acde48001122row3_col7\" class=\"data row3 col7\" >0</td>\n",
       "            </tr>\n",
       "            <tr>\n",
       "                        <th id=\"T_5a0b9ddc_9d7c_11eb_8e32_acde48001122level0_row4\" class=\"row_heading level0 row4\" >geopolitics</th>\n",
       "                        <td id=\"T_5a0b9ddc_9d7c_11eb_8e32_acde48001122row4_col0\" class=\"data row4 col0\" >215</td>\n",
       "                        <td id=\"T_5a0b9ddc_9d7c_11eb_8e32_acde48001122row4_col1\" class=\"data row4 col1\" >730</td>\n",
       "                        <td id=\"T_5a0b9ddc_9d7c_11eb_8e32_acde48001122row4_col2\" class=\"data row4 col2\" >553</td>\n",
       "                        <td id=\"T_5a0b9ddc_9d7c_11eb_8e32_acde48001122row4_col3\" class=\"data row4 col3\" >55</td>\n",
       "                        <td id=\"T_5a0b9ddc_9d7c_11eb_8e32_acde48001122row4_col4\" class=\"data row4 col4\" >2471</td>\n",
       "                        <td id=\"T_5a0b9ddc_9d7c_11eb_8e32_acde48001122row4_col5\" class=\"data row4 col5\" >0</td>\n",
       "                        <td id=\"T_5a0b9ddc_9d7c_11eb_8e32_acde48001122row4_col6\" class=\"data row4 col6\" >0</td>\n",
       "                        <td id=\"T_5a0b9ddc_9d7c_11eb_8e32_acde48001122row4_col7\" class=\"data row4 col7\" >0</td>\n",
       "            </tr>\n",
       "            <tr>\n",
       "                        <th id=\"T_5a0b9ddc_9d7c_11eb_8e32_acde48001122level0_row5\" class=\"row_heading level0 row5\" >military and security</th>\n",
       "                        <td id=\"T_5a0b9ddc_9d7c_11eb_8e32_acde48001122row5_col0\" class=\"data row5 col0\" >23</td>\n",
       "                        <td id=\"T_5a0b9ddc_9d7c_11eb_8e32_acde48001122row5_col1\" class=\"data row5 col1\" >50</td>\n",
       "                        <td id=\"T_5a0b9ddc_9d7c_11eb_8e32_acde48001122row5_col2\" class=\"data row5 col2\" >51</td>\n",
       "                        <td id=\"T_5a0b9ddc_9d7c_11eb_8e32_acde48001122row5_col3\" class=\"data row5 col3\" >7</td>\n",
       "                        <td id=\"T_5a0b9ddc_9d7c_11eb_8e32_acde48001122row5_col4\" class=\"data row5 col4\" >76</td>\n",
       "                        <td id=\"T_5a0b9ddc_9d7c_11eb_8e32_acde48001122row5_col5\" class=\"data row5 col5\" >203</td>\n",
       "                        <td id=\"T_5a0b9ddc_9d7c_11eb_8e32_acde48001122row5_col6\" class=\"data row5 col6\" >0</td>\n",
       "                        <td id=\"T_5a0b9ddc_9d7c_11eb_8e32_acde48001122row5_col7\" class=\"data row5 col7\" >0</td>\n",
       "            </tr>\n",
       "            <tr>\n",
       "                        <th id=\"T_5a0b9ddc_9d7c_11eb_8e32_acde48001122level0_row6\" class=\"row_heading level0 row6\" >politics and society</th>\n",
       "                        <td id=\"T_5a0b9ddc_9d7c_11eb_8e32_acde48001122row6_col0\" class=\"data row6 col0\" >318</td>\n",
       "                        <td id=\"T_5a0b9ddc_9d7c_11eb_8e32_acde48001122row6_col1\" class=\"data row6 col1\" >368</td>\n",
       "                        <td id=\"T_5a0b9ddc_9d7c_11eb_8e32_acde48001122row6_col2\" class=\"data row6 col2\" >521</td>\n",
       "                        <td id=\"T_5a0b9ddc_9d7c_11eb_8e32_acde48001122row6_col3\" class=\"data row6 col3\" >61</td>\n",
       "                        <td id=\"T_5a0b9ddc_9d7c_11eb_8e32_acde48001122row6_col4\" class=\"data row6 col4\" >1025</td>\n",
       "                        <td id=\"T_5a0b9ddc_9d7c_11eb_8e32_acde48001122row6_col5\" class=\"data row6 col5\" >60</td>\n",
       "                        <td id=\"T_5a0b9ddc_9d7c_11eb_8e32_acde48001122row6_col6\" class=\"data row6 col6\" >1779</td>\n",
       "                        <td id=\"T_5a0b9ddc_9d7c_11eb_8e32_acde48001122row6_col7\" class=\"data row6 col7\" >0</td>\n",
       "            </tr>\n",
       "            <tr>\n",
       "                        <th id=\"T_5a0b9ddc_9d7c_11eb_8e32_acde48001122level0_row7\" class=\"row_heading level0 row7\" >technology</th>\n",
       "                        <td id=\"T_5a0b9ddc_9d7c_11eb_8e32_acde48001122row7_col0\" class=\"data row7 col0\" >49</td>\n",
       "                        <td id=\"T_5a0b9ddc_9d7c_11eb_8e32_acde48001122row7_col1\" class=\"data row7 col1\" >37</td>\n",
       "                        <td id=\"T_5a0b9ddc_9d7c_11eb_8e32_acde48001122row7_col2\" class=\"data row7 col2\" >66</td>\n",
       "                        <td id=\"T_5a0b9ddc_9d7c_11eb_8e32_acde48001122row7_col3\" class=\"data row7 col3\" >31</td>\n",
       "                        <td id=\"T_5a0b9ddc_9d7c_11eb_8e32_acde48001122row7_col4\" class=\"data row7 col4\" >57</td>\n",
       "                        <td id=\"T_5a0b9ddc_9d7c_11eb_8e32_acde48001122row7_col5\" class=\"data row7 col5\" >26</td>\n",
       "                        <td id=\"T_5a0b9ddc_9d7c_11eb_8e32_acde48001122row7_col6\" class=\"data row7 col6\" >56</td>\n",
       "                        <td id=\"T_5a0b9ddc_9d7c_11eb_8e32_acde48001122row7_col7\" class=\"data row7 col7\" >406</td>\n",
       "            </tr>\n",
       "    </tbody></table>"
      ],
      "text/plain": [
       "<pandas.io.formats.style.Styler at 0x7feb6ca2cac8>"
      ]
     },
     "metadata": {},
     "output_type": "display_data"
    }
   ],
   "source": [
    "pl = project_level()     \n",
    "pl.keyword_annotator_split('sankey_diagrams')\n",
    "hms = pl.heatmap('heatmap')\n"
   ]
  },
  {
   "cell_type": "code",
   "execution_count": 201,
   "metadata": {},
   "outputs": [
    {
     "data": {
      "application/vnd.plotly.v1+json": {
       "config": {
        "plotlyServerURL": "https://plot.ly"
       },
       "data": [
        {
         "arrangement": "snap",
         "link": {
          "source": [
           0,
           0,
           1,
           2,
           5,
           4,
           3,
           5
          ],
          "target": [
           5,
           3,
           4,
           3,
           0,
           2,
           2,
           3
          ],
          "value": [
           1,
           2,
           1,
           1,
           1,
           1,
           1,
           2
          ]
         },
         "node": {
          "label": [
           "A",
           "B",
           "C",
           "D",
           "E",
           "F"
          ],
          "pad": 10,
          "x": [
           0.2,
           0.1,
           0.5,
           0.7,
           0.3,
           0.5
          ],
          "y": [
           0.7,
           0.5,
           0.2,
           0.4,
           0.2,
           0.3
          ]
         },
         "type": "sankey"
        }
       ],
       "layout": {
        "template": {
         "data": {
          "bar": [
           {
            "error_x": {
             "color": "#2a3f5f"
            },
            "error_y": {
             "color": "#2a3f5f"
            },
            "marker": {
             "line": {
              "color": "#E5ECF6",
              "width": 0.5
             }
            },
            "type": "bar"
           }
          ],
          "barpolar": [
           {
            "marker": {
             "line": {
              "color": "#E5ECF6",
              "width": 0.5
             }
            },
            "type": "barpolar"
           }
          ],
          "carpet": [
           {
            "aaxis": {
             "endlinecolor": "#2a3f5f",
             "gridcolor": "white",
             "linecolor": "white",
             "minorgridcolor": "white",
             "startlinecolor": "#2a3f5f"
            },
            "baxis": {
             "endlinecolor": "#2a3f5f",
             "gridcolor": "white",
             "linecolor": "white",
             "minorgridcolor": "white",
             "startlinecolor": "#2a3f5f"
            },
            "type": "carpet"
           }
          ],
          "choropleth": [
           {
            "colorbar": {
             "outlinewidth": 0,
             "ticks": ""
            },
            "type": "choropleth"
           }
          ],
          "contour": [
           {
            "colorbar": {
             "outlinewidth": 0,
             "ticks": ""
            },
            "colorscale": [
             [
              0,
              "#0d0887"
             ],
             [
              0.1111111111111111,
              "#46039f"
             ],
             [
              0.2222222222222222,
              "#7201a8"
             ],
             [
              0.3333333333333333,
              "#9c179e"
             ],
             [
              0.4444444444444444,
              "#bd3786"
             ],
             [
              0.5555555555555556,
              "#d8576b"
             ],
             [
              0.6666666666666666,
              "#ed7953"
             ],
             [
              0.7777777777777778,
              "#fb9f3a"
             ],
             [
              0.8888888888888888,
              "#fdca26"
             ],
             [
              1,
              "#f0f921"
             ]
            ],
            "type": "contour"
           }
          ],
          "contourcarpet": [
           {
            "colorbar": {
             "outlinewidth": 0,
             "ticks": ""
            },
            "type": "contourcarpet"
           }
          ],
          "heatmap": [
           {
            "colorbar": {
             "outlinewidth": 0,
             "ticks": ""
            },
            "colorscale": [
             [
              0,
              "#0d0887"
             ],
             [
              0.1111111111111111,
              "#46039f"
             ],
             [
              0.2222222222222222,
              "#7201a8"
             ],
             [
              0.3333333333333333,
              "#9c179e"
             ],
             [
              0.4444444444444444,
              "#bd3786"
             ],
             [
              0.5555555555555556,
              "#d8576b"
             ],
             [
              0.6666666666666666,
              "#ed7953"
             ],
             [
              0.7777777777777778,
              "#fb9f3a"
             ],
             [
              0.8888888888888888,
              "#fdca26"
             ],
             [
              1,
              "#f0f921"
             ]
            ],
            "type": "heatmap"
           }
          ],
          "heatmapgl": [
           {
            "colorbar": {
             "outlinewidth": 0,
             "ticks": ""
            },
            "colorscale": [
             [
              0,
              "#0d0887"
             ],
             [
              0.1111111111111111,
              "#46039f"
             ],
             [
              0.2222222222222222,
              "#7201a8"
             ],
             [
              0.3333333333333333,
              "#9c179e"
             ],
             [
              0.4444444444444444,
              "#bd3786"
             ],
             [
              0.5555555555555556,
              "#d8576b"
             ],
             [
              0.6666666666666666,
              "#ed7953"
             ],
             [
              0.7777777777777778,
              "#fb9f3a"
             ],
             [
              0.8888888888888888,
              "#fdca26"
             ],
             [
              1,
              "#f0f921"
             ]
            ],
            "type": "heatmapgl"
           }
          ],
          "histogram": [
           {
            "marker": {
             "colorbar": {
              "outlinewidth": 0,
              "ticks": ""
             }
            },
            "type": "histogram"
           }
          ],
          "histogram2d": [
           {
            "colorbar": {
             "outlinewidth": 0,
             "ticks": ""
            },
            "colorscale": [
             [
              0,
              "#0d0887"
             ],
             [
              0.1111111111111111,
              "#46039f"
             ],
             [
              0.2222222222222222,
              "#7201a8"
             ],
             [
              0.3333333333333333,
              "#9c179e"
             ],
             [
              0.4444444444444444,
              "#bd3786"
             ],
             [
              0.5555555555555556,
              "#d8576b"
             ],
             [
              0.6666666666666666,
              "#ed7953"
             ],
             [
              0.7777777777777778,
              "#fb9f3a"
             ],
             [
              0.8888888888888888,
              "#fdca26"
             ],
             [
              1,
              "#f0f921"
             ]
            ],
            "type": "histogram2d"
           }
          ],
          "histogram2dcontour": [
           {
            "colorbar": {
             "outlinewidth": 0,
             "ticks": ""
            },
            "colorscale": [
             [
              0,
              "#0d0887"
             ],
             [
              0.1111111111111111,
              "#46039f"
             ],
             [
              0.2222222222222222,
              "#7201a8"
             ],
             [
              0.3333333333333333,
              "#9c179e"
             ],
             [
              0.4444444444444444,
              "#bd3786"
             ],
             [
              0.5555555555555556,
              "#d8576b"
             ],
             [
              0.6666666666666666,
              "#ed7953"
             ],
             [
              0.7777777777777778,
              "#fb9f3a"
             ],
             [
              0.8888888888888888,
              "#fdca26"
             ],
             [
              1,
              "#f0f921"
             ]
            ],
            "type": "histogram2dcontour"
           }
          ],
          "mesh3d": [
           {
            "colorbar": {
             "outlinewidth": 0,
             "ticks": ""
            },
            "type": "mesh3d"
           }
          ],
          "parcoords": [
           {
            "line": {
             "colorbar": {
              "outlinewidth": 0,
              "ticks": ""
             }
            },
            "type": "parcoords"
           }
          ],
          "pie": [
           {
            "automargin": true,
            "type": "pie"
           }
          ],
          "scatter": [
           {
            "marker": {
             "colorbar": {
              "outlinewidth": 0,
              "ticks": ""
             }
            },
            "type": "scatter"
           }
          ],
          "scatter3d": [
           {
            "line": {
             "colorbar": {
              "outlinewidth": 0,
              "ticks": ""
             }
            },
            "marker": {
             "colorbar": {
              "outlinewidth": 0,
              "ticks": ""
             }
            },
            "type": "scatter3d"
           }
          ],
          "scattercarpet": [
           {
            "marker": {
             "colorbar": {
              "outlinewidth": 0,
              "ticks": ""
             }
            },
            "type": "scattercarpet"
           }
          ],
          "scattergeo": [
           {
            "marker": {
             "colorbar": {
              "outlinewidth": 0,
              "ticks": ""
             }
            },
            "type": "scattergeo"
           }
          ],
          "scattergl": [
           {
            "marker": {
             "colorbar": {
              "outlinewidth": 0,
              "ticks": ""
             }
            },
            "type": "scattergl"
           }
          ],
          "scattermapbox": [
           {
            "marker": {
             "colorbar": {
              "outlinewidth": 0,
              "ticks": ""
             }
            },
            "type": "scattermapbox"
           }
          ],
          "scatterpolar": [
           {
            "marker": {
             "colorbar": {
              "outlinewidth": 0,
              "ticks": ""
             }
            },
            "type": "scatterpolar"
           }
          ],
          "scatterpolargl": [
           {
            "marker": {
             "colorbar": {
              "outlinewidth": 0,
              "ticks": ""
             }
            },
            "type": "scatterpolargl"
           }
          ],
          "scatterternary": [
           {
            "marker": {
             "colorbar": {
              "outlinewidth": 0,
              "ticks": ""
             }
            },
            "type": "scatterternary"
           }
          ],
          "surface": [
           {
            "colorbar": {
             "outlinewidth": 0,
             "ticks": ""
            },
            "colorscale": [
             [
              0,
              "#0d0887"
             ],
             [
              0.1111111111111111,
              "#46039f"
             ],
             [
              0.2222222222222222,
              "#7201a8"
             ],
             [
              0.3333333333333333,
              "#9c179e"
             ],
             [
              0.4444444444444444,
              "#bd3786"
             ],
             [
              0.5555555555555556,
              "#d8576b"
             ],
             [
              0.6666666666666666,
              "#ed7953"
             ],
             [
              0.7777777777777778,
              "#fb9f3a"
             ],
             [
              0.8888888888888888,
              "#fdca26"
             ],
             [
              1,
              "#f0f921"
             ]
            ],
            "type": "surface"
           }
          ],
          "table": [
           {
            "cells": {
             "fill": {
              "color": "#EBF0F8"
             },
             "line": {
              "color": "white"
             }
            },
            "header": {
             "fill": {
              "color": "#C8D4E3"
             },
             "line": {
              "color": "white"
             }
            },
            "type": "table"
           }
          ]
         },
         "layout": {
          "annotationdefaults": {
           "arrowcolor": "#2a3f5f",
           "arrowhead": 0,
           "arrowwidth": 1
          },
          "autotypenumbers": "strict",
          "coloraxis": {
           "colorbar": {
            "outlinewidth": 0,
            "ticks": ""
           }
          },
          "colorscale": {
           "diverging": [
            [
             0,
             "#8e0152"
            ],
            [
             0.1,
             "#c51b7d"
            ],
            [
             0.2,
             "#de77ae"
            ],
            [
             0.3,
             "#f1b6da"
            ],
            [
             0.4,
             "#fde0ef"
            ],
            [
             0.5,
             "#f7f7f7"
            ],
            [
             0.6,
             "#e6f5d0"
            ],
            [
             0.7,
             "#b8e186"
            ],
            [
             0.8,
             "#7fbc41"
            ],
            [
             0.9,
             "#4d9221"
            ],
            [
             1,
             "#276419"
            ]
           ],
           "sequential": [
            [
             0,
             "#0d0887"
            ],
            [
             0.1111111111111111,
             "#46039f"
            ],
            [
             0.2222222222222222,
             "#7201a8"
            ],
            [
             0.3333333333333333,
             "#9c179e"
            ],
            [
             0.4444444444444444,
             "#bd3786"
            ],
            [
             0.5555555555555556,
             "#d8576b"
            ],
            [
             0.6666666666666666,
             "#ed7953"
            ],
            [
             0.7777777777777778,
             "#fb9f3a"
            ],
            [
             0.8888888888888888,
             "#fdca26"
            ],
            [
             1,
             "#f0f921"
            ]
           ],
           "sequentialminus": [
            [
             0,
             "#0d0887"
            ],
            [
             0.1111111111111111,
             "#46039f"
            ],
            [
             0.2222222222222222,
             "#7201a8"
            ],
            [
             0.3333333333333333,
             "#9c179e"
            ],
            [
             0.4444444444444444,
             "#bd3786"
            ],
            [
             0.5555555555555556,
             "#d8576b"
            ],
            [
             0.6666666666666666,
             "#ed7953"
            ],
            [
             0.7777777777777778,
             "#fb9f3a"
            ],
            [
             0.8888888888888888,
             "#fdca26"
            ],
            [
             1,
             "#f0f921"
            ]
           ]
          },
          "colorway": [
           "#636efa",
           "#EF553B",
           "#00cc96",
           "#ab63fa",
           "#FFA15A",
           "#19d3f3",
           "#FF6692",
           "#B6E880",
           "#FF97FF",
           "#FECB52"
          ],
          "font": {
           "color": "#2a3f5f"
          },
          "geo": {
           "bgcolor": "white",
           "lakecolor": "white",
           "landcolor": "#E5ECF6",
           "showlakes": true,
           "showland": true,
           "subunitcolor": "white"
          },
          "hoverlabel": {
           "align": "left"
          },
          "hovermode": "closest",
          "mapbox": {
           "style": "light"
          },
          "paper_bgcolor": "white",
          "plot_bgcolor": "#E5ECF6",
          "polar": {
           "angularaxis": {
            "gridcolor": "white",
            "linecolor": "white",
            "ticks": ""
           },
           "bgcolor": "#E5ECF6",
           "radialaxis": {
            "gridcolor": "white",
            "linecolor": "white",
            "ticks": ""
           }
          },
          "scene": {
           "xaxis": {
            "backgroundcolor": "#E5ECF6",
            "gridcolor": "white",
            "gridwidth": 2,
            "linecolor": "white",
            "showbackground": true,
            "ticks": "",
            "zerolinecolor": "white"
           },
           "yaxis": {
            "backgroundcolor": "#E5ECF6",
            "gridcolor": "white",
            "gridwidth": 2,
            "linecolor": "white",
            "showbackground": true,
            "ticks": "",
            "zerolinecolor": "white"
           },
           "zaxis": {
            "backgroundcolor": "#E5ECF6",
            "gridcolor": "white",
            "gridwidth": 2,
            "linecolor": "white",
            "showbackground": true,
            "ticks": "",
            "zerolinecolor": "white"
           }
          },
          "shapedefaults": {
           "line": {
            "color": "#2a3f5f"
           }
          },
          "ternary": {
           "aaxis": {
            "gridcolor": "white",
            "linecolor": "white",
            "ticks": ""
           },
           "baxis": {
            "gridcolor": "white",
            "linecolor": "white",
            "ticks": ""
           },
           "bgcolor": "#E5ECF6",
           "caxis": {
            "gridcolor": "white",
            "linecolor": "white",
            "ticks": ""
           }
          },
          "title": {
           "x": 0.05
          },
          "xaxis": {
           "automargin": true,
           "gridcolor": "white",
           "linecolor": "white",
           "ticks": "",
           "title": {
            "standoff": 15
           },
           "zerolinecolor": "white",
           "zerolinewidth": 2
          },
          "yaxis": {
           "automargin": true,
           "gridcolor": "white",
           "linecolor": "white",
           "ticks": "",
           "title": {
            "standoff": 15
           },
           "zerolinecolor": "white",
           "zerolinewidth": 2
          }
         }
        }
       }
      },
      "text/html": [
       "<div>                            <div id=\"6803adb9-1b99-4352-8457-2a0d84b50048\" class=\"plotly-graph-div\" style=\"height:525px; width:100%;\"></div>            <script type=\"text/javascript\">                require([\"plotly\"], function(Plotly) {                    window.PLOTLYENV=window.PLOTLYENV || {};                                    if (document.getElementById(\"6803adb9-1b99-4352-8457-2a0d84b50048\")) {                    Plotly.newPlot(                        \"6803adb9-1b99-4352-8457-2a0d84b50048\",                        [{\"arrangement\": \"snap\", \"link\": {\"source\": [0, 0, 1, 2, 5, 4, 3, 5], \"target\": [5, 3, 4, 3, 0, 2, 2, 3], \"value\": [1, 2, 1, 1, 1, 1, 1, 2]}, \"node\": {\"label\": [\"A\", \"B\", \"C\", \"D\", \"E\", \"F\"], \"pad\": 10, \"x\": [0.2, 0.1, 0.5, 0.7, 0.3, 0.5], \"y\": [0.7, 0.5, 0.2, 0.4, 0.2, 0.3]}, \"type\": \"sankey\"}],                        {\"template\": {\"data\": {\"bar\": [{\"error_x\": {\"color\": \"#2a3f5f\"}, \"error_y\": {\"color\": \"#2a3f5f\"}, \"marker\": {\"line\": {\"color\": \"#E5ECF6\", \"width\": 0.5}}, \"type\": \"bar\"}], \"barpolar\": [{\"marker\": {\"line\": {\"color\": \"#E5ECF6\", \"width\": 0.5}}, \"type\": \"barpolar\"}], \"carpet\": [{\"aaxis\": {\"endlinecolor\": \"#2a3f5f\", \"gridcolor\": \"white\", \"linecolor\": \"white\", \"minorgridcolor\": \"white\", \"startlinecolor\": \"#2a3f5f\"}, \"baxis\": {\"endlinecolor\": \"#2a3f5f\", \"gridcolor\": \"white\", \"linecolor\": \"white\", \"minorgridcolor\": \"white\", \"startlinecolor\": \"#2a3f5f\"}, \"type\": \"carpet\"}], \"choropleth\": [{\"colorbar\": {\"outlinewidth\": 0, \"ticks\": \"\"}, \"type\": \"choropleth\"}], \"contour\": [{\"colorbar\": {\"outlinewidth\": 0, \"ticks\": \"\"}, \"colorscale\": [[0.0, \"#0d0887\"], [0.1111111111111111, \"#46039f\"], [0.2222222222222222, \"#7201a8\"], [0.3333333333333333, \"#9c179e\"], [0.4444444444444444, \"#bd3786\"], [0.5555555555555556, \"#d8576b\"], [0.6666666666666666, \"#ed7953\"], [0.7777777777777778, \"#fb9f3a\"], [0.8888888888888888, \"#fdca26\"], [1.0, \"#f0f921\"]], \"type\": \"contour\"}], \"contourcarpet\": [{\"colorbar\": {\"outlinewidth\": 0, \"ticks\": \"\"}, \"type\": \"contourcarpet\"}], \"heatmap\": [{\"colorbar\": {\"outlinewidth\": 0, \"ticks\": \"\"}, \"colorscale\": [[0.0, \"#0d0887\"], [0.1111111111111111, \"#46039f\"], [0.2222222222222222, \"#7201a8\"], [0.3333333333333333, \"#9c179e\"], [0.4444444444444444, \"#bd3786\"], [0.5555555555555556, \"#d8576b\"], [0.6666666666666666, \"#ed7953\"], [0.7777777777777778, \"#fb9f3a\"], [0.8888888888888888, \"#fdca26\"], [1.0, \"#f0f921\"]], \"type\": \"heatmap\"}], \"heatmapgl\": [{\"colorbar\": {\"outlinewidth\": 0, \"ticks\": \"\"}, \"colorscale\": [[0.0, \"#0d0887\"], [0.1111111111111111, \"#46039f\"], [0.2222222222222222, \"#7201a8\"], [0.3333333333333333, \"#9c179e\"], [0.4444444444444444, \"#bd3786\"], [0.5555555555555556, \"#d8576b\"], [0.6666666666666666, \"#ed7953\"], [0.7777777777777778, \"#fb9f3a\"], [0.8888888888888888, \"#fdca26\"], [1.0, \"#f0f921\"]], \"type\": \"heatmapgl\"}], \"histogram\": [{\"marker\": {\"colorbar\": {\"outlinewidth\": 0, \"ticks\": \"\"}}, \"type\": \"histogram\"}], \"histogram2d\": [{\"colorbar\": {\"outlinewidth\": 0, \"ticks\": \"\"}, \"colorscale\": [[0.0, \"#0d0887\"], [0.1111111111111111, \"#46039f\"], [0.2222222222222222, \"#7201a8\"], [0.3333333333333333, \"#9c179e\"], [0.4444444444444444, \"#bd3786\"], [0.5555555555555556, \"#d8576b\"], [0.6666666666666666, \"#ed7953\"], [0.7777777777777778, \"#fb9f3a\"], [0.8888888888888888, \"#fdca26\"], [1.0, \"#f0f921\"]], \"type\": \"histogram2d\"}], \"histogram2dcontour\": [{\"colorbar\": {\"outlinewidth\": 0, \"ticks\": \"\"}, \"colorscale\": [[0.0, \"#0d0887\"], [0.1111111111111111, \"#46039f\"], [0.2222222222222222, \"#7201a8\"], [0.3333333333333333, \"#9c179e\"], [0.4444444444444444, \"#bd3786\"], [0.5555555555555556, \"#d8576b\"], [0.6666666666666666, \"#ed7953\"], [0.7777777777777778, \"#fb9f3a\"], [0.8888888888888888, \"#fdca26\"], [1.0, \"#f0f921\"]], \"type\": \"histogram2dcontour\"}], \"mesh3d\": [{\"colorbar\": {\"outlinewidth\": 0, \"ticks\": \"\"}, \"type\": \"mesh3d\"}], \"parcoords\": [{\"line\": {\"colorbar\": {\"outlinewidth\": 0, \"ticks\": \"\"}}, \"type\": \"parcoords\"}], \"pie\": [{\"automargin\": true, \"type\": \"pie\"}], \"scatter\": [{\"marker\": {\"colorbar\": {\"outlinewidth\": 0, \"ticks\": \"\"}}, \"type\": \"scatter\"}], \"scatter3d\": [{\"line\": {\"colorbar\": {\"outlinewidth\": 0, \"ticks\": \"\"}}, \"marker\": {\"colorbar\": {\"outlinewidth\": 0, \"ticks\": \"\"}}, \"type\": \"scatter3d\"}], \"scattercarpet\": [{\"marker\": {\"colorbar\": {\"outlinewidth\": 0, \"ticks\": \"\"}}, \"type\": \"scattercarpet\"}], \"scattergeo\": [{\"marker\": {\"colorbar\": {\"outlinewidth\": 0, \"ticks\": \"\"}}, \"type\": \"scattergeo\"}], \"scattergl\": [{\"marker\": {\"colorbar\": {\"outlinewidth\": 0, \"ticks\": \"\"}}, \"type\": \"scattergl\"}], \"scattermapbox\": [{\"marker\": {\"colorbar\": {\"outlinewidth\": 0, \"ticks\": \"\"}}, \"type\": \"scattermapbox\"}], \"scatterpolar\": [{\"marker\": {\"colorbar\": {\"outlinewidth\": 0, \"ticks\": \"\"}}, \"type\": \"scatterpolar\"}], \"scatterpolargl\": [{\"marker\": {\"colorbar\": {\"outlinewidth\": 0, \"ticks\": \"\"}}, \"type\": \"scatterpolargl\"}], \"scatterternary\": [{\"marker\": {\"colorbar\": {\"outlinewidth\": 0, \"ticks\": \"\"}}, \"type\": \"scatterternary\"}], \"surface\": [{\"colorbar\": {\"outlinewidth\": 0, \"ticks\": \"\"}, \"colorscale\": [[0.0, \"#0d0887\"], [0.1111111111111111, \"#46039f\"], [0.2222222222222222, \"#7201a8\"], [0.3333333333333333, \"#9c179e\"], [0.4444444444444444, \"#bd3786\"], [0.5555555555555556, \"#d8576b\"], [0.6666666666666666, \"#ed7953\"], [0.7777777777777778, \"#fb9f3a\"], [0.8888888888888888, \"#fdca26\"], [1.0, \"#f0f921\"]], \"type\": \"surface\"}], \"table\": [{\"cells\": {\"fill\": {\"color\": \"#EBF0F8\"}, \"line\": {\"color\": \"white\"}}, \"header\": {\"fill\": {\"color\": \"#C8D4E3\"}, \"line\": {\"color\": \"white\"}}, \"type\": \"table\"}]}, \"layout\": {\"annotationdefaults\": {\"arrowcolor\": \"#2a3f5f\", \"arrowhead\": 0, \"arrowwidth\": 1}, \"autotypenumbers\": \"strict\", \"coloraxis\": {\"colorbar\": {\"outlinewidth\": 0, \"ticks\": \"\"}}, \"colorscale\": {\"diverging\": [[0, \"#8e0152\"], [0.1, \"#c51b7d\"], [0.2, \"#de77ae\"], [0.3, \"#f1b6da\"], [0.4, \"#fde0ef\"], [0.5, \"#f7f7f7\"], [0.6, \"#e6f5d0\"], [0.7, \"#b8e186\"], [0.8, \"#7fbc41\"], [0.9, \"#4d9221\"], [1, \"#276419\"]], \"sequential\": [[0.0, \"#0d0887\"], [0.1111111111111111, \"#46039f\"], [0.2222222222222222, \"#7201a8\"], [0.3333333333333333, \"#9c179e\"], [0.4444444444444444, \"#bd3786\"], [0.5555555555555556, \"#d8576b\"], [0.6666666666666666, \"#ed7953\"], [0.7777777777777778, \"#fb9f3a\"], [0.8888888888888888, \"#fdca26\"], [1.0, \"#f0f921\"]], \"sequentialminus\": [[0.0, \"#0d0887\"], [0.1111111111111111, \"#46039f\"], [0.2222222222222222, \"#7201a8\"], [0.3333333333333333, \"#9c179e\"], [0.4444444444444444, \"#bd3786\"], [0.5555555555555556, \"#d8576b\"], [0.6666666666666666, \"#ed7953\"], [0.7777777777777778, \"#fb9f3a\"], [0.8888888888888888, \"#fdca26\"], [1.0, \"#f0f921\"]]}, \"colorway\": [\"#636efa\", \"#EF553B\", \"#00cc96\", \"#ab63fa\", \"#FFA15A\", \"#19d3f3\", \"#FF6692\", \"#B6E880\", \"#FF97FF\", \"#FECB52\"], \"font\": {\"color\": \"#2a3f5f\"}, \"geo\": {\"bgcolor\": \"white\", \"lakecolor\": \"white\", \"landcolor\": \"#E5ECF6\", \"showlakes\": true, \"showland\": true, \"subunitcolor\": \"white\"}, \"hoverlabel\": {\"align\": \"left\"}, \"hovermode\": \"closest\", \"mapbox\": {\"style\": \"light\"}, \"paper_bgcolor\": \"white\", \"plot_bgcolor\": \"#E5ECF6\", \"polar\": {\"angularaxis\": {\"gridcolor\": \"white\", \"linecolor\": \"white\", \"ticks\": \"\"}, \"bgcolor\": \"#E5ECF6\", \"radialaxis\": {\"gridcolor\": \"white\", \"linecolor\": \"white\", \"ticks\": \"\"}}, \"scene\": {\"xaxis\": {\"backgroundcolor\": \"#E5ECF6\", \"gridcolor\": \"white\", \"gridwidth\": 2, \"linecolor\": \"white\", \"showbackground\": true, \"ticks\": \"\", \"zerolinecolor\": \"white\"}, \"yaxis\": {\"backgroundcolor\": \"#E5ECF6\", \"gridcolor\": \"white\", \"gridwidth\": 2, \"linecolor\": \"white\", \"showbackground\": true, \"ticks\": \"\", \"zerolinecolor\": \"white\"}, \"zaxis\": {\"backgroundcolor\": \"#E5ECF6\", \"gridcolor\": \"white\", \"gridwidth\": 2, \"linecolor\": \"white\", \"showbackground\": true, \"ticks\": \"\", \"zerolinecolor\": \"white\"}}, \"shapedefaults\": {\"line\": {\"color\": \"#2a3f5f\"}}, \"ternary\": {\"aaxis\": {\"gridcolor\": \"white\", \"linecolor\": \"white\", \"ticks\": \"\"}, \"baxis\": {\"gridcolor\": \"white\", \"linecolor\": \"white\", \"ticks\": \"\"}, \"bgcolor\": \"#E5ECF6\", \"caxis\": {\"gridcolor\": \"white\", \"linecolor\": \"white\", \"ticks\": \"\"}}, \"title\": {\"x\": 0.05}, \"xaxis\": {\"automargin\": true, \"gridcolor\": \"white\", \"linecolor\": \"white\", \"ticks\": \"\", \"title\": {\"standoff\": 15}, \"zerolinecolor\": \"white\", \"zerolinewidth\": 2}, \"yaxis\": {\"automargin\": true, \"gridcolor\": \"white\", \"linecolor\": \"white\", \"ticks\": \"\", \"title\": {\"standoff\": 15}, \"zerolinecolor\": \"white\", \"zerolinewidth\": 2}}}},                        {\"responsive\": true}                    ).then(function(){\n",
       "                            \n",
       "var gd = document.getElementById('6803adb9-1b99-4352-8457-2a0d84b50048');\n",
       "var x = new MutationObserver(function (mutations, observer) {{\n",
       "        var display = window.getComputedStyle(gd).display;\n",
       "        if (!display || display === 'none') {{\n",
       "            console.log([gd, 'removed!']);\n",
       "            Plotly.purge(gd);\n",
       "            observer.disconnect();\n",
       "        }}\n",
       "}});\n",
       "\n",
       "// Listen for the removal of the full notebook cells\n",
       "var notebookContainer = gd.closest('#notebook-container');\n",
       "if (notebookContainer) {{\n",
       "    x.observe(notebookContainer, {childList: true});\n",
       "}}\n",
       "\n",
       "// Listen for the clearing of the current output cell\n",
       "var outputEl = gd.closest('.output');\n",
       "if (outputEl) {{\n",
       "    x.observe(outputEl, {childList: true});\n",
       "}}\n",
       "\n",
       "                        })                };                });            </script>        </div>"
      ]
     },
     "metadata": {},
     "output_type": "display_data"
    }
   ],
   "source": [
    "\n",
    "fig = go.Figure(go.Sankey(\n",
    "    arrangement = \"snap\",\n",
    "    node = {\n",
    "        \"label\": [\"A\", \"B\", \"C\", \"D\", \"E\", \"F\"],\n",
    "        \"x\": [0.2, 0.1, 0.5, 0.7, 0.3, 0.5],\n",
    "        \"y\": [0.7, 0.5, 0.2, 0.4, 0.2, 0.3],\n",
    "        'pad':10},  # 10 Pixels\n",
    "    link = {\n",
    "        \"source\": [0, 0, 1, 2, 5, 4, 3, 5],\n",
    "        \"target\": [5, 3, 4, 3, 0, 2, 2, 3],\n",
    "        \"value\": [1, 2, 1, 1, 1, 1, 1, 2]}))\n",
    "\n",
    "fig.show()"
   ]
  },
  {
   "cell_type": "code",
   "execution_count": 481,
   "metadata": {},
   "outputs": [],
   "source": [
    "import numpy as np\n",
    "foo_array = [38,26,14,55,31,0,15,8,0,0,0,18,40,27,3,19,0,49,29,21,5,38,29,17,16]\n",
    "foo = np.array(foo_array)\n",
    "# Compute the median of the non-zero elements\n",
    "m = np.median(foo[foo > 0])\n",
    "# Assign the median to the zero elements \n",
    "foo[foo == 0] = m"
   ]
  },
  {
   "cell_type": "code",
   "execution_count": 483,
   "metadata": {},
   "outputs": [
    {
     "data": {
      "text/plain": [
       "23.5"
      ]
     },
     "execution_count": 483,
     "metadata": {},
     "output_type": "execute_result"
    }
   ],
   "source": [
    "m\n"
   ]
  },
  {
   "cell_type": "code",
   "execution_count": 487,
   "metadata": {},
   "outputs": [
    {
     "data": {
      "text/plain": [
       "array([[ 387,    1,    1,    1,    1,    1,    1,    1],\n",
       "       [  23,  774,    1,    1,    1,    1,    1,    1],\n",
       "       [  46,  135, 1102,    1,    1,    1,    1,    1],\n",
       "       [   1,    4,   10,   47,    1,    1,    1,    1],\n",
       "       [  39,  294,  198,    6,  876,    1,    1,    1],\n",
       "       [  19,   55,   57,    5,   63,  263,    1,    1],\n",
       "       [  55,   94,  151,    9,  137,   41,  541,    1],\n",
       "       [  15,   40,   55,    2,   33,   13,   16,  235]])"
      ]
     },
     "execution_count": 487,
     "metadata": {},
     "output_type": "execute_result"
    }
   ],
   "source": [
    "x =  np.tril(df.values, k=0)\n",
    "x[x == 0] = 1\n",
    "x"
   ]
  },
  {
   "cell_type": "code",
   "execution_count": 470,
   "metadata": {},
   "outputs": [
    {
     "data": {
      "text/html": [
       "<style  type=\"text/css\" >\n",
       "#T_f5d95b2e_9d80_11eb_890f_acde48001122row0_col0,#T_f5d95b2e_9d80_11eb_890f_acde48001122row1_col1,#T_f5d95b2e_9d80_11eb_890f_acde48001122row2_col2,#T_f5d95b2e_9d80_11eb_890f_acde48001122row3_col3,#T_f5d95b2e_9d80_11eb_890f_acde48001122row4_col4,#T_f5d95b2e_9d80_11eb_890f_acde48001122row5_col5,#T_f5d95b2e_9d80_11eb_890f_acde48001122row6_col6,#T_f5d95b2e_9d80_11eb_890f_acde48001122row7_col7{\n",
       "            background-color:  #fde725;\n",
       "            color:  #000000;\n",
       "            font-size:  20px;\n",
       "        }#T_f5d95b2e_9d80_11eb_890f_acde48001122row0_col1,#T_f5d95b2e_9d80_11eb_890f_acde48001122row0_col2,#T_f5d95b2e_9d80_11eb_890f_acde48001122row0_col3,#T_f5d95b2e_9d80_11eb_890f_acde48001122row0_col4,#T_f5d95b2e_9d80_11eb_890f_acde48001122row0_col5,#T_f5d95b2e_9d80_11eb_890f_acde48001122row0_col6,#T_f5d95b2e_9d80_11eb_890f_acde48001122row0_col7,#T_f5d95b2e_9d80_11eb_890f_acde48001122row1_col2,#T_f5d95b2e_9d80_11eb_890f_acde48001122row1_col3,#T_f5d95b2e_9d80_11eb_890f_acde48001122row1_col4,#T_f5d95b2e_9d80_11eb_890f_acde48001122row1_col5,#T_f5d95b2e_9d80_11eb_890f_acde48001122row1_col6,#T_f5d95b2e_9d80_11eb_890f_acde48001122row1_col7,#T_f5d95b2e_9d80_11eb_890f_acde48001122row2_col3,#T_f5d95b2e_9d80_11eb_890f_acde48001122row2_col4,#T_f5d95b2e_9d80_11eb_890f_acde48001122row2_col5,#T_f5d95b2e_9d80_11eb_890f_acde48001122row2_col6,#T_f5d95b2e_9d80_11eb_890f_acde48001122row2_col7,#T_f5d95b2e_9d80_11eb_890f_acde48001122row3_col0,#T_f5d95b2e_9d80_11eb_890f_acde48001122row3_col4,#T_f5d95b2e_9d80_11eb_890f_acde48001122row3_col5,#T_f5d95b2e_9d80_11eb_890f_acde48001122row3_col6,#T_f5d95b2e_9d80_11eb_890f_acde48001122row3_col7,#T_f5d95b2e_9d80_11eb_890f_acde48001122row4_col5,#T_f5d95b2e_9d80_11eb_890f_acde48001122row4_col6,#T_f5d95b2e_9d80_11eb_890f_acde48001122row4_col7,#T_f5d95b2e_9d80_11eb_890f_acde48001122row5_col6,#T_f5d95b2e_9d80_11eb_890f_acde48001122row5_col7,#T_f5d95b2e_9d80_11eb_890f_acde48001122row6_col7{\n",
       "            background-color:  #440154;\n",
       "            color:  #f1f1f1;\n",
       "            font-size:  20px;\n",
       "            background-color:  white;\n",
       "            color:  white;\n",
       "        }#T_f5d95b2e_9d80_11eb_890f_acde48001122row1_col0{\n",
       "            background-color:  #481769;\n",
       "            color:  #f1f1f1;\n",
       "            font-size:  20px;\n",
       "        }#T_f5d95b2e_9d80_11eb_890f_acde48001122row2_col0{\n",
       "            background-color:  #472a7a;\n",
       "            color:  #f1f1f1;\n",
       "            font-size:  20px;\n",
       "        }#T_f5d95b2e_9d80_11eb_890f_acde48001122row2_col1{\n",
       "            background-color:  #443b84;\n",
       "            color:  #f1f1f1;\n",
       "            font-size:  20px;\n",
       "        }#T_f5d95b2e_9d80_11eb_890f_acde48001122row3_col1{\n",
       "            background-color:  #440256;\n",
       "            color:  #f1f1f1;\n",
       "            font-size:  20px;\n",
       "        }#T_f5d95b2e_9d80_11eb_890f_acde48001122row3_col2{\n",
       "            background-color:  #450457;\n",
       "            color:  #f1f1f1;\n",
       "            font-size:  20px;\n",
       "        }#T_f5d95b2e_9d80_11eb_890f_acde48001122row4_col0{\n",
       "            background-color:  #482475;\n",
       "            color:  #f1f1f1;\n",
       "            font-size:  20px;\n",
       "        }#T_f5d95b2e_9d80_11eb_890f_acde48001122row4_col1{\n",
       "            background-color:  #2c738e;\n",
       "            color:  #f1f1f1;\n",
       "            font-size:  20px;\n",
       "        }#T_f5d95b2e_9d80_11eb_890f_acde48001122row4_col2{\n",
       "            background-color:  #433d84;\n",
       "            color:  #f1f1f1;\n",
       "            font-size:  20px;\n",
       "        }#T_f5d95b2e_9d80_11eb_890f_acde48001122row4_col3{\n",
       "            background-color:  #472d7b;\n",
       "            color:  #f1f1f1;\n",
       "            font-size:  20px;\n",
       "        }#T_f5d95b2e_9d80_11eb_890f_acde48001122row5_col0,#T_f5d95b2e_9d80_11eb_890f_acde48001122row7_col2,#T_f5d95b2e_9d80_11eb_890f_acde48001122row7_col5{\n",
       "            background-color:  #471365;\n",
       "            color:  #f1f1f1;\n",
       "            font-size:  20px;\n",
       "        }#T_f5d95b2e_9d80_11eb_890f_acde48001122row5_col1,#T_f5d95b2e_9d80_11eb_890f_acde48001122row5_col4{\n",
       "            background-color:  #481b6d;\n",
       "            color:  #f1f1f1;\n",
       "            font-size:  20px;\n",
       "        }#T_f5d95b2e_9d80_11eb_890f_acde48001122row5_col2,#T_f5d95b2e_9d80_11eb_890f_acde48001122row7_col1{\n",
       "            background-color:  #481467;\n",
       "            color:  #f1f1f1;\n",
       "            font-size:  20px;\n",
       "        }#T_f5d95b2e_9d80_11eb_890f_acde48001122row5_col3{\n",
       "            background-color:  #482677;\n",
       "            color:  #f1f1f1;\n",
       "            font-size:  20px;\n",
       "        }#T_f5d95b2e_9d80_11eb_890f_acde48001122row6_col0{\n",
       "            background-color:  #46327e;\n",
       "            color:  #f1f1f1;\n",
       "            font-size:  20px;\n",
       "        }#T_f5d95b2e_9d80_11eb_890f_acde48001122row6_col1{\n",
       "            background-color:  #472c7a;\n",
       "            color:  #f1f1f1;\n",
       "            font-size:  20px;\n",
       "        }#T_f5d95b2e_9d80_11eb_890f_acde48001122row6_col2{\n",
       "            background-color:  #46307e;\n",
       "            color:  #f1f1f1;\n",
       "            font-size:  20px;\n",
       "        }#T_f5d95b2e_9d80_11eb_890f_acde48001122row6_col3{\n",
       "            background-color:  #424186;\n",
       "            color:  #f1f1f1;\n",
       "            font-size:  20px;\n",
       "        }#T_f5d95b2e_9d80_11eb_890f_acde48001122row6_col4{\n",
       "            background-color:  #453781;\n",
       "            color:  #f1f1f1;\n",
       "            font-size:  20px;\n",
       "        }#T_f5d95b2e_9d80_11eb_890f_acde48001122row6_col5{\n",
       "            background-color:  #453581;\n",
       "            color:  #f1f1f1;\n",
       "            font-size:  20px;\n",
       "        }#T_f5d95b2e_9d80_11eb_890f_acde48001122row7_col0,#T_f5d95b2e_9d80_11eb_890f_acde48001122row7_col4{\n",
       "            background-color:  #470e61;\n",
       "            color:  #f1f1f1;\n",
       "            font-size:  20px;\n",
       "        }#T_f5d95b2e_9d80_11eb_890f_acde48001122row7_col3{\n",
       "            background-color:  #471063;\n",
       "            color:  #f1f1f1;\n",
       "            font-size:  20px;\n",
       "        }#T_f5d95b2e_9d80_11eb_890f_acde48001122row7_col6{\n",
       "            background-color:  #460b5e;\n",
       "            color:  #f1f1f1;\n",
       "            font-size:  20px;\n",
       "        }</style><table id=\"T_f5d95b2e_9d80_11eb_890f_acde48001122\" ><thead>    <tr>        <th class=\"blank level0\" ></th>        <th class=\"col_heading level0 col0\" >chinese culture and people</th>        <th class=\"col_heading level0 col1\" >covid-19</th>        <th class=\"col_heading level0 col2\" >economy</th>        <th class=\"col_heading level0 col3\" >environment</th>        <th class=\"col_heading level0 col4\" >geopolitics</th>        <th class=\"col_heading level0 col5\" >military and security</th>        <th class=\"col_heading level0 col6\" >politics and society</th>        <th class=\"col_heading level0 col7\" >technology</th>    </tr></thead><tbody>\n",
       "                <tr>\n",
       "                        <th id=\"T_f5d95b2e_9d80_11eb_890f_acde48001122level0_row0\" class=\"row_heading level0 row0\" >chinese culture and people</th>\n",
       "                        <td id=\"T_f5d95b2e_9d80_11eb_890f_acde48001122row0_col0\" class=\"data row0 col0\" >387</td>\n",
       "                        <td id=\"T_f5d95b2e_9d80_11eb_890f_acde48001122row0_col1\" class=\"data row0 col1\" >0</td>\n",
       "                        <td id=\"T_f5d95b2e_9d80_11eb_890f_acde48001122row0_col2\" class=\"data row0 col2\" >0</td>\n",
       "                        <td id=\"T_f5d95b2e_9d80_11eb_890f_acde48001122row0_col3\" class=\"data row0 col3\" >0</td>\n",
       "                        <td id=\"T_f5d95b2e_9d80_11eb_890f_acde48001122row0_col4\" class=\"data row0 col4\" >0</td>\n",
       "                        <td id=\"T_f5d95b2e_9d80_11eb_890f_acde48001122row0_col5\" class=\"data row0 col5\" >0</td>\n",
       "                        <td id=\"T_f5d95b2e_9d80_11eb_890f_acde48001122row0_col6\" class=\"data row0 col6\" >0</td>\n",
       "                        <td id=\"T_f5d95b2e_9d80_11eb_890f_acde48001122row0_col7\" class=\"data row0 col7\" >0</td>\n",
       "            </tr>\n",
       "            <tr>\n",
       "                        <th id=\"T_f5d95b2e_9d80_11eb_890f_acde48001122level0_row1\" class=\"row_heading level0 row1\" >covid-19</th>\n",
       "                        <td id=\"T_f5d95b2e_9d80_11eb_890f_acde48001122row1_col0\" class=\"data row1 col0\" >23</td>\n",
       "                        <td id=\"T_f5d95b2e_9d80_11eb_890f_acde48001122row1_col1\" class=\"data row1 col1\" >774</td>\n",
       "                        <td id=\"T_f5d95b2e_9d80_11eb_890f_acde48001122row1_col2\" class=\"data row1 col2\" >0</td>\n",
       "                        <td id=\"T_f5d95b2e_9d80_11eb_890f_acde48001122row1_col3\" class=\"data row1 col3\" >0</td>\n",
       "                        <td id=\"T_f5d95b2e_9d80_11eb_890f_acde48001122row1_col4\" class=\"data row1 col4\" >0</td>\n",
       "                        <td id=\"T_f5d95b2e_9d80_11eb_890f_acde48001122row1_col5\" class=\"data row1 col5\" >0</td>\n",
       "                        <td id=\"T_f5d95b2e_9d80_11eb_890f_acde48001122row1_col6\" class=\"data row1 col6\" >0</td>\n",
       "                        <td id=\"T_f5d95b2e_9d80_11eb_890f_acde48001122row1_col7\" class=\"data row1 col7\" >0</td>\n",
       "            </tr>\n",
       "            <tr>\n",
       "                        <th id=\"T_f5d95b2e_9d80_11eb_890f_acde48001122level0_row2\" class=\"row_heading level0 row2\" >economy</th>\n",
       "                        <td id=\"T_f5d95b2e_9d80_11eb_890f_acde48001122row2_col0\" class=\"data row2 col0\" >46</td>\n",
       "                        <td id=\"T_f5d95b2e_9d80_11eb_890f_acde48001122row2_col1\" class=\"data row2 col1\" >135</td>\n",
       "                        <td id=\"T_f5d95b2e_9d80_11eb_890f_acde48001122row2_col2\" class=\"data row2 col2\" >1102</td>\n",
       "                        <td id=\"T_f5d95b2e_9d80_11eb_890f_acde48001122row2_col3\" class=\"data row2 col3\" >0</td>\n",
       "                        <td id=\"T_f5d95b2e_9d80_11eb_890f_acde48001122row2_col4\" class=\"data row2 col4\" >0</td>\n",
       "                        <td id=\"T_f5d95b2e_9d80_11eb_890f_acde48001122row2_col5\" class=\"data row2 col5\" >0</td>\n",
       "                        <td id=\"T_f5d95b2e_9d80_11eb_890f_acde48001122row2_col6\" class=\"data row2 col6\" >0</td>\n",
       "                        <td id=\"T_f5d95b2e_9d80_11eb_890f_acde48001122row2_col7\" class=\"data row2 col7\" >0</td>\n",
       "            </tr>\n",
       "            <tr>\n",
       "                        <th id=\"T_f5d95b2e_9d80_11eb_890f_acde48001122level0_row3\" class=\"row_heading level0 row3\" >environment</th>\n",
       "                        <td id=\"T_f5d95b2e_9d80_11eb_890f_acde48001122row3_col0\" class=\"data row3 col0\" >0</td>\n",
       "                        <td id=\"T_f5d95b2e_9d80_11eb_890f_acde48001122row3_col1\" class=\"data row3 col1\" >4</td>\n",
       "                        <td id=\"T_f5d95b2e_9d80_11eb_890f_acde48001122row3_col2\" class=\"data row3 col2\" >10</td>\n",
       "                        <td id=\"T_f5d95b2e_9d80_11eb_890f_acde48001122row3_col3\" class=\"data row3 col3\" >47</td>\n",
       "                        <td id=\"T_f5d95b2e_9d80_11eb_890f_acde48001122row3_col4\" class=\"data row3 col4\" >0</td>\n",
       "                        <td id=\"T_f5d95b2e_9d80_11eb_890f_acde48001122row3_col5\" class=\"data row3 col5\" >0</td>\n",
       "                        <td id=\"T_f5d95b2e_9d80_11eb_890f_acde48001122row3_col6\" class=\"data row3 col6\" >0</td>\n",
       "                        <td id=\"T_f5d95b2e_9d80_11eb_890f_acde48001122row3_col7\" class=\"data row3 col7\" >0</td>\n",
       "            </tr>\n",
       "            <tr>\n",
       "                        <th id=\"T_f5d95b2e_9d80_11eb_890f_acde48001122level0_row4\" class=\"row_heading level0 row4\" >geopolitics</th>\n",
       "                        <td id=\"T_f5d95b2e_9d80_11eb_890f_acde48001122row4_col0\" class=\"data row4 col0\" >39</td>\n",
       "                        <td id=\"T_f5d95b2e_9d80_11eb_890f_acde48001122row4_col1\" class=\"data row4 col1\" >294</td>\n",
       "                        <td id=\"T_f5d95b2e_9d80_11eb_890f_acde48001122row4_col2\" class=\"data row4 col2\" >198</td>\n",
       "                        <td id=\"T_f5d95b2e_9d80_11eb_890f_acde48001122row4_col3\" class=\"data row4 col3\" >6</td>\n",
       "                        <td id=\"T_f5d95b2e_9d80_11eb_890f_acde48001122row4_col4\" class=\"data row4 col4\" >876</td>\n",
       "                        <td id=\"T_f5d95b2e_9d80_11eb_890f_acde48001122row4_col5\" class=\"data row4 col5\" >0</td>\n",
       "                        <td id=\"T_f5d95b2e_9d80_11eb_890f_acde48001122row4_col6\" class=\"data row4 col6\" >0</td>\n",
       "                        <td id=\"T_f5d95b2e_9d80_11eb_890f_acde48001122row4_col7\" class=\"data row4 col7\" >0</td>\n",
       "            </tr>\n",
       "            <tr>\n",
       "                        <th id=\"T_f5d95b2e_9d80_11eb_890f_acde48001122level0_row5\" class=\"row_heading level0 row5\" >military and security</th>\n",
       "                        <td id=\"T_f5d95b2e_9d80_11eb_890f_acde48001122row5_col0\" class=\"data row5 col0\" >19</td>\n",
       "                        <td id=\"T_f5d95b2e_9d80_11eb_890f_acde48001122row5_col1\" class=\"data row5 col1\" >55</td>\n",
       "                        <td id=\"T_f5d95b2e_9d80_11eb_890f_acde48001122row5_col2\" class=\"data row5 col2\" >57</td>\n",
       "                        <td id=\"T_f5d95b2e_9d80_11eb_890f_acde48001122row5_col3\" class=\"data row5 col3\" >5</td>\n",
       "                        <td id=\"T_f5d95b2e_9d80_11eb_890f_acde48001122row5_col4\" class=\"data row5 col4\" >63</td>\n",
       "                        <td id=\"T_f5d95b2e_9d80_11eb_890f_acde48001122row5_col5\" class=\"data row5 col5\" >263</td>\n",
       "                        <td id=\"T_f5d95b2e_9d80_11eb_890f_acde48001122row5_col6\" class=\"data row5 col6\" >0</td>\n",
       "                        <td id=\"T_f5d95b2e_9d80_11eb_890f_acde48001122row5_col7\" class=\"data row5 col7\" >0</td>\n",
       "            </tr>\n",
       "            <tr>\n",
       "                        <th id=\"T_f5d95b2e_9d80_11eb_890f_acde48001122level0_row6\" class=\"row_heading level0 row6\" >politics and society</th>\n",
       "                        <td id=\"T_f5d95b2e_9d80_11eb_890f_acde48001122row6_col0\" class=\"data row6 col0\" >55</td>\n",
       "                        <td id=\"T_f5d95b2e_9d80_11eb_890f_acde48001122row6_col1\" class=\"data row6 col1\" >94</td>\n",
       "                        <td id=\"T_f5d95b2e_9d80_11eb_890f_acde48001122row6_col2\" class=\"data row6 col2\" >151</td>\n",
       "                        <td id=\"T_f5d95b2e_9d80_11eb_890f_acde48001122row6_col3\" class=\"data row6 col3\" >9</td>\n",
       "                        <td id=\"T_f5d95b2e_9d80_11eb_890f_acde48001122row6_col4\" class=\"data row6 col4\" >137</td>\n",
       "                        <td id=\"T_f5d95b2e_9d80_11eb_890f_acde48001122row6_col5\" class=\"data row6 col5\" >41</td>\n",
       "                        <td id=\"T_f5d95b2e_9d80_11eb_890f_acde48001122row6_col6\" class=\"data row6 col6\" >541</td>\n",
       "                        <td id=\"T_f5d95b2e_9d80_11eb_890f_acde48001122row6_col7\" class=\"data row6 col7\" >0</td>\n",
       "            </tr>\n",
       "            <tr>\n",
       "                        <th id=\"T_f5d95b2e_9d80_11eb_890f_acde48001122level0_row7\" class=\"row_heading level0 row7\" >technology</th>\n",
       "                        <td id=\"T_f5d95b2e_9d80_11eb_890f_acde48001122row7_col0\" class=\"data row7 col0\" >15</td>\n",
       "                        <td id=\"T_f5d95b2e_9d80_11eb_890f_acde48001122row7_col1\" class=\"data row7 col1\" >40</td>\n",
       "                        <td id=\"T_f5d95b2e_9d80_11eb_890f_acde48001122row7_col2\" class=\"data row7 col2\" >55</td>\n",
       "                        <td id=\"T_f5d95b2e_9d80_11eb_890f_acde48001122row7_col3\" class=\"data row7 col3\" >2</td>\n",
       "                        <td id=\"T_f5d95b2e_9d80_11eb_890f_acde48001122row7_col4\" class=\"data row7 col4\" >33</td>\n",
       "                        <td id=\"T_f5d95b2e_9d80_11eb_890f_acde48001122row7_col5\" class=\"data row7 col5\" >13</td>\n",
       "                        <td id=\"T_f5d95b2e_9d80_11eb_890f_acde48001122row7_col6\" class=\"data row7 col6\" >16</td>\n",
       "                        <td id=\"T_f5d95b2e_9d80_11eb_890f_acde48001122row7_col7\" class=\"data row7 col7\" >235</td>\n",
       "            </tr>\n",
       "    </tbody></table>"
      ],
      "text/plain": [
       "<pandas.io.formats.style.Styler at 0x7feb15e32f98>"
      ]
     },
     "metadata": {},
     "output_type": "display_data"
    }
   ],
   "source": [
    "version = 'v2'\n",
    "lang = 'fr'\n",
    "def analyze_overlap(df):\n",
    "    return (df.T @ df) + ((0-df.T)@(0-df))\n",
    "\n",
    "def color_white(val):\n",
    "        \"\"\"Color the nan text white\"\"\"\n",
    "        if val == 0:\n",
    "            return 'color: white'\n",
    "\n",
    "def color_white_background(val):\n",
    "        if val == 0:\n",
    "            return 'background-color: white'\n",
    "\n",
    "def rename_columns(df):\n",
    "    renamed = df.rename(columns = themes_mapping)\n",
    "    return renamed\n",
    "annotated_data = pd.read_csv(f'{version}/keyword_annotations/store-all-messages-annotated-{version}-{lang}.csv')\n",
    "themes = [t for t in list(annotated_data.columns) if t !='M52/language']\n",
    "themes_mapping =  {'keyword.match.theme/chinese-culture-and-people':'chinese culture and people',\n",
    "                                     'keyword.match.theme/covid-19':'covid-19',\n",
    "                                     'keyword.match.theme/economy':'economy',\n",
    "                                     'keyword.match.theme/environment':'environment',\n",
    "                                     'keyword.match.theme/geopolitics':'geopolitics',\n",
    "                                     'keyword.match.theme/military-and-security':'military and security',\n",
    "                                     'keyword.match.theme/politics-and-society':'politics and society',\n",
    "                                     'keyword.match.theme/technology':'technology'}\n",
    "annotated_renamed = rename_columns(annotated_data).drop('M52/language', axis = 1)\n",
    "df = analyze_overlap(annotated_renamed)\n",
    "\n",
    "df[:] = np.tril(df.values, k=0)\n",
    "fig = df.style.background_gradient(cmap ='viridis').set_properties(**{'font-size': '20px'}).applymap(lambda x: color_white_background(x)).applymap(lambda x: color_white(x))\n",
    "display(fig)"
   ]
  },
  {
   "cell_type": "code",
   "execution_count": 471,
   "metadata": {},
   "outputs": [
    {
     "data": {
      "image/png": "[encoded data removed]",
      "text/plain": [
       "<Figure size 1080x720 with 2 Axes>"
      ]
     },
     "metadata": {},
     "output_type": "display_data"
    }
   ],
   "source": [
    "import numpy as np; np.random.seed(0)\n",
    "import seaborn as sns; sns.set_theme()\n",
    "from matplotlib import pyplot as plt\n",
    "fig_dims = (15, 10)\n",
    "# create mask \n",
    "mask = np.triu(np.ones_like(df, dtype=bool), k=1)\n",
    "sns.set(font_scale=1.5)\n",
    "#  add white space instead of the masked \n",
    "with sns.axes_style(\"white\"):\n",
    "    fig, ax = plt.subplots(figsize=fig_dims)\n",
    "    ax = sns.heatmap(df, annot=True, fmt=\"d\", mask= mask, annot_kws={\"size\": 15}, square=True)\n"
   ]
  },
  {
   "cell_type": "code",
   "execution_count": 454,
   "metadata": {},
   "outputs": [
    {
     "data": {
      "text/plain": [
       "136"
      ]
     },
     "execution_count": 454,
     "metadata": {},
     "output_type": "execute_result"
    }
   ],
   "source": [
    "len(annotated_renamed[annotated_renamed['politics and society']&annotated_renamed['geopolitics']])"
   ]
  },
  {
   "cell_type": "code",
   "execution_count": 458,
   "metadata": {},
   "outputs": [
    {
     "data": {
      "text/plain": [
       "0"
      ]
     },
     "execution_count": 458,
     "metadata": {},
     "output_type": "execute_result"
    }
   ],
   "source": [
    "len(annotated_renamed[annotated_renamed['environment'] & annotated_renamed['chinese culture and people']])\n"
   ]
  },
  {
   "cell_type": "code",
   "execution_count": 416,
   "metadata": {},
   "outputs": [
    {
     "data": {
      "text/plain": [
       "136"
      ]
     },
     "execution_count": 416,
     "metadata": {},
     "output_type": "execute_result"
    }
   ],
   "source": [
    "# test heatmap\n",
    "version = 'v2'\n",
    "lang = 'fr'\n",
    "def rename_columns(df):\n",
    "        renamed = df.rename(columns = themes_mapping)\n",
    "        return renamed\n",
    "def unannotated_count(df):\n",
    "    return len(df[(~df).all(axis=1)])\n",
    "annotated_data = pd.read_csv(f'{version}/keyword_annotations/store-all-messages-annotated-{version}-{lang}.csv')\n",
    "themes = [t for t in list(annotated_data.columns) if t !='M52/language']\n",
    "themes_mapping =  {'keyword.match.theme/chinese-culture-and-people':'chinese culture and people',\n",
    "                                     'keyword.match.theme/covid-19':'covid-19',\n",
    "                                     'keyword.match.theme/economy':'economy',\n",
    "                                     'keyword.match.theme/environment':'environment',\n",
    "                                     'keyword.match.theme/geopolitics':'geopolitics',\n",
    "                                     'keyword.match.theme/military-and-security':'military and security',\n",
    "                                     'keyword.match.theme/politics-and-society':'politics and society',\n",
    "                                     'keyword.match.theme/technology':'technology'}\n",
    "annotated_renamed  = rename_columns(annotated_data).drop('M52/language', axis = 1)\n",
    "len(annotated_renamed[annotated_renamed['geopolitics'] & annotated_renamed['politics and society']])\n",
    "# df = unannotated_count(annotated_renamed)"
   ]
  },
  {
   "cell_type": "code",
   "execution_count": 437,
   "metadata": {},
   "outputs": [
    {
     "data": {
      "text/plain": [
       "7708"
      ]
     },
     "execution_count": 437,
     "metadata": {},
     "output_type": "execute_result"
    }
   ],
   "source": []
  },
  {
   "cell_type": "markdown",
   "metadata": {},
   "source": [
    "# debug accounts "
   ]
  },
  {
   "cell_type": "code",
   "execution_count": 3,
   "metadata": {
    "code_folding": [
     0
    ]
   },
   "outputs": [],
   "source": [
    "# f = pd.read_csv('bbcm-china-source-data_fb-accounts-v3-ct-imported-pages.csv')\n",
    "# x= f['crowdtangle.account/id']\n",
    "# l = pd.read_excel('BBCM - Masterfile.xlsx', engine='openpyxl')\n",
    "# l = l.iloc[:,0:22].fillna('None')\n",
    "# l = l[l['M52/platform']=='Facebook']\n",
    "# l[l['M52/accountId']=='crowdtangle-3701035']\n",
    "# y = l['M52/accountId'].str.replace('crowdtangle-','')\n",
    "# y = y[:196] \n",
    "# b = [int(i) for i in y ]\n",
    "# c = [int(j) for j in x ]\n",
    "# for i, j in zip(sorted(b),sorted(c)):\n",
    "#         print(i,j)\n"
   ]
  },
  {
   "cell_type": "code",
   "execution_count": 4,
   "metadata": {},
   "outputs": [],
   "source": [
    "# fb_collectable = pd.read_csv('data_collection/fb-accounts-v3-ct-imported-pages.csv')\n",
    "# tw_collectable = pd.read_csv('data_collection/tw-accounts-v3-collectable.csv')\n",
    "# fb_accounts_collections = pd.read_csv('data_collection/fb-v3-post-collections-20210402.csv')\n",
    "# tw_accounts_collections = pd.read_csv('data_collection/tw-v3-tweet-collections.csv')\n",
    "# consolidated_accounts_collection = pd.read_csv('data_collection/store-all-messages-v3.csv')"
   ]
  }
 ],
 "metadata": {
  "kernelspec": {
   "display_name": "hypertuning",
   "language": "python",
   "name": "hypertuning"
  },
  "language_info": {
   "codemirror_mode": {
    "name": "ipython",
    "version": 3
   },
   "file_extension": ".py",
   "mimetype": "text/x-python",
   "name": "python",
   "nbconvert_exporter": "python",
   "pygments_lexer": "ipython3",
   "version": "3.6.7"
  }
 },
 "nbformat": 4,
 "nbformat_minor": 4
}
