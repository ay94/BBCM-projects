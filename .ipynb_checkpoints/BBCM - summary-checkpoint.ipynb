{
 "cells": [
  {
   "cell_type": "code",
   "execution_count": 1,
   "metadata": {},
   "outputs": [],
   "source": [
    "import sys\n",
    "import psutil\n",
    "import numpy as np\n",
    "import pandas as pd\n",
    "import plotly.io as pio\n",
    "from collections import Counter\n",
    "import dataframe_image as dfi\n",
    "import plotly.graph_objects as go\n"
   ]
  },
  {
   "cell_type": "code",
   "execution_count": 2,
   "metadata": {},
   "outputs": [],
   "source": [
    "# !{sys.executable} -m pip install  -U imgkit\n"
   ]
  },
  {
   "cell_type": "markdown",
   "metadata": {},
   "source": [
    "# Acoounts "
   ]
  },
  {
   "cell_type": "code",
   "execution_count": 3,
   "metadata": {
    "code_folding": [
     0
    ]
   },
   "outputs": [],
   "source": [
    "class accounts_split:\n",
    "    \n",
    "    def __init__(self, version):\n",
    "        self.version = version\n",
    "        self.langs = ['ar', 'en', 'fr', 'es']\n",
    "        self.master_file = pd.read_excel(f'{self.version}/data_collection/BBCM - Masterfile.xlsx', engine='openpyxl')\n",
    "        self.fb_collectable = pd.read_csv(f'{self.version}/data_collection/fb-accounts-v3-ct-imported-pages.csv')\n",
    "        self.tw_collectable = pd.read_csv(f'{self.version}/data_collection/tw-accounts-v3-collectable.csv')\n",
    "        self.fb_accounts_collections = pd.read_csv(f'{self.version}/data_collection/fb-v3-post-collections-20210402.csv')\n",
    "        self.tw_accounts_collections = pd.read_csv(f'{self.version}/data_collection/tw-v3-tweet-collections.csv')\n",
    "        self.consolidated_accounts_collection = pd.read_csv(f'{self.version}/data_collection/store-all-messages-v3.csv')\n",
    "        self.acc_sum = self.accounts_summary(self.master_file, self.fb_collectable, self.tw_collectable, self.tw_accounts_collections, self.fb_accounts_collections, self.consolidated_accounts_collection)\n",
    "        \n",
    "    def annotate(self, folder):\n",
    "        self.fig = self.accounts_annotation(self.acc_sum)\n",
    "        pio.write_image(self.fig, f\"{self.version}/{folder}/accounts_collection_split_v3.jpeg\")\n",
    "    \n",
    "    def create_dict(self, lst):\n",
    "        res_dct = {}\n",
    "        for i,t in enumerate(lst):\n",
    "            res_dct[t] = i\n",
    "        return res_dct\n",
    "        \n",
    "\n",
    "\n",
    "    def accounts_summary(self, master, tw, fb, tw_coll, fb_coll, lang_coll):\n",
    "        all_accounts = len(master.iloc[:,:22].iloc[:563])\n",
    "        fb_accounts = len(fb)\n",
    "        tw_accounts = len(tw)\n",
    "        tw_collections = len(tw_coll)\n",
    "        fb_collections = len(fb_coll)\n",
    "        collectable = fb_accounts + tw_accounts\n",
    "        not_collectable = all_accounts - collectable\n",
    "        self.acc_coll_sum = self.accounts_collection_summary(lang_coll)\n",
    "\n",
    "        return [all_accounts, fb_accounts, tw_accounts, collectable, not_collectable, tw_collections, fb_collections,  tw_collections + fb_collections] + self.acc_coll_sum\n",
    "\n",
    "    def accounts_collection_summary(self, df):\n",
    "        lang_collection = []\n",
    "        for lang in self.langs:\n",
    "            lang_collection.append(len(df[df['M52/language'] == lang]))\n",
    "        lang_collection.append(np.sum(lang_collection))\n",
    "        print(lang_collection)\n",
    "        return lang_collection\n",
    "    \n",
    "    def account_prefixes(self, acc_sum, account_sources):\n",
    "        annotated = []\n",
    "        filtered_collections = self.account_collection_prefixes(self.acc_coll_sum, account_sources[-4:])\n",
    "        annotated.append(f'{account_sources[0]} - {acc_sum[0]}')\n",
    "        annotated.append(f'{account_sources[1]} - {acc_sum[3]}')\n",
    "        annotated.append(f'{account_sources[2]} - {acc_sum[4] - 2}')\n",
    "        annotated.append(f'{account_sources[3]} - {acc_sum[1]} ')\n",
    "        annotated.append(f'{account_sources[4]} - {acc_sum[2]} ')\n",
    "        annotated.append(f'{account_sources[5]} - {acc_sum[5]} ')\n",
    "        annotated.append(f'{account_sources[6]} - {acc_sum[6]} ')\n",
    "        annotated.append(f'{account_sources[7]} - {acc_sum[7]} ')\n",
    "        return annotated + filtered_collections\n",
    "\n",
    "\n",
    "    def account_collection_prefixes(self, acc_coll_sum, sources):\n",
    "        annotated = []\n",
    "        annotated.append(f'{sources[0]} - {acc_coll_sum[0]}')\n",
    "        annotated.append(f'{sources[1]} - {acc_coll_sum[1]}')\n",
    "        annotated.append(f'{sources[2]} - {acc_coll_sum[2]}')\n",
    "        annotated.append(f'{sources[3]} - {acc_coll_sum[3]}')\n",
    "\n",
    "        return annotated \n",
    "    \n",
    "    def accounts_annotation(self, acc_sum):\n",
    "        account_sources = [\"source_accounts\", \"collectable\", \"not collectable\", \"Twitter accounts\", \"Facebook accounts\", \"Twitter collection\", \"Facebook collection\", \"Consolidate\", \"Arabic\", \"English\", \"Spanish\", \"French\"]\n",
    "        account_sources_map = self.create_dict(account_sources)\n",
    "        account_labels = self.account_prefixes(acc_sum, account_sources)\n",
    "        fig = go.Figure(data=[go.Sankey(\n",
    "            arrangement = \"snap\",\n",
    "            valueformat = \".0f\",\n",
    "            node = dict(\n",
    "              pad = 15,\n",
    "              thickness = 20,\n",
    "              line = dict(color = \"black\", width = 0.5),\n",
    "              label = account_labels,\n",
    "              x =  [0, 0.22, 0.1, 0,  0,  0.61, 0.5, 0.84, 1, 1, 1, 1 ],\n",
    "              y =  [0, 0.1,   1,  0, 0.9,  0.1, 0.7, 0.3, 0.6, 0.7, 0.8, 1 ],\n",
    "            ),\n",
    "            link = dict(\n",
    "              source = [account_sources_map[account_sources[0]], account_sources_map[account_sources[0]], account_sources_map[account_sources[1]], account_sources_map[account_sources[1]], account_sources_map[account_sources[3]], account_sources_map[account_sources[4]], account_sources_map[account_sources[5]], account_sources_map[account_sources[6]], account_sources_map[account_sources[7]], account_sources_map[account_sources[7]], account_sources_map[account_sources[7]],  account_sources_map[account_sources[7]]  ], \n",
    "              target = [account_sources_map[account_sources[1]], account_sources_map[account_sources[2]], account_sources_map[account_sources[3]], account_sources_map[account_sources[4]], account_sources_map[account_sources[5]], account_sources_map[account_sources[6]], account_sources_map[account_sources[7]], account_sources_map[account_sources[7]], account_sources_map[account_sources[8]], account_sources_map[account_sources[9]], account_sources_map[account_sources[10]], account_sources_map[account_sources[11]]  ],\n",
    "              value =  [acc_sum[0]/acc_sum[0],                   acc_sum[4]/acc_sum[0],                   acc_sum[2]/acc_sum[0],                   acc_sum[1]/acc_sum[0],                   acc_sum[5]/acc_sum[7],                   acc_sum[6]/acc_sum[7],                   acc_sum[5]/acc_sum[7],                   acc_sum[6]/acc_sum[7],                   acc_sum[8]/acc_sum[12],                  acc_sum[9]/acc_sum[12],                  acc_sum[10]/acc_sum[12],                  acc_sum[11]/acc_sum[12]   ]\n",
    "          ))])\n",
    "\n",
    "        fig.update_layout(title_text=\"New accounts collection\", font_size=12)\n",
    "        fig.show()\n",
    "        return fig\n"
   ]
  },
  {
   "cell_type": "markdown",
   "metadata": {},
   "source": [
    "# Keyword annotators"
   ]
  },
  {
   "cell_type": "code",
   "execution_count": 4,
   "metadata": {
    "code_folding": [
     0
    ]
   },
   "outputs": [],
   "source": [
    "class keyword_annotator_split:\n",
    "    \n",
    "    def __init__(self, version):\n",
    "        self.version = version\n",
    "        self.langs = ['ar', 'en', 'fr', 'es']\n",
    "        self.lang_map = {'ar': 'Arabic', 'en': 'English', 'es': 'Spanish', 'fr': 'French'}\n",
    "        self.language_data = pd.read_csv(f'{self.version}/keyword_annotations/store-all-messages.csv')\n",
    "        self.lang_sum = self.language_summary(self.language_data)\n",
    " \n",
    "        \n",
    "    def annotate(self, folder):\n",
    "        langs_analysis = []\n",
    "        for lang in self.langs:\n",
    "            annotated_data = pd.read_csv(f'{self.version}/keyword_annotations/store-all-messages-annotated-{self.version}-{lang}.csv')\n",
    "            self.themes = [t for t in list(annotated_data.columns) if t !='M52/language']\n",
    "            self.themes_mapping =  {'keyword.match.theme/chinese-culture-and-people':'chinese culture and people',\n",
    "                                     'keyword.match.theme/covid-19':'covid-19',\n",
    "                                     'keyword.match.theme/economy':'economy',\n",
    "                                     'keyword.match.theme/environment':'environment',\n",
    "                                     'keyword.match.theme/geopolitics':'geopolitics',\n",
    "                                     'keyword.match.theme/military-and-security':'military and security',\n",
    "                                     'keyword.match.theme/politics-and-society':'politics and society',\n",
    "                                     'keyword.match.theme/technology':'technology'}\n",
    "            # rename columns\n",
    "            annotated_renamed = self.rename_columns(annotated_data)\n",
    "            # count the number of themes for each language \n",
    "            self.annotation_count(annotated_renamed)  \n",
    "            self.unannotated_count(annotated_renamed)\n",
    "            themes_count = self.theme_count\n",
    "            # create sankey diagram, source prefixes is to generate output data such as econmy - 100 etc\n",
    "            self.fig = self.keyword_annotation(self.lang_sum['all'], lang, self.lang_sum[lang], themes_count)\n",
    "            pio.write_image(self.fig, f\"{self.version}/{folder}/keyword_annotator_split_{self.version}_{lang}.png\")\n",
    "        \n",
    "            \n",
    "    def language_summary(self, language_data):\n",
    "        langs_proportions = {}\n",
    "        for lang in self.langs:\n",
    "            langs_proportions[lang] = len(language_data[language_data['M52/language'] == lang])\n",
    "        langs_proportions['all'] = len(language_data)\n",
    "        return langs_proportions\n",
    "        \n",
    "\n",
    "    def rename_columns(self, df):\n",
    "        renamed = df.rename(columns = self.themes_mapping).drop('M52/language', axis = 1)\n",
    "        return renamed\n",
    "\n",
    "    def annotation_count(self, df):\n",
    "        self.theme_count = {}\n",
    "        for t in list(self.themes_mapping.values()):\n",
    "            self.theme_count[t] = df[t].value_counts()[1]\n",
    "        return self.theme_count\n",
    "\n",
    "    def unannotated_count(self, df):\n",
    "        self.theme_count['unannotated'] = len(df[(~df).all(axis=1)])\n",
    "        return self.theme_count\n",
    "    \n",
    "    # map between annotation counts and list of sources     \n",
    "    def source_prefixes(self, all_proportion, proportion, sources, annotation_count):\n",
    "        annotated = []\n",
    "        annotated.append(f'{sources[0]} - {proportion} - {round((proportion/all_proportion)*100)}%')\n",
    "        for i, ant in enumerate(sources[1:-1]):\n",
    "            annotated.append(f'{ant} - {annotation_count[sources[i+1]]} - {round((annotation_count[sources[i+1]]/proportion)*100)}%')        \n",
    "        return annotated + [f'{sources[-1:][0]} - {all_proportion}']\n",
    "    \n",
    "    \n",
    "    def keyword_annotation(self, all_proportion, lang, porportion, annotation_count):\n",
    "        sources = [ lang, \"economy\", \"politics and society\", \"covid-19\", \"technology\", \"environment\", \"military and security\", \"geopolitics\", \"chinese culture and people\", \"unannotated\", 'source data']    \n",
    "        sources2idx = {k:v for v, k in enumerate(sources)}\n",
    "        idx2sources = {k:v for v, k in sources2idx.items()}\n",
    "        labels = self.source_prefixes(all_proportion,  porportion, sources, annotation_count)\n",
    "        fig = go.Figure(data=[go.Sankey(\n",
    "              arrangement = \"snap\",\n",
    "              valueformat = \".0f\",\n",
    "              node = dict(\n",
    "              pad = 15,\n",
    "              thickness = 20,\n",
    "              line = dict(color = \"black\", width = 0.5),\n",
    "              label = labels,\n",
    "              x = [0.3, 1, 1, 1, 1, 1, 1, 1, 1, 1],\n",
    "              y = [0.2, 0.1, 0.2, 0.3, 0.4, 0.5, 0.6, 0.7, 0.7, 1],\n",
    "            ),\n",
    "            \n",
    "            link = dict(\n",
    "              source = [sources2idx[idx2sources[sources2idx['source data']]], sources2idx[idx2sources[sources2idx[lang]]],                      sources2idx[idx2sources[sources2idx[lang]]],                       sources2idx[idx2sources[sources2idx[lang]]],                                   sources2idx[idx2sources[sources2idx[lang]]],                          sources2idx[idx2sources[sources2idx[lang]]],                                         sources2idx[idx2sources[sources2idx[lang]]],                                    sources2idx[idx2sources[sources2idx[lang]]],                         sources2idx[idx2sources[sources2idx[lang]]],                          sources2idx[idx2sources[sources2idx[lang]]]                          ], \n",
    "              target = [sources2idx[idx2sources[sources2idx[lang]]],          sources2idx[idx2sources[sources2idx['economy']]],                 sources2idx[idx2sources[sources2idx['covid-19']]],                 sources2idx[idx2sources[sources2idx['politics and society']]],                 sources2idx[idx2sources[sources2idx['geopolitics']]],                 sources2idx[idx2sources[sources2idx['chinese culture and people']]],                 sources2idx[idx2sources[sources2idx['military and security']]],                 sources2idx[idx2sources[sources2idx['technology']]],                 sources2idx[idx2sources[sources2idx['environment']]],                 sources2idx[idx2sources[sources2idx['unannotated']]]                 ],\n",
    "              value =  [porportion/all_proportion,                            annotation_count[idx2sources[sources2idx['economy']]]/porportion, annotation_count[idx2sources[sources2idx['covid-19']]]/porportion, annotation_count[idx2sources[sources2idx['politics and society']]]/porportion, annotation_count[idx2sources[sources2idx['geopolitics']]]/porportion, annotation_count[idx2sources[sources2idx['chinese culture and people']]]/porportion, annotation_count[idx2sources[sources2idx['military and security']]]/porportion, annotation_count[idx2sources[sources2idx['technology']]]/porportion, annotation_count[idx2sources[sources2idx['environment']]]/porportion, annotation_count[idx2sources[sources2idx['unannotated']]]/porportion ]\n",
    "          ))])\n",
    "        fig.update_layout(title_text=f\"{self.lang_map[lang]} keyword annotation proportion {self.version}\", font_size=12)\n",
    "        fig.show()\n",
    "        return fig\n"
   ]
  },
  {
   "cell_type": "markdown",
   "metadata": {},
   "source": [
    "# Heatmap"
   ]
  },
  {
   "cell_type": "code",
   "execution_count": 5,
   "metadata": {
    "code_folding": [
     1
    ]
   },
   "outputs": [],
   "source": [
    "# create a mask to remove half of the plot\n",
    "class overlap_heatmap:\n",
    "    \n",
    "    def __init__(self, version):\n",
    "        self.version = version\n",
    "        self.langs = ['ar', 'en', 'fr', 'es']\n",
    "        self.lang_map = {'ar': 'Arabic', 'en': 'English', 'es': 'Spanish', 'fr': 'French'}\n",
    "        self.language_data = pd.read_csv(f'{version}/keyword_annotations/store-all-messages.csv')\n",
    "        \n",
    "    def annotate(self, version, folder):\n",
    "        langs_analysis = []\n",
    "        hms = []\n",
    "        for lang in self.langs:\n",
    "            annotated_data = pd.read_csv(f'{version}/keyword_annotations/store-all-messages-annotated-{self.version}-{lang}.csv')\n",
    "            self.themes = [t for t in list(annotated_data.columns) if t !='M52/language']\n",
    "            self.themes_mapping =  {'keyword.match.theme/chinese-culture-and-people':'chinese culture and people',\n",
    "                                     'keyword.match.theme/covid-19':'covid-19',\n",
    "                                     'keyword.match.theme/economy':'economy',\n",
    "                                     'keyword.match.theme/environment':'environment',\n",
    "                                     'keyword.match.theme/geopolitics':'geopolitics',\n",
    "                                     'keyword.match.theme/military-and-security':'military and security',\n",
    "                                     'keyword.match.theme/politics-and-society':'politics and society',\n",
    "                                     'keyword.match.theme/technology':'technology'}\n",
    "            annotated_renamed = self.rename_columns(annotated_data).drop('M52/language', axis = 1)\n",
    "            df = self.analyze_overlap(annotated_renamed)\n",
    "            self.build_heatmap(version, folder, df, lang)\n",
    "            \n",
    "        \n",
    "            \n",
    "    def analyze_overlap(self, df):\n",
    "        df = (df.T @ df) + ((0-df.T)@(0-df))\n",
    "        df[:] = np.tril(df.values, k=0)\n",
    "        return df\n",
    "    \n",
    "    \n",
    "    def color_white(self, val):\n",
    "        \"\"\"Color the nan text white\"\"\"\n",
    "        if val == 0:\n",
    "            return 'color: white'\n",
    "\n",
    "    def color_white_background(self, val):\n",
    "        if val == 0:\n",
    "            return 'background-color: white'\n",
    "\n",
    "    def rename_columns(self, df):\n",
    "        renamed = df.rename(columns = self.themes_mapping)\n",
    "        return renamed\n",
    "\n",
    "    def build_heatmap(self, version, folder, df, lang):\n",
    "        fig = df.style.background_gradient(cmap ='viridis')\\\n",
    "            .set_properties(**{'font-size': '20px'}).applymap(lambda x: self.color_white_background(x)).applymap(lambda x: self.color_white(x))\n",
    "        fig.set_caption(f'{self.lang_map[lang]} overlap heatmap {self.version}').export_png(f'{self.version}/{folder}/{self.lang_map[lang]}_heatmap.png')\n",
    "        display(fig)\n",
    "        return fig\n"
   ]
  },
  {
   "cell_type": "markdown",
   "metadata": {
    "code_folding": []
   },
   "source": [
    "# Project level"
   ]
  },
  {
   "cell_type": "code",
   "execution_count": 6,
   "metadata": {
    "code_folding": []
   },
   "outputs": [],
   "source": [
    "version = 'v1'\n",
    "class project_level:\n",
    "    \n",
    "    def __init__(self):\n",
    "        self.dc = accounts_split(version)\n",
    "        self.ka = keyword_annotator_split(version)\n",
    "        self.hm = overlap_heatmap(version)\n",
    "        \n",
    "    def accounts_split(self, folder):\n",
    "        return self.annotate(folder)\n",
    "         \n",
    "    def keyword_annotator_split(self, folder):\n",
    "        self.ka.annotate(folder)\n",
    "        \n",
    "    def heatmap(self, folder):\n",
    "        return self.hm.annotate(version, folder)\n",
    "    \n",
    "        "
   ]
  },
  {
   "cell_type": "code",
   "execution_count": 11,
   "metadata": {},
   "outputs": [
    {
     "name": "stdout",
     "output_type": "stream",
     "text": [
      "[14994, 145052, 10750, 13356, 184152]\n"
     ]
    },
    {
     "data": {
      "application/vnd.plotly.v1+json": {
       "config": {
        "plotlyServerURL": "https://plot.ly"
       },
       "data": [
        {
         "arrangement": "snap",
         "link": {
          "source": [
           10,
           0,
           0,
           0,
           0,
           0,
           0,
           0,
           0,
           0
          ],
          "target": [
           0,
           1,
           3,
           2,
           7,
           8,
           6,
           4,
           5,
           9
          ],
          "value": [
           0.10312211435274152,
           0.18332526621490802,
           0.31026137463697967,
           0.1936108422071636,
           0.39950387221684414,
           0.1572483059051307,
           0.1343780251694095,
           0.1122942884801549,
           0.23687076476282673,
           0.3410575992255566
          ]
         },
         "node": {
          "label": [
           "ar - 16528 - 10%",
           "economy - 3030 - 18%",
           "politics and society - 3200 - 19%",
           "covid-19 - 5128 - 31%",
           "technology - 1856 - 11%",
           "environment - 3915 - 24%",
           "military and security - 2221 - 13%",
           "geopolitics - 6603 - 40%",
           "chinese culture and people - 2599 - 16%",
           "unannotated - 5637 - 34%",
           "source data - 160276"
          ],
          "line": {
           "color": "black",
           "width": 0.5
          },
          "pad": 15,
          "thickness": 20,
          "x": [
           0.3,
           1,
           1,
           1,
           1,
           1,
           1,
           1,
           1,
           1
          ],
          "y": [
           0.2,
           0.1,
           0.2,
           0.3,
           0.4,
           0.5,
           0.6,
           0.7,
           0.7,
           1
          ]
         },
         "type": "sankey",
         "valueformat": ".0f"
        }
       ],
       "layout": {
        "font": {
         "size": 12
        },
        "template": {
         "data": {
          "bar": [
           {
            "error_x": {
             "color": "#2a3f5f"
            },
            "error_y": {
             "color": "#2a3f5f"
            },
            "marker": {
             "line": {
              "color": "#E5ECF6",
              "width": 0.5
             }
            },
            "type": "bar"
           }
          ],
          "barpolar": [
           {
            "marker": {
             "line": {
              "color": "#E5ECF6",
              "width": 0.5
             }
            },
            "type": "barpolar"
           }
          ],
          "carpet": [
           {
            "aaxis": {
             "endlinecolor": "#2a3f5f",
             "gridcolor": "white",
             "linecolor": "white",
             "minorgridcolor": "white",
             "startlinecolor": "#2a3f5f"
            },
            "baxis": {
             "endlinecolor": "#2a3f5f",
             "gridcolor": "white",
             "linecolor": "white",
             "minorgridcolor": "white",
             "startlinecolor": "#2a3f5f"
            },
            "type": "carpet"
           }
          ],
          "choropleth": [
           {
            "colorbar": {
             "outlinewidth": 0,
             "ticks": ""
            },
            "type": "choropleth"
           }
          ],
          "contour": [
           {
            "colorbar": {
             "outlinewidth": 0,
             "ticks": ""
            },
            "colorscale": [
             [
              0,
              "#0d0887"
             ],
             [
              0.1111111111111111,
              "#46039f"
             ],
             [
              0.2222222222222222,
              "#7201a8"
             ],
             [
              0.3333333333333333,
              "#9c179e"
             ],
             [
              0.4444444444444444,
              "#bd3786"
             ],
             [
              0.5555555555555556,
              "#d8576b"
             ],
             [
              0.6666666666666666,
              "#ed7953"
             ],
             [
              0.7777777777777778,
              "#fb9f3a"
             ],
             [
              0.8888888888888888,
              "#fdca26"
             ],
             [
              1,
              "#f0f921"
             ]
            ],
            "type": "contour"
           }
          ],
          "contourcarpet": [
           {
            "colorbar": {
             "outlinewidth": 0,
             "ticks": ""
            },
            "type": "contourcarpet"
           }
          ],
          "heatmap": [
           {
            "colorbar": {
             "outlinewidth": 0,
             "ticks": ""
            },
            "colorscale": [
             [
              0,
              "#0d0887"
             ],
             [
              0.1111111111111111,
              "#46039f"
             ],
             [
              0.2222222222222222,
              "#7201a8"
             ],
             [
              0.3333333333333333,
              "#9c179e"
             ],
             [
              0.4444444444444444,
              "#bd3786"
             ],
             [
              0.5555555555555556,
              "#d8576b"
             ],
             [
              0.6666666666666666,
              "#ed7953"
             ],
             [
              0.7777777777777778,
              "#fb9f3a"
             ],
             [
              0.8888888888888888,
              "#fdca26"
             ],
             [
              1,
              "#f0f921"
             ]
            ],
            "type": "heatmap"
           }
          ],
          "heatmapgl": [
           {
            "colorbar": {
             "outlinewidth": 0,
             "ticks": ""
            },
            "colorscale": [
             [
              0,
              "#0d0887"
             ],
             [
              0.1111111111111111,
              "#46039f"
             ],
             [
              0.2222222222222222,
              "#7201a8"
             ],
             [
              0.3333333333333333,
              "#9c179e"
             ],
             [
              0.4444444444444444,
              "#bd3786"
             ],
             [
              0.5555555555555556,
              "#d8576b"
             ],
             [
              0.6666666666666666,
              "#ed7953"
             ],
             [
              0.7777777777777778,
              "#fb9f3a"
             ],
             [
              0.8888888888888888,
              "#fdca26"
             ],
             [
              1,
              "#f0f921"
             ]
            ],
            "type": "heatmapgl"
           }
          ],
          "histogram": [
           {
            "marker": {
             "colorbar": {
              "outlinewidth": 0,
              "ticks": ""
             }
            },
            "type": "histogram"
           }
          ],
          "histogram2d": [
           {
            "colorbar": {
             "outlinewidth": 0,
             "ticks": ""
            },
            "colorscale": [
             [
              0,
              "#0d0887"
             ],
             [
              0.1111111111111111,
              "#46039f"
             ],
             [
              0.2222222222222222,
              "#7201a8"
             ],
             [
              0.3333333333333333,
              "#9c179e"
             ],
             [
              0.4444444444444444,
              "#bd3786"
             ],
             [
              0.5555555555555556,
              "#d8576b"
             ],
             [
              0.6666666666666666,
              "#ed7953"
             ],
             [
              0.7777777777777778,
              "#fb9f3a"
             ],
             [
              0.8888888888888888,
              "#fdca26"
             ],
             [
              1,
              "#f0f921"
             ]
            ],
            "type": "histogram2d"
           }
          ],
          "histogram2dcontour": [
           {
            "colorbar": {
             "outlinewidth": 0,
             "ticks": ""
            },
            "colorscale": [
             [
              0,
              "#0d0887"
             ],
             [
              0.1111111111111111,
              "#46039f"
             ],
             [
              0.2222222222222222,
              "#7201a8"
             ],
             [
              0.3333333333333333,
              "#9c179e"
             ],
             [
              0.4444444444444444,
              "#bd3786"
             ],
             [
              0.5555555555555556,
              "#d8576b"
             ],
             [
              0.6666666666666666,
              "#ed7953"
             ],
             [
              0.7777777777777778,
              "#fb9f3a"
             ],
             [
              0.8888888888888888,
              "#fdca26"
             ],
             [
              1,
              "#f0f921"
             ]
            ],
            "type": "histogram2dcontour"
           }
          ],
          "mesh3d": [
           {
            "colorbar": {
             "outlinewidth": 0,
             "ticks": ""
            },
            "type": "mesh3d"
           }
          ],
          "parcoords": [
           {
            "line": {
             "colorbar": {
              "outlinewidth": 0,
              "ticks": ""
             }
            },
            "type": "parcoords"
           }
          ],
          "pie": [
           {
            "automargin": true,
            "type": "pie"
           }
          ],
          "scatter": [
           {
            "marker": {
             "colorbar": {
              "outlinewidth": 0,
              "ticks": ""
             }
            },
            "type": "scatter"
           }
          ],
          "scatter3d": [
           {
            "line": {
             "colorbar": {
              "outlinewidth": 0,
              "ticks": ""
             }
            },
            "marker": {
             "colorbar": {
              "outlinewidth": 0,
              "ticks": ""
             }
            },
            "type": "scatter3d"
           }
          ],
          "scattercarpet": [
           {
            "marker": {
             "colorbar": {
              "outlinewidth": 0,
              "ticks": ""
             }
            },
            "type": "scattercarpet"
           }
          ],
          "scattergeo": [
           {
            "marker": {
             "colorbar": {
              "outlinewidth": 0,
              "ticks": ""
             }
            },
            "type": "scattergeo"
           }
          ],
          "scattergl": [
           {
            "marker": {
             "colorbar": {
              "outlinewidth": 0,
              "ticks": ""
             }
            },
            "type": "scattergl"
           }
          ],
          "scattermapbox": [
           {
            "marker": {
             "colorbar": {
              "outlinewidth": 0,
              "ticks": ""
             }
            },
            "type": "scattermapbox"
           }
          ],
          "scatterpolar": [
           {
            "marker": {
             "colorbar": {
              "outlinewidth": 0,
              "ticks": ""
             }
            },
            "type": "scatterpolar"
           }
          ],
          "scatterpolargl": [
           {
            "marker": {
             "colorbar": {
              "outlinewidth": 0,
              "ticks": ""
             }
            },
            "type": "scatterpolargl"
           }
          ],
          "scatterternary": [
           {
            "marker": {
             "colorbar": {
              "outlinewidth": 0,
              "ticks": ""
             }
            },
            "type": "scatterternary"
           }
          ],
          "surface": [
           {
            "colorbar": {
             "outlinewidth": 0,
             "ticks": ""
            },
            "colorscale": [
             [
              0,
              "#0d0887"
             ],
             [
              0.1111111111111111,
              "#46039f"
             ],
             [
              0.2222222222222222,
              "#7201a8"
             ],
             [
              0.3333333333333333,
              "#9c179e"
             ],
             [
              0.4444444444444444,
              "#bd3786"
             ],
             [
              0.5555555555555556,
              "#d8576b"
             ],
             [
              0.6666666666666666,
              "#ed7953"
             ],
             [
              0.7777777777777778,
              "#fb9f3a"
             ],
             [
              0.8888888888888888,
              "#fdca26"
             ],
             [
              1,
              "#f0f921"
             ]
            ],
            "type": "surface"
           }
          ],
          "table": [
           {
            "cells": {
             "fill": {
              "color": "#EBF0F8"
             },
             "line": {
              "color": "white"
             }
            },
            "header": {
             "fill": {
              "color": "#C8D4E3"
             },
             "line": {
              "color": "white"
             }
            },
            "type": "table"
           }
          ]
         },
         "layout": {
          "annotationdefaults": {
           "arrowcolor": "#2a3f5f",
           "arrowhead": 0,
           "arrowwidth": 1
          },
          "autotypenumbers": "strict",
          "coloraxis": {
           "colorbar": {
            "outlinewidth": 0,
            "ticks": ""
           }
          },
          "colorscale": {
           "diverging": [
            [
             0,
             "#8e0152"
            ],
            [
             0.1,
             "#c51b7d"
            ],
            [
             0.2,
             "#de77ae"
            ],
            [
             0.3,
             "#f1b6da"
            ],
            [
             0.4,
             "#fde0ef"
            ],
            [
             0.5,
             "#f7f7f7"
            ],
            [
             0.6,
             "#e6f5d0"
            ],
            [
             0.7,
             "#b8e186"
            ],
            [
             0.8,
             "#7fbc41"
            ],
            [
             0.9,
             "#4d9221"
            ],
            [
             1,
             "#276419"
            ]
           ],
           "sequential": [
            [
             0,
             "#0d0887"
            ],
            [
             0.1111111111111111,
             "#46039f"
            ],
            [
             0.2222222222222222,
             "#7201a8"
            ],
            [
             0.3333333333333333,
             "#9c179e"
            ],
            [
             0.4444444444444444,
             "#bd3786"
            ],
            [
             0.5555555555555556,
             "#d8576b"
            ],
            [
             0.6666666666666666,
             "#ed7953"
            ],
            [
             0.7777777777777778,
             "#fb9f3a"
            ],
            [
             0.8888888888888888,
             "#fdca26"
            ],
            [
             1,
             "#f0f921"
            ]
           ],
           "sequentialminus": [
            [
             0,
             "#0d0887"
            ],
            [
             0.1111111111111111,
             "#46039f"
            ],
            [
             0.2222222222222222,
             "#7201a8"
            ],
            [
             0.3333333333333333,
             "#9c179e"
            ],
            [
             0.4444444444444444,
             "#bd3786"
            ],
            [
             0.5555555555555556,
             "#d8576b"
            ],
            [
             0.6666666666666666,
             "#ed7953"
            ],
            [
             0.7777777777777778,
             "#fb9f3a"
            ],
            [
             0.8888888888888888,
             "#fdca26"
            ],
            [
             1,
             "#f0f921"
            ]
           ]
          },
          "colorway": [
           "#636efa",
           "#EF553B",
           "#00cc96",
           "#ab63fa",
           "#FFA15A",
           "#19d3f3",
           "#FF6692",
           "#B6E880",
           "#FF97FF",
           "#FECB52"
          ],
          "font": {
           "color": "#2a3f5f"
          },
          "geo": {
           "bgcolor": "white",
           "lakecolor": "white",
           "landcolor": "#E5ECF6",
           "showlakes": true,
           "showland": true,
           "subunitcolor": "white"
          },
          "hoverlabel": {
           "align": "left"
          },
          "hovermode": "closest",
          "mapbox": {
           "style": "light"
          },
          "paper_bgcolor": "white",
          "plot_bgcolor": "#E5ECF6",
          "polar": {
           "angularaxis": {
            "gridcolor": "white",
            "linecolor": "white",
            "ticks": ""
           },
           "bgcolor": "#E5ECF6",
           "radialaxis": {
            "gridcolor": "white",
            "linecolor": "white",
            "ticks": ""
           }
          },
          "scene": {
           "xaxis": {
            "backgroundcolor": "#E5ECF6",
            "gridcolor": "white",
            "gridwidth": 2,
            "linecolor": "white",
            "showbackground": true,
            "ticks": "",
            "zerolinecolor": "white"
           },
           "yaxis": {
            "backgroundcolor": "#E5ECF6",
            "gridcolor": "white",
            "gridwidth": 2,
            "linecolor": "white",
            "showbackground": true,
            "ticks": "",
            "zerolinecolor": "white"
           },
           "zaxis": {
            "backgroundcolor": "#E5ECF6",
            "gridcolor": "white",
            "gridwidth": 2,
            "linecolor": "white",
            "showbackground": true,
            "ticks": "",
            "zerolinecolor": "white"
           }
          },
          "shapedefaults": {
           "line": {
            "color": "#2a3f5f"
           }
          },
          "ternary": {
           "aaxis": {
            "gridcolor": "white",
            "linecolor": "white",
            "ticks": ""
           },
           "baxis": {
            "gridcolor": "white",
            "linecolor": "white",
            "ticks": ""
           },
           "bgcolor": "#E5ECF6",
           "caxis": {
            "gridcolor": "white",
            "linecolor": "white",
            "ticks": ""
           }
          },
          "title": {
           "x": 0.05
          },
          "xaxis": {
           "automargin": true,
           "gridcolor": "white",
           "linecolor": "white",
           "ticks": "",
           "title": {
            "standoff": 15
           },
           "zerolinecolor": "white",
           "zerolinewidth": 2
          },
          "yaxis": {
           "automargin": true,
           "gridcolor": "white",
           "linecolor": "white",
           "ticks": "",
           "title": {
            "standoff": 15
           },
           "zerolinecolor": "white",
           "zerolinewidth": 2
          }
         }
        },
        "title": {
         "text": "Arabic keyword annotation proportion v1"
        }
       }
      },
      "text/html": [
       "<div>                            <div id=\"391d2127-6bfa-4e11-b7e9-ee0ad86de58e\" class=\"plotly-graph-div\" style=\"height:525px; width:100%;\"></div>            <script type=\"text/javascript\">                require([\"plotly\"], function(Plotly) {                    window.PLOTLYENV=window.PLOTLYENV || {};                                    if (document.getElementById(\"391d2127-6bfa-4e11-b7e9-ee0ad86de58e\")) {                    Plotly.newPlot(                        \"391d2127-6bfa-4e11-b7e9-ee0ad86de58e\",                        [{\"arrangement\": \"snap\", \"link\": {\"source\": [10, 0, 0, 0, 0, 0, 0, 0, 0, 0], \"target\": [0, 1, 3, 2, 7, 8, 6, 4, 5, 9], \"value\": [0.10312211435274152, 0.18332526621490802, 0.31026137463697967, 0.1936108422071636, 0.39950387221684414, 0.1572483059051307, 0.1343780251694095, 0.1122942884801549, 0.23687076476282673, 0.3410575992255566]}, \"node\": {\"label\": [\"ar - 16528 - 10%\", \"economy - 3030 - 18%\", \"politics and society - 3200 - 19%\", \"covid-19 - 5128 - 31%\", \"technology - 1856 - 11%\", \"environment - 3915 - 24%\", \"military and security - 2221 - 13%\", \"geopolitics - 6603 - 40%\", \"chinese culture and people - 2599 - 16%\", \"unannotated - 5637 - 34%\", \"source data - 160276\"], \"line\": {\"color\": \"black\", \"width\": 0.5}, \"pad\": 15, \"thickness\": 20, \"x\": [0.3, 1, 1, 1, 1, 1, 1, 1, 1, 1], \"y\": [0.2, 0.1, 0.2, 0.3, 0.4, 0.5, 0.6, 0.7, 0.7, 1]}, \"type\": \"sankey\", \"valueformat\": \".0f\"}],                        {\"font\": {\"size\": 12}, \"template\": {\"data\": {\"bar\": [{\"error_x\": {\"color\": \"#2a3f5f\"}, \"error_y\": {\"color\": \"#2a3f5f\"}, \"marker\": {\"line\": {\"color\": \"#E5ECF6\", \"width\": 0.5}}, \"type\": \"bar\"}], \"barpolar\": [{\"marker\": {\"line\": {\"color\": \"#E5ECF6\", \"width\": 0.5}}, \"type\": \"barpolar\"}], \"carpet\": [{\"aaxis\": {\"endlinecolor\": \"#2a3f5f\", \"gridcolor\": \"white\", \"linecolor\": \"white\", \"minorgridcolor\": \"white\", \"startlinecolor\": \"#2a3f5f\"}, \"baxis\": {\"endlinecolor\": \"#2a3f5f\", \"gridcolor\": \"white\", \"linecolor\": \"white\", \"minorgridcolor\": \"white\", \"startlinecolor\": \"#2a3f5f\"}, \"type\": \"carpet\"}], \"choropleth\": [{\"colorbar\": {\"outlinewidth\": 0, \"ticks\": \"\"}, \"type\": \"choropleth\"}], \"contour\": [{\"colorbar\": {\"outlinewidth\": 0, \"ticks\": \"\"}, \"colorscale\": [[0.0, \"#0d0887\"], [0.1111111111111111, \"#46039f\"], [0.2222222222222222, \"#7201a8\"], [0.3333333333333333, \"#9c179e\"], [0.4444444444444444, \"#bd3786\"], [0.5555555555555556, \"#d8576b\"], [0.6666666666666666, \"#ed7953\"], [0.7777777777777778, \"#fb9f3a\"], [0.8888888888888888, \"#fdca26\"], [1.0, \"#f0f921\"]], \"type\": \"contour\"}], \"contourcarpet\": [{\"colorbar\": {\"outlinewidth\": 0, \"ticks\": \"\"}, \"type\": \"contourcarpet\"}], \"heatmap\": [{\"colorbar\": {\"outlinewidth\": 0, \"ticks\": \"\"}, \"colorscale\": [[0.0, \"#0d0887\"], [0.1111111111111111, \"#46039f\"], [0.2222222222222222, \"#7201a8\"], [0.3333333333333333, \"#9c179e\"], [0.4444444444444444, \"#bd3786\"], [0.5555555555555556, \"#d8576b\"], [0.6666666666666666, \"#ed7953\"], [0.7777777777777778, \"#fb9f3a\"], [0.8888888888888888, \"#fdca26\"], [1.0, \"#f0f921\"]], \"type\": \"heatmap\"}], \"heatmapgl\": [{\"colorbar\": {\"outlinewidth\": 0, \"ticks\": \"\"}, \"colorscale\": [[0.0, \"#0d0887\"], [0.1111111111111111, \"#46039f\"], [0.2222222222222222, \"#7201a8\"], [0.3333333333333333, \"#9c179e\"], [0.4444444444444444, \"#bd3786\"], [0.5555555555555556, \"#d8576b\"], [0.6666666666666666, \"#ed7953\"], [0.7777777777777778, \"#fb9f3a\"], [0.8888888888888888, \"#fdca26\"], [1.0, \"#f0f921\"]], \"type\": \"heatmapgl\"}], \"histogram\": [{\"marker\": {\"colorbar\": {\"outlinewidth\": 0, \"ticks\": \"\"}}, \"type\": \"histogram\"}], \"histogram2d\": [{\"colorbar\": {\"outlinewidth\": 0, \"ticks\": \"\"}, \"colorscale\": [[0.0, \"#0d0887\"], [0.1111111111111111, \"#46039f\"], [0.2222222222222222, \"#7201a8\"], [0.3333333333333333, \"#9c179e\"], [0.4444444444444444, \"#bd3786\"], [0.5555555555555556, \"#d8576b\"], [0.6666666666666666, \"#ed7953\"], [0.7777777777777778, \"#fb9f3a\"], [0.8888888888888888, \"#fdca26\"], [1.0, \"#f0f921\"]], \"type\": \"histogram2d\"}], \"histogram2dcontour\": [{\"colorbar\": {\"outlinewidth\": 0, \"ticks\": \"\"}, \"colorscale\": [[0.0, \"#0d0887\"], [0.1111111111111111, \"#46039f\"], [0.2222222222222222, \"#7201a8\"], [0.3333333333333333, \"#9c179e\"], [0.4444444444444444, \"#bd3786\"], [0.5555555555555556, \"#d8576b\"], [0.6666666666666666, \"#ed7953\"], [0.7777777777777778, \"#fb9f3a\"], [0.8888888888888888, \"#fdca26\"], [1.0, \"#f0f921\"]], \"type\": \"histogram2dcontour\"}], \"mesh3d\": [{\"colorbar\": {\"outlinewidth\": 0, \"ticks\": \"\"}, \"type\": \"mesh3d\"}], \"parcoords\": [{\"line\": {\"colorbar\": {\"outlinewidth\": 0, \"ticks\": \"\"}}, \"type\": \"parcoords\"}], \"pie\": [{\"automargin\": true, \"type\": \"pie\"}], \"scatter\": [{\"marker\": {\"colorbar\": {\"outlinewidth\": 0, \"ticks\": \"\"}}, \"type\": \"scatter\"}], \"scatter3d\": [{\"line\": {\"colorbar\": {\"outlinewidth\": 0, \"ticks\": \"\"}}, \"marker\": {\"colorbar\": {\"outlinewidth\": 0, \"ticks\": \"\"}}, \"type\": \"scatter3d\"}], \"scattercarpet\": [{\"marker\": {\"colorbar\": {\"outlinewidth\": 0, \"ticks\": \"\"}}, \"type\": \"scattercarpet\"}], \"scattergeo\": [{\"marker\": {\"colorbar\": {\"outlinewidth\": 0, \"ticks\": \"\"}}, \"type\": \"scattergeo\"}], \"scattergl\": [{\"marker\": {\"colorbar\": {\"outlinewidth\": 0, \"ticks\": \"\"}}, \"type\": \"scattergl\"}], \"scattermapbox\": [{\"marker\": {\"colorbar\": {\"outlinewidth\": 0, \"ticks\": \"\"}}, \"type\": \"scattermapbox\"}], \"scatterpolar\": [{\"marker\": {\"colorbar\": {\"outlinewidth\": 0, \"ticks\": \"\"}}, \"type\": \"scatterpolar\"}], \"scatterpolargl\": [{\"marker\": {\"colorbar\": {\"outlinewidth\": 0, \"ticks\": \"\"}}, \"type\": \"scatterpolargl\"}], \"scatterternary\": [{\"marker\": {\"colorbar\": {\"outlinewidth\": 0, \"ticks\": \"\"}}, \"type\": \"scatterternary\"}], \"surface\": [{\"colorbar\": {\"outlinewidth\": 0, \"ticks\": \"\"}, \"colorscale\": [[0.0, \"#0d0887\"], [0.1111111111111111, \"#46039f\"], [0.2222222222222222, \"#7201a8\"], [0.3333333333333333, \"#9c179e\"], [0.4444444444444444, \"#bd3786\"], [0.5555555555555556, \"#d8576b\"], [0.6666666666666666, \"#ed7953\"], [0.7777777777777778, \"#fb9f3a\"], [0.8888888888888888, \"#fdca26\"], [1.0, \"#f0f921\"]], \"type\": \"surface\"}], \"table\": [{\"cells\": {\"fill\": {\"color\": \"#EBF0F8\"}, \"line\": {\"color\": \"white\"}}, \"header\": {\"fill\": {\"color\": \"#C8D4E3\"}, \"line\": {\"color\": \"white\"}}, \"type\": \"table\"}]}, \"layout\": {\"annotationdefaults\": {\"arrowcolor\": \"#2a3f5f\", \"arrowhead\": 0, \"arrowwidth\": 1}, \"autotypenumbers\": \"strict\", \"coloraxis\": {\"colorbar\": {\"outlinewidth\": 0, \"ticks\": \"\"}}, \"colorscale\": {\"diverging\": [[0, \"#8e0152\"], [0.1, \"#c51b7d\"], [0.2, \"#de77ae\"], [0.3, \"#f1b6da\"], [0.4, \"#fde0ef\"], [0.5, \"#f7f7f7\"], [0.6, \"#e6f5d0\"], [0.7, \"#b8e186\"], [0.8, \"#7fbc41\"], [0.9, \"#4d9221\"], [1, \"#276419\"]], \"sequential\": [[0.0, \"#0d0887\"], [0.1111111111111111, \"#46039f\"], [0.2222222222222222, \"#7201a8\"], [0.3333333333333333, \"#9c179e\"], [0.4444444444444444, \"#bd3786\"], [0.5555555555555556, \"#d8576b\"], [0.6666666666666666, \"#ed7953\"], [0.7777777777777778, \"#fb9f3a\"], [0.8888888888888888, \"#fdca26\"], [1.0, \"#f0f921\"]], \"sequentialminus\": [[0.0, \"#0d0887\"], [0.1111111111111111, \"#46039f\"], [0.2222222222222222, \"#7201a8\"], [0.3333333333333333, \"#9c179e\"], [0.4444444444444444, \"#bd3786\"], [0.5555555555555556, \"#d8576b\"], [0.6666666666666666, \"#ed7953\"], [0.7777777777777778, \"#fb9f3a\"], [0.8888888888888888, \"#fdca26\"], [1.0, \"#f0f921\"]]}, \"colorway\": [\"#636efa\", \"#EF553B\", \"#00cc96\", \"#ab63fa\", \"#FFA15A\", \"#19d3f3\", \"#FF6692\", \"#B6E880\", \"#FF97FF\", \"#FECB52\"], \"font\": {\"color\": \"#2a3f5f\"}, \"geo\": {\"bgcolor\": \"white\", \"lakecolor\": \"white\", \"landcolor\": \"#E5ECF6\", \"showlakes\": true, \"showland\": true, \"subunitcolor\": \"white\"}, \"hoverlabel\": {\"align\": \"left\"}, \"hovermode\": \"closest\", \"mapbox\": {\"style\": \"light\"}, \"paper_bgcolor\": \"white\", \"plot_bgcolor\": \"#E5ECF6\", \"polar\": {\"angularaxis\": {\"gridcolor\": \"white\", \"linecolor\": \"white\", \"ticks\": \"\"}, \"bgcolor\": \"#E5ECF6\", \"radialaxis\": {\"gridcolor\": \"white\", \"linecolor\": \"white\", \"ticks\": \"\"}}, \"scene\": {\"xaxis\": {\"backgroundcolor\": \"#E5ECF6\", \"gridcolor\": \"white\", \"gridwidth\": 2, \"linecolor\": \"white\", \"showbackground\": true, \"ticks\": \"\", \"zerolinecolor\": \"white\"}, \"yaxis\": {\"backgroundcolor\": \"#E5ECF6\", \"gridcolor\": \"white\", \"gridwidth\": 2, \"linecolor\": \"white\", \"showbackground\": true, \"ticks\": \"\", \"zerolinecolor\": \"white\"}, \"zaxis\": {\"backgroundcolor\": \"#E5ECF6\", \"gridcolor\": \"white\", \"gridwidth\": 2, \"linecolor\": \"white\", \"showbackground\": true, \"ticks\": \"\", \"zerolinecolor\": \"white\"}}, \"shapedefaults\": {\"line\": {\"color\": \"#2a3f5f\"}}, \"ternary\": {\"aaxis\": {\"gridcolor\": \"white\", \"linecolor\": \"white\", \"ticks\": \"\"}, \"baxis\": {\"gridcolor\": \"white\", \"linecolor\": \"white\", \"ticks\": \"\"}, \"bgcolor\": \"#E5ECF6\", \"caxis\": {\"gridcolor\": \"white\", \"linecolor\": \"white\", \"ticks\": \"\"}}, \"title\": {\"x\": 0.05}, \"xaxis\": {\"automargin\": true, \"gridcolor\": \"white\", \"linecolor\": \"white\", \"ticks\": \"\", \"title\": {\"standoff\": 15}, \"zerolinecolor\": \"white\", \"zerolinewidth\": 2}, \"yaxis\": {\"automargin\": true, \"gridcolor\": \"white\", \"linecolor\": \"white\", \"ticks\": \"\", \"title\": {\"standoff\": 15}, \"zerolinecolor\": \"white\", \"zerolinewidth\": 2}}}, \"title\": {\"text\": \"Arabic keyword annotation proportion v1\"}},                        {\"responsive\": true}                    ).then(function(){\n",
       "                            \n",
       "var gd = document.getElementById('391d2127-6bfa-4e11-b7e9-ee0ad86de58e');\n",
       "var x = new MutationObserver(function (mutations, observer) {{\n",
       "        var display = window.getComputedStyle(gd).display;\n",
       "        if (!display || display === 'none') {{\n",
       "            console.log([gd, 'removed!']);\n",
       "            Plotly.purge(gd);\n",
       "            observer.disconnect();\n",
       "        }}\n",
       "}});\n",
       "\n",
       "// Listen for the removal of the full notebook cells\n",
       "var notebookContainer = gd.closest('#notebook-container');\n",
       "if (notebookContainer) {{\n",
       "    x.observe(notebookContainer, {childList: true});\n",
       "}}\n",
       "\n",
       "// Listen for the clearing of the current output cell\n",
       "var outputEl = gd.closest('.output');\n",
       "if (outputEl) {{\n",
       "    x.observe(outputEl, {childList: true});\n",
       "}}\n",
       "\n",
       "                        })                };                });            </script>        </div>"
      ]
     },
     "metadata": {},
     "output_type": "display_data"
    },
    {
     "data": {
      "application/vnd.plotly.v1+json": {
       "config": {
        "plotlyServerURL": "https://plot.ly"
       },
       "data": [
        {
         "arrangement": "snap",
         "link": {
          "source": [
           10,
           0,
           0,
           0,
           0,
           0,
           0,
           0,
           0,
           0
          ],
          "target": [
           0,
           1,
           3,
           2,
           7,
           8,
           6,
           4,
           5,
           9
          ],
          "value": [
           0.6259015697921086,
           0.1020265757548571,
           0.10061106293051028,
           0.09245691159025889,
           0.1514598722051098,
           0.053859266126379375,
           0.028609308492080106,
           0.012909078222036146,
           0.006529302112303997,
           0.6075640220501012
          ]
         },
         "node": {
          "label": [
           "en - 100317 - 63%",
           "economy - 10235 - 10%",
           "politics and society - 9275 - 9%",
           "covid-19 - 10093 - 10%",
           "technology - 1295 - 1%",
           "environment - 655 - 1%",
           "military and security - 2870 - 3%",
           "geopolitics - 15194 - 15%",
           "chinese culture and people - 5403 - 5%",
           "unannotated - 60949 - 61%",
           "source data - 160276"
          ],
          "line": {
           "color": "black",
           "width": 0.5
          },
          "pad": 15,
          "thickness": 20,
          "x": [
           0.3,
           1,
           1,
           1,
           1,
           1,
           1,
           1,
           1,
           1
          ],
          "y": [
           0.2,
           0.1,
           0.2,
           0.3,
           0.4,
           0.5,
           0.6,
           0.7,
           0.7,
           1
          ]
         },
         "type": "sankey",
         "valueformat": ".0f"
        }
       ],
       "layout": {
        "font": {
         "size": 12
        },
        "template": {
         "data": {
          "bar": [
           {
            "error_x": {
             "color": "#2a3f5f"
            },
            "error_y": {
             "color": "#2a3f5f"
            },
            "marker": {
             "line": {
              "color": "#E5ECF6",
              "width": 0.5
             }
            },
            "type": "bar"
           }
          ],
          "barpolar": [
           {
            "marker": {
             "line": {
              "color": "#E5ECF6",
              "width": 0.5
             }
            },
            "type": "barpolar"
           }
          ],
          "carpet": [
           {
            "aaxis": {
             "endlinecolor": "#2a3f5f",
             "gridcolor": "white",
             "linecolor": "white",
             "minorgridcolor": "white",
             "startlinecolor": "#2a3f5f"
            },
            "baxis": {
             "endlinecolor": "#2a3f5f",
             "gridcolor": "white",
             "linecolor": "white",
             "minorgridcolor": "white",
             "startlinecolor": "#2a3f5f"
            },
            "type": "carpet"
           }
          ],
          "choropleth": [
           {
            "colorbar": {
             "outlinewidth": 0,
             "ticks": ""
            },
            "type": "choropleth"
           }
          ],
          "contour": [
           {
            "colorbar": {
             "outlinewidth": 0,
             "ticks": ""
            },
            "colorscale": [
             [
              0,
              "#0d0887"
             ],
             [
              0.1111111111111111,
              "#46039f"
             ],
             [
              0.2222222222222222,
              "#7201a8"
             ],
             [
              0.3333333333333333,
              "#9c179e"
             ],
             [
              0.4444444444444444,
              "#bd3786"
             ],
             [
              0.5555555555555556,
              "#d8576b"
             ],
             [
              0.6666666666666666,
              "#ed7953"
             ],
             [
              0.7777777777777778,
              "#fb9f3a"
             ],
             [
              0.8888888888888888,
              "#fdca26"
             ],
             [
              1,
              "#f0f921"
             ]
            ],
            "type": "contour"
           }
          ],
          "contourcarpet": [
           {
            "colorbar": {
             "outlinewidth": 0,
             "ticks": ""
            },
            "type": "contourcarpet"
           }
          ],
          "heatmap": [
           {
            "colorbar": {
             "outlinewidth": 0,
             "ticks": ""
            },
            "colorscale": [
             [
              0,
              "#0d0887"
             ],
             [
              0.1111111111111111,
              "#46039f"
             ],
             [
              0.2222222222222222,
              "#7201a8"
             ],
             [
              0.3333333333333333,
              "#9c179e"
             ],
             [
              0.4444444444444444,
              "#bd3786"
             ],
             [
              0.5555555555555556,
              "#d8576b"
             ],
             [
              0.6666666666666666,
              "#ed7953"
             ],
             [
              0.7777777777777778,
              "#fb9f3a"
             ],
             [
              0.8888888888888888,
              "#fdca26"
             ],
             [
              1,
              "#f0f921"
             ]
            ],
            "type": "heatmap"
           }
          ],
          "heatmapgl": [
           {
            "colorbar": {
             "outlinewidth": 0,
             "ticks": ""
            },
            "colorscale": [
             [
              0,
              "#0d0887"
             ],
             [
              0.1111111111111111,
              "#46039f"
             ],
             [
              0.2222222222222222,
              "#7201a8"
             ],
             [
              0.3333333333333333,
              "#9c179e"
             ],
             [
              0.4444444444444444,
              "#bd3786"
             ],
             [
              0.5555555555555556,
              "#d8576b"
             ],
             [
              0.6666666666666666,
              "#ed7953"
             ],
             [
              0.7777777777777778,
              "#fb9f3a"
             ],
             [
              0.8888888888888888,
              "#fdca26"
             ],
             [
              1,
              "#f0f921"
             ]
            ],
            "type": "heatmapgl"
           }
          ],
          "histogram": [
           {
            "marker": {
             "colorbar": {
              "outlinewidth": 0,
              "ticks": ""
             }
            },
            "type": "histogram"
           }
          ],
          "histogram2d": [
           {
            "colorbar": {
             "outlinewidth": 0,
             "ticks": ""
            },
            "colorscale": [
             [
              0,
              "#0d0887"
             ],
             [
              0.1111111111111111,
              "#46039f"
             ],
             [
              0.2222222222222222,
              "#7201a8"
             ],
             [
              0.3333333333333333,
              "#9c179e"
             ],
             [
              0.4444444444444444,
              "#bd3786"
             ],
             [
              0.5555555555555556,
              "#d8576b"
             ],
             [
              0.6666666666666666,
              "#ed7953"
             ],
             [
              0.7777777777777778,
              "#fb9f3a"
             ],
             [
              0.8888888888888888,
              "#fdca26"
             ],
             [
              1,
              "#f0f921"
             ]
            ],
            "type": "histogram2d"
           }
          ],
          "histogram2dcontour": [
           {
            "colorbar": {
             "outlinewidth": 0,
             "ticks": ""
            },
            "colorscale": [
             [
              0,
              "#0d0887"
             ],
             [
              0.1111111111111111,
              "#46039f"
             ],
             [
              0.2222222222222222,
              "#7201a8"
             ],
             [
              0.3333333333333333,
              "#9c179e"
             ],
             [
              0.4444444444444444,
              "#bd3786"
             ],
             [
              0.5555555555555556,
              "#d8576b"
             ],
             [
              0.6666666666666666,
              "#ed7953"
             ],
             [
              0.7777777777777778,
              "#fb9f3a"
             ],
             [
              0.8888888888888888,
              "#fdca26"
             ],
             [
              1,
              "#f0f921"
             ]
            ],
            "type": "histogram2dcontour"
           }
          ],
          "mesh3d": [
           {
            "colorbar": {
             "outlinewidth": 0,
             "ticks": ""
            },
            "type": "mesh3d"
           }
          ],
          "parcoords": [
           {
            "line": {
             "colorbar": {
              "outlinewidth": 0,
              "ticks": ""
             }
            },
            "type": "parcoords"
           }
          ],
          "pie": [
           {
            "automargin": true,
            "type": "pie"
           }
          ],
          "scatter": [
           {
            "marker": {
             "colorbar": {
              "outlinewidth": 0,
              "ticks": ""
             }
            },
            "type": "scatter"
           }
          ],
          "scatter3d": [
           {
            "line": {
             "colorbar": {
              "outlinewidth": 0,
              "ticks": ""
             }
            },
            "marker": {
             "colorbar": {
              "outlinewidth": 0,
              "ticks": ""
             }
            },
            "type": "scatter3d"
           }
          ],
          "scattercarpet": [
           {
            "marker": {
             "colorbar": {
              "outlinewidth": 0,
              "ticks": ""
             }
            },
            "type": "scattercarpet"
           }
          ],
          "scattergeo": [
           {
            "marker": {
             "colorbar": {
              "outlinewidth": 0,
              "ticks": ""
             }
            },
            "type": "scattergeo"
           }
          ],
          "scattergl": [
           {
            "marker": {
             "colorbar": {
              "outlinewidth": 0,
              "ticks": ""
             }
            },
            "type": "scattergl"
           }
          ],
          "scattermapbox": [
           {
            "marker": {
             "colorbar": {
              "outlinewidth": 0,
              "ticks": ""
             }
            },
            "type": "scattermapbox"
           }
          ],
          "scatterpolar": [
           {
            "marker": {
             "colorbar": {
              "outlinewidth": 0,
              "ticks": ""
             }
            },
            "type": "scatterpolar"
           }
          ],
          "scatterpolargl": [
           {
            "marker": {
             "colorbar": {
              "outlinewidth": 0,
              "ticks": ""
             }
            },
            "type": "scatterpolargl"
           }
          ],
          "scatterternary": [
           {
            "marker": {
             "colorbar": {
              "outlinewidth": 0,
              "ticks": ""
             }
            },
            "type": "scatterternary"
           }
          ],
          "surface": [
           {
            "colorbar": {
             "outlinewidth": 0,
             "ticks": ""
            },
            "colorscale": [
             [
              0,
              "#0d0887"
             ],
             [
              0.1111111111111111,
              "#46039f"
             ],
             [
              0.2222222222222222,
              "#7201a8"
             ],
             [
              0.3333333333333333,
              "#9c179e"
             ],
             [
              0.4444444444444444,
              "#bd3786"
             ],
             [
              0.5555555555555556,
              "#d8576b"
             ],
             [
              0.6666666666666666,
              "#ed7953"
             ],
             [
              0.7777777777777778,
              "#fb9f3a"
             ],
             [
              0.8888888888888888,
              "#fdca26"
             ],
             [
              1,
              "#f0f921"
             ]
            ],
            "type": "surface"
           }
          ],
          "table": [
           {
            "cells": {
             "fill": {
              "color": "#EBF0F8"
             },
             "line": {
              "color": "white"
             }
            },
            "header": {
             "fill": {
              "color": "#C8D4E3"
             },
             "line": {
              "color": "white"
             }
            },
            "type": "table"
           }
          ]
         },
         "layout": {
          "annotationdefaults": {
           "arrowcolor": "#2a3f5f",
           "arrowhead": 0,
           "arrowwidth": 1
          },
          "autotypenumbers": "strict",
          "coloraxis": {
           "colorbar": {
            "outlinewidth": 0,
            "ticks": ""
           }
          },
          "colorscale": {
           "diverging": [
            [
             0,
             "#8e0152"
            ],
            [
             0.1,
             "#c51b7d"
            ],
            [
             0.2,
             "#de77ae"
            ],
            [
             0.3,
             "#f1b6da"
            ],
            [
             0.4,
             "#fde0ef"
            ],
            [
             0.5,
             "#f7f7f7"
            ],
            [
             0.6,
             "#e6f5d0"
            ],
            [
             0.7,
             "#b8e186"
            ],
            [
             0.8,
             "#7fbc41"
            ],
            [
             0.9,
             "#4d9221"
            ],
            [
             1,
             "#276419"
            ]
           ],
           "sequential": [
            [
             0,
             "#0d0887"
            ],
            [
             0.1111111111111111,
             "#46039f"
            ],
            [
             0.2222222222222222,
             "#7201a8"
            ],
            [
             0.3333333333333333,
             "#9c179e"
            ],
            [
             0.4444444444444444,
             "#bd3786"
            ],
            [
             0.5555555555555556,
             "#d8576b"
            ],
            [
             0.6666666666666666,
             "#ed7953"
            ],
            [
             0.7777777777777778,
             "#fb9f3a"
            ],
            [
             0.8888888888888888,
             "#fdca26"
            ],
            [
             1,
             "#f0f921"
            ]
           ],
           "sequentialminus": [
            [
             0,
             "#0d0887"
            ],
            [
             0.1111111111111111,
             "#46039f"
            ],
            [
             0.2222222222222222,
             "#7201a8"
            ],
            [
             0.3333333333333333,
             "#9c179e"
            ],
            [
             0.4444444444444444,
             "#bd3786"
            ],
            [
             0.5555555555555556,
             "#d8576b"
            ],
            [
             0.6666666666666666,
             "#ed7953"
            ],
            [
             0.7777777777777778,
             "#fb9f3a"
            ],
            [
             0.8888888888888888,
             "#fdca26"
            ],
            [
             1,
             "#f0f921"
            ]
           ]
          },
          "colorway": [
           "#636efa",
           "#EF553B",
           "#00cc96",
           "#ab63fa",
           "#FFA15A",
           "#19d3f3",
           "#FF6692",
           "#B6E880",
           "#FF97FF",
           "#FECB52"
          ],
          "font": {
           "color": "#2a3f5f"
          },
          "geo": {
           "bgcolor": "white",
           "lakecolor": "white",
           "landcolor": "#E5ECF6",
           "showlakes": true,
           "showland": true,
           "subunitcolor": "white"
          },
          "hoverlabel": {
           "align": "left"
          },
          "hovermode": "closest",
          "mapbox": {
           "style": "light"
          },
          "paper_bgcolor": "white",
          "plot_bgcolor": "#E5ECF6",
          "polar": {
           "angularaxis": {
            "gridcolor": "white",
            "linecolor": "white",
            "ticks": ""
           },
           "bgcolor": "#E5ECF6",
           "radialaxis": {
            "gridcolor": "white",
            "linecolor": "white",
            "ticks": ""
           }
          },
          "scene": {
           "xaxis": {
            "backgroundcolor": "#E5ECF6",
            "gridcolor": "white",
            "gridwidth": 2,
            "linecolor": "white",
            "showbackground": true,
            "ticks": "",
            "zerolinecolor": "white"
           },
           "yaxis": {
            "backgroundcolor": "#E5ECF6",
            "gridcolor": "white",
            "gridwidth": 2,
            "linecolor": "white",
            "showbackground": true,
            "ticks": "",
            "zerolinecolor": "white"
           },
           "zaxis": {
            "backgroundcolor": "#E5ECF6",
            "gridcolor": "white",
            "gridwidth": 2,
            "linecolor": "white",
            "showbackground": true,
            "ticks": "",
            "zerolinecolor": "white"
           }
          },
          "shapedefaults": {
           "line": {
            "color": "#2a3f5f"
           }
          },
          "ternary": {
           "aaxis": {
            "gridcolor": "white",
            "linecolor": "white",
            "ticks": ""
           },
           "baxis": {
            "gridcolor": "white",
            "linecolor": "white",
            "ticks": ""
           },
           "bgcolor": "#E5ECF6",
           "caxis": {
            "gridcolor": "white",
            "linecolor": "white",
            "ticks": ""
           }
          },
          "title": {
           "x": 0.05
          },
          "xaxis": {
           "automargin": true,
           "gridcolor": "white",
           "linecolor": "white",
           "ticks": "",
           "title": {
            "standoff": 15
           },
           "zerolinecolor": "white",
           "zerolinewidth": 2
          },
          "yaxis": {
           "automargin": true,
           "gridcolor": "white",
           "linecolor": "white",
           "ticks": "",
           "title": {
            "standoff": 15
           },
           "zerolinecolor": "white",
           "zerolinewidth": 2
          }
         }
        },
        "title": {
         "text": "English keyword annotation proportion v1"
        }
       }
      },
      "text/html": [
       "<div>                            <div id=\"417e73ff-1103-4ec7-a5c4-20ca87628286\" class=\"plotly-graph-div\" style=\"height:525px; width:100%;\"></div>            <script type=\"text/javascript\">                require([\"plotly\"], function(Plotly) {                    window.PLOTLYENV=window.PLOTLYENV || {};                                    if (document.getElementById(\"417e73ff-1103-4ec7-a5c4-20ca87628286\")) {                    Plotly.newPlot(                        \"417e73ff-1103-4ec7-a5c4-20ca87628286\",                        [{\"arrangement\": \"snap\", \"link\": {\"source\": [10, 0, 0, 0, 0, 0, 0, 0, 0, 0], \"target\": [0, 1, 3, 2, 7, 8, 6, 4, 5, 9], \"value\": [0.6259015697921086, 0.1020265757548571, 0.10061106293051028, 0.09245691159025889, 0.1514598722051098, 0.053859266126379375, 0.028609308492080106, 0.012909078222036146, 0.006529302112303997, 0.6075640220501012]}, \"node\": {\"label\": [\"en - 100317 - 63%\", \"economy - 10235 - 10%\", \"politics and society - 9275 - 9%\", \"covid-19 - 10093 - 10%\", \"technology - 1295 - 1%\", \"environment - 655 - 1%\", \"military and security - 2870 - 3%\", \"geopolitics - 15194 - 15%\", \"chinese culture and people - 5403 - 5%\", \"unannotated - 60949 - 61%\", \"source data - 160276\"], \"line\": {\"color\": \"black\", \"width\": 0.5}, \"pad\": 15, \"thickness\": 20, \"x\": [0.3, 1, 1, 1, 1, 1, 1, 1, 1, 1], \"y\": [0.2, 0.1, 0.2, 0.3, 0.4, 0.5, 0.6, 0.7, 0.7, 1]}, \"type\": \"sankey\", \"valueformat\": \".0f\"}],                        {\"font\": {\"size\": 12}, \"template\": {\"data\": {\"bar\": [{\"error_x\": {\"color\": \"#2a3f5f\"}, \"error_y\": {\"color\": \"#2a3f5f\"}, \"marker\": {\"line\": {\"color\": \"#E5ECF6\", \"width\": 0.5}}, \"type\": \"bar\"}], \"barpolar\": [{\"marker\": {\"line\": {\"color\": \"#E5ECF6\", \"width\": 0.5}}, \"type\": \"barpolar\"}], \"carpet\": [{\"aaxis\": {\"endlinecolor\": \"#2a3f5f\", \"gridcolor\": \"white\", \"linecolor\": \"white\", \"minorgridcolor\": \"white\", \"startlinecolor\": \"#2a3f5f\"}, \"baxis\": {\"endlinecolor\": \"#2a3f5f\", \"gridcolor\": \"white\", \"linecolor\": \"white\", \"minorgridcolor\": \"white\", \"startlinecolor\": \"#2a3f5f\"}, \"type\": \"carpet\"}], \"choropleth\": [{\"colorbar\": {\"outlinewidth\": 0, \"ticks\": \"\"}, \"type\": \"choropleth\"}], \"contour\": [{\"colorbar\": {\"outlinewidth\": 0, \"ticks\": \"\"}, \"colorscale\": [[0.0, \"#0d0887\"], [0.1111111111111111, \"#46039f\"], [0.2222222222222222, \"#7201a8\"], [0.3333333333333333, \"#9c179e\"], [0.4444444444444444, \"#bd3786\"], [0.5555555555555556, \"#d8576b\"], [0.6666666666666666, \"#ed7953\"], [0.7777777777777778, \"#fb9f3a\"], [0.8888888888888888, \"#fdca26\"], [1.0, \"#f0f921\"]], \"type\": \"contour\"}], \"contourcarpet\": [{\"colorbar\": {\"outlinewidth\": 0, \"ticks\": \"\"}, \"type\": \"contourcarpet\"}], \"heatmap\": [{\"colorbar\": {\"outlinewidth\": 0, \"ticks\": \"\"}, \"colorscale\": [[0.0, \"#0d0887\"], [0.1111111111111111, \"#46039f\"], [0.2222222222222222, \"#7201a8\"], [0.3333333333333333, \"#9c179e\"], [0.4444444444444444, \"#bd3786\"], [0.5555555555555556, \"#d8576b\"], [0.6666666666666666, \"#ed7953\"], [0.7777777777777778, \"#fb9f3a\"], [0.8888888888888888, \"#fdca26\"], [1.0, \"#f0f921\"]], \"type\": \"heatmap\"}], \"heatmapgl\": [{\"colorbar\": {\"outlinewidth\": 0, \"ticks\": \"\"}, \"colorscale\": [[0.0, \"#0d0887\"], [0.1111111111111111, \"#46039f\"], [0.2222222222222222, \"#7201a8\"], [0.3333333333333333, \"#9c179e\"], [0.4444444444444444, \"#bd3786\"], [0.5555555555555556, \"#d8576b\"], [0.6666666666666666, \"#ed7953\"], [0.7777777777777778, \"#fb9f3a\"], [0.8888888888888888, \"#fdca26\"], [1.0, \"#f0f921\"]], \"type\": \"heatmapgl\"}], \"histogram\": [{\"marker\": {\"colorbar\": {\"outlinewidth\": 0, \"ticks\": \"\"}}, \"type\": \"histogram\"}], \"histogram2d\": [{\"colorbar\": {\"outlinewidth\": 0, \"ticks\": \"\"}, \"colorscale\": [[0.0, \"#0d0887\"], [0.1111111111111111, \"#46039f\"], [0.2222222222222222, \"#7201a8\"], [0.3333333333333333, \"#9c179e\"], [0.4444444444444444, \"#bd3786\"], [0.5555555555555556, \"#d8576b\"], [0.6666666666666666, \"#ed7953\"], [0.7777777777777778, \"#fb9f3a\"], [0.8888888888888888, \"#fdca26\"], [1.0, \"#f0f921\"]], \"type\": \"histogram2d\"}], \"histogram2dcontour\": [{\"colorbar\": {\"outlinewidth\": 0, \"ticks\": \"\"}, \"colorscale\": [[0.0, \"#0d0887\"], [0.1111111111111111, \"#46039f\"], [0.2222222222222222, \"#7201a8\"], [0.3333333333333333, \"#9c179e\"], [0.4444444444444444, \"#bd3786\"], [0.5555555555555556, \"#d8576b\"], [0.6666666666666666, \"#ed7953\"], [0.7777777777777778, \"#fb9f3a\"], [0.8888888888888888, \"#fdca26\"], [1.0, \"#f0f921\"]], \"type\": \"histogram2dcontour\"}], \"mesh3d\": [{\"colorbar\": {\"outlinewidth\": 0, \"ticks\": \"\"}, \"type\": \"mesh3d\"}], \"parcoords\": [{\"line\": {\"colorbar\": {\"outlinewidth\": 0, \"ticks\": \"\"}}, \"type\": \"parcoords\"}], \"pie\": [{\"automargin\": true, \"type\": \"pie\"}], \"scatter\": [{\"marker\": {\"colorbar\": {\"outlinewidth\": 0, \"ticks\": \"\"}}, \"type\": \"scatter\"}], \"scatter3d\": [{\"line\": {\"colorbar\": {\"outlinewidth\": 0, \"ticks\": \"\"}}, \"marker\": {\"colorbar\": {\"outlinewidth\": 0, \"ticks\": \"\"}}, \"type\": \"scatter3d\"}], \"scattercarpet\": [{\"marker\": {\"colorbar\": {\"outlinewidth\": 0, \"ticks\": \"\"}}, \"type\": \"scattercarpet\"}], \"scattergeo\": [{\"marker\": {\"colorbar\": {\"outlinewidth\": 0, \"ticks\": \"\"}}, \"type\": \"scattergeo\"}], \"scattergl\": [{\"marker\": {\"colorbar\": {\"outlinewidth\": 0, \"ticks\": \"\"}}, \"type\": \"scattergl\"}], \"scattermapbox\": [{\"marker\": {\"colorbar\": {\"outlinewidth\": 0, \"ticks\": \"\"}}, \"type\": \"scattermapbox\"}], \"scatterpolar\": [{\"marker\": {\"colorbar\": {\"outlinewidth\": 0, \"ticks\": \"\"}}, \"type\": \"scatterpolar\"}], \"scatterpolargl\": [{\"marker\": {\"colorbar\": {\"outlinewidth\": 0, \"ticks\": \"\"}}, \"type\": \"scatterpolargl\"}], \"scatterternary\": [{\"marker\": {\"colorbar\": {\"outlinewidth\": 0, \"ticks\": \"\"}}, \"type\": \"scatterternary\"}], \"surface\": [{\"colorbar\": {\"outlinewidth\": 0, \"ticks\": \"\"}, \"colorscale\": [[0.0, \"#0d0887\"], [0.1111111111111111, \"#46039f\"], [0.2222222222222222, \"#7201a8\"], [0.3333333333333333, \"#9c179e\"], [0.4444444444444444, \"#bd3786\"], [0.5555555555555556, \"#d8576b\"], [0.6666666666666666, \"#ed7953\"], [0.7777777777777778, \"#fb9f3a\"], [0.8888888888888888, \"#fdca26\"], [1.0, \"#f0f921\"]], \"type\": \"surface\"}], \"table\": [{\"cells\": {\"fill\": {\"color\": \"#EBF0F8\"}, \"line\": {\"color\": \"white\"}}, \"header\": {\"fill\": {\"color\": \"#C8D4E3\"}, \"line\": {\"color\": \"white\"}}, \"type\": \"table\"}]}, \"layout\": {\"annotationdefaults\": {\"arrowcolor\": \"#2a3f5f\", \"arrowhead\": 0, \"arrowwidth\": 1}, \"autotypenumbers\": \"strict\", \"coloraxis\": {\"colorbar\": {\"outlinewidth\": 0, \"ticks\": \"\"}}, \"colorscale\": {\"diverging\": [[0, \"#8e0152\"], [0.1, \"#c51b7d\"], [0.2, \"#de77ae\"], [0.3, \"#f1b6da\"], [0.4, \"#fde0ef\"], [0.5, \"#f7f7f7\"], [0.6, \"#e6f5d0\"], [0.7, \"#b8e186\"], [0.8, \"#7fbc41\"], [0.9, \"#4d9221\"], [1, \"#276419\"]], \"sequential\": [[0.0, \"#0d0887\"], [0.1111111111111111, \"#46039f\"], [0.2222222222222222, \"#7201a8\"], [0.3333333333333333, \"#9c179e\"], [0.4444444444444444, \"#bd3786\"], [0.5555555555555556, \"#d8576b\"], [0.6666666666666666, \"#ed7953\"], [0.7777777777777778, \"#fb9f3a\"], [0.8888888888888888, \"#fdca26\"], [1.0, \"#f0f921\"]], \"sequentialminus\": [[0.0, \"#0d0887\"], [0.1111111111111111, \"#46039f\"], [0.2222222222222222, \"#7201a8\"], [0.3333333333333333, \"#9c179e\"], [0.4444444444444444, \"#bd3786\"], [0.5555555555555556, \"#d8576b\"], [0.6666666666666666, \"#ed7953\"], [0.7777777777777778, \"#fb9f3a\"], [0.8888888888888888, \"#fdca26\"], [1.0, \"#f0f921\"]]}, \"colorway\": [\"#636efa\", \"#EF553B\", \"#00cc96\", \"#ab63fa\", \"#FFA15A\", \"#19d3f3\", \"#FF6692\", \"#B6E880\", \"#FF97FF\", \"#FECB52\"], \"font\": {\"color\": \"#2a3f5f\"}, \"geo\": {\"bgcolor\": \"white\", \"lakecolor\": \"white\", \"landcolor\": \"#E5ECF6\", \"showlakes\": true, \"showland\": true, \"subunitcolor\": \"white\"}, \"hoverlabel\": {\"align\": \"left\"}, \"hovermode\": \"closest\", \"mapbox\": {\"style\": \"light\"}, \"paper_bgcolor\": \"white\", \"plot_bgcolor\": \"#E5ECF6\", \"polar\": {\"angularaxis\": {\"gridcolor\": \"white\", \"linecolor\": \"white\", \"ticks\": \"\"}, \"bgcolor\": \"#E5ECF6\", \"radialaxis\": {\"gridcolor\": \"white\", \"linecolor\": \"white\", \"ticks\": \"\"}}, \"scene\": {\"xaxis\": {\"backgroundcolor\": \"#E5ECF6\", \"gridcolor\": \"white\", \"gridwidth\": 2, \"linecolor\": \"white\", \"showbackground\": true, \"ticks\": \"\", \"zerolinecolor\": \"white\"}, \"yaxis\": {\"backgroundcolor\": \"#E5ECF6\", \"gridcolor\": \"white\", \"gridwidth\": 2, \"linecolor\": \"white\", \"showbackground\": true, \"ticks\": \"\", \"zerolinecolor\": \"white\"}, \"zaxis\": {\"backgroundcolor\": \"#E5ECF6\", \"gridcolor\": \"white\", \"gridwidth\": 2, \"linecolor\": \"white\", \"showbackground\": true, \"ticks\": \"\", \"zerolinecolor\": \"white\"}}, \"shapedefaults\": {\"line\": {\"color\": \"#2a3f5f\"}}, \"ternary\": {\"aaxis\": {\"gridcolor\": \"white\", \"linecolor\": \"white\", \"ticks\": \"\"}, \"baxis\": {\"gridcolor\": \"white\", \"linecolor\": \"white\", \"ticks\": \"\"}, \"bgcolor\": \"#E5ECF6\", \"caxis\": {\"gridcolor\": \"white\", \"linecolor\": \"white\", \"ticks\": \"\"}}, \"title\": {\"x\": 0.05}, \"xaxis\": {\"automargin\": true, \"gridcolor\": \"white\", \"linecolor\": \"white\", \"ticks\": \"\", \"title\": {\"standoff\": 15}, \"zerolinecolor\": \"white\", \"zerolinewidth\": 2}, \"yaxis\": {\"automargin\": true, \"gridcolor\": \"white\", \"linecolor\": \"white\", \"ticks\": \"\", \"title\": {\"standoff\": 15}, \"zerolinecolor\": \"white\", \"zerolinewidth\": 2}}}, \"title\": {\"text\": \"English keyword annotation proportion v1\"}},                        {\"responsive\": true}                    ).then(function(){\n",
       "                            \n",
       "var gd = document.getElementById('417e73ff-1103-4ec7-a5c4-20ca87628286');\n",
       "var x = new MutationObserver(function (mutations, observer) {{\n",
       "        var display = window.getComputedStyle(gd).display;\n",
       "        if (!display || display === 'none') {{\n",
       "            console.log([gd, 'removed!']);\n",
       "            Plotly.purge(gd);\n",
       "            observer.disconnect();\n",
       "        }}\n",
       "}});\n",
       "\n",
       "// Listen for the removal of the full notebook cells\n",
       "var notebookContainer = gd.closest('#notebook-container');\n",
       "if (notebookContainer) {{\n",
       "    x.observe(notebookContainer, {childList: true});\n",
       "}}\n",
       "\n",
       "// Listen for the clearing of the current output cell\n",
       "var outputEl = gd.closest('.output');\n",
       "if (outputEl) {{\n",
       "    x.observe(outputEl, {childList: true});\n",
       "}}\n",
       "\n",
       "                        })                };                });            </script>        </div>"
      ]
     },
     "metadata": {},
     "output_type": "display_data"
    },
    {
     "data": {
      "application/vnd.plotly.v1+json": {
       "config": {
        "plotlyServerURL": "https://plot.ly"
       },
       "data": [
        {
         "arrangement": "snap",
         "link": {
          "source": [
           10,
           0,
           0,
           0,
           0,
           0,
           0,
           0,
           0,
           0
          ],
          "target": [
           0,
           1,
           3,
           2,
           7,
           8,
           6,
           4,
           5,
           9
          ],
          "value": [
           0.04378072824377948,
           0.14393615505201654,
           0.0698304118569189,
           0.07695596408721676,
           0.11529143508621918,
           0.05500926321789939,
           0.016103748040473136,
           0.036910360552942854,
           0.0017101325352714834,
           0.628901239846088
          ]
         },
         "node": {
          "label": [
           "fr - 7017 - 4%",
           "economy - 1010 - 14%",
           "politics and society - 540 - 8%",
           "covid-19 - 490 - 7%",
           "technology - 259 - 4%",
           "environment - 12 - 0%",
           "military and security - 113 - 2%",
           "geopolitics - 809 - 12%",
           "chinese culture and people - 386 - 6%",
           "unannotated - 4413 - 63%",
           "source data - 160276"
          ],
          "line": {
           "color": "black",
           "width": 0.5
          },
          "pad": 15,
          "thickness": 20,
          "x": [
           0.3,
           1,
           1,
           1,
           1,
           1,
           1,
           1,
           1,
           1
          ],
          "y": [
           0.2,
           0.1,
           0.2,
           0.3,
           0.4,
           0.5,
           0.6,
           0.7,
           0.7,
           1
          ]
         },
         "type": "sankey",
         "valueformat": ".0f"
        }
       ],
       "layout": {
        "font": {
         "size": 12
        },
        "template": {
         "data": {
          "bar": [
           {
            "error_x": {
             "color": "#2a3f5f"
            },
            "error_y": {
             "color": "#2a3f5f"
            },
            "marker": {
             "line": {
              "color": "#E5ECF6",
              "width": 0.5
             }
            },
            "type": "bar"
           }
          ],
          "barpolar": [
           {
            "marker": {
             "line": {
              "color": "#E5ECF6",
              "width": 0.5
             }
            },
            "type": "barpolar"
           }
          ],
          "carpet": [
           {
            "aaxis": {
             "endlinecolor": "#2a3f5f",
             "gridcolor": "white",
             "linecolor": "white",
             "minorgridcolor": "white",
             "startlinecolor": "#2a3f5f"
            },
            "baxis": {
             "endlinecolor": "#2a3f5f",
             "gridcolor": "white",
             "linecolor": "white",
             "minorgridcolor": "white",
             "startlinecolor": "#2a3f5f"
            },
            "type": "carpet"
           }
          ],
          "choropleth": [
           {
            "colorbar": {
             "outlinewidth": 0,
             "ticks": ""
            },
            "type": "choropleth"
           }
          ],
          "contour": [
           {
            "colorbar": {
             "outlinewidth": 0,
             "ticks": ""
            },
            "colorscale": [
             [
              0,
              "#0d0887"
             ],
             [
              0.1111111111111111,
              "#46039f"
             ],
             [
              0.2222222222222222,
              "#7201a8"
             ],
             [
              0.3333333333333333,
              "#9c179e"
             ],
             [
              0.4444444444444444,
              "#bd3786"
             ],
             [
              0.5555555555555556,
              "#d8576b"
             ],
             [
              0.6666666666666666,
              "#ed7953"
             ],
             [
              0.7777777777777778,
              "#fb9f3a"
             ],
             [
              0.8888888888888888,
              "#fdca26"
             ],
             [
              1,
              "#f0f921"
             ]
            ],
            "type": "contour"
           }
          ],
          "contourcarpet": [
           {
            "colorbar": {
             "outlinewidth": 0,
             "ticks": ""
            },
            "type": "contourcarpet"
           }
          ],
          "heatmap": [
           {
            "colorbar": {
             "outlinewidth": 0,
             "ticks": ""
            },
            "colorscale": [
             [
              0,
              "#0d0887"
             ],
             [
              0.1111111111111111,
              "#46039f"
             ],
             [
              0.2222222222222222,
              "#7201a8"
             ],
             [
              0.3333333333333333,
              "#9c179e"
             ],
             [
              0.4444444444444444,
              "#bd3786"
             ],
             [
              0.5555555555555556,
              "#d8576b"
             ],
             [
              0.6666666666666666,
              "#ed7953"
             ],
             [
              0.7777777777777778,
              "#fb9f3a"
             ],
             [
              0.8888888888888888,
              "#fdca26"
             ],
             [
              1,
              "#f0f921"
             ]
            ],
            "type": "heatmap"
           }
          ],
          "heatmapgl": [
           {
            "colorbar": {
             "outlinewidth": 0,
             "ticks": ""
            },
            "colorscale": [
             [
              0,
              "#0d0887"
             ],
             [
              0.1111111111111111,
              "#46039f"
             ],
             [
              0.2222222222222222,
              "#7201a8"
             ],
             [
              0.3333333333333333,
              "#9c179e"
             ],
             [
              0.4444444444444444,
              "#bd3786"
             ],
             [
              0.5555555555555556,
              "#d8576b"
             ],
             [
              0.6666666666666666,
              "#ed7953"
             ],
             [
              0.7777777777777778,
              "#fb9f3a"
             ],
             [
              0.8888888888888888,
              "#fdca26"
             ],
             [
              1,
              "#f0f921"
             ]
            ],
            "type": "heatmapgl"
           }
          ],
          "histogram": [
           {
            "marker": {
             "colorbar": {
              "outlinewidth": 0,
              "ticks": ""
             }
            },
            "type": "histogram"
           }
          ],
          "histogram2d": [
           {
            "colorbar": {
             "outlinewidth": 0,
             "ticks": ""
            },
            "colorscale": [
             [
              0,
              "#0d0887"
             ],
             [
              0.1111111111111111,
              "#46039f"
             ],
             [
              0.2222222222222222,
              "#7201a8"
             ],
             [
              0.3333333333333333,
              "#9c179e"
             ],
             [
              0.4444444444444444,
              "#bd3786"
             ],
             [
              0.5555555555555556,
              "#d8576b"
             ],
             [
              0.6666666666666666,
              "#ed7953"
             ],
             [
              0.7777777777777778,
              "#fb9f3a"
             ],
             [
              0.8888888888888888,
              "#fdca26"
             ],
             [
              1,
              "#f0f921"
             ]
            ],
            "type": "histogram2d"
           }
          ],
          "histogram2dcontour": [
           {
            "colorbar": {
             "outlinewidth": 0,
             "ticks": ""
            },
            "colorscale": [
             [
              0,
              "#0d0887"
             ],
             [
              0.1111111111111111,
              "#46039f"
             ],
             [
              0.2222222222222222,
              "#7201a8"
             ],
             [
              0.3333333333333333,
              "#9c179e"
             ],
             [
              0.4444444444444444,
              "#bd3786"
             ],
             [
              0.5555555555555556,
              "#d8576b"
             ],
             [
              0.6666666666666666,
              "#ed7953"
             ],
             [
              0.7777777777777778,
              "#fb9f3a"
             ],
             [
              0.8888888888888888,
              "#fdca26"
             ],
             [
              1,
              "#f0f921"
             ]
            ],
            "type": "histogram2dcontour"
           }
          ],
          "mesh3d": [
           {
            "colorbar": {
             "outlinewidth": 0,
             "ticks": ""
            },
            "type": "mesh3d"
           }
          ],
          "parcoords": [
           {
            "line": {
             "colorbar": {
              "outlinewidth": 0,
              "ticks": ""
             }
            },
            "type": "parcoords"
           }
          ],
          "pie": [
           {
            "automargin": true,
            "type": "pie"
           }
          ],
          "scatter": [
           {
            "marker": {
             "colorbar": {
              "outlinewidth": 0,
              "ticks": ""
             }
            },
            "type": "scatter"
           }
          ],
          "scatter3d": [
           {
            "line": {
             "colorbar": {
              "outlinewidth": 0,
              "ticks": ""
             }
            },
            "marker": {
             "colorbar": {
              "outlinewidth": 0,
              "ticks": ""
             }
            },
            "type": "scatter3d"
           }
          ],
          "scattercarpet": [
           {
            "marker": {
             "colorbar": {
              "outlinewidth": 0,
              "ticks": ""
             }
            },
            "type": "scattercarpet"
           }
          ],
          "scattergeo": [
           {
            "marker": {
             "colorbar": {
              "outlinewidth": 0,
              "ticks": ""
             }
            },
            "type": "scattergeo"
           }
          ],
          "scattergl": [
           {
            "marker": {
             "colorbar": {
              "outlinewidth": 0,
              "ticks": ""
             }
            },
            "type": "scattergl"
           }
          ],
          "scattermapbox": [
           {
            "marker": {
             "colorbar": {
              "outlinewidth": 0,
              "ticks": ""
             }
            },
            "type": "scattermapbox"
           }
          ],
          "scatterpolar": [
           {
            "marker": {
             "colorbar": {
              "outlinewidth": 0,
              "ticks": ""
             }
            },
            "type": "scatterpolar"
           }
          ],
          "scatterpolargl": [
           {
            "marker": {
             "colorbar": {
              "outlinewidth": 0,
              "ticks": ""
             }
            },
            "type": "scatterpolargl"
           }
          ],
          "scatterternary": [
           {
            "marker": {
             "colorbar": {
              "outlinewidth": 0,
              "ticks": ""
             }
            },
            "type": "scatterternary"
           }
          ],
          "surface": [
           {
            "colorbar": {
             "outlinewidth": 0,
             "ticks": ""
            },
            "colorscale": [
             [
              0,
              "#0d0887"
             ],
             [
              0.1111111111111111,
              "#46039f"
             ],
             [
              0.2222222222222222,
              "#7201a8"
             ],
             [
              0.3333333333333333,
              "#9c179e"
             ],
             [
              0.4444444444444444,
              "#bd3786"
             ],
             [
              0.5555555555555556,
              "#d8576b"
             ],
             [
              0.6666666666666666,
              "#ed7953"
             ],
             [
              0.7777777777777778,
              "#fb9f3a"
             ],
             [
              0.8888888888888888,
              "#fdca26"
             ],
             [
              1,
              "#f0f921"
             ]
            ],
            "type": "surface"
           }
          ],
          "table": [
           {
            "cells": {
             "fill": {
              "color": "#EBF0F8"
             },
             "line": {
              "color": "white"
             }
            },
            "header": {
             "fill": {
              "color": "#C8D4E3"
             },
             "line": {
              "color": "white"
             }
            },
            "type": "table"
           }
          ]
         },
         "layout": {
          "annotationdefaults": {
           "arrowcolor": "#2a3f5f",
           "arrowhead": 0,
           "arrowwidth": 1
          },
          "autotypenumbers": "strict",
          "coloraxis": {
           "colorbar": {
            "outlinewidth": 0,
            "ticks": ""
           }
          },
          "colorscale": {
           "diverging": [
            [
             0,
             "#8e0152"
            ],
            [
             0.1,
             "#c51b7d"
            ],
            [
             0.2,
             "#de77ae"
            ],
            [
             0.3,
             "#f1b6da"
            ],
            [
             0.4,
             "#fde0ef"
            ],
            [
             0.5,
             "#f7f7f7"
            ],
            [
             0.6,
             "#e6f5d0"
            ],
            [
             0.7,
             "#b8e186"
            ],
            [
             0.8,
             "#7fbc41"
            ],
            [
             0.9,
             "#4d9221"
            ],
            [
             1,
             "#276419"
            ]
           ],
           "sequential": [
            [
             0,
             "#0d0887"
            ],
            [
             0.1111111111111111,
             "#46039f"
            ],
            [
             0.2222222222222222,
             "#7201a8"
            ],
            [
             0.3333333333333333,
             "#9c179e"
            ],
            [
             0.4444444444444444,
             "#bd3786"
            ],
            [
             0.5555555555555556,
             "#d8576b"
            ],
            [
             0.6666666666666666,
             "#ed7953"
            ],
            [
             0.7777777777777778,
             "#fb9f3a"
            ],
            [
             0.8888888888888888,
             "#fdca26"
            ],
            [
             1,
             "#f0f921"
            ]
           ],
           "sequentialminus": [
            [
             0,
             "#0d0887"
            ],
            [
             0.1111111111111111,
             "#46039f"
            ],
            [
             0.2222222222222222,
             "#7201a8"
            ],
            [
             0.3333333333333333,
             "#9c179e"
            ],
            [
             0.4444444444444444,
             "#bd3786"
            ],
            [
             0.5555555555555556,
             "#d8576b"
            ],
            [
             0.6666666666666666,
             "#ed7953"
            ],
            [
             0.7777777777777778,
             "#fb9f3a"
            ],
            [
             0.8888888888888888,
             "#fdca26"
            ],
            [
             1,
             "#f0f921"
            ]
           ]
          },
          "colorway": [
           "#636efa",
           "#EF553B",
           "#00cc96",
           "#ab63fa",
           "#FFA15A",
           "#19d3f3",
           "#FF6692",
           "#B6E880",
           "#FF97FF",
           "#FECB52"
          ],
          "font": {
           "color": "#2a3f5f"
          },
          "geo": {
           "bgcolor": "white",
           "lakecolor": "white",
           "landcolor": "#E5ECF6",
           "showlakes": true,
           "showland": true,
           "subunitcolor": "white"
          },
          "hoverlabel": {
           "align": "left"
          },
          "hovermode": "closest",
          "mapbox": {
           "style": "light"
          },
          "paper_bgcolor": "white",
          "plot_bgcolor": "#E5ECF6",
          "polar": {
           "angularaxis": {
            "gridcolor": "white",
            "linecolor": "white",
            "ticks": ""
           },
           "bgcolor": "#E5ECF6",
           "radialaxis": {
            "gridcolor": "white",
            "linecolor": "white",
            "ticks": ""
           }
          },
          "scene": {
           "xaxis": {
            "backgroundcolor": "#E5ECF6",
            "gridcolor": "white",
            "gridwidth": 2,
            "linecolor": "white",
            "showbackground": true,
            "ticks": "",
            "zerolinecolor": "white"
           },
           "yaxis": {
            "backgroundcolor": "#E5ECF6",
            "gridcolor": "white",
            "gridwidth": 2,
            "linecolor": "white",
            "showbackground": true,
            "ticks": "",
            "zerolinecolor": "white"
           },
           "zaxis": {
            "backgroundcolor": "#E5ECF6",
            "gridcolor": "white",
            "gridwidth": 2,
            "linecolor": "white",
            "showbackground": true,
            "ticks": "",
            "zerolinecolor": "white"
           }
          },
          "shapedefaults": {
           "line": {
            "color": "#2a3f5f"
           }
          },
          "ternary": {
           "aaxis": {
            "gridcolor": "white",
            "linecolor": "white",
            "ticks": ""
           },
           "baxis": {
            "gridcolor": "white",
            "linecolor": "white",
            "ticks": ""
           },
           "bgcolor": "#E5ECF6",
           "caxis": {
            "gridcolor": "white",
            "linecolor": "white",
            "ticks": ""
           }
          },
          "title": {
           "x": 0.05
          },
          "xaxis": {
           "automargin": true,
           "gridcolor": "white",
           "linecolor": "white",
           "ticks": "",
           "title": {
            "standoff": 15
           },
           "zerolinecolor": "white",
           "zerolinewidth": 2
          },
          "yaxis": {
           "automargin": true,
           "gridcolor": "white",
           "linecolor": "white",
           "ticks": "",
           "title": {
            "standoff": 15
           },
           "zerolinecolor": "white",
           "zerolinewidth": 2
          }
         }
        },
        "title": {
         "text": "French keyword annotation proportion v1"
        }
       }
      },
      "text/html": [
       "<div>                            <div id=\"1012fbec-7021-4ad7-8085-16fb5c4aacf1\" class=\"plotly-graph-div\" style=\"height:525px; width:100%;\"></div>            <script type=\"text/javascript\">                require([\"plotly\"], function(Plotly) {                    window.PLOTLYENV=window.PLOTLYENV || {};                                    if (document.getElementById(\"1012fbec-7021-4ad7-8085-16fb5c4aacf1\")) {                    Plotly.newPlot(                        \"1012fbec-7021-4ad7-8085-16fb5c4aacf1\",                        [{\"arrangement\": \"snap\", \"link\": {\"source\": [10, 0, 0, 0, 0, 0, 0, 0, 0, 0], \"target\": [0, 1, 3, 2, 7, 8, 6, 4, 5, 9], \"value\": [0.04378072824377948, 0.14393615505201654, 0.0698304118569189, 0.07695596408721676, 0.11529143508621918, 0.05500926321789939, 0.016103748040473136, 0.036910360552942854, 0.0017101325352714834, 0.628901239846088]}, \"node\": {\"label\": [\"fr - 7017 - 4%\", \"economy - 1010 - 14%\", \"politics and society - 540 - 8%\", \"covid-19 - 490 - 7%\", \"technology - 259 - 4%\", \"environment - 12 - 0%\", \"military and security - 113 - 2%\", \"geopolitics - 809 - 12%\", \"chinese culture and people - 386 - 6%\", \"unannotated - 4413 - 63%\", \"source data - 160276\"], \"line\": {\"color\": \"black\", \"width\": 0.5}, \"pad\": 15, \"thickness\": 20, \"x\": [0.3, 1, 1, 1, 1, 1, 1, 1, 1, 1], \"y\": [0.2, 0.1, 0.2, 0.3, 0.4, 0.5, 0.6, 0.7, 0.7, 1]}, \"type\": \"sankey\", \"valueformat\": \".0f\"}],                        {\"font\": {\"size\": 12}, \"template\": {\"data\": {\"bar\": [{\"error_x\": {\"color\": \"#2a3f5f\"}, \"error_y\": {\"color\": \"#2a3f5f\"}, \"marker\": {\"line\": {\"color\": \"#E5ECF6\", \"width\": 0.5}}, \"type\": \"bar\"}], \"barpolar\": [{\"marker\": {\"line\": {\"color\": \"#E5ECF6\", \"width\": 0.5}}, \"type\": \"barpolar\"}], \"carpet\": [{\"aaxis\": {\"endlinecolor\": \"#2a3f5f\", \"gridcolor\": \"white\", \"linecolor\": \"white\", \"minorgridcolor\": \"white\", \"startlinecolor\": \"#2a3f5f\"}, \"baxis\": {\"endlinecolor\": \"#2a3f5f\", \"gridcolor\": \"white\", \"linecolor\": \"white\", \"minorgridcolor\": \"white\", \"startlinecolor\": \"#2a3f5f\"}, \"type\": \"carpet\"}], \"choropleth\": [{\"colorbar\": {\"outlinewidth\": 0, \"ticks\": \"\"}, \"type\": \"choropleth\"}], \"contour\": [{\"colorbar\": {\"outlinewidth\": 0, \"ticks\": \"\"}, \"colorscale\": [[0.0, \"#0d0887\"], [0.1111111111111111, \"#46039f\"], [0.2222222222222222, \"#7201a8\"], [0.3333333333333333, \"#9c179e\"], [0.4444444444444444, \"#bd3786\"], [0.5555555555555556, \"#d8576b\"], [0.6666666666666666, \"#ed7953\"], [0.7777777777777778, \"#fb9f3a\"], [0.8888888888888888, \"#fdca26\"], [1.0, \"#f0f921\"]], \"type\": \"contour\"}], \"contourcarpet\": [{\"colorbar\": {\"outlinewidth\": 0, \"ticks\": \"\"}, \"type\": \"contourcarpet\"}], \"heatmap\": [{\"colorbar\": {\"outlinewidth\": 0, \"ticks\": \"\"}, \"colorscale\": [[0.0, \"#0d0887\"], [0.1111111111111111, \"#46039f\"], [0.2222222222222222, \"#7201a8\"], [0.3333333333333333, \"#9c179e\"], [0.4444444444444444, \"#bd3786\"], [0.5555555555555556, \"#d8576b\"], [0.6666666666666666, \"#ed7953\"], [0.7777777777777778, \"#fb9f3a\"], [0.8888888888888888, \"#fdca26\"], [1.0, \"#f0f921\"]], \"type\": \"heatmap\"}], \"heatmapgl\": [{\"colorbar\": {\"outlinewidth\": 0, \"ticks\": \"\"}, \"colorscale\": [[0.0, \"#0d0887\"], [0.1111111111111111, \"#46039f\"], [0.2222222222222222, \"#7201a8\"], [0.3333333333333333, \"#9c179e\"], [0.4444444444444444, \"#bd3786\"], [0.5555555555555556, \"#d8576b\"], [0.6666666666666666, \"#ed7953\"], [0.7777777777777778, \"#fb9f3a\"], [0.8888888888888888, \"#fdca26\"], [1.0, \"#f0f921\"]], \"type\": \"heatmapgl\"}], \"histogram\": [{\"marker\": {\"colorbar\": {\"outlinewidth\": 0, \"ticks\": \"\"}}, \"type\": \"histogram\"}], \"histogram2d\": [{\"colorbar\": {\"outlinewidth\": 0, \"ticks\": \"\"}, \"colorscale\": [[0.0, \"#0d0887\"], [0.1111111111111111, \"#46039f\"], [0.2222222222222222, \"#7201a8\"], [0.3333333333333333, \"#9c179e\"], [0.4444444444444444, \"#bd3786\"], [0.5555555555555556, \"#d8576b\"], [0.6666666666666666, \"#ed7953\"], [0.7777777777777778, \"#fb9f3a\"], [0.8888888888888888, \"#fdca26\"], [1.0, \"#f0f921\"]], \"type\": \"histogram2d\"}], \"histogram2dcontour\": [{\"colorbar\": {\"outlinewidth\": 0, \"ticks\": \"\"}, \"colorscale\": [[0.0, \"#0d0887\"], [0.1111111111111111, \"#46039f\"], [0.2222222222222222, \"#7201a8\"], [0.3333333333333333, \"#9c179e\"], [0.4444444444444444, \"#bd3786\"], [0.5555555555555556, \"#d8576b\"], [0.6666666666666666, \"#ed7953\"], [0.7777777777777778, \"#fb9f3a\"], [0.8888888888888888, \"#fdca26\"], [1.0, \"#f0f921\"]], \"type\": \"histogram2dcontour\"}], \"mesh3d\": [{\"colorbar\": {\"outlinewidth\": 0, \"ticks\": \"\"}, \"type\": \"mesh3d\"}], \"parcoords\": [{\"line\": {\"colorbar\": {\"outlinewidth\": 0, \"ticks\": \"\"}}, \"type\": \"parcoords\"}], \"pie\": [{\"automargin\": true, \"type\": \"pie\"}], \"scatter\": [{\"marker\": {\"colorbar\": {\"outlinewidth\": 0, \"ticks\": \"\"}}, \"type\": \"scatter\"}], \"scatter3d\": [{\"line\": {\"colorbar\": {\"outlinewidth\": 0, \"ticks\": \"\"}}, \"marker\": {\"colorbar\": {\"outlinewidth\": 0, \"ticks\": \"\"}}, \"type\": \"scatter3d\"}], \"scattercarpet\": [{\"marker\": {\"colorbar\": {\"outlinewidth\": 0, \"ticks\": \"\"}}, \"type\": \"scattercarpet\"}], \"scattergeo\": [{\"marker\": {\"colorbar\": {\"outlinewidth\": 0, \"ticks\": \"\"}}, \"type\": \"scattergeo\"}], \"scattergl\": [{\"marker\": {\"colorbar\": {\"outlinewidth\": 0, \"ticks\": \"\"}}, \"type\": \"scattergl\"}], \"scattermapbox\": [{\"marker\": {\"colorbar\": {\"outlinewidth\": 0, \"ticks\": \"\"}}, \"type\": \"scattermapbox\"}], \"scatterpolar\": [{\"marker\": {\"colorbar\": {\"outlinewidth\": 0, \"ticks\": \"\"}}, \"type\": \"scatterpolar\"}], \"scatterpolargl\": [{\"marker\": {\"colorbar\": {\"outlinewidth\": 0, \"ticks\": \"\"}}, \"type\": \"scatterpolargl\"}], \"scatterternary\": [{\"marker\": {\"colorbar\": {\"outlinewidth\": 0, \"ticks\": \"\"}}, \"type\": \"scatterternary\"}], \"surface\": [{\"colorbar\": {\"outlinewidth\": 0, \"ticks\": \"\"}, \"colorscale\": [[0.0, \"#0d0887\"], [0.1111111111111111, \"#46039f\"], [0.2222222222222222, \"#7201a8\"], [0.3333333333333333, \"#9c179e\"], [0.4444444444444444, \"#bd3786\"], [0.5555555555555556, \"#d8576b\"], [0.6666666666666666, \"#ed7953\"], [0.7777777777777778, \"#fb9f3a\"], [0.8888888888888888, \"#fdca26\"], [1.0, \"#f0f921\"]], \"type\": \"surface\"}], \"table\": [{\"cells\": {\"fill\": {\"color\": \"#EBF0F8\"}, \"line\": {\"color\": \"white\"}}, \"header\": {\"fill\": {\"color\": \"#C8D4E3\"}, \"line\": {\"color\": \"white\"}}, \"type\": \"table\"}]}, \"layout\": {\"annotationdefaults\": {\"arrowcolor\": \"#2a3f5f\", \"arrowhead\": 0, \"arrowwidth\": 1}, \"autotypenumbers\": \"strict\", \"coloraxis\": {\"colorbar\": {\"outlinewidth\": 0, \"ticks\": \"\"}}, \"colorscale\": {\"diverging\": [[0, \"#8e0152\"], [0.1, \"#c51b7d\"], [0.2, \"#de77ae\"], [0.3, \"#f1b6da\"], [0.4, \"#fde0ef\"], [0.5, \"#f7f7f7\"], [0.6, \"#e6f5d0\"], [0.7, \"#b8e186\"], [0.8, \"#7fbc41\"], [0.9, \"#4d9221\"], [1, \"#276419\"]], \"sequential\": [[0.0, \"#0d0887\"], [0.1111111111111111, \"#46039f\"], [0.2222222222222222, \"#7201a8\"], [0.3333333333333333, \"#9c179e\"], [0.4444444444444444, \"#bd3786\"], [0.5555555555555556, \"#d8576b\"], [0.6666666666666666, \"#ed7953\"], [0.7777777777777778, \"#fb9f3a\"], [0.8888888888888888, \"#fdca26\"], [1.0, \"#f0f921\"]], \"sequentialminus\": [[0.0, \"#0d0887\"], [0.1111111111111111, \"#46039f\"], [0.2222222222222222, \"#7201a8\"], [0.3333333333333333, \"#9c179e\"], [0.4444444444444444, \"#bd3786\"], [0.5555555555555556, \"#d8576b\"], [0.6666666666666666, \"#ed7953\"], [0.7777777777777778, \"#fb9f3a\"], [0.8888888888888888, \"#fdca26\"], [1.0, \"#f0f921\"]]}, \"colorway\": [\"#636efa\", \"#EF553B\", \"#00cc96\", \"#ab63fa\", \"#FFA15A\", \"#19d3f3\", \"#FF6692\", \"#B6E880\", \"#FF97FF\", \"#FECB52\"], \"font\": {\"color\": \"#2a3f5f\"}, \"geo\": {\"bgcolor\": \"white\", \"lakecolor\": \"white\", \"landcolor\": \"#E5ECF6\", \"showlakes\": true, \"showland\": true, \"subunitcolor\": \"white\"}, \"hoverlabel\": {\"align\": \"left\"}, \"hovermode\": \"closest\", \"mapbox\": {\"style\": \"light\"}, \"paper_bgcolor\": \"white\", \"plot_bgcolor\": \"#E5ECF6\", \"polar\": {\"angularaxis\": {\"gridcolor\": \"white\", \"linecolor\": \"white\", \"ticks\": \"\"}, \"bgcolor\": \"#E5ECF6\", \"radialaxis\": {\"gridcolor\": \"white\", \"linecolor\": \"white\", \"ticks\": \"\"}}, \"scene\": {\"xaxis\": {\"backgroundcolor\": \"#E5ECF6\", \"gridcolor\": \"white\", \"gridwidth\": 2, \"linecolor\": \"white\", \"showbackground\": true, \"ticks\": \"\", \"zerolinecolor\": \"white\"}, \"yaxis\": {\"backgroundcolor\": \"#E5ECF6\", \"gridcolor\": \"white\", \"gridwidth\": 2, \"linecolor\": \"white\", \"showbackground\": true, \"ticks\": \"\", \"zerolinecolor\": \"white\"}, \"zaxis\": {\"backgroundcolor\": \"#E5ECF6\", \"gridcolor\": \"white\", \"gridwidth\": 2, \"linecolor\": \"white\", \"showbackground\": true, \"ticks\": \"\", \"zerolinecolor\": \"white\"}}, \"shapedefaults\": {\"line\": {\"color\": \"#2a3f5f\"}}, \"ternary\": {\"aaxis\": {\"gridcolor\": \"white\", \"linecolor\": \"white\", \"ticks\": \"\"}, \"baxis\": {\"gridcolor\": \"white\", \"linecolor\": \"white\", \"ticks\": \"\"}, \"bgcolor\": \"#E5ECF6\", \"caxis\": {\"gridcolor\": \"white\", \"linecolor\": \"white\", \"ticks\": \"\"}}, \"title\": {\"x\": 0.05}, \"xaxis\": {\"automargin\": true, \"gridcolor\": \"white\", \"linecolor\": \"white\", \"ticks\": \"\", \"title\": {\"standoff\": 15}, \"zerolinecolor\": \"white\", \"zerolinewidth\": 2}, \"yaxis\": {\"automargin\": true, \"gridcolor\": \"white\", \"linecolor\": \"white\", \"ticks\": \"\", \"title\": {\"standoff\": 15}, \"zerolinecolor\": \"white\", \"zerolinewidth\": 2}}}, \"title\": {\"text\": \"French keyword annotation proportion v1\"}},                        {\"responsive\": true}                    ).then(function(){\n",
       "                            \n",
       "var gd = document.getElementById('1012fbec-7021-4ad7-8085-16fb5c4aacf1');\n",
       "var x = new MutationObserver(function (mutations, observer) {{\n",
       "        var display = window.getComputedStyle(gd).display;\n",
       "        if (!display || display === 'none') {{\n",
       "            console.log([gd, 'removed!']);\n",
       "            Plotly.purge(gd);\n",
       "            observer.disconnect();\n",
       "        }}\n",
       "}});\n",
       "\n",
       "// Listen for the removal of the full notebook cells\n",
       "var notebookContainer = gd.closest('#notebook-container');\n",
       "if (notebookContainer) {{\n",
       "    x.observe(notebookContainer, {childList: true});\n",
       "}}\n",
       "\n",
       "// Listen for the clearing of the current output cell\n",
       "var outputEl = gd.closest('.output');\n",
       "if (outputEl) {{\n",
       "    x.observe(outputEl, {childList: true});\n",
       "}}\n",
       "\n",
       "                        })                };                });            </script>        </div>"
      ]
     },
     "metadata": {},
     "output_type": "display_data"
    },
    {
     "data": {
      "application/vnd.plotly.v1+json": {
       "config": {
        "plotlyServerURL": "https://plot.ly"
       },
       "data": [
        {
         "arrangement": "snap",
         "link": {
          "source": [
           10,
           0,
           0,
           0,
           0,
           0,
           0,
           0,
           0,
           0
          ],
          "target": [
           0,
           1,
           3,
           2,
           7,
           8,
           6,
           4,
           5,
           9
          ],
          "value": [
           0.059029424243180514,
           0.10897368142902442,
           0.08159813973152943,
           0.08180953387591164,
           0.19987316351337067,
           0.07483352711129902,
           0.014797590106754042,
           0.0028538209491597083,
           0.0064475214036571185,
           0.5749920727195856
          ]
         },
         "node": {
          "label": [
           "es - 9461 - 6%",
           "economy - 1031 - 11%",
           "politics and society - 774 - 8%",
           "covid-19 - 772 - 8%",
           "technology - 27 - 0%",
           "environment - 61 - 1%",
           "military and security - 140 - 1%",
           "geopolitics - 1891 - 20%",
           "chinese culture and people - 708 - 7%",
           "unannotated - 5440 - 57%",
           "source data - 160276"
          ],
          "line": {
           "color": "black",
           "width": 0.5
          },
          "pad": 15,
          "thickness": 20,
          "x": [
           0.3,
           1,
           1,
           1,
           1,
           1,
           1,
           1,
           1,
           1
          ],
          "y": [
           0.2,
           0.1,
           0.2,
           0.3,
           0.4,
           0.5,
           0.6,
           0.7,
           0.7,
           1
          ]
         },
         "type": "sankey",
         "valueformat": ".0f"
        }
       ],
       "layout": {
        "font": {
         "size": 12
        },
        "template": {
         "data": {
          "bar": [
           {
            "error_x": {
             "color": "#2a3f5f"
            },
            "error_y": {
             "color": "#2a3f5f"
            },
            "marker": {
             "line": {
              "color": "#E5ECF6",
              "width": 0.5
             }
            },
            "type": "bar"
           }
          ],
          "barpolar": [
           {
            "marker": {
             "line": {
              "color": "#E5ECF6",
              "width": 0.5
             }
            },
            "type": "barpolar"
           }
          ],
          "carpet": [
           {
            "aaxis": {
             "endlinecolor": "#2a3f5f",
             "gridcolor": "white",
             "linecolor": "white",
             "minorgridcolor": "white",
             "startlinecolor": "#2a3f5f"
            },
            "baxis": {
             "endlinecolor": "#2a3f5f",
             "gridcolor": "white",
             "linecolor": "white",
             "minorgridcolor": "white",
             "startlinecolor": "#2a3f5f"
            },
            "type": "carpet"
           }
          ],
          "choropleth": [
           {
            "colorbar": {
             "outlinewidth": 0,
             "ticks": ""
            },
            "type": "choropleth"
           }
          ],
          "contour": [
           {
            "colorbar": {
             "outlinewidth": 0,
             "ticks": ""
            },
            "colorscale": [
             [
              0,
              "#0d0887"
             ],
             [
              0.1111111111111111,
              "#46039f"
             ],
             [
              0.2222222222222222,
              "#7201a8"
             ],
             [
              0.3333333333333333,
              "#9c179e"
             ],
             [
              0.4444444444444444,
              "#bd3786"
             ],
             [
              0.5555555555555556,
              "#d8576b"
             ],
             [
              0.6666666666666666,
              "#ed7953"
             ],
             [
              0.7777777777777778,
              "#fb9f3a"
             ],
             [
              0.8888888888888888,
              "#fdca26"
             ],
             [
              1,
              "#f0f921"
             ]
            ],
            "type": "contour"
           }
          ],
          "contourcarpet": [
           {
            "colorbar": {
             "outlinewidth": 0,
             "ticks": ""
            },
            "type": "contourcarpet"
           }
          ],
          "heatmap": [
           {
            "colorbar": {
             "outlinewidth": 0,
             "ticks": ""
            },
            "colorscale": [
             [
              0,
              "#0d0887"
             ],
             [
              0.1111111111111111,
              "#46039f"
             ],
             [
              0.2222222222222222,
              "#7201a8"
             ],
             [
              0.3333333333333333,
              "#9c179e"
             ],
             [
              0.4444444444444444,
              "#bd3786"
             ],
             [
              0.5555555555555556,
              "#d8576b"
             ],
             [
              0.6666666666666666,
              "#ed7953"
             ],
             [
              0.7777777777777778,
              "#fb9f3a"
             ],
             [
              0.8888888888888888,
              "#fdca26"
             ],
             [
              1,
              "#f0f921"
             ]
            ],
            "type": "heatmap"
           }
          ],
          "heatmapgl": [
           {
            "colorbar": {
             "outlinewidth": 0,
             "ticks": ""
            },
            "colorscale": [
             [
              0,
              "#0d0887"
             ],
             [
              0.1111111111111111,
              "#46039f"
             ],
             [
              0.2222222222222222,
              "#7201a8"
             ],
             [
              0.3333333333333333,
              "#9c179e"
             ],
             [
              0.4444444444444444,
              "#bd3786"
             ],
             [
              0.5555555555555556,
              "#d8576b"
             ],
             [
              0.6666666666666666,
              "#ed7953"
             ],
             [
              0.7777777777777778,
              "#fb9f3a"
             ],
             [
              0.8888888888888888,
              "#fdca26"
             ],
             [
              1,
              "#f0f921"
             ]
            ],
            "type": "heatmapgl"
           }
          ],
          "histogram": [
           {
            "marker": {
             "colorbar": {
              "outlinewidth": 0,
              "ticks": ""
             }
            },
            "type": "histogram"
           }
          ],
          "histogram2d": [
           {
            "colorbar": {
             "outlinewidth": 0,
             "ticks": ""
            },
            "colorscale": [
             [
              0,
              "#0d0887"
             ],
             [
              0.1111111111111111,
              "#46039f"
             ],
             [
              0.2222222222222222,
              "#7201a8"
             ],
             [
              0.3333333333333333,
              "#9c179e"
             ],
             [
              0.4444444444444444,
              "#bd3786"
             ],
             [
              0.5555555555555556,
              "#d8576b"
             ],
             [
              0.6666666666666666,
              "#ed7953"
             ],
             [
              0.7777777777777778,
              "#fb9f3a"
             ],
             [
              0.8888888888888888,
              "#fdca26"
             ],
             [
              1,
              "#f0f921"
             ]
            ],
            "type": "histogram2d"
           }
          ],
          "histogram2dcontour": [
           {
            "colorbar": {
             "outlinewidth": 0,
             "ticks": ""
            },
            "colorscale": [
             [
              0,
              "#0d0887"
             ],
             [
              0.1111111111111111,
              "#46039f"
             ],
             [
              0.2222222222222222,
              "#7201a8"
             ],
             [
              0.3333333333333333,
              "#9c179e"
             ],
             [
              0.4444444444444444,
              "#bd3786"
             ],
             [
              0.5555555555555556,
              "#d8576b"
             ],
             [
              0.6666666666666666,
              "#ed7953"
             ],
             [
              0.7777777777777778,
              "#fb9f3a"
             ],
             [
              0.8888888888888888,
              "#fdca26"
             ],
             [
              1,
              "#f0f921"
             ]
            ],
            "type": "histogram2dcontour"
           }
          ],
          "mesh3d": [
           {
            "colorbar": {
             "outlinewidth": 0,
             "ticks": ""
            },
            "type": "mesh3d"
           }
          ],
          "parcoords": [
           {
            "line": {
             "colorbar": {
              "outlinewidth": 0,
              "ticks": ""
             }
            },
            "type": "parcoords"
           }
          ],
          "pie": [
           {
            "automargin": true,
            "type": "pie"
           }
          ],
          "scatter": [
           {
            "marker": {
             "colorbar": {
              "outlinewidth": 0,
              "ticks": ""
             }
            },
            "type": "scatter"
           }
          ],
          "scatter3d": [
           {
            "line": {
             "colorbar": {
              "outlinewidth": 0,
              "ticks": ""
             }
            },
            "marker": {
             "colorbar": {
              "outlinewidth": 0,
              "ticks": ""
             }
            },
            "type": "scatter3d"
           }
          ],
          "scattercarpet": [
           {
            "marker": {
             "colorbar": {
              "outlinewidth": 0,
              "ticks": ""
             }
            },
            "type": "scattercarpet"
           }
          ],
          "scattergeo": [
           {
            "marker": {
             "colorbar": {
              "outlinewidth": 0,
              "ticks": ""
             }
            },
            "type": "scattergeo"
           }
          ],
          "scattergl": [
           {
            "marker": {
             "colorbar": {
              "outlinewidth": 0,
              "ticks": ""
             }
            },
            "type": "scattergl"
           }
          ],
          "scattermapbox": [
           {
            "marker": {
             "colorbar": {
              "outlinewidth": 0,
              "ticks": ""
             }
            },
            "type": "scattermapbox"
           }
          ],
          "scatterpolar": [
           {
            "marker": {
             "colorbar": {
              "outlinewidth": 0,
              "ticks": ""
             }
            },
            "type": "scatterpolar"
           }
          ],
          "scatterpolargl": [
           {
            "marker": {
             "colorbar": {
              "outlinewidth": 0,
              "ticks": ""
             }
            },
            "type": "scatterpolargl"
           }
          ],
          "scatterternary": [
           {
            "marker": {
             "colorbar": {
              "outlinewidth": 0,
              "ticks": ""
             }
            },
            "type": "scatterternary"
           }
          ],
          "surface": [
           {
            "colorbar": {
             "outlinewidth": 0,
             "ticks": ""
            },
            "colorscale": [
             [
              0,
              "#0d0887"
             ],
             [
              0.1111111111111111,
              "#46039f"
             ],
             [
              0.2222222222222222,
              "#7201a8"
             ],
             [
              0.3333333333333333,
              "#9c179e"
             ],
             [
              0.4444444444444444,
              "#bd3786"
             ],
             [
              0.5555555555555556,
              "#d8576b"
             ],
             [
              0.6666666666666666,
              "#ed7953"
             ],
             [
              0.7777777777777778,
              "#fb9f3a"
             ],
             [
              0.8888888888888888,
              "#fdca26"
             ],
             [
              1,
              "#f0f921"
             ]
            ],
            "type": "surface"
           }
          ],
          "table": [
           {
            "cells": {
             "fill": {
              "color": "#EBF0F8"
             },
             "line": {
              "color": "white"
             }
            },
            "header": {
             "fill": {
              "color": "#C8D4E3"
             },
             "line": {
              "color": "white"
             }
            },
            "type": "table"
           }
          ]
         },
         "layout": {
          "annotationdefaults": {
           "arrowcolor": "#2a3f5f",
           "arrowhead": 0,
           "arrowwidth": 1
          },
          "autotypenumbers": "strict",
          "coloraxis": {
           "colorbar": {
            "outlinewidth": 0,
            "ticks": ""
           }
          },
          "colorscale": {
           "diverging": [
            [
             0,
             "#8e0152"
            ],
            [
             0.1,
             "#c51b7d"
            ],
            [
             0.2,
             "#de77ae"
            ],
            [
             0.3,
             "#f1b6da"
            ],
            [
             0.4,
             "#fde0ef"
            ],
            [
             0.5,
             "#f7f7f7"
            ],
            [
             0.6,
             "#e6f5d0"
            ],
            [
             0.7,
             "#b8e186"
            ],
            [
             0.8,
             "#7fbc41"
            ],
            [
             0.9,
             "#4d9221"
            ],
            [
             1,
             "#276419"
            ]
           ],
           "sequential": [
            [
             0,
             "#0d0887"
            ],
            [
             0.1111111111111111,
             "#46039f"
            ],
            [
             0.2222222222222222,
             "#7201a8"
            ],
            [
             0.3333333333333333,
             "#9c179e"
            ],
            [
             0.4444444444444444,
             "#bd3786"
            ],
            [
             0.5555555555555556,
             "#d8576b"
            ],
            [
             0.6666666666666666,
             "#ed7953"
            ],
            [
             0.7777777777777778,
             "#fb9f3a"
            ],
            [
             0.8888888888888888,
             "#fdca26"
            ],
            [
             1,
             "#f0f921"
            ]
           ],
           "sequentialminus": [
            [
             0,
             "#0d0887"
            ],
            [
             0.1111111111111111,
             "#46039f"
            ],
            [
             0.2222222222222222,
             "#7201a8"
            ],
            [
             0.3333333333333333,
             "#9c179e"
            ],
            [
             0.4444444444444444,
             "#bd3786"
            ],
            [
             0.5555555555555556,
             "#d8576b"
            ],
            [
             0.6666666666666666,
             "#ed7953"
            ],
            [
             0.7777777777777778,
             "#fb9f3a"
            ],
            [
             0.8888888888888888,
             "#fdca26"
            ],
            [
             1,
             "#f0f921"
            ]
           ]
          },
          "colorway": [
           "#636efa",
           "#EF553B",
           "#00cc96",
           "#ab63fa",
           "#FFA15A",
           "#19d3f3",
           "#FF6692",
           "#B6E880",
           "#FF97FF",
           "#FECB52"
          ],
          "font": {
           "color": "#2a3f5f"
          },
          "geo": {
           "bgcolor": "white",
           "lakecolor": "white",
           "landcolor": "#E5ECF6",
           "showlakes": true,
           "showland": true,
           "subunitcolor": "white"
          },
          "hoverlabel": {
           "align": "left"
          },
          "hovermode": "closest",
          "mapbox": {
           "style": "light"
          },
          "paper_bgcolor": "white",
          "plot_bgcolor": "#E5ECF6",
          "polar": {
           "angularaxis": {
            "gridcolor": "white",
            "linecolor": "white",
            "ticks": ""
           },
           "bgcolor": "#E5ECF6",
           "radialaxis": {
            "gridcolor": "white",
            "linecolor": "white",
            "ticks": ""
           }
          },
          "scene": {
           "xaxis": {
            "backgroundcolor": "#E5ECF6",
            "gridcolor": "white",
            "gridwidth": 2,
            "linecolor": "white",
            "showbackground": true,
            "ticks": "",
            "zerolinecolor": "white"
           },
           "yaxis": {
            "backgroundcolor": "#E5ECF6",
            "gridcolor": "white",
            "gridwidth": 2,
            "linecolor": "white",
            "showbackground": true,
            "ticks": "",
            "zerolinecolor": "white"
           },
           "zaxis": {
            "backgroundcolor": "#E5ECF6",
            "gridcolor": "white",
            "gridwidth": 2,
            "linecolor": "white",
            "showbackground": true,
            "ticks": "",
            "zerolinecolor": "white"
           }
          },
          "shapedefaults": {
           "line": {
            "color": "#2a3f5f"
           }
          },
          "ternary": {
           "aaxis": {
            "gridcolor": "white",
            "linecolor": "white",
            "ticks": ""
           },
           "baxis": {
            "gridcolor": "white",
            "linecolor": "white",
            "ticks": ""
           },
           "bgcolor": "#E5ECF6",
           "caxis": {
            "gridcolor": "white",
            "linecolor": "white",
            "ticks": ""
           }
          },
          "title": {
           "x": 0.05
          },
          "xaxis": {
           "automargin": true,
           "gridcolor": "white",
           "linecolor": "white",
           "ticks": "",
           "title": {
            "standoff": 15
           },
           "zerolinecolor": "white",
           "zerolinewidth": 2
          },
          "yaxis": {
           "automargin": true,
           "gridcolor": "white",
           "linecolor": "white",
           "ticks": "",
           "title": {
            "standoff": 15
           },
           "zerolinecolor": "white",
           "zerolinewidth": 2
          }
         }
        },
        "title": {
         "text": "Spanish keyword annotation proportion v1"
        }
       }
      },
      "text/html": [
       "<div>                            <div id=\"37adad01-c201-42a9-a4d8-37c13714320d\" class=\"plotly-graph-div\" style=\"height:525px; width:100%;\"></div>            <script type=\"text/javascript\">                require([\"plotly\"], function(Plotly) {                    window.PLOTLYENV=window.PLOTLYENV || {};                                    if (document.getElementById(\"37adad01-c201-42a9-a4d8-37c13714320d\")) {                    Plotly.newPlot(                        \"37adad01-c201-42a9-a4d8-37c13714320d\",                        [{\"arrangement\": \"snap\", \"link\": {\"source\": [10, 0, 0, 0, 0, 0, 0, 0, 0, 0], \"target\": [0, 1, 3, 2, 7, 8, 6, 4, 5, 9], \"value\": [0.059029424243180514, 0.10897368142902442, 0.08159813973152943, 0.08180953387591164, 0.19987316351337067, 0.07483352711129902, 0.014797590106754042, 0.0028538209491597083, 0.0064475214036571185, 0.5749920727195856]}, \"node\": {\"label\": [\"es - 9461 - 6%\", \"economy - 1031 - 11%\", \"politics and society - 774 - 8%\", \"covid-19 - 772 - 8%\", \"technology - 27 - 0%\", \"environment - 61 - 1%\", \"military and security - 140 - 1%\", \"geopolitics - 1891 - 20%\", \"chinese culture and people - 708 - 7%\", \"unannotated - 5440 - 57%\", \"source data - 160276\"], \"line\": {\"color\": \"black\", \"width\": 0.5}, \"pad\": 15, \"thickness\": 20, \"x\": [0.3, 1, 1, 1, 1, 1, 1, 1, 1, 1], \"y\": [0.2, 0.1, 0.2, 0.3, 0.4, 0.5, 0.6, 0.7, 0.7, 1]}, \"type\": \"sankey\", \"valueformat\": \".0f\"}],                        {\"font\": {\"size\": 12}, \"template\": {\"data\": {\"bar\": [{\"error_x\": {\"color\": \"#2a3f5f\"}, \"error_y\": {\"color\": \"#2a3f5f\"}, \"marker\": {\"line\": {\"color\": \"#E5ECF6\", \"width\": 0.5}}, \"type\": \"bar\"}], \"barpolar\": [{\"marker\": {\"line\": {\"color\": \"#E5ECF6\", \"width\": 0.5}}, \"type\": \"barpolar\"}], \"carpet\": [{\"aaxis\": {\"endlinecolor\": \"#2a3f5f\", \"gridcolor\": \"white\", \"linecolor\": \"white\", \"minorgridcolor\": \"white\", \"startlinecolor\": \"#2a3f5f\"}, \"baxis\": {\"endlinecolor\": \"#2a3f5f\", \"gridcolor\": \"white\", \"linecolor\": \"white\", \"minorgridcolor\": \"white\", \"startlinecolor\": \"#2a3f5f\"}, \"type\": \"carpet\"}], \"choropleth\": [{\"colorbar\": {\"outlinewidth\": 0, \"ticks\": \"\"}, \"type\": \"choropleth\"}], \"contour\": [{\"colorbar\": {\"outlinewidth\": 0, \"ticks\": \"\"}, \"colorscale\": [[0.0, \"#0d0887\"], [0.1111111111111111, \"#46039f\"], [0.2222222222222222, \"#7201a8\"], [0.3333333333333333, \"#9c179e\"], [0.4444444444444444, \"#bd3786\"], [0.5555555555555556, \"#d8576b\"], [0.6666666666666666, \"#ed7953\"], [0.7777777777777778, \"#fb9f3a\"], [0.8888888888888888, \"#fdca26\"], [1.0, \"#f0f921\"]], \"type\": \"contour\"}], \"contourcarpet\": [{\"colorbar\": {\"outlinewidth\": 0, \"ticks\": \"\"}, \"type\": \"contourcarpet\"}], \"heatmap\": [{\"colorbar\": {\"outlinewidth\": 0, \"ticks\": \"\"}, \"colorscale\": [[0.0, \"#0d0887\"], [0.1111111111111111, \"#46039f\"], [0.2222222222222222, \"#7201a8\"], [0.3333333333333333, \"#9c179e\"], [0.4444444444444444, \"#bd3786\"], [0.5555555555555556, \"#d8576b\"], [0.6666666666666666, \"#ed7953\"], [0.7777777777777778, \"#fb9f3a\"], [0.8888888888888888, \"#fdca26\"], [1.0, \"#f0f921\"]], \"type\": \"heatmap\"}], \"heatmapgl\": [{\"colorbar\": {\"outlinewidth\": 0, \"ticks\": \"\"}, \"colorscale\": [[0.0, \"#0d0887\"], [0.1111111111111111, \"#46039f\"], [0.2222222222222222, \"#7201a8\"], [0.3333333333333333, \"#9c179e\"], [0.4444444444444444, \"#bd3786\"], [0.5555555555555556, \"#d8576b\"], [0.6666666666666666, \"#ed7953\"], [0.7777777777777778, \"#fb9f3a\"], [0.8888888888888888, \"#fdca26\"], [1.0, \"#f0f921\"]], \"type\": \"heatmapgl\"}], \"histogram\": [{\"marker\": {\"colorbar\": {\"outlinewidth\": 0, \"ticks\": \"\"}}, \"type\": \"histogram\"}], \"histogram2d\": [{\"colorbar\": {\"outlinewidth\": 0, \"ticks\": \"\"}, \"colorscale\": [[0.0, \"#0d0887\"], [0.1111111111111111, \"#46039f\"], [0.2222222222222222, \"#7201a8\"], [0.3333333333333333, \"#9c179e\"], [0.4444444444444444, \"#bd3786\"], [0.5555555555555556, \"#d8576b\"], [0.6666666666666666, \"#ed7953\"], [0.7777777777777778, \"#fb9f3a\"], [0.8888888888888888, \"#fdca26\"], [1.0, \"#f0f921\"]], \"type\": \"histogram2d\"}], \"histogram2dcontour\": [{\"colorbar\": {\"outlinewidth\": 0, \"ticks\": \"\"}, \"colorscale\": [[0.0, \"#0d0887\"], [0.1111111111111111, \"#46039f\"], [0.2222222222222222, \"#7201a8\"], [0.3333333333333333, \"#9c179e\"], [0.4444444444444444, \"#bd3786\"], [0.5555555555555556, \"#d8576b\"], [0.6666666666666666, \"#ed7953\"], [0.7777777777777778, \"#fb9f3a\"], [0.8888888888888888, \"#fdca26\"], [1.0, \"#f0f921\"]], \"type\": \"histogram2dcontour\"}], \"mesh3d\": [{\"colorbar\": {\"outlinewidth\": 0, \"ticks\": \"\"}, \"type\": \"mesh3d\"}], \"parcoords\": [{\"line\": {\"colorbar\": {\"outlinewidth\": 0, \"ticks\": \"\"}}, \"type\": \"parcoords\"}], \"pie\": [{\"automargin\": true, \"type\": \"pie\"}], \"scatter\": [{\"marker\": {\"colorbar\": {\"outlinewidth\": 0, \"ticks\": \"\"}}, \"type\": \"scatter\"}], \"scatter3d\": [{\"line\": {\"colorbar\": {\"outlinewidth\": 0, \"ticks\": \"\"}}, \"marker\": {\"colorbar\": {\"outlinewidth\": 0, \"ticks\": \"\"}}, \"type\": \"scatter3d\"}], \"scattercarpet\": [{\"marker\": {\"colorbar\": {\"outlinewidth\": 0, \"ticks\": \"\"}}, \"type\": \"scattercarpet\"}], \"scattergeo\": [{\"marker\": {\"colorbar\": {\"outlinewidth\": 0, \"ticks\": \"\"}}, \"type\": \"scattergeo\"}], \"scattergl\": [{\"marker\": {\"colorbar\": {\"outlinewidth\": 0, \"ticks\": \"\"}}, \"type\": \"scattergl\"}], \"scattermapbox\": [{\"marker\": {\"colorbar\": {\"outlinewidth\": 0, \"ticks\": \"\"}}, \"type\": \"scattermapbox\"}], \"scatterpolar\": [{\"marker\": {\"colorbar\": {\"outlinewidth\": 0, \"ticks\": \"\"}}, \"type\": \"scatterpolar\"}], \"scatterpolargl\": [{\"marker\": {\"colorbar\": {\"outlinewidth\": 0, \"ticks\": \"\"}}, \"type\": \"scatterpolargl\"}], \"scatterternary\": [{\"marker\": {\"colorbar\": {\"outlinewidth\": 0, \"ticks\": \"\"}}, \"type\": \"scatterternary\"}], \"surface\": [{\"colorbar\": {\"outlinewidth\": 0, \"ticks\": \"\"}, \"colorscale\": [[0.0, \"#0d0887\"], [0.1111111111111111, \"#46039f\"], [0.2222222222222222, \"#7201a8\"], [0.3333333333333333, \"#9c179e\"], [0.4444444444444444, \"#bd3786\"], [0.5555555555555556, \"#d8576b\"], [0.6666666666666666, \"#ed7953\"], [0.7777777777777778, \"#fb9f3a\"], [0.8888888888888888, \"#fdca26\"], [1.0, \"#f0f921\"]], \"type\": \"surface\"}], \"table\": [{\"cells\": {\"fill\": {\"color\": \"#EBF0F8\"}, \"line\": {\"color\": \"white\"}}, \"header\": {\"fill\": {\"color\": \"#C8D4E3\"}, \"line\": {\"color\": \"white\"}}, \"type\": \"table\"}]}, \"layout\": {\"annotationdefaults\": {\"arrowcolor\": \"#2a3f5f\", \"arrowhead\": 0, \"arrowwidth\": 1}, \"autotypenumbers\": \"strict\", \"coloraxis\": {\"colorbar\": {\"outlinewidth\": 0, \"ticks\": \"\"}}, \"colorscale\": {\"diverging\": [[0, \"#8e0152\"], [0.1, \"#c51b7d\"], [0.2, \"#de77ae\"], [0.3, \"#f1b6da\"], [0.4, \"#fde0ef\"], [0.5, \"#f7f7f7\"], [0.6, \"#e6f5d0\"], [0.7, \"#b8e186\"], [0.8, \"#7fbc41\"], [0.9, \"#4d9221\"], [1, \"#276419\"]], \"sequential\": [[0.0, \"#0d0887\"], [0.1111111111111111, \"#46039f\"], [0.2222222222222222, \"#7201a8\"], [0.3333333333333333, \"#9c179e\"], [0.4444444444444444, \"#bd3786\"], [0.5555555555555556, \"#d8576b\"], [0.6666666666666666, \"#ed7953\"], [0.7777777777777778, \"#fb9f3a\"], [0.8888888888888888, \"#fdca26\"], [1.0, \"#f0f921\"]], \"sequentialminus\": [[0.0, \"#0d0887\"], [0.1111111111111111, \"#46039f\"], [0.2222222222222222, \"#7201a8\"], [0.3333333333333333, \"#9c179e\"], [0.4444444444444444, \"#bd3786\"], [0.5555555555555556, \"#d8576b\"], [0.6666666666666666, \"#ed7953\"], [0.7777777777777778, \"#fb9f3a\"], [0.8888888888888888, \"#fdca26\"], [1.0, \"#f0f921\"]]}, \"colorway\": [\"#636efa\", \"#EF553B\", \"#00cc96\", \"#ab63fa\", \"#FFA15A\", \"#19d3f3\", \"#FF6692\", \"#B6E880\", \"#FF97FF\", \"#FECB52\"], \"font\": {\"color\": \"#2a3f5f\"}, \"geo\": {\"bgcolor\": \"white\", \"lakecolor\": \"white\", \"landcolor\": \"#E5ECF6\", \"showlakes\": true, \"showland\": true, \"subunitcolor\": \"white\"}, \"hoverlabel\": {\"align\": \"left\"}, \"hovermode\": \"closest\", \"mapbox\": {\"style\": \"light\"}, \"paper_bgcolor\": \"white\", \"plot_bgcolor\": \"#E5ECF6\", \"polar\": {\"angularaxis\": {\"gridcolor\": \"white\", \"linecolor\": \"white\", \"ticks\": \"\"}, \"bgcolor\": \"#E5ECF6\", \"radialaxis\": {\"gridcolor\": \"white\", \"linecolor\": \"white\", \"ticks\": \"\"}}, \"scene\": {\"xaxis\": {\"backgroundcolor\": \"#E5ECF6\", \"gridcolor\": \"white\", \"gridwidth\": 2, \"linecolor\": \"white\", \"showbackground\": true, \"ticks\": \"\", \"zerolinecolor\": \"white\"}, \"yaxis\": {\"backgroundcolor\": \"#E5ECF6\", \"gridcolor\": \"white\", \"gridwidth\": 2, \"linecolor\": \"white\", \"showbackground\": true, \"ticks\": \"\", \"zerolinecolor\": \"white\"}, \"zaxis\": {\"backgroundcolor\": \"#E5ECF6\", \"gridcolor\": \"white\", \"gridwidth\": 2, \"linecolor\": \"white\", \"showbackground\": true, \"ticks\": \"\", \"zerolinecolor\": \"white\"}}, \"shapedefaults\": {\"line\": {\"color\": \"#2a3f5f\"}}, \"ternary\": {\"aaxis\": {\"gridcolor\": \"white\", \"linecolor\": \"white\", \"ticks\": \"\"}, \"baxis\": {\"gridcolor\": \"white\", \"linecolor\": \"white\", \"ticks\": \"\"}, \"bgcolor\": \"#E5ECF6\", \"caxis\": {\"gridcolor\": \"white\", \"linecolor\": \"white\", \"ticks\": \"\"}}, \"title\": {\"x\": 0.05}, \"xaxis\": {\"automargin\": true, \"gridcolor\": \"white\", \"linecolor\": \"white\", \"ticks\": \"\", \"title\": {\"standoff\": 15}, \"zerolinecolor\": \"white\", \"zerolinewidth\": 2}, \"yaxis\": {\"automargin\": true, \"gridcolor\": \"white\", \"linecolor\": \"white\", \"ticks\": \"\", \"title\": {\"standoff\": 15}, \"zerolinecolor\": \"white\", \"zerolinewidth\": 2}}}, \"title\": {\"text\": \"Spanish keyword annotation proportion v1\"}},                        {\"responsive\": true}                    ).then(function(){\n",
       "                            \n",
       "var gd = document.getElementById('37adad01-c201-42a9-a4d8-37c13714320d');\n",
       "var x = new MutationObserver(function (mutations, observer) {{\n",
       "        var display = window.getComputedStyle(gd).display;\n",
       "        if (!display || display === 'none') {{\n",
       "            console.log([gd, 'removed!']);\n",
       "            Plotly.purge(gd);\n",
       "            observer.disconnect();\n",
       "        }}\n",
       "}});\n",
       "\n",
       "// Listen for the removal of the full notebook cells\n",
       "var notebookContainer = gd.closest('#notebook-container');\n",
       "if (notebookContainer) {{\n",
       "    x.observe(notebookContainer, {childList: true});\n",
       "}}\n",
       "\n",
       "// Listen for the clearing of the current output cell\n",
       "var outputEl = gd.closest('.output');\n",
       "if (outputEl) {{\n",
       "    x.observe(outputEl, {childList: true});\n",
       "}}\n",
       "\n",
       "                        })                };                });            </script>        </div>"
      ]
     },
     "metadata": {},
     "output_type": "display_data"
    },
    {
     "data": {
      "text/html": [
       "<style  type=\"text/css\" >\n",
       "#T_033888fe_9ea2_11eb_a00a_acde48001122row0_col0,#T_033888fe_9ea2_11eb_a00a_acde48001122row1_col1,#T_033888fe_9ea2_11eb_a00a_acde48001122row2_col2,#T_033888fe_9ea2_11eb_a00a_acde48001122row3_col3,#T_033888fe_9ea2_11eb_a00a_acde48001122row4_col4,#T_033888fe_9ea2_11eb_a00a_acde48001122row5_col5,#T_033888fe_9ea2_11eb_a00a_acde48001122row6_col6,#T_033888fe_9ea2_11eb_a00a_acde48001122row7_col7{\n",
       "            background-color:  #fde725;\n",
       "            color:  #000000;\n",
       "            font-size:  20px;\n",
       "            background-color:  #fde725;\n",
       "            color:  #000000;\n",
       "            font-size:  20px;\n",
       "        }#T_033888fe_9ea2_11eb_a00a_acde48001122row0_col1,#T_033888fe_9ea2_11eb_a00a_acde48001122row0_col2,#T_033888fe_9ea2_11eb_a00a_acde48001122row0_col3,#T_033888fe_9ea2_11eb_a00a_acde48001122row0_col4,#T_033888fe_9ea2_11eb_a00a_acde48001122row0_col5,#T_033888fe_9ea2_11eb_a00a_acde48001122row0_col6,#T_033888fe_9ea2_11eb_a00a_acde48001122row0_col7,#T_033888fe_9ea2_11eb_a00a_acde48001122row1_col2,#T_033888fe_9ea2_11eb_a00a_acde48001122row1_col3,#T_033888fe_9ea2_11eb_a00a_acde48001122row1_col4,#T_033888fe_9ea2_11eb_a00a_acde48001122row1_col5,#T_033888fe_9ea2_11eb_a00a_acde48001122row1_col6,#T_033888fe_9ea2_11eb_a00a_acde48001122row1_col7,#T_033888fe_9ea2_11eb_a00a_acde48001122row2_col3,#T_033888fe_9ea2_11eb_a00a_acde48001122row2_col4,#T_033888fe_9ea2_11eb_a00a_acde48001122row2_col5,#T_033888fe_9ea2_11eb_a00a_acde48001122row2_col6,#T_033888fe_9ea2_11eb_a00a_acde48001122row2_col7,#T_033888fe_9ea2_11eb_a00a_acde48001122row3_col4,#T_033888fe_9ea2_11eb_a00a_acde48001122row3_col5,#T_033888fe_9ea2_11eb_a00a_acde48001122row3_col6,#T_033888fe_9ea2_11eb_a00a_acde48001122row3_col7,#T_033888fe_9ea2_11eb_a00a_acde48001122row4_col5,#T_033888fe_9ea2_11eb_a00a_acde48001122row4_col6,#T_033888fe_9ea2_11eb_a00a_acde48001122row4_col7,#T_033888fe_9ea2_11eb_a00a_acde48001122row5_col6,#T_033888fe_9ea2_11eb_a00a_acde48001122row5_col7,#T_033888fe_9ea2_11eb_a00a_acde48001122row6_col7{\n",
       "            background-color:  #440154;\n",
       "            color:  #f1f1f1;\n",
       "            font-size:  20px;\n",
       "            background-color:  white;\n",
       "            color:  white;\n",
       "            background-color:  #440154;\n",
       "            color:  #f1f1f1;\n",
       "            font-size:  20px;\n",
       "            background-color:  white;\n",
       "            color:  white;\n",
       "        }#T_033888fe_9ea2_11eb_a00a_acde48001122row1_col0{\n",
       "            background-color:  #471164;\n",
       "            color:  #f1f1f1;\n",
       "            font-size:  20px;\n",
       "            background-color:  #471164;\n",
       "            color:  #f1f1f1;\n",
       "            font-size:  20px;\n",
       "        }#T_033888fe_9ea2_11eb_a00a_acde48001122row2_col0{\n",
       "            background-color:  #33638d;\n",
       "            color:  #f1f1f1;\n",
       "            font-size:  20px;\n",
       "            background-color:  #33638d;\n",
       "            color:  #f1f1f1;\n",
       "            font-size:  20px;\n",
       "        }#T_033888fe_9ea2_11eb_a00a_acde48001122row2_col1{\n",
       "            background-color:  #d5e21a;\n",
       "            color:  #000000;\n",
       "            font-size:  20px;\n",
       "            background-color:  #d5e21a;\n",
       "            color:  #000000;\n",
       "            font-size:  20px;\n",
       "        }#T_033888fe_9ea2_11eb_a00a_acde48001122row3_col0{\n",
       "            background-color:  #21918c;\n",
       "            color:  #000000;\n",
       "            font-size:  20px;\n",
       "            background-color:  #21918c;\n",
       "            color:  #000000;\n",
       "            font-size:  20px;\n",
       "        }#T_033888fe_9ea2_11eb_a00a_acde48001122row3_col1{\n",
       "            background-color:  #dfe318;\n",
       "            color:  #000000;\n",
       "            font-size:  20px;\n",
       "            background-color:  #dfe318;\n",
       "            color:  #000000;\n",
       "            font-size:  20px;\n",
       "        }#T_033888fe_9ea2_11eb_a00a_acde48001122row3_col2{\n",
       "            background-color:  #20a486;\n",
       "            color:  #000000;\n",
       "            font-size:  20px;\n",
       "            background-color:  #20a486;\n",
       "            color:  #000000;\n",
       "            font-size:  20px;\n",
       "        }#T_033888fe_9ea2_11eb_a00a_acde48001122row4_col0{\n",
       "            background-color:  #424186;\n",
       "            color:  #f1f1f1;\n",
       "            font-size:  20px;\n",
       "            background-color:  #424186;\n",
       "            color:  #f1f1f1;\n",
       "            font-size:  20px;\n",
       "        }#T_033888fe_9ea2_11eb_a00a_acde48001122row4_col1{\n",
       "            background-color:  #52c569;\n",
       "            color:  #000000;\n",
       "            font-size:  20px;\n",
       "            background-color:  #52c569;\n",
       "            color:  #000000;\n",
       "            font-size:  20px;\n",
       "        }#T_033888fe_9ea2_11eb_a00a_acde48001122row4_col2,#T_033888fe_9ea2_11eb_a00a_acde48001122row7_col6{\n",
       "            background-color:  #26828e;\n",
       "            color:  #000000;\n",
       "            font-size:  20px;\n",
       "            background-color:  #26828e;\n",
       "            color:  #000000;\n",
       "            font-size:  20px;\n",
       "        }#T_033888fe_9ea2_11eb_a00a_acde48001122row4_col3{\n",
       "            background-color:  #27808e;\n",
       "            color:  #000000;\n",
       "            font-size:  20px;\n",
       "            background-color:  #27808e;\n",
       "            color:  #000000;\n",
       "            font-size:  20px;\n",
       "        }#T_033888fe_9ea2_11eb_a00a_acde48001122row5_col0{\n",
       "            background-color:  #482173;\n",
       "            color:  #f1f1f1;\n",
       "            font-size:  20px;\n",
       "            background-color:  #482173;\n",
       "            color:  #f1f1f1;\n",
       "            font-size:  20px;\n",
       "        }#T_033888fe_9ea2_11eb_a00a_acde48001122row5_col1,#T_033888fe_9ea2_11eb_a00a_acde48001122row7_col1{\n",
       "            background-color:  #cde11d;\n",
       "            color:  #000000;\n",
       "            font-size:  20px;\n",
       "            background-color:  #cde11d;\n",
       "            color:  #000000;\n",
       "            font-size:  20px;\n",
       "        }#T_033888fe_9ea2_11eb_a00a_acde48001122row5_col2{\n",
       "            background-color:  #2e6d8e;\n",
       "            color:  #f1f1f1;\n",
       "            font-size:  20px;\n",
       "            background-color:  #2e6d8e;\n",
       "            color:  #f1f1f1;\n",
       "            font-size:  20px;\n",
       "        }#T_033888fe_9ea2_11eb_a00a_acde48001122row5_col3,#T_033888fe_9ea2_11eb_a00a_acde48001122row6_col2,#T_033888fe_9ea2_11eb_a00a_acde48001122row6_col3{\n",
       "            background-color:  #33628d;\n",
       "            color:  #f1f1f1;\n",
       "            font-size:  20px;\n",
       "            background-color:  #33628d;\n",
       "            color:  #f1f1f1;\n",
       "            font-size:  20px;\n",
       "        }#T_033888fe_9ea2_11eb_a00a_acde48001122row5_col4{\n",
       "            background-color:  #2c728e;\n",
       "            color:  #f1f1f1;\n",
       "            font-size:  20px;\n",
       "            background-color:  #2c728e;\n",
       "            color:  #f1f1f1;\n",
       "            font-size:  20px;\n",
       "        }#T_033888fe_9ea2_11eb_a00a_acde48001122row6_col0{\n",
       "            background-color:  #440154;\n",
       "            color:  #f1f1f1;\n",
       "            font-size:  20px;\n",
       "            background-color:  #440154;\n",
       "            color:  #f1f1f1;\n",
       "            font-size:  20px;\n",
       "        }#T_033888fe_9ea2_11eb_a00a_acde48001122row6_col1{\n",
       "            background-color:  #32b67a;\n",
       "            color:  #000000;\n",
       "            font-size:  20px;\n",
       "            background-color:  #32b67a;\n",
       "            color:  #000000;\n",
       "            font-size:  20px;\n",
       "        }#T_033888fe_9ea2_11eb_a00a_acde48001122row6_col4{\n",
       "            background-color:  #2d708e;\n",
       "            color:  #f1f1f1;\n",
       "            font-size:  20px;\n",
       "            background-color:  #2d708e;\n",
       "            color:  #f1f1f1;\n",
       "            font-size:  20px;\n",
       "        }#T_033888fe_9ea2_11eb_a00a_acde48001122row6_col5{\n",
       "            background-color:  #20a386;\n",
       "            color:  #000000;\n",
       "            font-size:  20px;\n",
       "            background-color:  #20a386;\n",
       "            color:  #000000;\n",
       "            font-size:  20px;\n",
       "        }#T_033888fe_9ea2_11eb_a00a_acde48001122row7_col0{\n",
       "            background-color:  #481a6c;\n",
       "            color:  #f1f1f1;\n",
       "            font-size:  20px;\n",
       "            background-color:  #481a6c;\n",
       "            color:  #f1f1f1;\n",
       "            font-size:  20px;\n",
       "        }#T_033888fe_9ea2_11eb_a00a_acde48001122row7_col2{\n",
       "            background-color:  #2e6e8e;\n",
       "            color:  #f1f1f1;\n",
       "            font-size:  20px;\n",
       "            background-color:  #2e6e8e;\n",
       "            color:  #f1f1f1;\n",
       "            font-size:  20px;\n",
       "        }#T_033888fe_9ea2_11eb_a00a_acde48001122row7_col3{\n",
       "            background-color:  #2f6b8e;\n",
       "            color:  #f1f1f1;\n",
       "            font-size:  20px;\n",
       "            background-color:  #2f6b8e;\n",
       "            color:  #f1f1f1;\n",
       "            font-size:  20px;\n",
       "        }#T_033888fe_9ea2_11eb_a00a_acde48001122row7_col4{\n",
       "            background-color:  #2c718e;\n",
       "            color:  #f1f1f1;\n",
       "            font-size:  20px;\n",
       "            background-color:  #2c718e;\n",
       "            color:  #f1f1f1;\n",
       "            font-size:  20px;\n",
       "        }#T_033888fe_9ea2_11eb_a00a_acde48001122row7_col5{\n",
       "            background-color:  #7ad151;\n",
       "            color:  #000000;\n",
       "            font-size:  20px;\n",
       "            background-color:  #7ad151;\n",
       "            color:  #000000;\n",
       "            font-size:  20px;\n",
       "        }</style><table id=\"T_033888fe_9ea2_11eb_a00a_acde48001122\" ><caption>Arabic overlap heatmap v1</caption><thead>    <tr>        <th class=\"blank level0\" ></th>        <th class=\"col_heading level0 col0\" >politics and society</th>        <th class=\"col_heading level0 col1\" >technology</th>        <th class=\"col_heading level0 col2\" >covid-19</th>        <th class=\"col_heading level0 col3\" >geopolitics</th>        <th class=\"col_heading level0 col4\" >environment</th>        <th class=\"col_heading level0 col5\" >military and security</th>        <th class=\"col_heading level0 col6\" >economy</th>        <th class=\"col_heading level0 col7\" >chinese culture and people</th>    </tr></thead><tbody>\n",
       "                <tr>\n",
       "                        <th id=\"T_033888fe_9ea2_11eb_a00a_acde48001122level0_row0\" class=\"row_heading level0 row0\" >politics and society</th>\n",
       "                        <td id=\"T_033888fe_9ea2_11eb_a00a_acde48001122row0_col0\" class=\"data row0 col0\" >3201</td>\n",
       "                        <td id=\"T_033888fe_9ea2_11eb_a00a_acde48001122row0_col1\" class=\"data row0 col1\" >0</td>\n",
       "                        <td id=\"T_033888fe_9ea2_11eb_a00a_acde48001122row0_col2\" class=\"data row0 col2\" >0</td>\n",
       "                        <td id=\"T_033888fe_9ea2_11eb_a00a_acde48001122row0_col3\" class=\"data row0 col3\" >0</td>\n",
       "                        <td id=\"T_033888fe_9ea2_11eb_a00a_acde48001122row0_col4\" class=\"data row0 col4\" >0</td>\n",
       "                        <td id=\"T_033888fe_9ea2_11eb_a00a_acde48001122row0_col5\" class=\"data row0 col5\" >0</td>\n",
       "                        <td id=\"T_033888fe_9ea2_11eb_a00a_acde48001122row0_col6\" class=\"data row0 col6\" >0</td>\n",
       "                        <td id=\"T_033888fe_9ea2_11eb_a00a_acde48001122row0_col7\" class=\"data row0 col7\" >0</td>\n",
       "            </tr>\n",
       "            <tr>\n",
       "                        <th id=\"T_033888fe_9ea2_11eb_a00a_acde48001122level0_row1\" class=\"row_heading level0 row1\" >technology</th>\n",
       "                        <td id=\"T_033888fe_9ea2_11eb_a00a_acde48001122row1_col0\" class=\"data row1 col0\" >1438</td>\n",
       "                        <td id=\"T_033888fe_9ea2_11eb_a00a_acde48001122row1_col1\" class=\"data row1 col1\" >1857</td>\n",
       "                        <td id=\"T_033888fe_9ea2_11eb_a00a_acde48001122row1_col2\" class=\"data row1 col2\" >0</td>\n",
       "                        <td id=\"T_033888fe_9ea2_11eb_a00a_acde48001122row1_col3\" class=\"data row1 col3\" >0</td>\n",
       "                        <td id=\"T_033888fe_9ea2_11eb_a00a_acde48001122row1_col4\" class=\"data row1 col4\" >0</td>\n",
       "                        <td id=\"T_033888fe_9ea2_11eb_a00a_acde48001122row1_col5\" class=\"data row1 col5\" >0</td>\n",
       "                        <td id=\"T_033888fe_9ea2_11eb_a00a_acde48001122row1_col6\" class=\"data row1 col6\" >0</td>\n",
       "                        <td id=\"T_033888fe_9ea2_11eb_a00a_acde48001122row1_col7\" class=\"data row1 col7\" >0</td>\n",
       "            </tr>\n",
       "            <tr>\n",
       "                        <th id=\"T_033888fe_9ea2_11eb_a00a_acde48001122level0_row2\" class=\"row_heading level0 row2\" >covid-19</th>\n",
       "                        <td id=\"T_033888fe_9ea2_11eb_a00a_acde48001122row2_col0\" class=\"data row2 col0\" >1931</td>\n",
       "                        <td id=\"T_033888fe_9ea2_11eb_a00a_acde48001122row2_col1\" class=\"data row2 col1\" >1738</td>\n",
       "                        <td id=\"T_033888fe_9ea2_11eb_a00a_acde48001122row2_col2\" class=\"data row2 col2\" >5129</td>\n",
       "                        <td id=\"T_033888fe_9ea2_11eb_a00a_acde48001122row2_col3\" class=\"data row2 col3\" >0</td>\n",
       "                        <td id=\"T_033888fe_9ea2_11eb_a00a_acde48001122row2_col4\" class=\"data row2 col4\" >0</td>\n",
       "                        <td id=\"T_033888fe_9ea2_11eb_a00a_acde48001122row2_col5\" class=\"data row2 col5\" >0</td>\n",
       "                        <td id=\"T_033888fe_9ea2_11eb_a00a_acde48001122row2_col6\" class=\"data row2 col6\" >0</td>\n",
       "                        <td id=\"T_033888fe_9ea2_11eb_a00a_acde48001122row2_col7\" class=\"data row2 col7\" >0</td>\n",
       "            </tr>\n",
       "            <tr>\n",
       "                        <th id=\"T_033888fe_9ea2_11eb_a00a_acde48001122level0_row3\" class=\"row_heading level0 row3\" >geopolitics</th>\n",
       "                        <td id=\"T_033888fe_9ea2_11eb_a00a_acde48001122row3_col0\" class=\"data row3 col0\" >2281</td>\n",
       "                        <td id=\"T_033888fe_9ea2_11eb_a00a_acde48001122row3_col1\" class=\"data row3 col1\" >1764</td>\n",
       "                        <td id=\"T_033888fe_9ea2_11eb_a00a_acde48001122row3_col2\" class=\"data row3 col2\" >2987</td>\n",
       "                        <td id=\"T_033888fe_9ea2_11eb_a00a_acde48001122row3_col3\" class=\"data row3 col3\" >6604</td>\n",
       "                        <td id=\"T_033888fe_9ea2_11eb_a00a_acde48001122row3_col4\" class=\"data row3 col4\" >0</td>\n",
       "                        <td id=\"T_033888fe_9ea2_11eb_a00a_acde48001122row3_col5\" class=\"data row3 col5\" >0</td>\n",
       "                        <td id=\"T_033888fe_9ea2_11eb_a00a_acde48001122row3_col6\" class=\"data row3 col6\" >0</td>\n",
       "                        <td id=\"T_033888fe_9ea2_11eb_a00a_acde48001122row3_col7\" class=\"data row3 col7\" >0</td>\n",
       "            </tr>\n",
       "            <tr>\n",
       "                        <th id=\"T_033888fe_9ea2_11eb_a00a_acde48001122level0_row4\" class=\"row_heading level0 row4\" >environment</th>\n",
       "                        <td id=\"T_033888fe_9ea2_11eb_a00a_acde48001122row4_col0\" class=\"data row4 col0\" >1711</td>\n",
       "                        <td id=\"T_033888fe_9ea2_11eb_a00a_acde48001122row4_col1\" class=\"data row4 col1\" >1354</td>\n",
       "                        <td id=\"T_033888fe_9ea2_11eb_a00a_acde48001122row4_col2\" class=\"data row4 col2\" >2261</td>\n",
       "                        <td id=\"T_033888fe_9ea2_11eb_a00a_acde48001122row4_col3\" class=\"data row4 col3\" >2841</td>\n",
       "                        <td id=\"T_033888fe_9ea2_11eb_a00a_acde48001122row4_col4\" class=\"data row4 col4\" >3916</td>\n",
       "                        <td id=\"T_033888fe_9ea2_11eb_a00a_acde48001122row4_col5\" class=\"data row4 col5\" >0</td>\n",
       "                        <td id=\"T_033888fe_9ea2_11eb_a00a_acde48001122row4_col6\" class=\"data row4 col6\" >0</td>\n",
       "                        <td id=\"T_033888fe_9ea2_11eb_a00a_acde48001122row4_col7\" class=\"data row4 col7\" >0</td>\n",
       "            </tr>\n",
       "            <tr>\n",
       "                        <th id=\"T_033888fe_9ea2_11eb_a00a_acde48001122level0_row5\" class=\"row_heading level0 row5\" >military and security</th>\n",
       "                        <td id=\"T_033888fe_9ea2_11eb_a00a_acde48001122row5_col0\" class=\"data row5 col0\" >1520</td>\n",
       "                        <td id=\"T_033888fe_9ea2_11eb_a00a_acde48001122row5_col1\" class=\"data row5 col1\" >1719</td>\n",
       "                        <td id=\"T_033888fe_9ea2_11eb_a00a_acde48001122row5_col2\" class=\"data row5 col2\" >1809</td>\n",
       "                        <td id=\"T_033888fe_9ea2_11eb_a00a_acde48001122row5_col3\" class=\"data row5 col3\" >2039</td>\n",
       "                        <td id=\"T_033888fe_9ea2_11eb_a00a_acde48001122row5_col4\" class=\"data row5 col4\" >1475</td>\n",
       "                        <td id=\"T_033888fe_9ea2_11eb_a00a_acde48001122row5_col5\" class=\"data row5 col5\" >2222</td>\n",
       "                        <td id=\"T_033888fe_9ea2_11eb_a00a_acde48001122row5_col6\" class=\"data row5 col6\" >0</td>\n",
       "                        <td id=\"T_033888fe_9ea2_11eb_a00a_acde48001122row5_col7\" class=\"data row5 col7\" >0</td>\n",
       "            </tr>\n",
       "            <tr>\n",
       "                        <th id=\"T_033888fe_9ea2_11eb_a00a_acde48001122level0_row6\" class=\"row_heading level0 row6\" >economy</th>\n",
       "                        <td id=\"T_033888fe_9ea2_11eb_a00a_acde48001122row6_col0\" class=\"data row6 col0\" >1353</td>\n",
       "                        <td id=\"T_033888fe_9ea2_11eb_a00a_acde48001122row6_col1\" class=\"data row6 col1\" >1221</td>\n",
       "                        <td id=\"T_033888fe_9ea2_11eb_a00a_acde48001122row6_col2\" class=\"data row6 col2\" >1600</td>\n",
       "                        <td id=\"T_033888fe_9ea2_11eb_a00a_acde48001122row6_col3\" class=\"data row6 col3\" >2040</td>\n",
       "                        <td id=\"T_033888fe_9ea2_11eb_a00a_acde48001122row6_col4\" class=\"data row6 col4\" >1425</td>\n",
       "                        <td id=\"T_033888fe_9ea2_11eb_a00a_acde48001122row6_col5\" class=\"data row6 col5\" >1288</td>\n",
       "                        <td id=\"T_033888fe_9ea2_11eb_a00a_acde48001122row6_col6\" class=\"data row6 col6\" >3031</td>\n",
       "                        <td id=\"T_033888fe_9ea2_11eb_a00a_acde48001122row6_col7\" class=\"data row6 col7\" >0</td>\n",
       "            </tr>\n",
       "            <tr>\n",
       "                        <th id=\"T_033888fe_9ea2_11eb_a00a_acde48001122level0_row7\" class=\"row_heading level0 row7\" >chinese culture and people</th>\n",
       "                        <td id=\"T_033888fe_9ea2_11eb_a00a_acde48001122row7_col0\" class=\"data row7 col0\" >1479</td>\n",
       "                        <td id=\"T_033888fe_9ea2_11eb_a00a_acde48001122row7_col1\" class=\"data row7 col1\" >1716</td>\n",
       "                        <td id=\"T_033888fe_9ea2_11eb_a00a_acde48001122row7_col2\" class=\"data row7 col2\" >1825</td>\n",
       "                        <td id=\"T_033888fe_9ea2_11eb_a00a_acde48001122row7_col3\" class=\"data row7 col3\" >2278</td>\n",
       "                        <td id=\"T_033888fe_9ea2_11eb_a00a_acde48001122row7_col4\" class=\"data row7 col4\" >1456</td>\n",
       "                        <td id=\"T_033888fe_9ea2_11eb_a00a_acde48001122row7_col5\" class=\"data row7 col5\" >1777</td>\n",
       "                        <td id=\"T_033888fe_9ea2_11eb_a00a_acde48001122row7_col6\" class=\"data row7 col6\" >1336</td>\n",
       "                        <td id=\"T_033888fe_9ea2_11eb_a00a_acde48001122row7_col7\" class=\"data row7 col7\" >2600</td>\n",
       "            </tr>\n",
       "    </tbody></table>"
      ],
      "text/plain": [
       "<pandas.io.formats.style.Styler at 0x7f93695cfbe0>"
      ]
     },
     "metadata": {},
     "output_type": "display_data"
    },
    {
     "data": {
      "text/html": [
       "<style  type=\"text/css\" >\n",
       "#T_04095efa_9ea2_11eb_ba2b_acde48001122row0_col0,#T_04095efa_9ea2_11eb_ba2b_acde48001122row1_col1,#T_04095efa_9ea2_11eb_ba2b_acde48001122row2_col2,#T_04095efa_9ea2_11eb_ba2b_acde48001122row3_col3,#T_04095efa_9ea2_11eb_ba2b_acde48001122row4_col4,#T_04095efa_9ea2_11eb_ba2b_acde48001122row5_col5,#T_04095efa_9ea2_11eb_ba2b_acde48001122row6_col6,#T_04095efa_9ea2_11eb_ba2b_acde48001122row7_col7{\n",
       "            background-color:  #fde725;\n",
       "            color:  #000000;\n",
       "            font-size:  20px;\n",
       "            background-color:  #fde725;\n",
       "            color:  #000000;\n",
       "            font-size:  20px;\n",
       "        }#T_04095efa_9ea2_11eb_ba2b_acde48001122row0_col1,#T_04095efa_9ea2_11eb_ba2b_acde48001122row0_col2,#T_04095efa_9ea2_11eb_ba2b_acde48001122row0_col3,#T_04095efa_9ea2_11eb_ba2b_acde48001122row0_col4,#T_04095efa_9ea2_11eb_ba2b_acde48001122row0_col5,#T_04095efa_9ea2_11eb_ba2b_acde48001122row0_col6,#T_04095efa_9ea2_11eb_ba2b_acde48001122row0_col7,#T_04095efa_9ea2_11eb_ba2b_acde48001122row1_col2,#T_04095efa_9ea2_11eb_ba2b_acde48001122row1_col3,#T_04095efa_9ea2_11eb_ba2b_acde48001122row1_col4,#T_04095efa_9ea2_11eb_ba2b_acde48001122row1_col5,#T_04095efa_9ea2_11eb_ba2b_acde48001122row1_col6,#T_04095efa_9ea2_11eb_ba2b_acde48001122row1_col7,#T_04095efa_9ea2_11eb_ba2b_acde48001122row2_col3,#T_04095efa_9ea2_11eb_ba2b_acde48001122row2_col4,#T_04095efa_9ea2_11eb_ba2b_acde48001122row2_col5,#T_04095efa_9ea2_11eb_ba2b_acde48001122row2_col6,#T_04095efa_9ea2_11eb_ba2b_acde48001122row2_col7,#T_04095efa_9ea2_11eb_ba2b_acde48001122row3_col4,#T_04095efa_9ea2_11eb_ba2b_acde48001122row3_col5,#T_04095efa_9ea2_11eb_ba2b_acde48001122row3_col6,#T_04095efa_9ea2_11eb_ba2b_acde48001122row3_col7,#T_04095efa_9ea2_11eb_ba2b_acde48001122row4_col5,#T_04095efa_9ea2_11eb_ba2b_acde48001122row4_col6,#T_04095efa_9ea2_11eb_ba2b_acde48001122row4_col7,#T_04095efa_9ea2_11eb_ba2b_acde48001122row5_col6,#T_04095efa_9ea2_11eb_ba2b_acde48001122row5_col7,#T_04095efa_9ea2_11eb_ba2b_acde48001122row6_col7{\n",
       "            background-color:  #440154;\n",
       "            color:  #f1f1f1;\n",
       "            font-size:  20px;\n",
       "            background-color:  white;\n",
       "            color:  white;\n",
       "            background-color:  #440154;\n",
       "            color:  #f1f1f1;\n",
       "            font-size:  20px;\n",
       "            background-color:  white;\n",
       "            color:  white;\n",
       "        }#T_04095efa_9ea2_11eb_ba2b_acde48001122row1_col0{\n",
       "            background-color:  #440256;\n",
       "            color:  #f1f1f1;\n",
       "            font-size:  20px;\n",
       "            background-color:  #440256;\n",
       "            color:  #f1f1f1;\n",
       "            font-size:  20px;\n",
       "        }#T_04095efa_9ea2_11eb_ba2b_acde48001122row2_col0{\n",
       "            background-color:  #481769;\n",
       "            color:  #f1f1f1;\n",
       "            font-size:  20px;\n",
       "            background-color:  #481769;\n",
       "            color:  #f1f1f1;\n",
       "            font-size:  20px;\n",
       "        }#T_04095efa_9ea2_11eb_ba2b_acde48001122row2_col1{\n",
       "            background-color:  #481a6c;\n",
       "            color:  #f1f1f1;\n",
       "            font-size:  20px;\n",
       "            background-color:  #481a6c;\n",
       "            color:  #f1f1f1;\n",
       "            font-size:  20px;\n",
       "        }#T_04095efa_9ea2_11eb_ba2b_acde48001122row3_col0{\n",
       "            background-color:  #238a8d;\n",
       "            color:  #000000;\n",
       "            font-size:  20px;\n",
       "            background-color:  #238a8d;\n",
       "            color:  #000000;\n",
       "            font-size:  20px;\n",
       "        }#T_04095efa_9ea2_11eb_ba2b_acde48001122row3_col1{\n",
       "            background-color:  #481c6e;\n",
       "            color:  #f1f1f1;\n",
       "            font-size:  20px;\n",
       "            background-color:  #481c6e;\n",
       "            color:  #f1f1f1;\n",
       "            font-size:  20px;\n",
       "        }#T_04095efa_9ea2_11eb_ba2b_acde48001122row3_col2{\n",
       "            background-color:  #443a83;\n",
       "            color:  #f1f1f1;\n",
       "            font-size:  20px;\n",
       "            background-color:  #443a83;\n",
       "            color:  #f1f1f1;\n",
       "            font-size:  20px;\n",
       "        }#T_04095efa_9ea2_11eb_ba2b_acde48001122row4_col0,#T_04095efa_9ea2_11eb_ba2b_acde48001122row4_col2,#T_04095efa_9ea2_11eb_ba2b_acde48001122row4_col3{\n",
       "            background-color:  #440154;\n",
       "            color:  #f1f1f1;\n",
       "            font-size:  20px;\n",
       "            background-color:  #440154;\n",
       "            color:  #f1f1f1;\n",
       "            font-size:  20px;\n",
       "        }#T_04095efa_9ea2_11eb_ba2b_acde48001122row4_col1{\n",
       "            background-color:  #450457;\n",
       "            color:  #f1f1f1;\n",
       "            font-size:  20px;\n",
       "            background-color:  #450457;\n",
       "            color:  #f1f1f1;\n",
       "            font-size:  20px;\n",
       "        }#T_04095efa_9ea2_11eb_ba2b_acde48001122row5_col0{\n",
       "            background-color:  #470e61;\n",
       "            color:  #f1f1f1;\n",
       "            font-size:  20px;\n",
       "            background-color:  #470e61;\n",
       "            color:  #f1f1f1;\n",
       "            font-size:  20px;\n",
       "        }#T_04095efa_9ea2_11eb_ba2b_acde48001122row5_col1{\n",
       "            background-color:  #460a5d;\n",
       "            color:  #f1f1f1;\n",
       "            font-size:  20px;\n",
       "            background-color:  #460a5d;\n",
       "            color:  #f1f1f1;\n",
       "            font-size:  20px;\n",
       "        }#T_04095efa_9ea2_11eb_ba2b_acde48001122row5_col2{\n",
       "            background-color:  #46075a;\n",
       "            color:  #f1f1f1;\n",
       "            font-size:  20px;\n",
       "            background-color:  #46075a;\n",
       "            color:  #f1f1f1;\n",
       "            font-size:  20px;\n",
       "        }#T_04095efa_9ea2_11eb_ba2b_acde48001122row5_col3{\n",
       "            background-color:  #471365;\n",
       "            color:  #f1f1f1;\n",
       "            font-size:  20px;\n",
       "            background-color:  #471365;\n",
       "            color:  #f1f1f1;\n",
       "            font-size:  20px;\n",
       "        }#T_04095efa_9ea2_11eb_ba2b_acde48001122row5_col4{\n",
       "            background-color:  #450559;\n",
       "            color:  #f1f1f1;\n",
       "            font-size:  20px;\n",
       "            background-color:  #450559;\n",
       "            color:  #f1f1f1;\n",
       "            font-size:  20px;\n",
       "        }#T_04095efa_9ea2_11eb_ba2b_acde48001122row6_col0{\n",
       "            background-color:  #46307e;\n",
       "            color:  #f1f1f1;\n",
       "            font-size:  20px;\n",
       "            background-color:  #46307e;\n",
       "            color:  #f1f1f1;\n",
       "            font-size:  20px;\n",
       "        }#T_04095efa_9ea2_11eb_ba2b_acde48001122row6_col1{\n",
       "            background-color:  #375a8c;\n",
       "            color:  #f1f1f1;\n",
       "            font-size:  20px;\n",
       "            background-color:  #375a8c;\n",
       "            color:  #f1f1f1;\n",
       "            font-size:  20px;\n",
       "        }#T_04095efa_9ea2_11eb_ba2b_acde48001122row6_col2{\n",
       "            background-color:  #482878;\n",
       "            color:  #f1f1f1;\n",
       "            font-size:  20px;\n",
       "            background-color:  #482878;\n",
       "            color:  #f1f1f1;\n",
       "            font-size:  20px;\n",
       "        }#T_04095efa_9ea2_11eb_ba2b_acde48001122row6_col3{\n",
       "            background-color:  #414487;\n",
       "            color:  #f1f1f1;\n",
       "            font-size:  20px;\n",
       "            background-color:  #414487;\n",
       "            color:  #f1f1f1;\n",
       "            font-size:  20px;\n",
       "        }#T_04095efa_9ea2_11eb_ba2b_acde48001122row6_col4{\n",
       "            background-color:  #482475;\n",
       "            color:  #f1f1f1;\n",
       "            font-size:  20px;\n",
       "            background-color:  #482475;\n",
       "            color:  #f1f1f1;\n",
       "            font-size:  20px;\n",
       "        }#T_04095efa_9ea2_11eb_ba2b_acde48001122row6_col5{\n",
       "            background-color:  #472f7d;\n",
       "            color:  #f1f1f1;\n",
       "            font-size:  20px;\n",
       "            background-color:  #472f7d;\n",
       "            color:  #f1f1f1;\n",
       "            font-size:  20px;\n",
       "        }#T_04095efa_9ea2_11eb_ba2b_acde48001122row7_col0{\n",
       "            background-color:  #39558c;\n",
       "            color:  #f1f1f1;\n",
       "            font-size:  20px;\n",
       "            background-color:  #39558c;\n",
       "            color:  #f1f1f1;\n",
       "            font-size:  20px;\n",
       "        }#T_04095efa_9ea2_11eb_ba2b_acde48001122row7_col1,#T_04095efa_9ea2_11eb_ba2b_acde48001122row7_col2,#T_04095efa_9ea2_11eb_ba2b_acde48001122row7_col5{\n",
       "            background-color:  #470d60;\n",
       "            color:  #f1f1f1;\n",
       "            font-size:  20px;\n",
       "            background-color:  #470d60;\n",
       "            color:  #f1f1f1;\n",
       "            font-size:  20px;\n",
       "        }#T_04095efa_9ea2_11eb_ba2b_acde48001122row7_col3{\n",
       "            background-color:  #471164;\n",
       "            color:  #f1f1f1;\n",
       "            font-size:  20px;\n",
       "            background-color:  #471164;\n",
       "            color:  #f1f1f1;\n",
       "            font-size:  20px;\n",
       "        }#T_04095efa_9ea2_11eb_ba2b_acde48001122row7_col4{\n",
       "            background-color:  #25838e;\n",
       "            color:  #000000;\n",
       "            font-size:  20px;\n",
       "            background-color:  #25838e;\n",
       "            color:  #000000;\n",
       "            font-size:  20px;\n",
       "        }#T_04095efa_9ea2_11eb_ba2b_acde48001122row7_col6{\n",
       "            background-color:  #481467;\n",
       "            color:  #f1f1f1;\n",
       "            font-size:  20px;\n",
       "            background-color:  #481467;\n",
       "            color:  #f1f1f1;\n",
       "            font-size:  20px;\n",
       "        }</style><table id=\"T_04095efa_9ea2_11eb_ba2b_acde48001122\" ><caption>English overlap heatmap v1</caption><thead>    <tr>        <th class=\"blank level0\" ></th>        <th class=\"col_heading level0 col0\" >politics and society</th>        <th class=\"col_heading level0 col1\" >technology</th>        <th class=\"col_heading level0 col2\" >covid-19</th>        <th class=\"col_heading level0 col3\" >geopolitics</th>        <th class=\"col_heading level0 col4\" >environment</th>        <th class=\"col_heading level0 col5\" >military and security</th>        <th class=\"col_heading level0 col6\" >economy</th>        <th class=\"col_heading level0 col7\" >chinese culture and people</th>    </tr></thead><tbody>\n",
       "                <tr>\n",
       "                        <th id=\"T_04095efa_9ea2_11eb_ba2b_acde48001122level0_row0\" class=\"row_heading level0 row0\" >politics and society</th>\n",
       "                        <td id=\"T_04095efa_9ea2_11eb_ba2b_acde48001122row0_col0\" class=\"data row0 col0\" >9276</td>\n",
       "                        <td id=\"T_04095efa_9ea2_11eb_ba2b_acde48001122row0_col1\" class=\"data row0 col1\" >0</td>\n",
       "                        <td id=\"T_04095efa_9ea2_11eb_ba2b_acde48001122row0_col2\" class=\"data row0 col2\" >0</td>\n",
       "                        <td id=\"T_04095efa_9ea2_11eb_ba2b_acde48001122row0_col3\" class=\"data row0 col3\" >0</td>\n",
       "                        <td id=\"T_04095efa_9ea2_11eb_ba2b_acde48001122row0_col4\" class=\"data row0 col4\" >0</td>\n",
       "                        <td id=\"T_04095efa_9ea2_11eb_ba2b_acde48001122row0_col5\" class=\"data row0 col5\" >0</td>\n",
       "                        <td id=\"T_04095efa_9ea2_11eb_ba2b_acde48001122row0_col6\" class=\"data row0 col6\" >0</td>\n",
       "                        <td id=\"T_04095efa_9ea2_11eb_ba2b_acde48001122row0_col7\" class=\"data row0 col7\" >0</td>\n",
       "            </tr>\n",
       "            <tr>\n",
       "                        <th id=\"T_04095efa_9ea2_11eb_ba2b_acde48001122level0_row1\" class=\"row_heading level0 row1\" >technology</th>\n",
       "                        <td id=\"T_04095efa_9ea2_11eb_ba2b_acde48001122row1_col0\" class=\"data row1 col0\" >60</td>\n",
       "                        <td id=\"T_04095efa_9ea2_11eb_ba2b_acde48001122row1_col1\" class=\"data row1 col1\" >1296</td>\n",
       "                        <td id=\"T_04095efa_9ea2_11eb_ba2b_acde48001122row1_col2\" class=\"data row1 col2\" >0</td>\n",
       "                        <td id=\"T_04095efa_9ea2_11eb_ba2b_acde48001122row1_col3\" class=\"data row1 col3\" >0</td>\n",
       "                        <td id=\"T_04095efa_9ea2_11eb_ba2b_acde48001122row1_col4\" class=\"data row1 col4\" >0</td>\n",
       "                        <td id=\"T_04095efa_9ea2_11eb_ba2b_acde48001122row1_col5\" class=\"data row1 col5\" >0</td>\n",
       "                        <td id=\"T_04095efa_9ea2_11eb_ba2b_acde48001122row1_col6\" class=\"data row1 col6\" >0</td>\n",
       "                        <td id=\"T_04095efa_9ea2_11eb_ba2b_acde48001122row1_col7\" class=\"data row1 col7\" >0</td>\n",
       "            </tr>\n",
       "            <tr>\n",
       "                        <th id=\"T_04095efa_9ea2_11eb_ba2b_acde48001122level0_row2\" class=\"row_heading level0 row2\" >covid-19</th>\n",
       "                        <td id=\"T_04095efa_9ea2_11eb_ba2b_acde48001122row2_col0\" class=\"data row2 col0\" >585</td>\n",
       "                        <td id=\"T_04095efa_9ea2_11eb_ba2b_acde48001122row2_col1\" class=\"data row2 col1\" >91</td>\n",
       "                        <td id=\"T_04095efa_9ea2_11eb_ba2b_acde48001122row2_col2\" class=\"data row2 col2\" >10094</td>\n",
       "                        <td id=\"T_04095efa_9ea2_11eb_ba2b_acde48001122row2_col3\" class=\"data row2 col3\" >0</td>\n",
       "                        <td id=\"T_04095efa_9ea2_11eb_ba2b_acde48001122row2_col4\" class=\"data row2 col4\" >0</td>\n",
       "                        <td id=\"T_04095efa_9ea2_11eb_ba2b_acde48001122row2_col5\" class=\"data row2 col5\" >0</td>\n",
       "                        <td id=\"T_04095efa_9ea2_11eb_ba2b_acde48001122row2_col6\" class=\"data row2 col6\" >0</td>\n",
       "                        <td id=\"T_04095efa_9ea2_11eb_ba2b_acde48001122row2_col7\" class=\"data row2 col7\" >0</td>\n",
       "            </tr>\n",
       "            <tr>\n",
       "                        <th id=\"T_04095efa_9ea2_11eb_ba2b_acde48001122level0_row3\" class=\"row_heading level0 row3\" >geopolitics</th>\n",
       "                        <td id=\"T_04095efa_9ea2_11eb_ba2b_acde48001122row3_col0\" class=\"data row3 col0\" >4399</td>\n",
       "                        <td id=\"T_04095efa_9ea2_11eb_ba2b_acde48001122row3_col1\" class=\"data row3 col1\" >101</td>\n",
       "                        <td id=\"T_04095efa_9ea2_11eb_ba2b_acde48001122row3_col2\" class=\"data row3 col2\" >1733</td>\n",
       "                        <td id=\"T_04095efa_9ea2_11eb_ba2b_acde48001122row3_col3\" class=\"data row3 col3\" >15195</td>\n",
       "                        <td id=\"T_04095efa_9ea2_11eb_ba2b_acde48001122row3_col4\" class=\"data row3 col4\" >0</td>\n",
       "                        <td id=\"T_04095efa_9ea2_11eb_ba2b_acde48001122row3_col5\" class=\"data row3 col5\" >0</td>\n",
       "                        <td id=\"T_04095efa_9ea2_11eb_ba2b_acde48001122row3_col6\" class=\"data row3 col6\" >0</td>\n",
       "                        <td id=\"T_04095efa_9ea2_11eb_ba2b_acde48001122row3_col7\" class=\"data row3 col7\" >0</td>\n",
       "            </tr>\n",
       "            <tr>\n",
       "                        <th id=\"T_04095efa_9ea2_11eb_ba2b_acde48001122level0_row4\" class=\"row_heading level0 row4\" >environment</th>\n",
       "                        <td id=\"T_04095efa_9ea2_11eb_ba2b_acde48001122row4_col0\" class=\"data row4 col0\" >22</td>\n",
       "                        <td id=\"T_04095efa_9ea2_11eb_ba2b_acde48001122row4_col1\" class=\"data row4 col1\" >15</td>\n",
       "                        <td id=\"T_04095efa_9ea2_11eb_ba2b_acde48001122row4_col2\" class=\"data row4 col2\" >32</td>\n",
       "                        <td id=\"T_04095efa_9ea2_11eb_ba2b_acde48001122row4_col3\" class=\"data row4 col3\" >34</td>\n",
       "                        <td id=\"T_04095efa_9ea2_11eb_ba2b_acde48001122row4_col4\" class=\"data row4 col4\" >656</td>\n",
       "                        <td id=\"T_04095efa_9ea2_11eb_ba2b_acde48001122row4_col5\" class=\"data row4 col5\" >0</td>\n",
       "                        <td id=\"T_04095efa_9ea2_11eb_ba2b_acde48001122row4_col6\" class=\"data row4 col6\" >0</td>\n",
       "                        <td id=\"T_04095efa_9ea2_11eb_ba2b_acde48001122row4_col7\" class=\"data row4 col7\" >0</td>\n",
       "            </tr>\n",
       "            <tr>\n",
       "                        <th id=\"T_04095efa_9ea2_11eb_ba2b_acde48001122level0_row5\" class=\"row_heading level0 row5\" >military and security</th>\n",
       "                        <td id=\"T_04095efa_9ea2_11eb_ba2b_acde48001122row5_col0\" class=\"data row5 col0\" >353</td>\n",
       "                        <td id=\"T_04095efa_9ea2_11eb_ba2b_acde48001122row5_col1\" class=\"data row5 col1\" >33</td>\n",
       "                        <td id=\"T_04095efa_9ea2_11eb_ba2b_acde48001122row5_col2\" class=\"data row5 col2\" >163</td>\n",
       "                        <td id=\"T_04095efa_9ea2_11eb_ba2b_acde48001122row5_col3\" class=\"data row5 col3\" >722</td>\n",
       "                        <td id=\"T_04095efa_9ea2_11eb_ba2b_acde48001122row5_col4\" class=\"data row5 col4\" >8</td>\n",
       "                        <td id=\"T_04095efa_9ea2_11eb_ba2b_acde48001122row5_col5\" class=\"data row5 col5\" >2871</td>\n",
       "                        <td id=\"T_04095efa_9ea2_11eb_ba2b_acde48001122row5_col6\" class=\"data row5 col6\" >0</td>\n",
       "                        <td id=\"T_04095efa_9ea2_11eb_ba2b_acde48001122row5_col7\" class=\"data row5 col7\" >0</td>\n",
       "            </tr>\n",
       "            <tr>\n",
       "                        <th id=\"T_04095efa_9ea2_11eb_ba2b_acde48001122level0_row6\" class=\"row_heading level0 row6\" >economy</th>\n",
       "                        <td id=\"T_04095efa_9ea2_11eb_ba2b_acde48001122row6_col0\" class=\"data row6 col0\" >1305</td>\n",
       "                        <td id=\"T_04095efa_9ea2_11eb_ba2b_acde48001122row6_col1\" class=\"data row6 col1\" >360</td>\n",
       "                        <td id=\"T_04095efa_9ea2_11eb_ba2b_acde48001122row6_col2\" class=\"data row6 col2\" >1124</td>\n",
       "                        <td id=\"T_04095efa_9ea2_11eb_ba2b_acde48001122row6_col3\" class=\"data row6 col3\" >3085</td>\n",
       "                        <td id=\"T_04095efa_9ea2_11eb_ba2b_acde48001122row6_col4\" class=\"data row6 col4\" >65</td>\n",
       "                        <td id=\"T_04095efa_9ea2_11eb_ba2b_acde48001122row6_col5\" class=\"data row6 col5\" >389</td>\n",
       "                        <td id=\"T_04095efa_9ea2_11eb_ba2b_acde48001122row6_col6\" class=\"data row6 col6\" >10236</td>\n",
       "                        <td id=\"T_04095efa_9ea2_11eb_ba2b_acde48001122row6_col7\" class=\"data row6 col7\" >0</td>\n",
       "            </tr>\n",
       "            <tr>\n",
       "                        <th id=\"T_04095efa_9ea2_11eb_ba2b_acde48001122level0_row7\" class=\"row_heading level0 row7\" >chinese culture and people</th>\n",
       "                        <td id=\"T_04095efa_9ea2_11eb_ba2b_acde48001122row7_col0\" class=\"data row7 col0\" >2460</td>\n",
       "                        <td id=\"T_04095efa_9ea2_11eb_ba2b_acde48001122row7_col1\" class=\"data row7 col1\" >42</td>\n",
       "                        <td id=\"T_04095efa_9ea2_11eb_ba2b_acde48001122row7_col2\" class=\"data row7 col2\" >346</td>\n",
       "                        <td id=\"T_04095efa_9ea2_11eb_ba2b_acde48001122row7_col3\" class=\"data row7 col3\" >669</td>\n",
       "                        <td id=\"T_04095efa_9ea2_11eb_ba2b_acde48001122row7_col4\" class=\"data row7 col4\" >293</td>\n",
       "                        <td id=\"T_04095efa_9ea2_11eb_ba2b_acde48001122row7_col5\" class=\"data row7 col5\" >93</td>\n",
       "                        <td id=\"T_04095efa_9ea2_11eb_ba2b_acde48001122row7_col6\" class=\"data row7 col6\" >544</td>\n",
       "                        <td id=\"T_04095efa_9ea2_11eb_ba2b_acde48001122row7_col7\" class=\"data row7 col7\" >5404</td>\n",
       "            </tr>\n",
       "    </tbody></table>"
      ],
      "text/plain": [
       "<pandas.io.formats.style.Styler at 0x7f936983ba20>"
      ]
     },
     "metadata": {},
     "output_type": "display_data"
    },
    {
     "data": {
      "text/html": [
       "<style  type=\"text/css\" >\n",
       "#T_04d21efa_9ea2_11eb_b2a0_acde48001122row0_col0,#T_04d21efa_9ea2_11eb_b2a0_acde48001122row1_col1,#T_04d21efa_9ea2_11eb_b2a0_acde48001122row2_col2,#T_04d21efa_9ea2_11eb_b2a0_acde48001122row3_col3,#T_04d21efa_9ea2_11eb_b2a0_acde48001122row4_col4,#T_04d21efa_9ea2_11eb_b2a0_acde48001122row5_col5,#T_04d21efa_9ea2_11eb_b2a0_acde48001122row6_col6,#T_04d21efa_9ea2_11eb_b2a0_acde48001122row7_col7{\n",
       "            background-color:  #fde725;\n",
       "            color:  #000000;\n",
       "            font-size:  20px;\n",
       "            background-color:  #fde725;\n",
       "            color:  #000000;\n",
       "            font-size:  20px;\n",
       "        }#T_04d21efa_9ea2_11eb_b2a0_acde48001122row0_col1,#T_04d21efa_9ea2_11eb_b2a0_acde48001122row0_col2,#T_04d21efa_9ea2_11eb_b2a0_acde48001122row0_col3,#T_04d21efa_9ea2_11eb_b2a0_acde48001122row0_col4,#T_04d21efa_9ea2_11eb_b2a0_acde48001122row0_col5,#T_04d21efa_9ea2_11eb_b2a0_acde48001122row0_col6,#T_04d21efa_9ea2_11eb_b2a0_acde48001122row0_col7,#T_04d21efa_9ea2_11eb_b2a0_acde48001122row1_col2,#T_04d21efa_9ea2_11eb_b2a0_acde48001122row1_col3,#T_04d21efa_9ea2_11eb_b2a0_acde48001122row1_col4,#T_04d21efa_9ea2_11eb_b2a0_acde48001122row1_col5,#T_04d21efa_9ea2_11eb_b2a0_acde48001122row1_col6,#T_04d21efa_9ea2_11eb_b2a0_acde48001122row1_col7,#T_04d21efa_9ea2_11eb_b2a0_acde48001122row2_col3,#T_04d21efa_9ea2_11eb_b2a0_acde48001122row2_col4,#T_04d21efa_9ea2_11eb_b2a0_acde48001122row2_col5,#T_04d21efa_9ea2_11eb_b2a0_acde48001122row2_col6,#T_04d21efa_9ea2_11eb_b2a0_acde48001122row2_col7,#T_04d21efa_9ea2_11eb_b2a0_acde48001122row3_col4,#T_04d21efa_9ea2_11eb_b2a0_acde48001122row3_col5,#T_04d21efa_9ea2_11eb_b2a0_acde48001122row3_col6,#T_04d21efa_9ea2_11eb_b2a0_acde48001122row3_col7,#T_04d21efa_9ea2_11eb_b2a0_acde48001122row4_col1,#T_04d21efa_9ea2_11eb_b2a0_acde48001122row4_col2,#T_04d21efa_9ea2_11eb_b2a0_acde48001122row4_col3,#T_04d21efa_9ea2_11eb_b2a0_acde48001122row4_col5,#T_04d21efa_9ea2_11eb_b2a0_acde48001122row4_col6,#T_04d21efa_9ea2_11eb_b2a0_acde48001122row4_col7,#T_04d21efa_9ea2_11eb_b2a0_acde48001122row5_col4,#T_04d21efa_9ea2_11eb_b2a0_acde48001122row5_col6,#T_04d21efa_9ea2_11eb_b2a0_acde48001122row5_col7,#T_04d21efa_9ea2_11eb_b2a0_acde48001122row6_col4,#T_04d21efa_9ea2_11eb_b2a0_acde48001122row6_col7,#T_04d21efa_9ea2_11eb_b2a0_acde48001122row7_col4{\n",
       "            background-color:  #440154;\n",
       "            color:  #f1f1f1;\n",
       "            font-size:  20px;\n",
       "            background-color:  white;\n",
       "            color:  white;\n",
       "            background-color:  #440154;\n",
       "            color:  #f1f1f1;\n",
       "            font-size:  20px;\n",
       "            background-color:  white;\n",
       "            color:  white;\n",
       "        }#T_04d21efa_9ea2_11eb_b2a0_acde48001122row1_col0,#T_04d21efa_9ea2_11eb_b2a0_acde48001122row7_col5{\n",
       "            background-color:  #481769;\n",
       "            color:  #f1f1f1;\n",
       "            font-size:  20px;\n",
       "            background-color:  #481769;\n",
       "            color:  #f1f1f1;\n",
       "            font-size:  20px;\n",
       "        }#T_04d21efa_9ea2_11eb_b2a0_acde48001122row2_col0{\n",
       "            background-color:  #472f7d;\n",
       "            color:  #f1f1f1;\n",
       "            font-size:  20px;\n",
       "            background-color:  #472f7d;\n",
       "            color:  #f1f1f1;\n",
       "            font-size:  20px;\n",
       "        }#T_04d21efa_9ea2_11eb_b2a0_acde48001122row2_col1,#T_04d21efa_9ea2_11eb_b2a0_acde48001122row6_col3{\n",
       "            background-color:  #3e4a89;\n",
       "            color:  #f1f1f1;\n",
       "            font-size:  20px;\n",
       "            background-color:  #3e4a89;\n",
       "            color:  #f1f1f1;\n",
       "            font-size:  20px;\n",
       "        }#T_04d21efa_9ea2_11eb_b2a0_acde48001122row3_col0{\n",
       "            background-color:  #3c508b;\n",
       "            color:  #f1f1f1;\n",
       "            font-size:  20px;\n",
       "            background-color:  #3c508b;\n",
       "            color:  #f1f1f1;\n",
       "            font-size:  20px;\n",
       "        }#T_04d21efa_9ea2_11eb_b2a0_acde48001122row3_col1{\n",
       "            background-color:  #3f4788;\n",
       "            color:  #f1f1f1;\n",
       "            font-size:  20px;\n",
       "            background-color:  #3f4788;\n",
       "            color:  #f1f1f1;\n",
       "            font-size:  20px;\n",
       "        }#T_04d21efa_9ea2_11eb_b2a0_acde48001122row3_col2{\n",
       "            background-color:  #277e8e;\n",
       "            color:  #000000;\n",
       "            font-size:  20px;\n",
       "            background-color:  #277e8e;\n",
       "            color:  #000000;\n",
       "            font-size:  20px;\n",
       "        }#T_04d21efa_9ea2_11eb_b2a0_acde48001122row4_col0{\n",
       "            background-color:  #440154;\n",
       "            color:  #f1f1f1;\n",
       "            font-size:  20px;\n",
       "            background-color:  #440154;\n",
       "            color:  #f1f1f1;\n",
       "            font-size:  20px;\n",
       "        }#T_04d21efa_9ea2_11eb_b2a0_acde48001122row5_col0,#T_04d21efa_9ea2_11eb_b2a0_acde48001122row5_col3{\n",
       "            background-color:  #471164;\n",
       "            color:  #f1f1f1;\n",
       "            font-size:  20px;\n",
       "            background-color:  #471164;\n",
       "            color:  #f1f1f1;\n",
       "            font-size:  20px;\n",
       "        }#T_04d21efa_9ea2_11eb_b2a0_acde48001122row5_col1{\n",
       "            background-color:  #2e6d8e;\n",
       "            color:  #f1f1f1;\n",
       "            font-size:  20px;\n",
       "            background-color:  #2e6d8e;\n",
       "            color:  #f1f1f1;\n",
       "            font-size:  20px;\n",
       "        }#T_04d21efa_9ea2_11eb_b2a0_acde48001122row5_col2{\n",
       "            background-color:  #481467;\n",
       "            color:  #f1f1f1;\n",
       "            font-size:  20px;\n",
       "            background-color:  #481467;\n",
       "            color:  #f1f1f1;\n",
       "            font-size:  20px;\n",
       "        }#T_04d21efa_9ea2_11eb_b2a0_acde48001122row6_col0{\n",
       "            background-color:  #38598c;\n",
       "            color:  #f1f1f1;\n",
       "            font-size:  20px;\n",
       "            background-color:  #38598c;\n",
       "            color:  #f1f1f1;\n",
       "            font-size:  20px;\n",
       "        }#T_04d21efa_9ea2_11eb_b2a0_acde48001122row6_col1{\n",
       "            background-color:  #39568c;\n",
       "            color:  #f1f1f1;\n",
       "            font-size:  20px;\n",
       "            background-color:  #39568c;\n",
       "            color:  #f1f1f1;\n",
       "            font-size:  20px;\n",
       "        }#T_04d21efa_9ea2_11eb_b2a0_acde48001122row6_col2{\n",
       "            background-color:  #443a83;\n",
       "            color:  #f1f1f1;\n",
       "            font-size:  20px;\n",
       "            background-color:  #443a83;\n",
       "            color:  #f1f1f1;\n",
       "            font-size:  20px;\n",
       "        }#T_04d21efa_9ea2_11eb_b2a0_acde48001122row6_col5{\n",
       "            background-color:  #38588c;\n",
       "            color:  #f1f1f1;\n",
       "            font-size:  20px;\n",
       "            background-color:  #38588c;\n",
       "            color:  #f1f1f1;\n",
       "            font-size:  20px;\n",
       "        }#T_04d21efa_9ea2_11eb_b2a0_acde48001122row7_col0{\n",
       "            background-color:  #482475;\n",
       "            color:  #f1f1f1;\n",
       "            font-size:  20px;\n",
       "            background-color:  #482475;\n",
       "            color:  #f1f1f1;\n",
       "            font-size:  20px;\n",
       "        }#T_04d21efa_9ea2_11eb_b2a0_acde48001122row7_col1{\n",
       "            background-color:  #481668;\n",
       "            color:  #f1f1f1;\n",
       "            font-size:  20px;\n",
       "            background-color:  #481668;\n",
       "            color:  #f1f1f1;\n",
       "            font-size:  20px;\n",
       "        }#T_04d21efa_9ea2_11eb_b2a0_acde48001122row7_col2{\n",
       "            background-color:  #460b5e;\n",
       "            color:  #f1f1f1;\n",
       "            font-size:  20px;\n",
       "            background-color:  #460b5e;\n",
       "            color:  #f1f1f1;\n",
       "            font-size:  20px;\n",
       "        }#T_04d21efa_9ea2_11eb_b2a0_acde48001122row7_col3{\n",
       "            background-color:  #471365;\n",
       "            color:  #f1f1f1;\n",
       "            font-size:  20px;\n",
       "            background-color:  #471365;\n",
       "            color:  #f1f1f1;\n",
       "            font-size:  20px;\n",
       "        }#T_04d21efa_9ea2_11eb_b2a0_acde48001122row7_col6{\n",
       "            background-color:  #471063;\n",
       "            color:  #f1f1f1;\n",
       "            font-size:  20px;\n",
       "            background-color:  #471063;\n",
       "            color:  #f1f1f1;\n",
       "            font-size:  20px;\n",
       "        }</style><table id=\"T_04d21efa_9ea2_11eb_b2a0_acde48001122\" ><caption>French overlap heatmap v1</caption><thead>    <tr>        <th class=\"blank level0\" ></th>        <th class=\"col_heading level0 col0\" >politics and society</th>        <th class=\"col_heading level0 col1\" >technology</th>        <th class=\"col_heading level0 col2\" >covid-19</th>        <th class=\"col_heading level0 col3\" >geopolitics</th>        <th class=\"col_heading level0 col4\" >environment</th>        <th class=\"col_heading level0 col5\" >military and security</th>        <th class=\"col_heading level0 col6\" >economy</th>        <th class=\"col_heading level0 col7\" >chinese culture and people</th>    </tr></thead><tbody>\n",
       "                <tr>\n",
       "                        <th id=\"T_04d21efa_9ea2_11eb_b2a0_acde48001122level0_row0\" class=\"row_heading level0 row0\" >politics and society</th>\n",
       "                        <td id=\"T_04d21efa_9ea2_11eb_b2a0_acde48001122row0_col0\" class=\"data row0 col0\" >541</td>\n",
       "                        <td id=\"T_04d21efa_9ea2_11eb_b2a0_acde48001122row0_col1\" class=\"data row0 col1\" >0</td>\n",
       "                        <td id=\"T_04d21efa_9ea2_11eb_b2a0_acde48001122row0_col2\" class=\"data row0 col2\" >0</td>\n",
       "                        <td id=\"T_04d21efa_9ea2_11eb_b2a0_acde48001122row0_col3\" class=\"data row0 col3\" >0</td>\n",
       "                        <td id=\"T_04d21efa_9ea2_11eb_b2a0_acde48001122row0_col4\" class=\"data row0 col4\" >0</td>\n",
       "                        <td id=\"T_04d21efa_9ea2_11eb_b2a0_acde48001122row0_col5\" class=\"data row0 col5\" >0</td>\n",
       "                        <td id=\"T_04d21efa_9ea2_11eb_b2a0_acde48001122row0_col6\" class=\"data row0 col6\" >0</td>\n",
       "                        <td id=\"T_04d21efa_9ea2_11eb_b2a0_acde48001122row0_col7\" class=\"data row0 col7\" >0</td>\n",
       "            </tr>\n",
       "            <tr>\n",
       "                        <th id=\"T_04d21efa_9ea2_11eb_b2a0_acde48001122level0_row1\" class=\"row_heading level0 row1\" >technology</th>\n",
       "                        <td id=\"T_04d21efa_9ea2_11eb_b2a0_acde48001122row1_col0\" class=\"data row1 col0\" >35</td>\n",
       "                        <td id=\"T_04d21efa_9ea2_11eb_b2a0_acde48001122row1_col1\" class=\"data row1 col1\" >260</td>\n",
       "                        <td id=\"T_04d21efa_9ea2_11eb_b2a0_acde48001122row1_col2\" class=\"data row1 col2\" >0</td>\n",
       "                        <td id=\"T_04d21efa_9ea2_11eb_b2a0_acde48001122row1_col3\" class=\"data row1 col3\" >0</td>\n",
       "                        <td id=\"T_04d21efa_9ea2_11eb_b2a0_acde48001122row1_col4\" class=\"data row1 col4\" >0</td>\n",
       "                        <td id=\"T_04d21efa_9ea2_11eb_b2a0_acde48001122row1_col5\" class=\"data row1 col5\" >0</td>\n",
       "                        <td id=\"T_04d21efa_9ea2_11eb_b2a0_acde48001122row1_col6\" class=\"data row1 col6\" >0</td>\n",
       "                        <td id=\"T_04d21efa_9ea2_11eb_b2a0_acde48001122row1_col7\" class=\"data row1 col7\" >0</td>\n",
       "            </tr>\n",
       "            <tr>\n",
       "                        <th id=\"T_04d21efa_9ea2_11eb_b2a0_acde48001122level0_row2\" class=\"row_heading level0 row2\" >covid-19</th>\n",
       "                        <td id=\"T_04d21efa_9ea2_11eb_b2a0_acde48001122row2_col0\" class=\"data row2 col0\" >75</td>\n",
       "                        <td id=\"T_04d21efa_9ea2_11eb_b2a0_acde48001122row2_col1\" class=\"data row2 col1\" >58</td>\n",
       "                        <td id=\"T_04d21efa_9ea2_11eb_b2a0_acde48001122row2_col2\" class=\"data row2 col2\" >491</td>\n",
       "                        <td id=\"T_04d21efa_9ea2_11eb_b2a0_acde48001122row2_col3\" class=\"data row2 col3\" >0</td>\n",
       "                        <td id=\"T_04d21efa_9ea2_11eb_b2a0_acde48001122row2_col4\" class=\"data row2 col4\" >0</td>\n",
       "                        <td id=\"T_04d21efa_9ea2_11eb_b2a0_acde48001122row2_col5\" class=\"data row2 col5\" >0</td>\n",
       "                        <td id=\"T_04d21efa_9ea2_11eb_b2a0_acde48001122row2_col6\" class=\"data row2 col6\" >0</td>\n",
       "                        <td id=\"T_04d21efa_9ea2_11eb_b2a0_acde48001122row2_col7\" class=\"data row2 col7\" >0</td>\n",
       "            </tr>\n",
       "            <tr>\n",
       "                        <th id=\"T_04d21efa_9ea2_11eb_b2a0_acde48001122level0_row3\" class=\"row_heading level0 row3\" >geopolitics</th>\n",
       "                        <td id=\"T_04d21efa_9ea2_11eb_b2a0_acde48001122row3_col0\" class=\"data row3 col0\" >134</td>\n",
       "                        <td id=\"T_04d21efa_9ea2_11eb_b2a0_acde48001122row3_col1\" class=\"data row3 col1\" >55</td>\n",
       "                        <td id=\"T_04d21efa_9ea2_11eb_b2a0_acde48001122row3_col2\" class=\"data row3 col2\" >208</td>\n",
       "                        <td id=\"T_04d21efa_9ea2_11eb_b2a0_acde48001122row3_col3\" class=\"data row3 col3\" >810</td>\n",
       "                        <td id=\"T_04d21efa_9ea2_11eb_b2a0_acde48001122row3_col4\" class=\"data row3 col4\" >0</td>\n",
       "                        <td id=\"T_04d21efa_9ea2_11eb_b2a0_acde48001122row3_col5\" class=\"data row3 col5\" >0</td>\n",
       "                        <td id=\"T_04d21efa_9ea2_11eb_b2a0_acde48001122row3_col6\" class=\"data row3 col6\" >0</td>\n",
       "                        <td id=\"T_04d21efa_9ea2_11eb_b2a0_acde48001122row3_col7\" class=\"data row3 col7\" >0</td>\n",
       "            </tr>\n",
       "            <tr>\n",
       "                        <th id=\"T_04d21efa_9ea2_11eb_b2a0_acde48001122level0_row4\" class=\"row_heading level0 row4\" >environment</th>\n",
       "                        <td id=\"T_04d21efa_9ea2_11eb_b2a0_acde48001122row4_col0\" class=\"data row4 col0\" >2</td>\n",
       "                        <td id=\"T_04d21efa_9ea2_11eb_b2a0_acde48001122row4_col1\" class=\"data row4 col1\" >0</td>\n",
       "                        <td id=\"T_04d21efa_9ea2_11eb_b2a0_acde48001122row4_col2\" class=\"data row4 col2\" >0</td>\n",
       "                        <td id=\"T_04d21efa_9ea2_11eb_b2a0_acde48001122row4_col3\" class=\"data row4 col3\" >0</td>\n",
       "                        <td id=\"T_04d21efa_9ea2_11eb_b2a0_acde48001122row4_col4\" class=\"data row4 col4\" >13</td>\n",
       "                        <td id=\"T_04d21efa_9ea2_11eb_b2a0_acde48001122row4_col5\" class=\"data row4 col5\" >0</td>\n",
       "                        <td id=\"T_04d21efa_9ea2_11eb_b2a0_acde48001122row4_col6\" class=\"data row4 col6\" >0</td>\n",
       "                        <td id=\"T_04d21efa_9ea2_11eb_b2a0_acde48001122row4_col7\" class=\"data row4 col7\" >0</td>\n",
       "            </tr>\n",
       "            <tr>\n",
       "                        <th id=\"T_04d21efa_9ea2_11eb_b2a0_acde48001122level0_row5\" class=\"row_heading level0 row5\" >military and security</th>\n",
       "                        <td id=\"T_04d21efa_9ea2_11eb_b2a0_acde48001122row5_col0\" class=\"data row5 col0\" >26</td>\n",
       "                        <td id=\"T_04d21efa_9ea2_11eb_b2a0_acde48001122row5_col1\" class=\"data row5 col1\" >92</td>\n",
       "                        <td id=\"T_04d21efa_9ea2_11eb_b2a0_acde48001122row5_col2\" class=\"data row5 col2\" >26</td>\n",
       "                        <td id=\"T_04d21efa_9ea2_11eb_b2a0_acde48001122row5_col3\" class=\"data row5 col3\" >37</td>\n",
       "                        <td id=\"T_04d21efa_9ea2_11eb_b2a0_acde48001122row5_col4\" class=\"data row5 col4\" >0</td>\n",
       "                        <td id=\"T_04d21efa_9ea2_11eb_b2a0_acde48001122row5_col5\" class=\"data row5 col5\" >114</td>\n",
       "                        <td id=\"T_04d21efa_9ea2_11eb_b2a0_acde48001122row5_col6\" class=\"data row5 col6\" >0</td>\n",
       "                        <td id=\"T_04d21efa_9ea2_11eb_b2a0_acde48001122row5_col7\" class=\"data row5 col7\" >0</td>\n",
       "            </tr>\n",
       "            <tr>\n",
       "                        <th id=\"T_04d21efa_9ea2_11eb_b2a0_acde48001122level0_row6\" class=\"row_heading level0 row6\" >economy</th>\n",
       "                        <td id=\"T_04d21efa_9ea2_11eb_b2a0_acde48001122row6_col0\" class=\"data row6 col0\" >150</td>\n",
       "                        <td id=\"T_04d21efa_9ea2_11eb_b2a0_acde48001122row6_col1\" class=\"data row6 col1\" >70</td>\n",
       "                        <td id=\"T_04d21efa_9ea2_11eb_b2a0_acde48001122row6_col2\" class=\"data row6 col2\" >84</td>\n",
       "                        <td id=\"T_04d21efa_9ea2_11eb_b2a0_acde48001122row6_col3\" class=\"data row6 col3\" >181</td>\n",
       "                        <td id=\"T_04d21efa_9ea2_11eb_b2a0_acde48001122row6_col4\" class=\"data row6 col4\" >0</td>\n",
       "                        <td id=\"T_04d21efa_9ea2_11eb_b2a0_acde48001122row6_col5\" class=\"data row6 col5\" >31</td>\n",
       "                        <td id=\"T_04d21efa_9ea2_11eb_b2a0_acde48001122row6_col6\" class=\"data row6 col6\" >1011</td>\n",
       "                        <td id=\"T_04d21efa_9ea2_11eb_b2a0_acde48001122row6_col7\" class=\"data row6 col7\" >0</td>\n",
       "            </tr>\n",
       "            <tr>\n",
       "                        <th id=\"T_04d21efa_9ea2_11eb_b2a0_acde48001122level0_row7\" class=\"row_heading level0 row7\" >chinese culture and people</th>\n",
       "                        <td id=\"T_04d21efa_9ea2_11eb_b2a0_acde48001122row7_col0\" class=\"data row7 col0\" >55</td>\n",
       "                        <td id=\"T_04d21efa_9ea2_11eb_b2a0_acde48001122row7_col1\" class=\"data row7 col1\" >15</td>\n",
       "                        <td id=\"T_04d21efa_9ea2_11eb_b2a0_acde48001122row7_col2\" class=\"data row7 col2\" >15</td>\n",
       "                        <td id=\"T_04d21efa_9ea2_11eb_b2a0_acde48001122row7_col3\" class=\"data row7 col3\" >38</td>\n",
       "                        <td id=\"T_04d21efa_9ea2_11eb_b2a0_acde48001122row7_col4\" class=\"data row7 col4\" >0</td>\n",
       "                        <td id=\"T_04d21efa_9ea2_11eb_b2a0_acde48001122row7_col5\" class=\"data row7 col5\" >7</td>\n",
       "                        <td id=\"T_04d21efa_9ea2_11eb_b2a0_acde48001122row7_col6\" class=\"data row7 col6\" >42</td>\n",
       "                        <td id=\"T_04d21efa_9ea2_11eb_b2a0_acde48001122row7_col7\" class=\"data row7 col7\" >387</td>\n",
       "            </tr>\n",
       "    </tbody></table>"
      ],
      "text/plain": [
       "<pandas.io.formats.style.Styler at 0x7f936983bd68>"
      ]
     },
     "metadata": {},
     "output_type": "display_data"
    },
    {
     "data": {
      "text/html": [
       "<style  type=\"text/css\" >\n",
       "#T_059cbf28_9ea2_11eb_9df5_acde48001122row0_col0,#T_059cbf28_9ea2_11eb_9df5_acde48001122row1_col1,#T_059cbf28_9ea2_11eb_9df5_acde48001122row2_col2,#T_059cbf28_9ea2_11eb_9df5_acde48001122row3_col3,#T_059cbf28_9ea2_11eb_9df5_acde48001122row4_col4,#T_059cbf28_9ea2_11eb_9df5_acde48001122row5_col5,#T_059cbf28_9ea2_11eb_9df5_acde48001122row6_col6,#T_059cbf28_9ea2_11eb_9df5_acde48001122row7_col7{\n",
       "            background-color:  #fde725;\n",
       "            color:  #000000;\n",
       "            font-size:  20px;\n",
       "            background-color:  #fde725;\n",
       "            color:  #000000;\n",
       "            font-size:  20px;\n",
       "        }#T_059cbf28_9ea2_11eb_9df5_acde48001122row0_col1,#T_059cbf28_9ea2_11eb_9df5_acde48001122row0_col2,#T_059cbf28_9ea2_11eb_9df5_acde48001122row0_col3,#T_059cbf28_9ea2_11eb_9df5_acde48001122row0_col4,#T_059cbf28_9ea2_11eb_9df5_acde48001122row0_col5,#T_059cbf28_9ea2_11eb_9df5_acde48001122row0_col6,#T_059cbf28_9ea2_11eb_9df5_acde48001122row0_col7,#T_059cbf28_9ea2_11eb_9df5_acde48001122row1_col0,#T_059cbf28_9ea2_11eb_9df5_acde48001122row1_col2,#T_059cbf28_9ea2_11eb_9df5_acde48001122row1_col3,#T_059cbf28_9ea2_11eb_9df5_acde48001122row1_col4,#T_059cbf28_9ea2_11eb_9df5_acde48001122row1_col5,#T_059cbf28_9ea2_11eb_9df5_acde48001122row1_col6,#T_059cbf28_9ea2_11eb_9df5_acde48001122row1_col7,#T_059cbf28_9ea2_11eb_9df5_acde48001122row2_col1,#T_059cbf28_9ea2_11eb_9df5_acde48001122row2_col3,#T_059cbf28_9ea2_11eb_9df5_acde48001122row2_col4,#T_059cbf28_9ea2_11eb_9df5_acde48001122row2_col5,#T_059cbf28_9ea2_11eb_9df5_acde48001122row2_col6,#T_059cbf28_9ea2_11eb_9df5_acde48001122row2_col7,#T_059cbf28_9ea2_11eb_9df5_acde48001122row3_col4,#T_059cbf28_9ea2_11eb_9df5_acde48001122row3_col5,#T_059cbf28_9ea2_11eb_9df5_acde48001122row3_col6,#T_059cbf28_9ea2_11eb_9df5_acde48001122row3_col7,#T_059cbf28_9ea2_11eb_9df5_acde48001122row4_col2,#T_059cbf28_9ea2_11eb_9df5_acde48001122row4_col5,#T_059cbf28_9ea2_11eb_9df5_acde48001122row4_col6,#T_059cbf28_9ea2_11eb_9df5_acde48001122row4_col7,#T_059cbf28_9ea2_11eb_9df5_acde48001122row5_col1,#T_059cbf28_9ea2_11eb_9df5_acde48001122row5_col4,#T_059cbf28_9ea2_11eb_9df5_acde48001122row5_col6,#T_059cbf28_9ea2_11eb_9df5_acde48001122row5_col7,#T_059cbf28_9ea2_11eb_9df5_acde48001122row6_col4,#T_059cbf28_9ea2_11eb_9df5_acde48001122row6_col7{\n",
       "            background-color:  #440154;\n",
       "            color:  #f1f1f1;\n",
       "            font-size:  20px;\n",
       "            background-color:  white;\n",
       "            color:  white;\n",
       "            background-color:  #440154;\n",
       "            color:  #f1f1f1;\n",
       "            font-size:  20px;\n",
       "            background-color:  white;\n",
       "            color:  white;\n",
       "        }#T_059cbf28_9ea2_11eb_9df5_acde48001122row2_col0,#T_059cbf28_9ea2_11eb_9df5_acde48001122row5_col0{\n",
       "            background-color:  #46085c;\n",
       "            color:  #f1f1f1;\n",
       "            font-size:  20px;\n",
       "            background-color:  #46085c;\n",
       "            color:  #f1f1f1;\n",
       "            font-size:  20px;\n",
       "        }#T_059cbf28_9ea2_11eb_9df5_acde48001122row3_col0{\n",
       "            background-color:  #7ad151;\n",
       "            color:  #000000;\n",
       "            font-size:  20px;\n",
       "            background-color:  #7ad151;\n",
       "            color:  #000000;\n",
       "            font-size:  20px;\n",
       "        }#T_059cbf28_9ea2_11eb_9df5_acde48001122row3_col1,#T_059cbf28_9ea2_11eb_9df5_acde48001122row6_col1{\n",
       "            background-color:  #3f4788;\n",
       "            color:  #f1f1f1;\n",
       "            font-size:  20px;\n",
       "            background-color:  #3f4788;\n",
       "            color:  #f1f1f1;\n",
       "            font-size:  20px;\n",
       "        }#T_059cbf28_9ea2_11eb_9df5_acde48001122row3_col2{\n",
       "            background-color:  #443983;\n",
       "            color:  #f1f1f1;\n",
       "            font-size:  20px;\n",
       "            background-color:  #443983;\n",
       "            color:  #f1f1f1;\n",
       "            font-size:  20px;\n",
       "        }#T_059cbf28_9ea2_11eb_9df5_acde48001122row4_col0,#T_059cbf28_9ea2_11eb_9df5_acde48001122row4_col3{\n",
       "            background-color:  #440256;\n",
       "            color:  #f1f1f1;\n",
       "            font-size:  20px;\n",
       "            background-color:  #440256;\n",
       "            color:  #f1f1f1;\n",
       "            font-size:  20px;\n",
       "        }#T_059cbf28_9ea2_11eb_9df5_acde48001122row4_col1,#T_059cbf28_9ea2_11eb_9df5_acde48001122row7_col5{\n",
       "            background-color:  #482677;\n",
       "            color:  #f1f1f1;\n",
       "            font-size:  20px;\n",
       "            background-color:  #482677;\n",
       "            color:  #f1f1f1;\n",
       "            font-size:  20px;\n",
       "        }#T_059cbf28_9ea2_11eb_9df5_acde48001122row5_col2,#T_059cbf28_9ea2_11eb_9df5_acde48001122row5_col3,#T_059cbf28_9ea2_11eb_9df5_acde48001122row7_col2{\n",
       "            background-color:  #450559;\n",
       "            color:  #f1f1f1;\n",
       "            font-size:  20px;\n",
       "            background-color:  #450559;\n",
       "            color:  #f1f1f1;\n",
       "            font-size:  20px;\n",
       "        }#T_059cbf28_9ea2_11eb_9df5_acde48001122row6_col0{\n",
       "            background-color:  #424186;\n",
       "            color:  #f1f1f1;\n",
       "            font-size:  20px;\n",
       "            background-color:  #424186;\n",
       "            color:  #f1f1f1;\n",
       "            font-size:  20px;\n",
       "        }#T_059cbf28_9ea2_11eb_9df5_acde48001122row6_col2{\n",
       "            background-color:  #471365;\n",
       "            color:  #f1f1f1;\n",
       "            font-size:  20px;\n",
       "            background-color:  #471365;\n",
       "            color:  #f1f1f1;\n",
       "            font-size:  20px;\n",
       "        }#T_059cbf28_9ea2_11eb_9df5_acde48001122row6_col3{\n",
       "            background-color:  #46337f;\n",
       "            color:  #f1f1f1;\n",
       "            font-size:  20px;\n",
       "            background-color:  #46337f;\n",
       "            color:  #f1f1f1;\n",
       "            font-size:  20px;\n",
       "        }#T_059cbf28_9ea2_11eb_9df5_acde48001122row6_col5{\n",
       "            background-color:  #433d84;\n",
       "            color:  #f1f1f1;\n",
       "            font-size:  20px;\n",
       "            background-color:  #433d84;\n",
       "            color:  #f1f1f1;\n",
       "            font-size:  20px;\n",
       "        }#T_059cbf28_9ea2_11eb_9df5_acde48001122row7_col0{\n",
       "            background-color:  #472c7a;\n",
       "            color:  #f1f1f1;\n",
       "            font-size:  20px;\n",
       "            background-color:  #472c7a;\n",
       "            color:  #f1f1f1;\n",
       "            font-size:  20px;\n",
       "        }#T_059cbf28_9ea2_11eb_9df5_acde48001122row7_col1{\n",
       "            background-color:  #481b6d;\n",
       "            color:  #f1f1f1;\n",
       "            font-size:  20px;\n",
       "            background-color:  #481b6d;\n",
       "            color:  #f1f1f1;\n",
       "            font-size:  20px;\n",
       "        }#T_059cbf28_9ea2_11eb_9df5_acde48001122row7_col3{\n",
       "            background-color:  #481467;\n",
       "            color:  #f1f1f1;\n",
       "            font-size:  20px;\n",
       "            background-color:  #481467;\n",
       "            color:  #f1f1f1;\n",
       "            font-size:  20px;\n",
       "        }#T_059cbf28_9ea2_11eb_9df5_acde48001122row7_col4{\n",
       "            background-color:  #3c4f8a;\n",
       "            color:  #f1f1f1;\n",
       "            font-size:  20px;\n",
       "            background-color:  #3c4f8a;\n",
       "            color:  #f1f1f1;\n",
       "            font-size:  20px;\n",
       "        }#T_059cbf28_9ea2_11eb_9df5_acde48001122row7_col6{\n",
       "            background-color:  #48186a;\n",
       "            color:  #f1f1f1;\n",
       "            font-size:  20px;\n",
       "            background-color:  #48186a;\n",
       "            color:  #f1f1f1;\n",
       "            font-size:  20px;\n",
       "        }</style><table id=\"T_059cbf28_9ea2_11eb_9df5_acde48001122\" ><caption>Spanish overlap heatmap v1</caption><thead>    <tr>        <th class=\"blank level0\" ></th>        <th class=\"col_heading level0 col0\" >politics and society</th>        <th class=\"col_heading level0 col1\" >technology</th>        <th class=\"col_heading level0 col2\" >covid-19</th>        <th class=\"col_heading level0 col3\" >geopolitics</th>        <th class=\"col_heading level0 col4\" >environment</th>        <th class=\"col_heading level0 col5\" >military and security</th>        <th class=\"col_heading level0 col6\" >economy</th>        <th class=\"col_heading level0 col7\" >chinese culture and people</th>    </tr></thead><tbody>\n",
       "                <tr>\n",
       "                        <th id=\"T_059cbf28_9ea2_11eb_9df5_acde48001122level0_row0\" class=\"row_heading level0 row0\" >politics and society</th>\n",
       "                        <td id=\"T_059cbf28_9ea2_11eb_9df5_acde48001122row0_col0\" class=\"data row0 col0\" >775</td>\n",
       "                        <td id=\"T_059cbf28_9ea2_11eb_9df5_acde48001122row0_col1\" class=\"data row0 col1\" >0</td>\n",
       "                        <td id=\"T_059cbf28_9ea2_11eb_9df5_acde48001122row0_col2\" class=\"data row0 col2\" >0</td>\n",
       "                        <td id=\"T_059cbf28_9ea2_11eb_9df5_acde48001122row0_col3\" class=\"data row0 col3\" >0</td>\n",
       "                        <td id=\"T_059cbf28_9ea2_11eb_9df5_acde48001122row0_col4\" class=\"data row0 col4\" >0</td>\n",
       "                        <td id=\"T_059cbf28_9ea2_11eb_9df5_acde48001122row0_col5\" class=\"data row0 col5\" >0</td>\n",
       "                        <td id=\"T_059cbf28_9ea2_11eb_9df5_acde48001122row0_col6\" class=\"data row0 col6\" >0</td>\n",
       "                        <td id=\"T_059cbf28_9ea2_11eb_9df5_acde48001122row0_col7\" class=\"data row0 col7\" >0</td>\n",
       "            </tr>\n",
       "            <tr>\n",
       "                        <th id=\"T_059cbf28_9ea2_11eb_9df5_acde48001122level0_row1\" class=\"row_heading level0 row1\" >technology</th>\n",
       "                        <td id=\"T_059cbf28_9ea2_11eb_9df5_acde48001122row1_col0\" class=\"data row1 col0\" >0</td>\n",
       "                        <td id=\"T_059cbf28_9ea2_11eb_9df5_acde48001122row1_col1\" class=\"data row1 col1\" >28</td>\n",
       "                        <td id=\"T_059cbf28_9ea2_11eb_9df5_acde48001122row1_col2\" class=\"data row1 col2\" >0</td>\n",
       "                        <td id=\"T_059cbf28_9ea2_11eb_9df5_acde48001122row1_col3\" class=\"data row1 col3\" >0</td>\n",
       "                        <td id=\"T_059cbf28_9ea2_11eb_9df5_acde48001122row1_col4\" class=\"data row1 col4\" >0</td>\n",
       "                        <td id=\"T_059cbf28_9ea2_11eb_9df5_acde48001122row1_col5\" class=\"data row1 col5\" >0</td>\n",
       "                        <td id=\"T_059cbf28_9ea2_11eb_9df5_acde48001122row1_col6\" class=\"data row1 col6\" >0</td>\n",
       "                        <td id=\"T_059cbf28_9ea2_11eb_9df5_acde48001122row1_col7\" class=\"data row1 col7\" >0</td>\n",
       "            </tr>\n",
       "            <tr>\n",
       "                        <th id=\"T_059cbf28_9ea2_11eb_9df5_acde48001122level0_row2\" class=\"row_heading level0 row2\" >covid-19</th>\n",
       "                        <td id=\"T_059cbf28_9ea2_11eb_9df5_acde48001122row2_col0\" class=\"data row2 col0\" >16</td>\n",
       "                        <td id=\"T_059cbf28_9ea2_11eb_9df5_acde48001122row2_col1\" class=\"data row2 col1\" >0</td>\n",
       "                        <td id=\"T_059cbf28_9ea2_11eb_9df5_acde48001122row2_col2\" class=\"data row2 col2\" >773</td>\n",
       "                        <td id=\"T_059cbf28_9ea2_11eb_9df5_acde48001122row2_col3\" class=\"data row2 col3\" >0</td>\n",
       "                        <td id=\"T_059cbf28_9ea2_11eb_9df5_acde48001122row2_col4\" class=\"data row2 col4\" >0</td>\n",
       "                        <td id=\"T_059cbf28_9ea2_11eb_9df5_acde48001122row2_col5\" class=\"data row2 col5\" >0</td>\n",
       "                        <td id=\"T_059cbf28_9ea2_11eb_9df5_acde48001122row2_col6\" class=\"data row2 col6\" >0</td>\n",
       "                        <td id=\"T_059cbf28_9ea2_11eb_9df5_acde48001122row2_col7\" class=\"data row2 col7\" >0</td>\n",
       "            </tr>\n",
       "            <tr>\n",
       "                        <th id=\"T_059cbf28_9ea2_11eb_9df5_acde48001122level0_row3\" class=\"row_heading level0 row3\" >geopolitics</th>\n",
       "                        <td id=\"T_059cbf28_9ea2_11eb_9df5_acde48001122row3_col0\" class=\"data row3 col0\" >620</td>\n",
       "                        <td id=\"T_059cbf28_9ea2_11eb_9df5_acde48001122row3_col1\" class=\"data row3 col1\" >6</td>\n",
       "                        <td id=\"T_059cbf28_9ea2_11eb_9df5_acde48001122row3_col2\" class=\"data row3 col2\" >128</td>\n",
       "                        <td id=\"T_059cbf28_9ea2_11eb_9df5_acde48001122row3_col3\" class=\"data row3 col3\" >1892</td>\n",
       "                        <td id=\"T_059cbf28_9ea2_11eb_9df5_acde48001122row3_col4\" class=\"data row3 col4\" >0</td>\n",
       "                        <td id=\"T_059cbf28_9ea2_11eb_9df5_acde48001122row3_col5\" class=\"data row3 col5\" >0</td>\n",
       "                        <td id=\"T_059cbf28_9ea2_11eb_9df5_acde48001122row3_col6\" class=\"data row3 col6\" >0</td>\n",
       "                        <td id=\"T_059cbf28_9ea2_11eb_9df5_acde48001122row3_col7\" class=\"data row3 col7\" >0</td>\n",
       "            </tr>\n",
       "            <tr>\n",
       "                        <th id=\"T_059cbf28_9ea2_11eb_9df5_acde48001122level0_row4\" class=\"row_heading level0 row4\" >environment</th>\n",
       "                        <td id=\"T_059cbf28_9ea2_11eb_9df5_acde48001122row4_col0\" class=\"data row4 col0\" >4</td>\n",
       "                        <td id=\"T_059cbf28_9ea2_11eb_9df5_acde48001122row4_col1\" class=\"data row4 col1\" >3</td>\n",
       "                        <td id=\"T_059cbf28_9ea2_11eb_9df5_acde48001122row4_col2\" class=\"data row4 col2\" >0</td>\n",
       "                        <td id=\"T_059cbf28_9ea2_11eb_9df5_acde48001122row4_col3\" class=\"data row4 col3\" >11</td>\n",
       "                        <td id=\"T_059cbf28_9ea2_11eb_9df5_acde48001122row4_col4\" class=\"data row4 col4\" >62</td>\n",
       "                        <td id=\"T_059cbf28_9ea2_11eb_9df5_acde48001122row4_col5\" class=\"data row4 col5\" >0</td>\n",
       "                        <td id=\"T_059cbf28_9ea2_11eb_9df5_acde48001122row4_col6\" class=\"data row4 col6\" >0</td>\n",
       "                        <td id=\"T_059cbf28_9ea2_11eb_9df5_acde48001122row4_col7\" class=\"data row4 col7\" >0</td>\n",
       "            </tr>\n",
       "            <tr>\n",
       "                        <th id=\"T_059cbf28_9ea2_11eb_9df5_acde48001122level0_row5\" class=\"row_heading level0 row5\" >military and security</th>\n",
       "                        <td id=\"T_059cbf28_9ea2_11eb_9df5_acde48001122row5_col0\" class=\"data row5 col0\" >17</td>\n",
       "                        <td id=\"T_059cbf28_9ea2_11eb_9df5_acde48001122row5_col1\" class=\"data row5 col1\" >0</td>\n",
       "                        <td id=\"T_059cbf28_9ea2_11eb_9df5_acde48001122row5_col2\" class=\"data row5 col2\" >10</td>\n",
       "                        <td id=\"T_059cbf28_9ea2_11eb_9df5_acde48001122row5_col3\" class=\"data row5 col3\" >29</td>\n",
       "                        <td id=\"T_059cbf28_9ea2_11eb_9df5_acde48001122row5_col4\" class=\"data row5 col4\" >0</td>\n",
       "                        <td id=\"T_059cbf28_9ea2_11eb_9df5_acde48001122row5_col5\" class=\"data row5 col5\" >141</td>\n",
       "                        <td id=\"T_059cbf28_9ea2_11eb_9df5_acde48001122row5_col6\" class=\"data row5 col6\" >0</td>\n",
       "                        <td id=\"T_059cbf28_9ea2_11eb_9df5_acde48001122row5_col7\" class=\"data row5 col7\" >0</td>\n",
       "            </tr>\n",
       "            <tr>\n",
       "                        <th id=\"T_059cbf28_9ea2_11eb_9df5_acde48001122level0_row6\" class=\"row_heading level0 row6\" >economy</th>\n",
       "                        <td id=\"T_059cbf28_9ea2_11eb_9df5_acde48001122row6_col0\" class=\"data row6 col0\" >150</td>\n",
       "                        <td id=\"T_059cbf28_9ea2_11eb_9df5_acde48001122row6_col1\" class=\"data row6 col1\" >6</td>\n",
       "                        <td id=\"T_059cbf28_9ea2_11eb_9df5_acde48001122row6_col2\" class=\"data row6 col2\" >39</td>\n",
       "                        <td id=\"T_059cbf28_9ea2_11eb_9df5_acde48001122row6_col3\" class=\"data row6 col3\" >275</td>\n",
       "                        <td id=\"T_059cbf28_9ea2_11eb_9df5_acde48001122row6_col4\" class=\"data row6 col4\" >0</td>\n",
       "                        <td id=\"T_059cbf28_9ea2_11eb_9df5_acde48001122row6_col5\" class=\"data row6 col5\" >25</td>\n",
       "                        <td id=\"T_059cbf28_9ea2_11eb_9df5_acde48001122row6_col6\" class=\"data row6 col6\" >1032</td>\n",
       "                        <td id=\"T_059cbf28_9ea2_11eb_9df5_acde48001122row6_col7\" class=\"data row6 col7\" >0</td>\n",
       "            </tr>\n",
       "            <tr>\n",
       "                        <th id=\"T_059cbf28_9ea2_11eb_9df5_acde48001122level0_row7\" class=\"row_heading level0 row7\" >chinese culture and people</th>\n",
       "                        <td id=\"T_059cbf28_9ea2_11eb_9df5_acde48001122row7_col0\" class=\"data row7 col0\" >95</td>\n",
       "                        <td id=\"T_059cbf28_9ea2_11eb_9df5_acde48001122row7_col1\" class=\"data row7 col1\" >2</td>\n",
       "                        <td id=\"T_059cbf28_9ea2_11eb_9df5_acde48001122row7_col2\" class=\"data row7 col2\" >12</td>\n",
       "                        <td id=\"T_059cbf28_9ea2_11eb_9df5_acde48001122row7_col3\" class=\"data row7 col3\" >103</td>\n",
       "                        <td id=\"T_059cbf28_9ea2_11eb_9df5_acde48001122row7_col4\" class=\"data row7 col4\" >15</td>\n",
       "                        <td id=\"T_059cbf28_9ea2_11eb_9df5_acde48001122row7_col5\" class=\"data row7 col5\" >15</td>\n",
       "                        <td id=\"T_059cbf28_9ea2_11eb_9df5_acde48001122row7_col6\" class=\"data row7 col6\" >66</td>\n",
       "                        <td id=\"T_059cbf28_9ea2_11eb_9df5_acde48001122row7_col7\" class=\"data row7 col7\" >709</td>\n",
       "            </tr>\n",
       "    </tbody></table>"
      ],
      "text/plain": [
       "<pandas.io.formats.style.Styler at 0x7f93696055c0>"
      ]
     },
     "metadata": {},
     "output_type": "display_data"
    }
   ],
   "source": [
    "pl = project_level()     \n",
    "# pl.keyword_annotator_split('sankey_diagrams')\n",
    "# hms = pl.heatmap('heatmap')\n"
   ]
  },
  {
   "cell_type": "code",
   "execution_count": 265,
   "metadata": {},
   "outputs": [
    {
     "data": {
      "application/vnd.plotly.v1+json": {
       "config": {
        "plotlyServerURL": "https://plot.ly"
       },
       "data": [
        {
         "arrangement": "snap",
         "link": {
          "source": [
           1.8,
           0,
           1,
           2,
           5,
           4,
           3,
           5
          ],
          "target": [
           5,
           3,
           4,
           3,
           0,
           2,
           2,
           3
          ],
          "value": [
           1,
           2,
           1,
           1,
           1,
           1,
           1,
           2
          ]
         },
         "node": {
          "label": [
           "A",
           "B",
           "C",
           "D",
           "E",
           "F"
          ],
          "pad": 10,
          "x": [
           0,
           0,
           0,
           0,
           0,
           0.9
          ],
          "y": [
           0,
           0,
           0,
           0,
           0,
           0.8
          ]
         },
         "type": "sankey"
        }
       ],
       "layout": {
        "template": {
         "data": {
          "bar": [
           {
            "error_x": {
             "color": "#2a3f5f"
            },
            "error_y": {
             "color": "#2a3f5f"
            },
            "marker": {
             "line": {
              "color": "#E5ECF6",
              "width": 0.5
             }
            },
            "type": "bar"
           }
          ],
          "barpolar": [
           {
            "marker": {
             "line": {
              "color": "#E5ECF6",
              "width": 0.5
             }
            },
            "type": "barpolar"
           }
          ],
          "carpet": [
           {
            "aaxis": {
             "endlinecolor": "#2a3f5f",
             "gridcolor": "white",
             "linecolor": "white",
             "minorgridcolor": "white",
             "startlinecolor": "#2a3f5f"
            },
            "baxis": {
             "endlinecolor": "#2a3f5f",
             "gridcolor": "white",
             "linecolor": "white",
             "minorgridcolor": "white",
             "startlinecolor": "#2a3f5f"
            },
            "type": "carpet"
           }
          ],
          "choropleth": [
           {
            "colorbar": {
             "outlinewidth": 0,
             "ticks": ""
            },
            "type": "choropleth"
           }
          ],
          "contour": [
           {
            "colorbar": {
             "outlinewidth": 0,
             "ticks": ""
            },
            "colorscale": [
             [
              0,
              "#0d0887"
             ],
             [
              0.1111111111111111,
              "#46039f"
             ],
             [
              0.2222222222222222,
              "#7201a8"
             ],
             [
              0.3333333333333333,
              "#9c179e"
             ],
             [
              0.4444444444444444,
              "#bd3786"
             ],
             [
              0.5555555555555556,
              "#d8576b"
             ],
             [
              0.6666666666666666,
              "#ed7953"
             ],
             [
              0.7777777777777778,
              "#fb9f3a"
             ],
             [
              0.8888888888888888,
              "#fdca26"
             ],
             [
              1,
              "#f0f921"
             ]
            ],
            "type": "contour"
           }
          ],
          "contourcarpet": [
           {
            "colorbar": {
             "outlinewidth": 0,
             "ticks": ""
            },
            "type": "contourcarpet"
           }
          ],
          "heatmap": [
           {
            "colorbar": {
             "outlinewidth": 0,
             "ticks": ""
            },
            "colorscale": [
             [
              0,
              "#0d0887"
             ],
             [
              0.1111111111111111,
              "#46039f"
             ],
             [
              0.2222222222222222,
              "#7201a8"
             ],
             [
              0.3333333333333333,
              "#9c179e"
             ],
             [
              0.4444444444444444,
              "#bd3786"
             ],
             [
              0.5555555555555556,
              "#d8576b"
             ],
             [
              0.6666666666666666,
              "#ed7953"
             ],
             [
              0.7777777777777778,
              "#fb9f3a"
             ],
             [
              0.8888888888888888,
              "#fdca26"
             ],
             [
              1,
              "#f0f921"
             ]
            ],
            "type": "heatmap"
           }
          ],
          "heatmapgl": [
           {
            "colorbar": {
             "outlinewidth": 0,
             "ticks": ""
            },
            "colorscale": [
             [
              0,
              "#0d0887"
             ],
             [
              0.1111111111111111,
              "#46039f"
             ],
             [
              0.2222222222222222,
              "#7201a8"
             ],
             [
              0.3333333333333333,
              "#9c179e"
             ],
             [
              0.4444444444444444,
              "#bd3786"
             ],
             [
              0.5555555555555556,
              "#d8576b"
             ],
             [
              0.6666666666666666,
              "#ed7953"
             ],
             [
              0.7777777777777778,
              "#fb9f3a"
             ],
             [
              0.8888888888888888,
              "#fdca26"
             ],
             [
              1,
              "#f0f921"
             ]
            ],
            "type": "heatmapgl"
           }
          ],
          "histogram": [
           {
            "marker": {
             "colorbar": {
              "outlinewidth": 0,
              "ticks": ""
             }
            },
            "type": "histogram"
           }
          ],
          "histogram2d": [
           {
            "colorbar": {
             "outlinewidth": 0,
             "ticks": ""
            },
            "colorscale": [
             [
              0,
              "#0d0887"
             ],
             [
              0.1111111111111111,
              "#46039f"
             ],
             [
              0.2222222222222222,
              "#7201a8"
             ],
             [
              0.3333333333333333,
              "#9c179e"
             ],
             [
              0.4444444444444444,
              "#bd3786"
             ],
             [
              0.5555555555555556,
              "#d8576b"
             ],
             [
              0.6666666666666666,
              "#ed7953"
             ],
             [
              0.7777777777777778,
              "#fb9f3a"
             ],
             [
              0.8888888888888888,
              "#fdca26"
             ],
             [
              1,
              "#f0f921"
             ]
            ],
            "type": "histogram2d"
           }
          ],
          "histogram2dcontour": [
           {
            "colorbar": {
             "outlinewidth": 0,
             "ticks": ""
            },
            "colorscale": [
             [
              0,
              "#0d0887"
             ],
             [
              0.1111111111111111,
              "#46039f"
             ],
             [
              0.2222222222222222,
              "#7201a8"
             ],
             [
              0.3333333333333333,
              "#9c179e"
             ],
             [
              0.4444444444444444,
              "#bd3786"
             ],
             [
              0.5555555555555556,
              "#d8576b"
             ],
             [
              0.6666666666666666,
              "#ed7953"
             ],
             [
              0.7777777777777778,
              "#fb9f3a"
             ],
             [
              0.8888888888888888,
              "#fdca26"
             ],
             [
              1,
              "#f0f921"
             ]
            ],
            "type": "histogram2dcontour"
           }
          ],
          "mesh3d": [
           {
            "colorbar": {
             "outlinewidth": 0,
             "ticks": ""
            },
            "type": "mesh3d"
           }
          ],
          "parcoords": [
           {
            "line": {
             "colorbar": {
              "outlinewidth": 0,
              "ticks": ""
             }
            },
            "type": "parcoords"
           }
          ],
          "pie": [
           {
            "automargin": true,
            "type": "pie"
           }
          ],
          "scatter": [
           {
            "marker": {
             "colorbar": {
              "outlinewidth": 0,
              "ticks": ""
             }
            },
            "type": "scatter"
           }
          ],
          "scatter3d": [
           {
            "line": {
             "colorbar": {
              "outlinewidth": 0,
              "ticks": ""
             }
            },
            "marker": {
             "colorbar": {
              "outlinewidth": 0,
              "ticks": ""
             }
            },
            "type": "scatter3d"
           }
          ],
          "scattercarpet": [
           {
            "marker": {
             "colorbar": {
              "outlinewidth": 0,
              "ticks": ""
             }
            },
            "type": "scattercarpet"
           }
          ],
          "scattergeo": [
           {
            "marker": {
             "colorbar": {
              "outlinewidth": 0,
              "ticks": ""
             }
            },
            "type": "scattergeo"
           }
          ],
          "scattergl": [
           {
            "marker": {
             "colorbar": {
              "outlinewidth": 0,
              "ticks": ""
             }
            },
            "type": "scattergl"
           }
          ],
          "scattermapbox": [
           {
            "marker": {
             "colorbar": {
              "outlinewidth": 0,
              "ticks": ""
             }
            },
            "type": "scattermapbox"
           }
          ],
          "scatterpolar": [
           {
            "marker": {
             "colorbar": {
              "outlinewidth": 0,
              "ticks": ""
             }
            },
            "type": "scatterpolar"
           }
          ],
          "scatterpolargl": [
           {
            "marker": {
             "colorbar": {
              "outlinewidth": 0,
              "ticks": ""
             }
            },
            "type": "scatterpolargl"
           }
          ],
          "scatterternary": [
           {
            "marker": {
             "colorbar": {
              "outlinewidth": 0,
              "ticks": ""
             }
            },
            "type": "scatterternary"
           }
          ],
          "surface": [
           {
            "colorbar": {
             "outlinewidth": 0,
             "ticks": ""
            },
            "colorscale": [
             [
              0,
              "#0d0887"
             ],
             [
              0.1111111111111111,
              "#46039f"
             ],
             [
              0.2222222222222222,
              "#7201a8"
             ],
             [
              0.3333333333333333,
              "#9c179e"
             ],
             [
              0.4444444444444444,
              "#bd3786"
             ],
             [
              0.5555555555555556,
              "#d8576b"
             ],
             [
              0.6666666666666666,
              "#ed7953"
             ],
             [
              0.7777777777777778,
              "#fb9f3a"
             ],
             [
              0.8888888888888888,
              "#fdca26"
             ],
             [
              1,
              "#f0f921"
             ]
            ],
            "type": "surface"
           }
          ],
          "table": [
           {
            "cells": {
             "fill": {
              "color": "#EBF0F8"
             },
             "line": {
              "color": "white"
             }
            },
            "header": {
             "fill": {
              "color": "#C8D4E3"
             },
             "line": {
              "color": "white"
             }
            },
            "type": "table"
           }
          ]
         },
         "layout": {
          "annotationdefaults": {
           "arrowcolor": "#2a3f5f",
           "arrowhead": 0,
           "arrowwidth": 1
          },
          "autotypenumbers": "strict",
          "coloraxis": {
           "colorbar": {
            "outlinewidth": 0,
            "ticks": ""
           }
          },
          "colorscale": {
           "diverging": [
            [
             0,
             "#8e0152"
            ],
            [
             0.1,
             "#c51b7d"
            ],
            [
             0.2,
             "#de77ae"
            ],
            [
             0.3,
             "#f1b6da"
            ],
            [
             0.4,
             "#fde0ef"
            ],
            [
             0.5,
             "#f7f7f7"
            ],
            [
             0.6,
             "#e6f5d0"
            ],
            [
             0.7,
             "#b8e186"
            ],
            [
             0.8,
             "#7fbc41"
            ],
            [
             0.9,
             "#4d9221"
            ],
            [
             1,
             "#276419"
            ]
           ],
           "sequential": [
            [
             0,
             "#0d0887"
            ],
            [
             0.1111111111111111,
             "#46039f"
            ],
            [
             0.2222222222222222,
             "#7201a8"
            ],
            [
             0.3333333333333333,
             "#9c179e"
            ],
            [
             0.4444444444444444,
             "#bd3786"
            ],
            [
             0.5555555555555556,
             "#d8576b"
            ],
            [
             0.6666666666666666,
             "#ed7953"
            ],
            [
             0.7777777777777778,
             "#fb9f3a"
            ],
            [
             0.8888888888888888,
             "#fdca26"
            ],
            [
             1,
             "#f0f921"
            ]
           ],
           "sequentialminus": [
            [
             0,
             "#0d0887"
            ],
            [
             0.1111111111111111,
             "#46039f"
            ],
            [
             0.2222222222222222,
             "#7201a8"
            ],
            [
             0.3333333333333333,
             "#9c179e"
            ],
            [
             0.4444444444444444,
             "#bd3786"
            ],
            [
             0.5555555555555556,
             "#d8576b"
            ],
            [
             0.6666666666666666,
             "#ed7953"
            ],
            [
             0.7777777777777778,
             "#fb9f3a"
            ],
            [
             0.8888888888888888,
             "#fdca26"
            ],
            [
             1,
             "#f0f921"
            ]
           ]
          },
          "colorway": [
           "#636efa",
           "#EF553B",
           "#00cc96",
           "#ab63fa",
           "#FFA15A",
           "#19d3f3",
           "#FF6692",
           "#B6E880",
           "#FF97FF",
           "#FECB52"
          ],
          "font": {
           "color": "#2a3f5f"
          },
          "geo": {
           "bgcolor": "white",
           "lakecolor": "white",
           "landcolor": "#E5ECF6",
           "showlakes": true,
           "showland": true,
           "subunitcolor": "white"
          },
          "hoverlabel": {
           "align": "left"
          },
          "hovermode": "closest",
          "mapbox": {
           "style": "light"
          },
          "paper_bgcolor": "white",
          "plot_bgcolor": "#E5ECF6",
          "polar": {
           "angularaxis": {
            "gridcolor": "white",
            "linecolor": "white",
            "ticks": ""
           },
           "bgcolor": "#E5ECF6",
           "radialaxis": {
            "gridcolor": "white",
            "linecolor": "white",
            "ticks": ""
           }
          },
          "scene": {
           "xaxis": {
            "backgroundcolor": "#E5ECF6",
            "gridcolor": "white",
            "gridwidth": 2,
            "linecolor": "white",
            "showbackground": true,
            "ticks": "",
            "zerolinecolor": "white"
           },
           "yaxis": {
            "backgroundcolor": "#E5ECF6",
            "gridcolor": "white",
            "gridwidth": 2,
            "linecolor": "white",
            "showbackground": true,
            "ticks": "",
            "zerolinecolor": "white"
           },
           "zaxis": {
            "backgroundcolor": "#E5ECF6",
            "gridcolor": "white",
            "gridwidth": 2,
            "linecolor": "white",
            "showbackground": true,
            "ticks": "",
            "zerolinecolor": "white"
           }
          },
          "shapedefaults": {
           "line": {
            "color": "#2a3f5f"
           }
          },
          "ternary": {
           "aaxis": {
            "gridcolor": "white",
            "linecolor": "white",
            "ticks": ""
           },
           "baxis": {
            "gridcolor": "white",
            "linecolor": "white",
            "ticks": ""
           },
           "bgcolor": "#E5ECF6",
           "caxis": {
            "gridcolor": "white",
            "linecolor": "white",
            "ticks": ""
           }
          },
          "title": {
           "x": 0.05
          },
          "xaxis": {
           "automargin": true,
           "gridcolor": "white",
           "linecolor": "white",
           "ticks": "",
           "title": {
            "standoff": 15
           },
           "zerolinecolor": "white",
           "zerolinewidth": 2
          },
          "yaxis": {
           "automargin": true,
           "gridcolor": "white",
           "linecolor": "white",
           "ticks": "",
           "title": {
            "standoff": 15
           },
           "zerolinecolor": "white",
           "zerolinewidth": 2
          }
         }
        }
       }
      },
      "text/html": [
       "<div>                            <div id=\"ca6cca7e-ee8b-4aba-af1c-8c865514f0cc\" class=\"plotly-graph-div\" style=\"height:525px; width:100%;\"></div>            <script type=\"text/javascript\">                require([\"plotly\"], function(Plotly) {                    window.PLOTLYENV=window.PLOTLYENV || {};                                    if (document.getElementById(\"ca6cca7e-ee8b-4aba-af1c-8c865514f0cc\")) {                    Plotly.newPlot(                        \"ca6cca7e-ee8b-4aba-af1c-8c865514f0cc\",                        [{\"arrangement\": \"snap\", \"link\": {\"source\": [1.8, 0, 1, 2, 5, 4, 3, 5], \"target\": [5, 3, 4, 3, 0, 2, 2, 3], \"value\": [1, 2, 1, 1, 1, 1, 1, 2]}, \"node\": {\"label\": [\"A\", \"B\", \"C\", \"D\", \"E\", \"F\"], \"pad\": 10, \"x\": [0, 0, 0, 0, 0, 0.9], \"y\": [0, 0, 0, 0, 0, 0.8]}, \"type\": \"sankey\"}],                        {\"template\": {\"data\": {\"bar\": [{\"error_x\": {\"color\": \"#2a3f5f\"}, \"error_y\": {\"color\": \"#2a3f5f\"}, \"marker\": {\"line\": {\"color\": \"#E5ECF6\", \"width\": 0.5}}, \"type\": \"bar\"}], \"barpolar\": [{\"marker\": {\"line\": {\"color\": \"#E5ECF6\", \"width\": 0.5}}, \"type\": \"barpolar\"}], \"carpet\": [{\"aaxis\": {\"endlinecolor\": \"#2a3f5f\", \"gridcolor\": \"white\", \"linecolor\": \"white\", \"minorgridcolor\": \"white\", \"startlinecolor\": \"#2a3f5f\"}, \"baxis\": {\"endlinecolor\": \"#2a3f5f\", \"gridcolor\": \"white\", \"linecolor\": \"white\", \"minorgridcolor\": \"white\", \"startlinecolor\": \"#2a3f5f\"}, \"type\": \"carpet\"}], \"choropleth\": [{\"colorbar\": {\"outlinewidth\": 0, \"ticks\": \"\"}, \"type\": \"choropleth\"}], \"contour\": [{\"colorbar\": {\"outlinewidth\": 0, \"ticks\": \"\"}, \"colorscale\": [[0.0, \"#0d0887\"], [0.1111111111111111, \"#46039f\"], [0.2222222222222222, \"#7201a8\"], [0.3333333333333333, \"#9c179e\"], [0.4444444444444444, \"#bd3786\"], [0.5555555555555556, \"#d8576b\"], [0.6666666666666666, \"#ed7953\"], [0.7777777777777778, \"#fb9f3a\"], [0.8888888888888888, \"#fdca26\"], [1.0, \"#f0f921\"]], \"type\": \"contour\"}], \"contourcarpet\": [{\"colorbar\": {\"outlinewidth\": 0, \"ticks\": \"\"}, \"type\": \"contourcarpet\"}], \"heatmap\": [{\"colorbar\": {\"outlinewidth\": 0, \"ticks\": \"\"}, \"colorscale\": [[0.0, \"#0d0887\"], [0.1111111111111111, \"#46039f\"], [0.2222222222222222, \"#7201a8\"], [0.3333333333333333, \"#9c179e\"], [0.4444444444444444, \"#bd3786\"], [0.5555555555555556, \"#d8576b\"], [0.6666666666666666, \"#ed7953\"], [0.7777777777777778, \"#fb9f3a\"], [0.8888888888888888, \"#fdca26\"], [1.0, \"#f0f921\"]], \"type\": \"heatmap\"}], \"heatmapgl\": [{\"colorbar\": {\"outlinewidth\": 0, \"ticks\": \"\"}, \"colorscale\": [[0.0, \"#0d0887\"], [0.1111111111111111, \"#46039f\"], [0.2222222222222222, \"#7201a8\"], [0.3333333333333333, \"#9c179e\"], [0.4444444444444444, \"#bd3786\"], [0.5555555555555556, \"#d8576b\"], [0.6666666666666666, \"#ed7953\"], [0.7777777777777778, \"#fb9f3a\"], [0.8888888888888888, \"#fdca26\"], [1.0, \"#f0f921\"]], \"type\": \"heatmapgl\"}], \"histogram\": [{\"marker\": {\"colorbar\": {\"outlinewidth\": 0, \"ticks\": \"\"}}, \"type\": \"histogram\"}], \"histogram2d\": [{\"colorbar\": {\"outlinewidth\": 0, \"ticks\": \"\"}, \"colorscale\": [[0.0, \"#0d0887\"], [0.1111111111111111, \"#46039f\"], [0.2222222222222222, \"#7201a8\"], [0.3333333333333333, \"#9c179e\"], [0.4444444444444444, \"#bd3786\"], [0.5555555555555556, \"#d8576b\"], [0.6666666666666666, \"#ed7953\"], [0.7777777777777778, \"#fb9f3a\"], [0.8888888888888888, \"#fdca26\"], [1.0, \"#f0f921\"]], \"type\": \"histogram2d\"}], \"histogram2dcontour\": [{\"colorbar\": {\"outlinewidth\": 0, \"ticks\": \"\"}, \"colorscale\": [[0.0, \"#0d0887\"], [0.1111111111111111, \"#46039f\"], [0.2222222222222222, \"#7201a8\"], [0.3333333333333333, \"#9c179e\"], [0.4444444444444444, \"#bd3786\"], [0.5555555555555556, \"#d8576b\"], [0.6666666666666666, \"#ed7953\"], [0.7777777777777778, \"#fb9f3a\"], [0.8888888888888888, \"#fdca26\"], [1.0, \"#f0f921\"]], \"type\": \"histogram2dcontour\"}], \"mesh3d\": [{\"colorbar\": {\"outlinewidth\": 0, \"ticks\": \"\"}, \"type\": \"mesh3d\"}], \"parcoords\": [{\"line\": {\"colorbar\": {\"outlinewidth\": 0, \"ticks\": \"\"}}, \"type\": \"parcoords\"}], \"pie\": [{\"automargin\": true, \"type\": \"pie\"}], \"scatter\": [{\"marker\": {\"colorbar\": {\"outlinewidth\": 0, \"ticks\": \"\"}}, \"type\": \"scatter\"}], \"scatter3d\": [{\"line\": {\"colorbar\": {\"outlinewidth\": 0, \"ticks\": \"\"}}, \"marker\": {\"colorbar\": {\"outlinewidth\": 0, \"ticks\": \"\"}}, \"type\": \"scatter3d\"}], \"scattercarpet\": [{\"marker\": {\"colorbar\": {\"outlinewidth\": 0, \"ticks\": \"\"}}, \"type\": \"scattercarpet\"}], \"scattergeo\": [{\"marker\": {\"colorbar\": {\"outlinewidth\": 0, \"ticks\": \"\"}}, \"type\": \"scattergeo\"}], \"scattergl\": [{\"marker\": {\"colorbar\": {\"outlinewidth\": 0, \"ticks\": \"\"}}, \"type\": \"scattergl\"}], \"scattermapbox\": [{\"marker\": {\"colorbar\": {\"outlinewidth\": 0, \"ticks\": \"\"}}, \"type\": \"scattermapbox\"}], \"scatterpolar\": [{\"marker\": {\"colorbar\": {\"outlinewidth\": 0, \"ticks\": \"\"}}, \"type\": \"scatterpolar\"}], \"scatterpolargl\": [{\"marker\": {\"colorbar\": {\"outlinewidth\": 0, \"ticks\": \"\"}}, \"type\": \"scatterpolargl\"}], \"scatterternary\": [{\"marker\": {\"colorbar\": {\"outlinewidth\": 0, \"ticks\": \"\"}}, \"type\": \"scatterternary\"}], \"surface\": [{\"colorbar\": {\"outlinewidth\": 0, \"ticks\": \"\"}, \"colorscale\": [[0.0, \"#0d0887\"], [0.1111111111111111, \"#46039f\"], [0.2222222222222222, \"#7201a8\"], [0.3333333333333333, \"#9c179e\"], [0.4444444444444444, \"#bd3786\"], [0.5555555555555556, \"#d8576b\"], [0.6666666666666666, \"#ed7953\"], [0.7777777777777778, \"#fb9f3a\"], [0.8888888888888888, \"#fdca26\"], [1.0, \"#f0f921\"]], \"type\": \"surface\"}], \"table\": [{\"cells\": {\"fill\": {\"color\": \"#EBF0F8\"}, \"line\": {\"color\": \"white\"}}, \"header\": {\"fill\": {\"color\": \"#C8D4E3\"}, \"line\": {\"color\": \"white\"}}, \"type\": \"table\"}]}, \"layout\": {\"annotationdefaults\": {\"arrowcolor\": \"#2a3f5f\", \"arrowhead\": 0, \"arrowwidth\": 1}, \"autotypenumbers\": \"strict\", \"coloraxis\": {\"colorbar\": {\"outlinewidth\": 0, \"ticks\": \"\"}}, \"colorscale\": {\"diverging\": [[0, \"#8e0152\"], [0.1, \"#c51b7d\"], [0.2, \"#de77ae\"], [0.3, \"#f1b6da\"], [0.4, \"#fde0ef\"], [0.5, \"#f7f7f7\"], [0.6, \"#e6f5d0\"], [0.7, \"#b8e186\"], [0.8, \"#7fbc41\"], [0.9, \"#4d9221\"], [1, \"#276419\"]], \"sequential\": [[0.0, \"#0d0887\"], [0.1111111111111111, \"#46039f\"], [0.2222222222222222, \"#7201a8\"], [0.3333333333333333, \"#9c179e\"], [0.4444444444444444, \"#bd3786\"], [0.5555555555555556, \"#d8576b\"], [0.6666666666666666, \"#ed7953\"], [0.7777777777777778, \"#fb9f3a\"], [0.8888888888888888, \"#fdca26\"], [1.0, \"#f0f921\"]], \"sequentialminus\": [[0.0, \"#0d0887\"], [0.1111111111111111, \"#46039f\"], [0.2222222222222222, \"#7201a8\"], [0.3333333333333333, \"#9c179e\"], [0.4444444444444444, \"#bd3786\"], [0.5555555555555556, \"#d8576b\"], [0.6666666666666666, \"#ed7953\"], [0.7777777777777778, \"#fb9f3a\"], [0.8888888888888888, \"#fdca26\"], [1.0, \"#f0f921\"]]}, \"colorway\": [\"#636efa\", \"#EF553B\", \"#00cc96\", \"#ab63fa\", \"#FFA15A\", \"#19d3f3\", \"#FF6692\", \"#B6E880\", \"#FF97FF\", \"#FECB52\"], \"font\": {\"color\": \"#2a3f5f\"}, \"geo\": {\"bgcolor\": \"white\", \"lakecolor\": \"white\", \"landcolor\": \"#E5ECF6\", \"showlakes\": true, \"showland\": true, \"subunitcolor\": \"white\"}, \"hoverlabel\": {\"align\": \"left\"}, \"hovermode\": \"closest\", \"mapbox\": {\"style\": \"light\"}, \"paper_bgcolor\": \"white\", \"plot_bgcolor\": \"#E5ECF6\", \"polar\": {\"angularaxis\": {\"gridcolor\": \"white\", \"linecolor\": \"white\", \"ticks\": \"\"}, \"bgcolor\": \"#E5ECF6\", \"radialaxis\": {\"gridcolor\": \"white\", \"linecolor\": \"white\", \"ticks\": \"\"}}, \"scene\": {\"xaxis\": {\"backgroundcolor\": \"#E5ECF6\", \"gridcolor\": \"white\", \"gridwidth\": 2, \"linecolor\": \"white\", \"showbackground\": true, \"ticks\": \"\", \"zerolinecolor\": \"white\"}, \"yaxis\": {\"backgroundcolor\": \"#E5ECF6\", \"gridcolor\": \"white\", \"gridwidth\": 2, \"linecolor\": \"white\", \"showbackground\": true, \"ticks\": \"\", \"zerolinecolor\": \"white\"}, \"zaxis\": {\"backgroundcolor\": \"#E5ECF6\", \"gridcolor\": \"white\", \"gridwidth\": 2, \"linecolor\": \"white\", \"showbackground\": true, \"ticks\": \"\", \"zerolinecolor\": \"white\"}}, \"shapedefaults\": {\"line\": {\"color\": \"#2a3f5f\"}}, \"ternary\": {\"aaxis\": {\"gridcolor\": \"white\", \"linecolor\": \"white\", \"ticks\": \"\"}, \"baxis\": {\"gridcolor\": \"white\", \"linecolor\": \"white\", \"ticks\": \"\"}, \"bgcolor\": \"#E5ECF6\", \"caxis\": {\"gridcolor\": \"white\", \"linecolor\": \"white\", \"ticks\": \"\"}}, \"title\": {\"x\": 0.05}, \"xaxis\": {\"automargin\": true, \"gridcolor\": \"white\", \"linecolor\": \"white\", \"ticks\": \"\", \"title\": {\"standoff\": 15}, \"zerolinecolor\": \"white\", \"zerolinewidth\": 2}, \"yaxis\": {\"automargin\": true, \"gridcolor\": \"white\", \"linecolor\": \"white\", \"ticks\": \"\", \"title\": {\"standoff\": 15}, \"zerolinecolor\": \"white\", \"zerolinewidth\": 2}}}},                        {\"responsive\": true}                    ).then(function(){\n",
       "                            \n",
       "var gd = document.getElementById('ca6cca7e-ee8b-4aba-af1c-8c865514f0cc');\n",
       "var x = new MutationObserver(function (mutations, observer) {{\n",
       "        var display = window.getComputedStyle(gd).display;\n",
       "        if (!display || display === 'none') {{\n",
       "            console.log([gd, 'removed!']);\n",
       "            Plotly.purge(gd);\n",
       "            observer.disconnect();\n",
       "        }}\n",
       "}});\n",
       "\n",
       "// Listen for the removal of the full notebook cells\n",
       "var notebookContainer = gd.closest('#notebook-container');\n",
       "if (notebookContainer) {{\n",
       "    x.observe(notebookContainer, {childList: true});\n",
       "}}\n",
       "\n",
       "// Listen for the clearing of the current output cell\n",
       "var outputEl = gd.closest('.output');\n",
       "if (outputEl) {{\n",
       "    x.observe(outputEl, {childList: true});\n",
       "}}\n",
       "\n",
       "                        })                };                });            </script>        </div>"
      ]
     },
     "metadata": {},
     "output_type": "display_data"
    }
   ],
   "source": [
    "\n",
    "fig = go.Figure(go.Sankey(\n",
    "    arrangement = \"snap\",\n",
    "    node = {\n",
    "        \"label\": [\"A\", \"B\", \"C\", \"D\", \"E\", \"F\"],\n",
    "        \"x\": [0, 0, 0, 0, 0, 0.9],\n",
    "        \"y\": [0, 0, 0, 0, 0, 0.8],\n",
    "        'pad':10},  # 10 Pixels\n",
    "    link = {\n",
    "        \"source\": [1.8, 0, 1, 2, 5, 4, 3, 5],\n",
    "        \"target\": [5, 3, 4, 3, 0, 2, 2, 3],\n",
    "        \"value\": [1, 2, 1, 1, 1, 1, 1, 2]}))\n",
    "\n",
    "fig.show()"
   ]
  },
  {
   "cell_type": "code",
   "execution_count": 259,
   "metadata": {},
   "outputs": [
    {
     "data": {
      "text/plain": [
       "['ar - 16528 - 10%',\n",
       " 'economy - 3200 - 19%',\n",
       " 'politics and society - 6446 - 39%',\n",
       " 'covid-19 - 5417 - 33%',\n",
       " 'technology - 2402 - 15%',\n",
       " 'environment - 4402 - 27%',\n",
       " 'military and security - 2450 - 15%',\n",
       " 'geopolitics - 6605 - 40%',\n",
       " 'chinese culture and people - 3378 - 20%',\n",
       " 'unannotated - 4106 - 25%',\n",
       " 'source data - 160276']"
      ]
     },
     "execution_count": 259,
     "metadata": {},
     "output_type": "execute_result"
    }
   ],
   "source": [
    "# ['ar - 16528 - 10%', 'economy - 3200 - 19%', 'politics and society - 6446 - 39%', 'covid-19 - 5417 - 33%', 'technology - 2402 - 15%', 'environment - 4402 - 27%', 'military and security - 2450 - 15%', 'geopolitics - 6605 - 40%', 'chinese culture and people - 3378 - 20%', 'unannotated - 4106 - 25%', 'source data - 160276']\n",
    "\n"
   ]
  },
  {
   "cell_type": "code",
   "execution_count": 260,
   "metadata": {},
   "outputs": [],
   "source": [
    "# sources = ['source data', 'lang']\n",
    "# def create_sources(inp, out, sources ):\n",
    "#     return inp*[sources[0]] + out*['lang']"
   ]
  },
  {
   "cell_type": "code",
   "execution_count": null,
   "metadata": {},
   "outputs": [],
   "source": [
    "import numpy as np\n",
    "foo_array = [38,26,14,55,31,0,15,8,0,0,0,18,40,27,3,19,0,49,29,21,5,38,29,17,16]\n",
    "foo = np.array(foo_array)\n",
    "# Compute the median of the non-zero elements\n",
    "m = np.median(foo[foo > 0])\n",
    "# Assign the median to the zero elements \n",
    "foo[foo == 0] = m"
   ]
  },
  {
   "cell_type": "code",
   "execution_count": null,
   "metadata": {},
   "outputs": [],
   "source": [
    "m\n"
   ]
  },
  {
   "cell_type": "code",
   "execution_count": null,
   "metadata": {},
   "outputs": [],
   "source": [
    "x =  np.tril(df.values, k=0)\n",
    "x[x == 0] = 1\n",
    "x"
   ]
  },
  {
   "cell_type": "code",
   "execution_count": null,
   "metadata": {},
   "outputs": [],
   "source": [
    "version = 'v2'\n",
    "lang = 'fr'\n",
    "def analyze_overlap(df):\n",
    "    return (df.T @ df) + ((0-df.T)@(0-df))\n",
    "\n",
    "def color_white(val):\n",
    "        \"\"\"Color the nan text white\"\"\"\n",
    "        if val == 0:\n",
    "            return 'color: white'\n",
    "\n",
    "def color_white_background(val):\n",
    "        if val == 0:\n",
    "            return 'background-color: white'\n",
    "\n",
    "def rename_columns(df):\n",
    "    renamed = df.rename(columns = themes_mapping)\n",
    "    return renamed\n",
    "annotated_data = pd.read_csv(f'{version}/keyword_annotations/store-all-messages-annotated-{version}-{lang}.csv')\n",
    "themes = [t for t in list(annotated_data.columns) if t !='M52/language']\n",
    "themes_mapping =  {'keyword.match.theme/chinese-culture-and-people':'chinese culture and people',\n",
    "                                     'keyword.match.theme/covid-19':'covid-19',\n",
    "                                     'keyword.match.theme/economy':'economy',\n",
    "                                     'keyword.match.theme/environment':'environment',\n",
    "                                     'keyword.match.theme/geopolitics':'geopolitics',\n",
    "                                     'keyword.match.theme/military-and-security':'military and security',\n",
    "                                     'keyword.match.theme/politics-and-society':'politics and society',\n",
    "                                     'keyword.match.theme/technology':'technology'}\n",
    "annotated_renamed = rename_columns(annotated_data).drop('M52/language', axis = 1)\n",
    "df = analyze_overlap(annotated_renamed)\n",
    "\n",
    "df[:] = np.tril(df.values, k=0)\n",
    "fig = df.style.background_gradient(cmap ='viridis').set_properties(**{'font-size': '20px'}).applymap(lambda x: color_white_background(x)).applymap(lambda x: color_white(x))\n",
    "display(fig)"
   ]
  },
  {
   "cell_type": "code",
   "execution_count": null,
   "metadata": {},
   "outputs": [],
   "source": [
    "import numpy as np; np.random.seed(0)\n",
    "import seaborn as sns; sns.set_theme()\n",
    "from matplotlib import pyplot as plt\n",
    "fig_dims = (15, 10)\n",
    "# create mask \n",
    "mask = np.triu(np.ones_like(df, dtype=bool), k=1)\n",
    "sns.set(font_scale=1.5)\n",
    "#  add white space instead of the masked \n",
    "with sns.axes_style(\"white\"):\n",
    "    fig, ax = plt.subplots(figsize=fig_dims)\n",
    "    ax = sns.heatmap(df, annot=True, fmt=\"d\", mask= mask, annot_kws={\"size\": 15}, square=True)\n"
   ]
  },
  {
   "cell_type": "code",
   "execution_count": null,
   "metadata": {},
   "outputs": [],
   "source": [
    "len(annotated_renamed[annotated_renamed['politics and society']&annotated_renamed['geopolitics']])"
   ]
  },
  {
   "cell_type": "code",
   "execution_count": null,
   "metadata": {},
   "outputs": [],
   "source": [
    "len(annotated_renamed[annotated_renamed['environment'] & annotated_renamed['chinese culture and people']])\n"
   ]
  },
  {
   "cell_type": "code",
   "execution_count": null,
   "metadata": {},
   "outputs": [],
   "source": [
    "# test heatmap\n",
    "version = 'v2'\n",
    "lang = 'fr'\n",
    "def rename_columns(df):\n",
    "        renamed = df.rename(columns = themes_mapping)\n",
    "        return renamed\n",
    "def unannotated_count(df):\n",
    "    return len(df[(~df).all(axis=1)])\n",
    "annotated_data = pd.read_csv(f'{version}/keyword_annotations/store-all-messages-annotated-{version}-{lang}.csv')\n",
    "themes = [t for t in list(annotated_data.columns) if t !='M52/language']\n",
    "themes_mapping =  {'keyword.match.theme/chinese-culture-and-people':'chinese culture and people',\n",
    "                                     'keyword.match.theme/covid-19':'covid-19',\n",
    "                                     'keyword.match.theme/economy':'economy',\n",
    "                                     'keyword.match.theme/environment':'environment',\n",
    "                                     'keyword.match.theme/geopolitics':'geopolitics',\n",
    "                                     'keyword.match.theme/military-and-security':'military and security',\n",
    "                                     'keyword.match.theme/politics-and-society':'politics and society',\n",
    "                                     'keyword.match.theme/technology':'technology'}\n",
    "annotated_renamed  = rename_columns(annotated_data).drop('M52/language', axis = 1)\n",
    "len(annotated_renamed[annotated_renamed['geopolitics'] & annotated_renamed['politics and society']])\n",
    "# df = unannotated_count(annotated_renamed)"
   ]
  },
  {
   "cell_type": "code",
   "execution_count": null,
   "metadata": {},
   "outputs": [],
   "source": []
  },
  {
   "cell_type": "markdown",
   "metadata": {},
   "source": [
    "# debug accounts "
   ]
  },
  {
   "cell_type": "code",
   "execution_count": null,
   "metadata": {
    "code_folding": [
     0
    ]
   },
   "outputs": [],
   "source": [
    "# f = pd.read_csv('bbcm-china-source-data_fb-accounts-v3-ct-imported-pages.csv')\n",
    "# x= f['crowdtangle.account/id']\n",
    "# l = pd.read_excel('BBCM - Masterfile.xlsx', engine='openpyxl')\n",
    "# l = l.iloc[:,0:22].fillna('None')\n",
    "# l = l[l['M52/platform']=='Facebook']\n",
    "# l[l['M52/accountId']=='crowdtangle-3701035']\n",
    "# y = l['M52/accountId'].str.replace('crowdtangle-','')\n",
    "# y = y[:196] \n",
    "# b = [int(i) for i in y ]\n",
    "# c = [int(j) for j in x ]\n",
    "# for i, j in zip(sorted(b),sorted(c)):\n",
    "#         print(i,j)\n"
   ]
  },
  {
   "cell_type": "code",
   "execution_count": null,
   "metadata": {},
   "outputs": [],
   "source": [
    "# fb_collectable = pd.read_csv('data_collection/fb-accounts-v3-ct-imported-pages.csv')\n",
    "# tw_collectable = pd.read_csv('data_collection/tw-accounts-v3-collectable.csv')\n",
    "# fb_accounts_collections = pd.read_csv('data_collection/fb-v3-post-collections-20210402.csv')\n",
    "# tw_accounts_collections = pd.read_csv('data_collection/tw-v3-tweet-collections.csv')\n",
    "# consolidated_accounts_collection = pd.read_csv('data_collection/store-all-messages-v3.csv')"
   ]
  }
 ],
 "metadata": {
  "kernelspec": {
   "display_name": "hypertuning",
   "language": "python",
   "name": "hypertuning"
  },
  "language_info": {
   "codemirror_mode": {
    "name": "ipython",
    "version": 3
   },
   "file_extension": ".py",
   "mimetype": "text/x-python",
   "name": "python",
   "nbconvert_exporter": "python",
   "pygments_lexer": "ipython3",
   "version": "3.6.7"
  }
 },
 "nbformat": 4,
 "nbformat_minor": 4
}
