{
 "cells": [
  {
   "cell_type": "code",
   "execution_count": 1,
   "metadata": {},
   "outputs": [],
   "source": [
    "import matplotlib.pyplot as plt\n",
    "from collections import Counter\n",
    "from tqdm import tqdm\n",
    "import seaborn as sns\n",
    "import pandas as pd\n",
    "pd.set_option('display.max_rows', 500)"
   ]
  },
  {
   "cell_type": "code",
   "execution_count": 3,
   "metadata": {},
   "outputs": [],
   "source": [
    "COMBINED_LANG_PATH = 'bbcm-lang-analysis_combined-all-posts-lang-annotations-20201014.csv' \n",
    "MASTER_FILE = 'all_accounts_master_file-v2.csv'\n",
    "comb_lang_df = pd.read_csv(COMBINED_LANG_PATH)\n",
    "master_file = pd.read_csv(MASTER_FILE)\n"
   ]
  },
  {
   "cell_type": "code",
   "execution_count": 4,
   "metadata": {},
   "outputs": [
    {
     "data": {
      "text/plain": [
       "384"
      ]
     },
     "execution_count": 4,
     "metadata": {},
     "output_type": "execute_result"
    }
   ],
   "source": [
    "len(master_file)"
   ]
  },
  {
   "cell_type": "code",
   "execution_count": 5,
   "metadata": {},
   "outputs": [],
   "source": [
    "df = comb_lang_df.rename({'combined/createdDate':'createdDate',\n",
    "                          'combined/uniqueUserId':'uniqueUserId',\n",
    "                         'combined/userHandle':'userHandle',\n",
    "                         'combined/text':'text'}, axis=1)\n",
    "\n",
    "df['createdDate'] = pd.to_datetime(df['createdDate'], errors='coerce')\n"
   ]
  },
  {
   "cell_type": "markdown",
   "metadata": {},
   "source": [
    "### Choose a time frame "
   ]
  },
  {
   "cell_type": "code",
   "execution_count": 6,
   "metadata": {},
   "outputs": [],
   "source": [
    "df_year= df[df.createdDate.dt.year==2020]\n",
    "df_month = df_year[df_year.createdDate.dt.month==9]\n",
    "comb_lang_df = df_month"
   ]
  },
  {
   "cell_type": "code",
   "execution_count": 7,
   "metadata": {},
   "outputs": [
    {
     "name": "stdout",
     "output_type": "stream",
     "text": [
      "54328\n"
     ]
    }
   ],
   "source": [
    "print(len(comb_lang_df))"
   ]
  },
  {
   "cell_type": "code",
   "execution_count": 8,
   "metadata": {},
   "outputs": [],
   "source": [
    "combined_tw_fb_added_columns = comb_lang_df.set_index('uniqueUserId').join(master_file.set_index('combined/uniqueUserId'), lsuffix='_left', rsuffix='_right')\n"
   ]
  },
  {
   "cell_type": "markdown",
   "metadata": {},
   "source": [
    "# Language Propotions"
   ]
  },
  {
   "cell_type": "code",
   "execution_count": 9,
   "metadata": {},
   "outputs": [],
   "source": [
    "\n",
    "comb_lang_df = comb_lang_df[~comb_lang_df['language'].isna()]"
   ]
  },
  {
   "cell_type": "code",
   "execution_count": 10,
   "metadata": {},
   "outputs": [],
   "source": [
    "# Get all used lanaguage tags\n",
    "comb_langs = list(set(comb_lang_df['language'].fillna('EMPTY').values))"
   ]
  },
  {
   "cell_type": "code",
   "execution_count": 11,
   "metadata": {},
   "outputs": [],
   "source": [
    "# Languages across posts\n",
    "def lang_from_posts(df, lang_col):\n",
    "    return df.value_counts(lang_col).rename_axis(lang_col).reset_index(name='tweets-post_count')\n",
    "# round(((tw_lang_df.value_counts('language')/len(tw_lang_df))*100),5) if we want percentage\n",
    "\n",
    "# Num users using each language (at least once)\n",
    "def get_users_using_lang(df, languages, lang_col, user_col):\n",
    "    data = []\n",
    "\n",
    "    for lang in languages:\n",
    "        per_lang_df = df[df[lang_col] == lang].copy()\n",
    "        per_lang_df = per_lang_df.drop_duplicates(user_col)\n",
    "        total_num_users = len(df.drop_duplicates(user_col))\n",
    "        data.append(dict(language=lang, used_by_percent=(round(len(per_lang_df)/total_num_users*100,3))))\n",
    "\n",
    "    return pd.DataFrame(data).sort_values('used_by_percent', ascending=False)"
   ]
  },
  {
   "cell_type": "code",
   "execution_count": 14,
   "metadata": {},
   "outputs": [],
   "source": [
    "comb_lang_per_posts = lang_from_posts(df=comb_lang_df, \n",
    "                    lang_col='language')\n",
    "comb_lang_per_user = get_users_using_lang(df=comb_lang_df,\n",
    "                     languages=comb_langs,\n",
    "                    lang_col='language',\n",
    "                    user_col='uniqueUserId')\n",
    "\n",
    "combined_all_lang_propotion = comb_lang_per_posts.set_index('language').join(comb_lang_per_user.set_index('language'))\n",
    "# the index here is the language\n",
    "combined_all_lang_propotion.to_csv('lang_analysis-2020-10-22/language break down /language_summary_statistics.csv',index = False)\n"
   ]
  },
  {
   "cell_type": "code",
   "execution_count": 16,
   "metadata": {},
   "outputs": [
    {
     "data": {
      "text/html": [
       "<div>\n",
       "<style scoped>\n",
       "    .dataframe tbody tr th:only-of-type {\n",
       "        vertical-align: middle;\n",
       "    }\n",
       "\n",
       "    .dataframe tbody tr th {\n",
       "        vertical-align: top;\n",
       "    }\n",
       "\n",
       "    .dataframe thead th {\n",
       "        text-align: right;\n",
       "    }\n",
       "</style>\n",
       "<table border=\"1\" class=\"dataframe\">\n",
       "  <thead>\n",
       "    <tr style=\"text-align: right;\">\n",
       "      <th></th>\n",
       "      <th>tweets-post_count</th>\n",
       "      <th>used_by_percent</th>\n",
       "    </tr>\n",
       "    <tr>\n",
       "      <th>language</th>\n",
       "      <th></th>\n",
       "      <th></th>\n",
       "    </tr>\n",
       "  </thead>\n",
       "  <tbody>\n",
       "    <tr>\n",
       "      <th>en</th>\n",
       "      <td>33247</td>\n",
       "      <td>77.586</td>\n",
       "    </tr>\n",
       "    <tr>\n",
       "      <th>ar</th>\n",
       "      <td>5527</td>\n",
       "      <td>8.966</td>\n",
       "    </tr>\n",
       "    <tr>\n",
       "      <th>es</th>\n",
       "      <td>4137</td>\n",
       "      <td>14.138</td>\n",
       "    </tr>\n",
       "    <tr>\n",
       "      <th>zh-tw</th>\n",
       "      <td>2659</td>\n",
       "      <td>9.655</td>\n",
       "    </tr>\n",
       "    <tr>\n",
       "      <th>fr</th>\n",
       "      <td>2343</td>\n",
       "      <td>16.552</td>\n",
       "    </tr>\n",
       "  </tbody>\n",
       "</table>\n",
       "</div>"
      ],
      "text/plain": [
       "          tweets-post_count  used_by_percent\n",
       "language                                    \n",
       "en                    33247           77.586\n",
       "ar                     5527            8.966\n",
       "es                     4137           14.138\n",
       "zh-tw                  2659            9.655\n",
       "fr                     2343           16.552"
      ]
     },
     "execution_count": 16,
     "metadata": {},
     "output_type": "execute_result"
    }
   ],
   "source": [
    "combined_all_lang_propotion.head()"
   ]
  },
  {
   "cell_type": "markdown",
   "metadata": {},
   "source": [
    "# User Language   Propotion"
   ]
  },
  {
   "cell_type": "code",
   "execution_count": 17,
   "metadata": {},
   "outputs": [],
   "source": [
    "def top_n_to_dict(most_common, prefix='top_lang'):\n",
    "    \n",
    "    data = {} \n",
    "    \n",
    "    for i, (lang, count) in enumerate(most_common):\n",
    "        data[f'{prefix}_{i+1}'] = lang\n",
    "        data[f'{prefix}_count_{i+1}'] = count\n",
    "        \n",
    "    return data"
   ]
  },
  {
   "cell_type": "code",
   "execution_count": 18,
   "metadata": {},
   "outputs": [],
   "source": [
    "def lang_user_propotion(df, user_col,lang_col,join_col):\n",
    "        user_ids = list(set(df[user_col].values))\n",
    "\n",
    "        u_data = []\n",
    "\n",
    "        for u_id in tqdm(user_ids):\n",
    "            u_df = df[df[user_col] == u_id].copy()\n",
    "\n",
    "\n",
    "            lang_counts = Counter(u_df[lang_col].values).most_common(3)\n",
    "            top_langs = top_n_to_dict(lang_counts)\n",
    "\n",
    "            row_dict = {**dict(user_id=u_id), **top_langs}\n",
    "            u_data.append(row_dict)\n",
    "\n",
    "        _df = pd.DataFrame(u_data).sort_values('top_lang_count_1', ascending=False)\n",
    "        _df = _df.set_index('user_id').join(df.set_index(user_col)[join_col], how='left')\n",
    "\n",
    "        _df = _df.reset_index().drop_duplicates(subset=[join_col])\n",
    "        _df = _df.rename(columns={'index': user_col})\n",
    "        _df = _df[[\n",
    "            join_col,\n",
    "            user_col,\n",
    "            'top_lang_1',\n",
    "            'top_lang_count_1',\n",
    "            'top_lang_2',\n",
    "            'top_lang_count_2',\n",
    "            'top_lang_3',\n",
    "            'top_lang_count_3',\n",
    "        ]]\n",
    "        return _df\n"
   ]
  },
  {
   "cell_type": "code",
   "execution_count": 19,
   "metadata": {},
   "outputs": [],
   "source": [
    "def lang_category_propotion(df, cat_col,lang_col,join_col):\n",
    "        user_ids = list(set(df[cat_col].values))\n",
    "\n",
    "        u_data = []\n",
    "\n",
    "        for u_id in tqdm(user_ids):\n",
    "            u_df = df[df[cat_col] == u_id].copy()\n",
    "\n",
    "\n",
    "            lang_counts = Counter(u_df[lang_col].values).most_common(3)\n",
    "            top_langs = top_n_to_dict(lang_counts)\n",
    "           \n",
    "\n",
    "            row_dict = {**dict(user_id=u_id), **top_langs}\n",
    "            u_data.append(row_dict)\n",
    "\n",
    "        _df = pd.DataFrame(u_data).sort_values('top_lang_count_1', ascending=False)\n",
    "        return _df\n"
   ]
  },
  {
   "cell_type": "code",
   "execution_count": 20,
   "metadata": {},
   "outputs": [
    {
     "name": "stderr",
     "output_type": "stream",
     "text": [
      "100%|██████████| 290/290 [00:01<00:00, 272.11it/s]\n"
     ]
    }
   ],
   "source": [
    "comb_lang_user_propotion = lang_user_propotion(df=comb_lang_df,\n",
    "                            user_col='uniqueUserId',\n",
    "                            lang_col='language',\n",
    "                            join_col='userHandle')"
   ]
  },
  {
   "cell_type": "code",
   "execution_count": null,
   "metadata": {},
   "outputs": [],
   "source": [
    "combined_language_break_down_based_on_user = comb_lang_user_propotion.set_index('uniqueUserId').join(master_file.set_index('combined/uniqueUserId'), lsuffix='_left', rsuffix='_right')\n",
    "combined_language_break_down_based_on_user = combined_language_break_down_based_on_user.fillna('N/A')\n",
    "combined_language_break_down_based_on_user.to_csv('lang_analysis-2020-10-22/language break down /user_language_break_down.csv')\n",
    "\n"
   ]
  },
  {
   "cell_type": "code",
   "execution_count": null,
   "metadata": {},
   "outputs": [],
   "source": [
    "\n",
    "comb_lang_cat_propotion = lang_category_propotion(df=combined_tw_fb_added_columns,\n",
    "                            cat_col='account_category',\n",
    "                            lang_col='language',\n",
    "                            join_col='account_category')\n"
   ]
  },
  {
   "cell_type": "code",
   "execution_count": null,
   "metadata": {},
   "outputs": [],
   "source": [
    "comb_lang_cat_propotion = comb_lang_cat_propotion.fillna('N/A')\n",
    "comb_lang_cat_propotion.to_csv('lang_analysis-2020-10-22/language break down /category_language_break_down.csv',index=False)\n",
    "\n"
   ]
  },
  {
   "cell_type": "code",
   "execution_count": null,
   "metadata": {},
   "outputs": [],
   "source": []
  }
 ],
 "metadata": {
  "kernelspec": {
   "display_name": "FT3.6",
   "language": "python",
   "name": "ft3.6"
  },
  "language_info": {
   "codemirror_mode": {
    "name": "ipython",
    "version": 3
   },
   "file_extension": ".py",
   "mimetype": "text/x-python",
   "name": "python",
   "nbconvert_exporter": "python",
   "pygments_lexer": "ipython3",
   "version": "3.6.7"
  }
 },
 "nbformat": 4,
 "nbformat_minor": 4
}
