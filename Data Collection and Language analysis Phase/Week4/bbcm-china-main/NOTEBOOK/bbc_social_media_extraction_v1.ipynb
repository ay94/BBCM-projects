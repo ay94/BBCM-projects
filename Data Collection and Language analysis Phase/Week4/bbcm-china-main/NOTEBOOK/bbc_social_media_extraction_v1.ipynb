{
 "cells": [
  {
   "cell_type": "code",
   "execution_count": 1,
   "metadata": {},
   "outputs": [],
   "source": [
    "import pandas as pd\n",
    "import numpy as np\n",
    "pd.set_option(\"display.max_rows\", None)"
   ]
  },
  {
   "cell_type": "code",
   "execution_count": 2,
   "metadata": {},
   "outputs": [],
   "source": [
    "# Output Columns\n",
    "LANGS_COL = 'langs'\n",
    "NAME_COL = 'name'\n",
    "TYPE_COL = 'social_media_type'\n",
    "HANDLE_COL = 'account'\n",
    "LINK_OR_HANDLE_COL = 'link_or_handle'\n",
    "FROM_FILE_COL = 'extracted_from_file'\n",
    "FROM_COLNAME_COL = 'extracted_from_col'\n",
    "\n",
    "DF_FINAL_OUTPUT_COLS = [\n",
    "    NAME_COL, TYPE_COL, HANDLE_COL,\n",
    "    LANGS_COL,LINK_OR_HANDLE_COL, FROM_FILE_COL,\n",
    "    FROM_COLNAME_COL,\n",
    "]\n",
    "\n",
    "# Extraction param keys\n",
    "ACCOUNT_COL_KEY = 'account_col'"
   ]
  },
  {
   "cell_type": "code",
   "execution_count": 3,
   "metadata": {},
   "outputs": [],
   "source": [
    "ch_path = '/Users/ci53/Documents/CASM/BBCMONITORING/ORIGINAL_DATA'\n",
    "ch_filename = 'ChinaSocialMedia20200928.xlsx'\n",
    "ch_extractions = {\n",
    "    'embassy_twitter_handle': {\n",
    "        'social_type': 'tw',\n",
    "        'link_or_handle': 'handle',\n",
    "        'account_col': 'Embassy Twitter handle without NA',\n",
    "        'lang_cols': [\n",
    "            'Embassy Twitter language 1',\n",
    "            'Embassy Twitter language 2',\n",
    "            'Embassy Twitter language 3'\n",
    "        ]\n",
    "    },\n",
    "    'chinese_ambassador_twitter_handle': {\n",
    "        'social_type': 'tw',\n",
    "        'link_or_handle': 'handle',\n",
    "        'account_col': 'Chinese Ambassador Twitter handle',\n",
    "        'lang_cols': [\n",
    "            'Chinese Ambassador Twitter language 1',\n",
    "            'Chinese Ambassador Twitter language 2',\n",
    "            'Chinese Ambassador Twitter language 3'\n",
    "        ]\n",
    "    },\n",
    "    'chinese_press_officer_twitter_handle': {\n",
    "        'social_type': 'tw',\n",
    "        'link_or_handle': 'handle',\n",
    "        'account_col': 'Chinese Press Officer Twitter handle',\n",
    "        'lang_cols': [\n",
    "            'Chinese Press Officer Twitter language 1'\n",
    "        ]\n",
    "    },\n",
    "    'deputy_chief_of_mission_twitter_handle': {\n",
    "        'social_type': 'tw',\n",
    "        'link_or_handle': 'handle',\n",
    "        'account_col': 'Deputy chief of mission Twitter handle',\n",
    "        'lang_cols': [\n",
    "            'Chinese Deputy chief of mission Twitter language 1',\n",
    "            'Chinese Deputy chief of mission Twitter language 2'\n",
    "        ]\n",
    "    },\n",
    "    'chinese_embassy_facebook_page_link': {\n",
    "        'social_type': 'fb',\n",
    "        'link_or_handle': 'link',\n",
    "        'account_col': 'Main Facebook Page Link',\n",
    "        'lang_cols': [\n",
    "            'Language',\n",
    "            'Language 2',\n",
    "            'Language 3'\n",
    "        ]\n",
    "    },\n",
    "    'consul_general_twitter_handle': {\n",
    "        'social_type': 'tw',\n",
    "        'link_or_handle': 'handle',\n",
    "        'account_col': 'Consul General Twitter handle',\n",
    "        'lang_cols': [\n",
    "            'Consul General Twitter language 1'\n",
    "        ]\n",
    "    },\n",
    "    'cg_mission_twitter_handle': {\n",
    "        'social_type': 'tw',\n",
    "        'link_or_handle': 'handle',\n",
    "        'account_col': 'CG/Mission Twitter handle',\n",
    "        'lang_cols': [\n",
    "            'CG/Mission Twitter language 1',\n",
    "            'CG/Mission Twitter language 2'\n",
    "        ]\n",
    "    },\n",
    "    'consulate_general_facebook_handle': {\n",
    "        'social_type': 'fb',\n",
    "        'link_or_handle': 'handle',\n",
    "        'account_col': 'Consulate General Facebook handle',\n",
    "        'lang_cols': [\n",
    "            'Consulate General Facebook language 1'\n",
    "        ]\n",
    "    },\n",
    "    'ministry_official_twitter_handle': {\n",
    "        'social_type': 'tw',\n",
    "        'link_or_handle': 'handle',\n",
    "        'account_col': 'Ministry official Twitter handle',\n",
    "        'lang_cols': [\n",
    "            'Ministry official language 1',\n",
    "            'Ministry official language 2'\n",
    "        ]\n",
    "    },\n",
    "    'media_outlet_twitter_handle': {\n",
    "        'social_type': 'tw',\n",
    "        'link_or_handle': 'handle',\n",
    "        'account_col': 'Media outlet Twitter handle',\n",
    "        'lang_cols': [\n",
    "            'Media outlet Twitter language 1'\n",
    "        ]\n",
    "    },\n",
    "    'media_outlet_facebook_handle': {\n",
    "        'social_type': 'fb',\n",
    "        'link_or_handle': 'handle',\n",
    "        'account_col': 'Media outlet Facebook handle',\n",
    "        'lang_cols': [\n",
    "            'Media outlet Facebook language 1'\n",
    "        ]\n",
    "    },\n",
    "    'institute_twitter_handle': {\n",
    "        'social_type': 'tw',\n",
    "        'link_or_handle': 'handle',\n",
    "        'account_col': 'Institute Twitter handle',\n",
    "        'lang_cols': [\n",
    "            'Institute Twitter language 1'\n",
    "        ]\n",
    "    },\n",
    "    'institute_facebook_link': {\n",
    "        'social_type': 'fb',\n",
    "        'link_or_handle': 'link',\n",
    "        'account_col': 'Facebook link',\n",
    "        'lang_cols': [\n",
    "            'Institute Facebook language 1',\n",
    "            'Institute Facebook language 2'\n",
    "        ]\n",
    "    },\n",
    "}\n",
    "\n",
    "tw_path = '/Users/ci53/Documents/CASM/BBCMONITORING/ORIGINAL_DATA'\n",
    "tw_filename = 'ChinaTwitter20200928.xlsx'\n",
    "tw_extractions = {\n",
    "    'embassy_twitter_handle': {\n",
    "        'social_type': 'tw',\n",
    "        'link_or_handle': 'handle',\n",
    "        'account_col': 'Embassy Twitter handle',\n",
    "        'lang_cols': [\n",
    "            'Embassy Twitter language 1',\n",
    "            'Embassy Twitter language 2',\n",
    "            'Embassy Twitter language 3'\n",
    "        ]\n",
    "    },\n",
    "    'chinese_ambassador_twitter_handle': {\n",
    "        'social_type': 'tw',\n",
    "        'link_or_handle': 'handle',\n",
    "        'account_col': 'Chinese Ambassador Twitter handle',\n",
    "        'lang_cols': [\n",
    "            'Chinese Ambassador Twitter language 1',\n",
    "            'Chinese Ambassador Twitter language 2',\n",
    "            'Chinese Ambassador Twitter language 3'\n",
    "        ]\n",
    "    },\n",
    "    'chinese_press_officer_twitter_handle': {\n",
    "        'social_type': 'tw',\n",
    "        'link_or_handle': 'handle',\n",
    "        'account_col': 'Chinese Press Officer Twitter handle',\n",
    "        'lang_cols': [\n",
    "            'Chinese Press Officer Twitter Language 1'\n",
    "        ]\n",
    "    },\n",
    "    'deputy_chief_of_mission_Twitter_handle': {\n",
    "        'social_type': 'tw',\n",
    "        'link_or_handle': 'handle',\n",
    "        'account_col': 'Deputy chief of mission Twitter handle',\n",
    "        'lang_cols': []\n",
    "    },\n",
    "    'consul_general_twitter_handle': {\n",
    "        'social_type': 'tw',\n",
    "        'link_or_handle': 'handle',\n",
    "        'account_col': 'Consul General Twitter handle',\n",
    "        'lang_cols': ['Consul General Twitter language 1']\n",
    "    },\n",
    "    'cg_mission_twitter_handle': {\n",
    "        'social_type': 'tw',\n",
    "        'link_or_handle': 'handle',\n",
    "        'account_col': 'CG/Mission Twitter handle',\n",
    "        'lang_cols': [\n",
    "            'CG/Mission Twitter language 1',\n",
    "            'CG/Mission Twitter language 2'\n",
    "        ]\n",
    "    },\n",
    "    'ministry_twitter_handle': {\n",
    "        'social_type': 'tw',\n",
    "        'link_or_handle': 'handle',\n",
    "        'account_col': 'Twitter handle',\n",
    "        'lang_cols': [\n",
    "            'Language 1',\n",
    "            'Language 2'\n",
    "        ]\n",
    "    },\n",
    "    'media_outlet_twitter_handle': {\n",
    "        'social_type': 'tw',\n",
    "        'link_or_handle': 'handle',\n",
    "        'account_col': 'Media outlet Twitter Handle',\n",
    "        'lang_cols': [\n",
    "            'Media outlet Twitter Language 1'\n",
    "        ]\n",
    "    },\n",
    "    'institute_twitter_handle': {\n",
    "        'social_type': 'tw',\n",
    "        'link_or_handle': 'handle',\n",
    "        'account_col': 'Institute Twitter Handle',\n",
    "        'lang_cols': []\n",
    "    },\n",
    "}"
   ]
  },
  {
   "cell_type": "code",
   "execution_count": 4,
   "metadata": {},
   "outputs": [],
   "source": [
    "def extraction_func(df, social_type, account_col, lang_cols, link_or_handle):\n",
    "\n",
    "    extracted_df = df[~df[account_col].isna()].copy()\n",
    "    \n",
    "    if lang_cols:\n",
    "        extracted_df[LANGS_COL] = extracted_df[lang_cols].apply(lambda x: [lang for lang in x if lang != np.nan], axis=1)\n",
    "    else:\n",
    "        extracted_df[LANGS_COL] = len(extracted_df)*[[]]\n",
    "    \n",
    "    extracted_df[TYPE_COL] = social_type\n",
    "    extracted_df[LINK_OR_HANDLE_COL] = link_or_handle\n",
    "    extracted_df[HANDLE_COL] = extracted_df[account_col]\n",
    "    \n",
    "    return extracted_df"
   ]
  },
  {
   "cell_type": "code",
   "execution_count": 5,
   "metadata": {},
   "outputs": [],
   "source": [
    "def extract_df(extraction_specs):\n",
    "\n",
    "    extracted_dfs = []\n",
    "\n",
    "    for path, filename, extraction_dict in extraction_specs:\n",
    "        print(filename)\n",
    "        \n",
    "        xl_df = pd.read_excel(f'{path}/{filename}')\n",
    "        \n",
    "        for name, extract_params in extraction_dict.items():\n",
    "            extract_df = extraction_func(xl_df, **extract_params)\n",
    "            extract_df[NAME_COL] = name\n",
    "            extract_df[FROM_FILE_COL] = filename\n",
    "            extract_df[FROM_COLNAME_COL] = extract_params[ACCOUNT_COL_KEY]\n",
    "            extracted_dfs.append(extract_df)\n",
    "            \n",
    "    return pd.concat(extracted_dfs)[DF_FINAL_OUTPUT_COLS]"
   ]
  },
  {
   "cell_type": "markdown",
   "metadata": {},
   "source": [
    "# Cleaning\n",
    " - [x] Remove ? accounts\n",
    " - [x] Remove empty accounts\n",
    " - [x] Remove duplicates accounts\n",
    " - [x] clean langs\n",
    " - [x] reduce langs (replaceing nans with 'n/a')"
   ]
  },
  {
   "cell_type": "code",
   "execution_count": 6,
   "metadata": {},
   "outputs": [],
   "source": [
    "def clean_langs(langs, na_replacement='n/a'):\n",
    "    cleaned_langs = [lang.lower() if not pd.isna(lang) else na_replacement for lang in langs]\n",
    "    cleaned_langs = [lang.split('(')[0].strip() for lang in cleaned_langs]\n",
    "    return cleaned_langs\n",
    "\n",
    "def is_low_length(field, char_len=3):\n",
    "    return len(field) <= char_len\n",
    "\n",
    "def is_empty(field, empty_placeholders={'?', ''}):\n",
    "    return field is None or field.strip() in empty_placeholders\n",
    "\n",
    "def remove_duplicates(df, col):\n",
    "    print(f'removing duplicates, old size={len(df)}')\n",
    "    cleaned_col_name = col + '_processed'\n",
    "    df[cleaned_col_name] = df[col].map(lambda x: x.lower())\n",
    "    df = df[~df.duplicated(subset=[cleaned_col_name])].copy()\n",
    "    print(f'removing duplicates, new size={len(df)}')\n",
    "    return df\n",
    "\n",
    "def remove_empties(df, col):\n",
    "    print(f'removing empties, old size={len(df)}')\n",
    "    df = df[~df[col].map(is_empty)].copy()\n",
    "    print(f'removing empties, old size={len(df)}')\n",
    "    return df\n",
    "\n",
    "def clean_all_langs(df, langs_col):\n",
    "    df[langs_col] = df[langs_col].map(clean_langs)\n",
    "    return df.copy()"
   ]
  },
  {
   "cell_type": "code",
   "execution_count": 7,
   "metadata": {},
   "outputs": [
    {
     "name": "stdout",
     "output_type": "stream",
     "text": [
      "ChinaSocialMedia20200928.xlsx\n",
      "ChinaTwitter20200928.xlsx\n"
     ]
    }
   ],
   "source": [
    "full_extracted_df = extract_df([\n",
    "    (ch_path, ch_filename, ch_extractions),\n",
    "    (tw_path, tw_filename, tw_extractions)\n",
    "])"
   ]
  },
  {
   "cell_type": "code",
   "execution_count": 8,
   "metadata": {},
   "outputs": [
    {
     "name": "stdout",
     "output_type": "stream",
     "text": [
      "mkdir: /Users/ci53/Documents/CASM/BBCMONITORING/EXTRACTED_DATA: File exists\r\n"
     ]
    }
   ],
   "source": [
    "mkdir '/Users/ci53/Documents/CASM/BBCMONITORING/EXTRACTED_DATA'"
   ]
  },
  {
   "cell_type": "code",
   "execution_count": 9,
   "metadata": {},
   "outputs": [
    {
     "name": "stdout",
     "output_type": "stream",
     "text": [
      "removing empties, old size=618\n",
      "removing empties, old size=616\n",
      "removing duplicates, old size=616\n",
      "removing duplicates, new size=381\n"
     ]
    }
   ],
   "source": [
    "full_extracted_df = remove_empties(full_extracted_df, 'account')\n",
    "full_extracted_df = remove_duplicates(full_extracted_df, 'account')\n",
    "full_extracted_df = clean_all_langs(full_extracted_df, 'langs')"
   ]
  },
  {
   "cell_type": "code",
   "execution_count": 15,
   "metadata": {},
   "outputs": [],
   "source": [
    "full_extracted_df[DF_FINAL_OUTPUT_COLS].to_csv('/Users/ci53/Documents/CASM/BBCMONITORING/EXTRACTED_DATA/all_accounts_20200928.csv')"
   ]
  },
  {
   "cell_type": "markdown",
   "metadata": {},
   "source": [
    "# Previous Number "
   ]
  },
  {
   "cell_type": "code",
   "execution_count": 11,
   "metadata": {},
   "outputs": [],
   "source": [
    "_df = pd.read_csv('/Users/ci53/Downloads/Combined_twitter_facebook_handles_extra_handle.csv')"
   ]
  },
  {
   "cell_type": "code",
   "execution_count": 12,
   "metadata": {
    "scrolled": true
   },
   "outputs": [
    {
     "data": {
      "text/plain": [
       "322"
      ]
     },
     "execution_count": 12,
     "metadata": {},
     "output_type": "execute_result"
    }
   ],
   "source": [
    "len(_df[_df['Facebook_Handle'] != '0']) + len(_df['Twitter_Handle'])"
   ]
  },
  {
   "cell_type": "code",
   "execution_count": null,
   "metadata": {},
   "outputs": [],
   "source": []
  }
 ],
 "metadata": {
  "kernelspec": {
   "display_name": "Python (fbads)\n",
   "language": "python",
   "name": "fbads"
  },
  "language_info": {
   "codemirror_mode": {
    "name": "ipython",
    "version": 3
   },
   "file_extension": ".py",
   "mimetype": "text/x-python",
   "name": "python",
   "nbconvert_exporter": "python",
   "pygments_lexer": "ipython3",
   "version": "3.7.8"
  }
 },
 "nbformat": 4,
 "nbformat_minor": 4
}
