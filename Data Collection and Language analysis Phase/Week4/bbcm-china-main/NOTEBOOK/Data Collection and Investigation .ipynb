{
 "cells": [
  {
   "cell_type": "code",
   "execution_count": 1,
   "metadata": {},
   "outputs": [],
   "source": [
    "# import sys\n",
    "# !{sys.executable} -m pip install numpy"
   ]
  },
  {
   "cell_type": "code",
   "execution_count": 2,
   "metadata": {},
   "outputs": [],
   "source": [
    "import pandas as pd\n",
    "import numpy as np\n",
    "from collections import defaultdict\n",
    "from difflib import SequenceMatcher\n"
   ]
  },
  {
   "cell_type": "code",
   "execution_count": 3,
   "metadata": {},
   "outputs": [],
   "source": [
    "social_media = pd.read_excel('Data_Collection/ChinaSocialMedia20200928.xlsx')\n",
    "twitter = pd.read_excel('Data_Collection/ChinaTwitter20200928.xlsx')"
   ]
  },
  {
   "cell_type": "code",
   "execution_count": 4,
   "metadata": {},
   "outputs": [
    {
     "name": "stdout",
     "output_type": "stream",
     "text": [
      "Number of Columns in Social media file 74\n",
      "Number of rows in Social media file 1258\n",
      "Number of columns in Twitter file 38\n",
      "Number of rows in Twitter file 231\n"
     ]
    }
   ],
   "source": [
    "print('Number of Columns in Social media file ' + str(len(social_media.columns)))\n",
    "print('Number of rows in Social media file ' + str(len(social_media)))\n",
    "print('Number of columns in Twitter file ' + str(len(twitter.columns)))\n",
    "print('Number of rows in Twitter file ' + str(len(twitter)))\n"
   ]
  },
  {
   "cell_type": "markdown",
   "metadata": {},
   "source": [
    "# Questions To Carl Regarding Data "
   ]
  },
  {
   "cell_type": "markdown",
   "metadata": {},
   "source": [
    "### General Questions:\n",
    "- What is it that we supposed to collect is it twitter and facebook\n",
    "- What is the purpose of the rest of this data do i need to do someting with it or just the data collection \n",
    "- I found some language description columns that might be helpful for language but last time you mentioned something about language annotation ( what do you mean by that )\n",
    "- Some columns are empty has no values in it what is the point of it being in there\n",
    "- When they say language 1 , 2 , 3 does that mean first language , second language and so on \n"
   ]
  },
  {
   "cell_type": "markdown",
   "metadata": {},
   "source": [
    "## Create sheet with FB and TW handles with language field "
   ]
  },
  {
   "cell_type": "code",
   "execution_count": 6,
   "metadata": {},
   "outputs": [
    {
     "name": "stdout",
     "output_type": "stream",
     "text": [
      "There are 9 different handle types in  twitter file sheet\n"
     ]
    },
    {
     "data": {
      "text/plain": [
       "Embassy Twitter handle with NA            70\n",
       "Chinese Ambassador Twitter handle         36\n",
       "Chinese Press Officer Twitter handle       1\n",
       "Deputy chief of mission Twitter handle     2\n",
       "Consul General Twitter handle              3\n",
       "CG/Mission Twitter handle                  8\n",
       "dtype: int64"
      ]
     },
     "execution_count": 6,
     "metadata": {},
     "output_type": "execute_result"
    }
   ],
   "source": [
    "twitter_file_handle_columns = [c for c in list(twitter.columns) if  'handle' in c]\n",
    "print('There are '+str(len(twitter_file_handle_columns))+ ' different handle types in  twitter file sheet')\n",
    "twitter_file_handle = social_media.filter(items=twitter_file_handle_columns).fillna(0)\n",
    "twitter_file_handle.astype(bool).sum(axis=0)"
   ]
  },
  {
   "cell_type": "markdown",
   "metadata": {},
   "source": [
    "## Handle Sources in social media file"
   ]
  },
  {
   "cell_type": "code",
   "execution_count": 7,
   "metadata": {},
   "outputs": [],
   "source": [
    "# Generate list of columns that has the word handle in it \n",
    "social_media_handle_columns = [c for c in list(social_media.columns) if  'handle' in c]"
   ]
  },
  {
   "cell_type": "code",
   "execution_count": 8,
   "metadata": {},
   "outputs": [
    {
     "name": "stdout",
     "output_type": "stream",
     "text": [
      "There are 13 different handle types in Social Media sheet\n"
     ]
    }
   ],
   "source": [
    "print('There are '+str(len(social_media_handle_columns))+ ' different handle types in Social Media sheet')"
   ]
  },
  {
   "cell_type": "code",
   "execution_count": 9,
   "metadata": {},
   "outputs": [],
   "source": [
    "# Fill the retrieved data with 0 instead of NaN\n",
    "social_media_handles = social_media.filter(items=social_media_handle_columns).fillna(0)"
   ]
  },
  {
   "cell_type": "markdown",
   "metadata": {},
   "source": [
    "### Number of rows in each type of handles "
   ]
  },
  {
   "cell_type": "code",
   "execution_count": 11,
   "metadata": {},
   "outputs": [
    {
     "data": {
      "text/plain": [
       "Embassy Twitter handle with NA            70\n",
       "Embassy Twitter handle without NA         70\n",
       "Chinese Ambassador Twitter handle         36\n",
       "Chinese Press Officer Twitter handle       1\n",
       "Deputy chief of mission Twitter handle     2\n",
       "Consul General Twitter handle              3\n",
       "CG/Mission Twitter handle                  8\n",
       "Consulate General Facebook handle          4\n",
       "Ministry official Twitter handle           7\n",
       "Media outlet Twitter handle               59\n",
       "Media outlet Facebook handle               4\n",
       "Institute Twitter handle                  47\n",
       "Institute Facebook handle                 85\n",
       "dtype: int64"
      ]
     },
     "execution_count": 11,
     "metadata": {},
     "output_type": "execute_result"
    }
   ],
   "source": [
    "social_media_handles.astype(bool).sum(axis=0)"
   ]
  },
  {
   "cell_type": "markdown",
   "metadata": {},
   "source": [
    "## Page and link sources in social media file"
   ]
  },
  {
   "cell_type": "code",
   "execution_count": 12,
   "metadata": {},
   "outputs": [
    {
     "name": "stdout",
     "output_type": "stream",
     "text": [
      "There are 11 different page and link types in Social Media sheet\n"
     ]
    }
   ],
   "source": [
    "social_media_page_link_columns = [c for c in list(social_media.columns) if   'Page' in c or   'link' in c ]\n",
    "print('There are '+str(len(social_media_page_link_columns))+ ' different page and link types in Social Media sheet')"
   ]
  },
  {
   "cell_type": "code",
   "execution_count": 13,
   "metadata": {},
   "outputs": [],
   "source": [
    "# Fill the retrieved data with 0 instead of NaN\n",
    "social_media_page_link = social_media.filter(items=social_media_page_link_columns).fillna(0)"
   ]
  },
  {
   "cell_type": "markdown",
   "metadata": {},
   "source": [
    "### Number of rows in each type of link  and page"
   ]
  },
  {
   "cell_type": "code",
   "execution_count": 16,
   "metadata": {},
   "outputs": [
    {
     "data": {
      "text/plain": [
       "Embassy website link                    172\n",
       "Embassy Twitter link                    229\n",
       "Chinese Ambassador Twitter link         227\n",
       "Chinese Press Officer Twitter link      228\n",
       "Deputy chief of mission Twitter link    228\n",
       "Chinese Embassy Facebook Page Name       59\n",
       "Main Facebook Page Link                  61\n",
       "Consulate General website link           19\n",
       "Institute link                          158\n",
       "Facebook link                            85\n",
       "Misc links                                4\n",
       "dtype: int64"
      ]
     },
     "execution_count": 16,
     "metadata": {},
     "output_type": "execute_result"
    }
   ],
   "source": [
    "social_media_page_link.astype(bool).sum(axis=0)"
   ]
  },
  {
   "cell_type": "markdown",
   "metadata": {},
   "source": [
    "# Twitter Handles"
   ]
  },
  {
   "cell_type": "code",
   "execution_count": 17,
   "metadata": {},
   "outputs": [
    {
     "name": "stdout",
     "output_type": "stream",
     "text": [
      "There are 10 different handle types  for twitter in Social Media sheet\n"
     ]
    }
   ],
   "source": [
    "# get the columns\n",
    "twitter_handles_columns = [c for c in list(social_media.columns) if 'Twitter' in c and 'handle' in c  ]\n",
    "print('There are '+str(len(twitter_handles_columns))+ ' different handle types  for twitter in Social Media sheet')\n",
    "# get the data\n",
    "twitter_handles = social_media.filter(items=twitter_handles_columns).fillna(0)\n"
   ]
  },
  {
   "cell_type": "markdown",
   "metadata": {},
   "source": [
    "### Number of rows in each type of handle"
   ]
  },
  {
   "cell_type": "code",
   "execution_count": 19,
   "metadata": {},
   "outputs": [
    {
     "data": {
      "text/plain": [
       "Embassy Twitter handle with NA            70\n",
       "Embassy Twitter handle without NA         70\n",
       "Chinese Ambassador Twitter handle         36\n",
       "Chinese Press Officer Twitter handle       1\n",
       "Deputy chief of mission Twitter handle     2\n",
       "Consul General Twitter handle              3\n",
       "CG/Mission Twitter handle                  8\n",
       "Ministry official Twitter handle           7\n",
       "Media outlet Twitter handle               59\n",
       "Institute Twitter handle                  47\n",
       "dtype: int64"
      ]
     },
     "execution_count": 19,
     "metadata": {},
     "output_type": "execute_result"
    }
   ],
   "source": [
    "twitter_handles.astype(bool).sum(axis=0)"
   ]
  },
  {
   "cell_type": "markdown",
   "metadata": {},
   "source": [
    "# Facebook Sources"
   ]
  },
  {
   "cell_type": "code",
   "execution_count": 21,
   "metadata": {},
   "outputs": [
    {
     "name": "stdout",
     "output_type": "stream",
     "text": [
      "There are 6 different source types  for facebook in Social Media sheet\n"
     ]
    },
    {
     "data": {
      "text/plain": [
       "Chinese Embassy Facebook Page Name    59\n",
       "Main Facebook Page Link               61\n",
       "Consulate General Facebook handle      4\n",
       "Media outlet Facebook handle           4\n",
       "Institute Facebook handle             85\n",
       "Facebook link                         85\n",
       "dtype: int64"
      ]
     },
     "execution_count": 21,
     "metadata": {},
     "output_type": "execute_result"
    }
   ],
   "source": [
    "facebook_sources_columns = [c for c in list(social_media.columns) if 'Facebook' in c and 'handle' in c or 'Facebook' in c and 'link' in c or 'Facebook' in c and 'Page' in c]\n",
    "print('There are '+str(len(facebook_sources_columns))+ ' different source types  for facebook in Social Media sheet')\n",
    "\n",
    "facebook_sources = social_media.filter(items=facebook_sources_columns).fillna(0)\n",
    "facebook_sources.astype(bool).sum(axis=0)\n"
   ]
  },
  {
   "cell_type": "markdown",
   "metadata": {},
   "source": [
    "# Facebook Handles"
   ]
  },
  {
   "cell_type": "code",
   "execution_count": 22,
   "metadata": {},
   "outputs": [
    {
     "name": "stdout",
     "output_type": "stream",
     "text": [
      "There are 3 different handle types  for facebook in Social Media sheet\n"
     ]
    },
    {
     "data": {
      "text/plain": [
       "Consulate General Facebook handle     4\n",
       "Media outlet Facebook handle          4\n",
       "Institute Facebook handle            85\n",
       "dtype: int64"
      ]
     },
     "execution_count": 22,
     "metadata": {},
     "output_type": "execute_result"
    }
   ],
   "source": [
    "facebook_handles_columns = [c for c in list(social_media.columns) if 'Facebook' in c and 'handle' in c ]\n",
    "print('There are '+str(len(facebook_handles_columns))+ ' different handle types  for facebook in Social Media sheet')\n",
    "\n",
    "facebook_handles = social_media.filter(items=facebook_handles_columns).fillna(0)\n",
    "facebook_handles.astype(bool).sum(axis=0)\n"
   ]
  },
  {
   "cell_type": "markdown",
   "metadata": {},
   "source": [
    "# Facebook Links and Pages"
   ]
  },
  {
   "cell_type": "code",
   "execution_count": 23,
   "metadata": {},
   "outputs": [
    {
     "name": "stdout",
     "output_type": "stream",
     "text": [
      "There are 3 different page and link types  for facebook in Social Media sheet\n"
     ]
    },
    {
     "data": {
      "text/plain": [
       "Chinese Embassy Facebook Page Name    59\n",
       "Main Facebook Page Link               61\n",
       "Facebook link                         85\n",
       "dtype: int64"
      ]
     },
     "execution_count": 23,
     "metadata": {},
     "output_type": "execute_result"
    }
   ],
   "source": [
    "facebook_pages_links_columns = [c for c in list(social_media.columns) if 'Facebook' in c and 'link' in c or 'Facebook' in c and 'Page' in c ]\n",
    "print('There are '+str(len(facebook_pages_links_columns))+ ' different page and link types  for facebook in Social Media sheet')\n",
    "facebook_pages_links = social_media.filter(items=facebook_pages_links_columns).fillna(0)\n",
    "facebook_pages_links.astype(bool).sum(axis=0)\n"
   ]
  },
  {
   "cell_type": "markdown",
   "metadata": {},
   "source": [
    "# Consolidated FB and Twitter handles with Language\n",
    "- I ignored all the links and the page names \n"
   ]
  },
  {
   "cell_type": "markdown",
   "metadata": {},
   "source": [
    "### Consolidated Twitter "
   ]
  },
  {
   "cell_type": "code",
   "execution_count": 24,
   "metadata": {},
   "outputs": [],
   "source": [
    "# i need this one in here because i will filter based on NaN\n",
    "twitter_handles = social_media.filter(items=twitter_handles_columns)"
   ]
  },
  {
   "cell_type": "code",
   "execution_count": 25,
   "metadata": {},
   "outputs": [],
   "source": [
    "Consolidated_twitter_handles = []\n",
    "for c in twitter_handles_columns:\n",
    "#     array of 10 columns contain the set of handles\n",
    "    Consolidated_twitter_handles.append(list(twitter_handles[twitter_handles[c].notnull()][c]))\n",
    "#     array of flattened handles \n",
    "Consolidated_falt_twitter_handles = [h for hs in Consolidated_twitter_handles for h in hs ]"
   ]
  },
  {
   "cell_type": "code",
   "execution_count": 36,
   "metadata": {},
   "outputs": [
    {
     "data": {
      "text/plain": [
       "['Embassy Twitter handle with NA',\n",
       " 'Embassy Twitter handle without NA',\n",
       " 'Chinese Ambassador Twitter handle',\n",
       " 'Chinese Press Officer Twitter handle',\n",
       " 'Deputy chief of mission Twitter handle',\n",
       " 'Consul General Twitter handle',\n",
       " 'CG/Mission Twitter handle',\n",
       " 'Ministry official Twitter handle',\n",
       " 'Media outlet Twitter handle',\n",
       " 'Institute Twitter handle']"
      ]
     },
     "execution_count": 36,
     "metadata": {},
     "output_type": "execute_result"
    }
   ],
   "source": [
    "twitter_handles_columns"
   ]
  },
  {
   "cell_type": "code",
   "execution_count": 37,
   "metadata": {},
   "outputs": [
    {
     "data": {
      "text/plain": [
       "['Embassy Twitter language 1',\n",
       " 'Embassy Twitter language 2',\n",
       " 'Embassy Twitter language 3',\n",
       " 'Chinese Ambassador Twitter language 1',\n",
       " 'Chinese Ambassador Twitter language 2',\n",
       " 'Chinese Ambassador Twitter language 3',\n",
       " 'Chinese Press Officer Twitter language 1',\n",
       " 'Chinese Deputy chief of mission Twitter language 1',\n",
       " 'Chinese Deputy chief of mission Twitter language 2',\n",
       " 'Consul General Twitter language 1',\n",
       " 'CG/Mission Twitter language 1',\n",
       " 'CG/Mission Twitter language 2',\n",
       " 'Ministry official language 1',\n",
       " 'Ministry official language 2',\n",
       " 'Media outlet Twitter language 1',\n",
       " 'Institute Twitter language 1']"
      ]
     },
     "execution_count": 37,
     "metadata": {},
     "output_type": "execute_result"
    }
   ],
   "source": [
    "twitter_language_columns"
   ]
  },
  {
   "cell_type": "markdown",
   "metadata": {},
   "source": [
    "### Consolidated twitter language"
   ]
  },
  {
   "cell_type": "code",
   "execution_count": 29,
   "metadata": {},
   "outputs": [],
   "source": [
    "# This function is used to combine handls columns with language columns to use them to combine handles and languages\n",
    "# firt iterate over  handle columns then language columns and match between them using squence matcher \n",
    "# second combine them into array of tuple if they match then use defaultdict to convert them into dictionary\n",
    "\n",
    "def combine_handle_col_language_col(handle_cols,lang_cols):\n",
    "    column_lang = []\n",
    "    for c in handle_cols:\n",
    "        for l in lang_cols:\n",
    "            s = SequenceMatcher(None,c,l)\n",
    "            if s.ratio() > 0.60:\n",
    "                column_lang.append((c,l))\n",
    "            else:\n",
    "                continue\n",
    "    column_lang_map = defaultdict(list)\n",
    "    for col, lang in column_lang:\n",
    "        column_lang_map[col].append(lang)\n",
    "    return column_lang_map\n",
    "\n",
    "\n",
    "# This function is used to create dictionary that maps the handles to the languages assigned to it for example Ahmed handle is using Araic Ahmed:Arabic\n",
    "# first iterate over the language_hadle_column map that maps each handle column to the corresponding language column zipped with consolidated handle list\n",
    "# for each handle iterate over all the language columns that correspond to it and fetch the language if it exists and add that to array of tuples \n",
    "# convert that array of tuples to dictionary using defaultdict \n",
    "# This function require passing the data to it to be able to retrive all the corresponding language columns \n",
    "\n",
    "def combine_handle_language(column_lang_map,Consolidated_handles,data):\n",
    "    col_lang_merg = []\n",
    "    checked = []\n",
    "    langs = []\n",
    "    for c, hl in zip(column_lang_map.items(),Consolidated_handles):\n",
    "        for h in hl:\n",
    "            if h != '  ':\n",
    "                for l in c[1]:\n",
    "                    if h not in checked:\n",
    "                        col_lang_merg.append((h,list(data[data[c[0]]==h][l].values)))\n",
    "                checked.append(h)\n",
    "    col_lang_combined = defaultdict(list)\n",
    "    for col, lang in col_lang_merg:\n",
    "        col_lang_combined[col].append(lang)\n",
    "    return col_lang_combined\n",
    "\n"
   ]
  },
  {
   "cell_type": "code",
   "execution_count": 34,
   "metadata": {},
   "outputs": [],
   "source": [
    "# Array of language columns \n",
    "twitter_language_columns = [c for c in list(social_media.columns) if 'Twitter' in c and 'language' in c or 'Ministry' in c and 'language' in c ]\n"
   ]
  },
  {
   "cell_type": "code",
   "execution_count": 35,
   "metadata": {},
   "outputs": [],
   "source": [
    "twitter_handle_lang_col_map = combine_handle_col_language_col(twitter_handles_columns,twitter_language_columns)"
   ]
  },
  {
   "cell_type": "code",
   "execution_count": 41,
   "metadata": {},
   "outputs": [],
   "source": [
    "twitter_combined_handle_lang = combine_handle_language(twitter_handle_lang_col_map,Consolidated_twitter_handles,social_media)\n"
   ]
  },
  {
   "cell_type": "code",
   "execution_count": 42,
   "metadata": {},
   "outputs": [],
   "source": [
    "twitter_combnined_handle_lang_data = pd.DataFrame(dict(twitter_combined_handle_lang).items(), columns=['Twitter_Handle','Language_1_2_3'])\n",
    "twitter_combnined_handle_lang_data.to_csv('Consolidated_tw_handles.csv')\n"
   ]
  },
  {
   "cell_type": "code",
   "execution_count": 33,
   "metadata": {},
   "outputs": [
    {
     "ename": "NameError",
     "evalue": "name 'twitter_combnined_handle_lang_data' is not defined",
     "output_type": "error",
     "traceback": [
      "\u001b[0;31m---------------------------------------------------------------------------\u001b[0m",
      "\u001b[0;31mNameError\u001b[0m                                 Traceback (most recent call last)",
      "\u001b[0;32m<ipython-input-33-0315991f7761>\u001b[0m in \u001b[0;36m<module>\u001b[0;34m\u001b[0m\n\u001b[0;32m----> 1\u001b[0;31m \u001b[0mtwitter_combnined_handle_lang_data\u001b[0m\u001b[0;34m\u001b[0m\u001b[0;34m\u001b[0m\u001b[0m\n\u001b[0m",
      "\u001b[0;31mNameError\u001b[0m: name 'twitter_combnined_handle_lang_data' is not defined"
     ]
    }
   ],
   "source": [
    "twitter_combnined_handle_lang_data"
   ]
  },
  {
   "cell_type": "markdown",
   "metadata": {},
   "source": [
    "### Consolidated Facebook "
   ]
  },
  {
   "cell_type": "markdown",
   "metadata": {},
   "source": [
    "#### The correction of facebook handle"
   ]
  },
  {
   "cell_type": "code",
   "execution_count": null,
   "metadata": {},
   "outputs": [],
   "source": [
    "# Institute Facebook handle column is not actual handle the handle for this column is Facebook link \n",
    "del facebook_handles_columns[-1]\n",
    "facebook_handles_columns.append('Facebook link')"
   ]
  },
  {
   "cell_type": "code",
   "execution_count": null,
   "metadata": {},
   "outputs": [],
   "source": [
    "facebook_handles = social_media.filter(items=facebook_handles_columns)"
   ]
  },
  {
   "cell_type": "code",
   "execution_count": null,
   "metadata": {},
   "outputs": [],
   "source": [
    "Consolidated_facebook_handles = []\n",
    "for c in facebook_handles_columns:\n",
    "#     array of 10 columns contain the set of handles\n",
    "    Consolidated_facebook_handles.append(list(facebook_handles[facebook_handles[c].notnull()][c]))\n",
    "#     array of flattened handles \n",
    "Consolidated_falt_facebook_handles = [h for hs in Consolidated_facebook_handles for h in hs ]"
   ]
  },
  {
   "cell_type": "code",
   "execution_count": null,
   "metadata": {},
   "outputs": [],
   "source": [
    "Consolidated_falt_facebook_handles"
   ]
  },
  {
   "cell_type": "code",
   "execution_count": null,
   "metadata": {},
   "outputs": [],
   "source": [
    "['https://www.facebook.com/'+h+'/' for  h in Consolidated_falt_facebook_handles if 'http' not in h]"
   ]
  },
  {
   "cell_type": "code",
   "execution_count": null,
   "metadata": {},
   "outputs": [],
   "source": [
    "Consolidated_falt_facebook_handles"
   ]
  },
  {
   "cell_type": "markdown",
   "metadata": {},
   "source": [
    "### Consolidated facebook language"
   ]
  },
  {
   "cell_type": "code",
   "execution_count": null,
   "metadata": {},
   "outputs": [],
   "source": [
    "# Array of language columns \n",
    "facebook_language_columns = [c for c in list(social_media.columns) if 'Facebook' in c and 'language' in c]\n"
   ]
  },
  {
   "cell_type": "code",
   "execution_count": null,
   "metadata": {},
   "outputs": [],
   "source": [
    "# Combine facebook handle columns with facebook language columns \n",
    "facebook_handle_lang_col_map = combine_handle_col_language_col(facebook_handles_columns,facebook_language_columns)"
   ]
  },
  {
   "cell_type": "code",
   "execution_count": null,
   "metadata": {},
   "outputs": [],
   "source": [
    "# Comnbine facebook handles with the corresponding language between 1 to 3\n",
    "\n",
    "facebook_combined_handle_lang = combine_handle_language(facebook_handle_lang_col_map,Consolidated_facebook_handles,social_media)\n"
   ]
  },
  {
   "cell_type": "code",
   "execution_count": null,
   "metadata": {},
   "outputs": [],
   "source": [
    "# Comnbine twitter handles with the corresponding language between 1 to 3\n",
    "\n",
    "facebook_combined_handle_lang = combine_handle_language(facebook_handle_lang_col_map,Consolidated_facebook_handles,social_media)\n"
   ]
  },
  {
   "cell_type": "code",
   "execution_count": null,
   "metadata": {},
   "outputs": [],
   "source": [
    "facebook_combnined_handle_lang_data = pd.DataFrame(dict(facebook_combined_handle_lang).items(), columns=['Facebook_Handle','Language_1_2_3'])\n",
    "facebook_combnined_handle_lang_data.to_csv('Consolidated_fb_handles.csv')\n"
   ]
  },
  {
   "cell_type": "code",
   "execution_count": null,
   "metadata": {},
   "outputs": [],
   "source": [
    "facebook_combnined_handle_lang_data['Facebook_Handle']"
   ]
  },
  {
   "cell_type": "markdown",
   "metadata": {},
   "source": [
    "### Combined Twitter and Facebook "
   ]
  },
  {
   "cell_type": "code",
   "execution_count": null,
   "metadata": {},
   "outputs": [],
   "source": [
    "print('Number of handles in twitter without redunduncy '+ str(len(twitter_combnined_handle_lang_data)))\n",
    "print('Number of handles in facebook without redunduncy '+ str(len(facebook_combnined_handle_lang_data)))\n",
    "df1 = twitter_combnined_handle_lang_data\n",
    "df2 = facebook_combnined_handle_lang_data"
   ]
  },
  {
   "cell_type": "code",
   "execution_count": null,
   "metadata": {},
   "outputs": [],
   "source": [
    "combined_twitter_facebook_handles = pd.concat([df1, df2], axis=1).fillna(0)"
   ]
  },
  {
   "cell_type": "code",
   "execution_count": null,
   "metadata": {},
   "outputs": [],
   "source": [
    "modDfObj = combined_twitter_facebook_handles.append(pd.Series(['ConfuciusGSU', 0, '0', '0'], index=combined_twitter_facebook_handles.columns ), ignore_index=True)\n"
   ]
  },
  {
   "cell_type": "code",
   "execution_count": null,
   "metadata": {},
   "outputs": [],
   "source": [
    "combined_twitter_facebook_handles.to_csv('Combined_twitter_facebook_handles.csv')\n",
    "modDfObj.to_csv('Combined_twitter_facebook_handles_extra_handle.csv')"
   ]
  },
  {
   "cell_type": "code",
   "execution_count": null,
   "metadata": {},
   "outputs": [],
   "source": [
    "\n",
    "\n",
    "\n",
    "\n"
   ]
  },
  {
   "cell_type": "code",
   "execution_count": null,
   "metadata": {},
   "outputs": [],
   "source": []
  },
  {
   "cell_type": "code",
   "execution_count": null,
   "metadata": {},
   "outputs": [],
   "source": []
  },
  {
   "cell_type": "code",
   "execution_count": null,
   "metadata": {},
   "outputs": [],
   "source": []
  },
  {
   "cell_type": "code",
   "execution_count": null,
   "metadata": {},
   "outputs": [],
   "source": []
  },
  {
   "cell_type": "code",
   "execution_count": null,
   "metadata": {},
   "outputs": [],
   "source": []
  },
  {
   "cell_type": "code",
   "execution_count": null,
   "metadata": {},
   "outputs": [],
   "source": []
  },
  {
   "cell_type": "code",
   "execution_count": null,
   "metadata": {},
   "outputs": [],
   "source": [
    "# Combine twitter handle columns with twitter language columns \n",
    "# column_lang = []\n",
    "# for c in twitter_handles_columns:\n",
    "#     for l in twitter_language_columns:\n",
    "#         s = SequenceMatcher(None,c,l)\n",
    "#         if s.ratio() > 0.60:\n",
    "#             column_lang.append((c,l))\n",
    "#         else:\n",
    "#             continue\n",
    "# column_lang_map = defaultdict(list)\n",
    "# for col, lang in column_lang:\n",
    "#     column_lang_map[col].append(lang)\n"
   ]
  },
  {
   "cell_type": "code",
   "execution_count": null,
   "metadata": {},
   "outputs": [],
   "source": [
    "# Comnbine twitter handles with the corresponding language between 1 to 3\n",
    "# col_lang_merg = []\n",
    "# checked = []\n",
    "# langs = []\n",
    "# for c, hl in zip(column_lang_map.items(),Consolidated_twitter_handles):\n",
    "#     for h in hl:\n",
    "#         if h != '  ':\n",
    "#             for l in c[1]:\n",
    "#                 if h not in checked:\n",
    "#                     if  np.nan not in list(social_media[social_media[c[0]]==h][l].values):\n",
    "#                         col_lang_merg.append((h,list(social_media[social_media[c[0]]==h][l].values)))\n",
    "#             checked.append(h)\n",
    "# col_lang_combined = defaultdict(list)\n",
    "# for col, lang in col_lang_merg:\n",
    "#     col_lang_combined[col].append(lang)\n"
   ]
  }
 ],
 "metadata": {
  "kernelspec": {
   "display_name": "FT3.6",
   "language": "python",
   "name": "ft3.6"
  },
  "language_info": {
   "codemirror_mode": {
    "name": "ipython",
    "version": 3
   },
   "file_extension": ".py",
   "mimetype": "text/x-python",
   "name": "python",
   "nbconvert_exporter": "python",
   "pygments_lexer": "ipython3",
   "version": "3.6.7"
  }
 },
 "nbformat": 4,
 "nbformat_minor": 4
}
