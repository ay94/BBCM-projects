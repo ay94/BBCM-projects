{
 "cells": [
  {
   "cell_type": "code",
   "execution_count": 10,
   "metadata": {},
   "outputs": [],
   "source": [
    "import pandas as pd "
   ]
  },
  {
   "cell_type": "markdown",
   "metadata": {},
   "source": [
    "1- "
   ]
  },
  {
   "cell_type": "markdown",
   "metadata": {},
   "source": [
    "### Twitter language analysis "
   ]
  },
  {
   "cell_type": "code",
   "execution_count": 66,
   "metadata": {},
   "outputs": [],
   "source": [
    "bbc_tw_sheet_langs = pd.read_csv('language_analysis/tw/bbcm-china-source-data_tw-accounts-v2.csv')\n",
    "bbc_tw_all_collections_langs = pd.read_csv('language_analysis/tw/bbcm-lang-analysis_tw-all-tweets-lang-annotations.csv')\n"
   ]
  },
  {
   "cell_type": "code",
   "execution_count": 44,
   "metadata": {},
   "outputs": [],
   "source": [
    "# This function set the join based on index if you used it without setting the index will put value in index 0 into index 0 on the other table which is wrong \n",
    "# so i had to set the index this way so they can be matched correctly the output is combined dataframe with twitter.user/screenName as index \n",
    "# so i renamed the index into that instead of reseting the index so it will be easier to test if it is correct or not next cell provide test functionality to make sure it is correct \n",
    "\n",
    "\n",
    "combined_bbc_coll_tw_lang = bbc_tw_all_collections_langs.set_index('twitter.user/id').join(bbc_tw_sheet_langs.set_index('account'))\n",
    "combined_bbc_coll_tw_lang.index.name = 'witter.user/screenName'\n"
   ]
  },
  {
   "cell_type": "code",
   "execution_count": 112,
   "metadata": {},
   "outputs": [],
   "source": [
    "combined_bbc_coll_tw_lang.to_csv('tw-coll-bbc-language-merge.csv')"
   ]
  },
  {
   "cell_type": "code",
   "execution_count": 61,
   "metadata": {},
   "outputs": [],
   "source": [
    "# if you want to test access the screen name form the index column and put it in account variable \n",
    "# account = combined_bbc_coll_tw_lang.index[1000]\n",
    "\n",
    "# display(bbc_tw_sheet_langs[bbc_tw_sheet_langs['account'] == account])\n",
    "# display(bbc_tw_all_collections_langs[bbc_tw_all_collections_langs['twitter.user/screenName'] == account].head())\n",
    "\n"
   ]
  },
  {
   "cell_type": "markdown",
   "metadata": {},
   "source": [
    "### Facebook language analysis "
   ]
  },
  {
   "cell_type": "code",
   "execution_count": 116,
   "metadata": {},
   "outputs": [],
   "source": [
    "bbc_fb_sheet_langs = pd.read_csv('language_analysis/fb/bbcm-china-source-data_fb-accounts-v2-cleaned-pages-w-ids.csv')\n",
    "bbc_fb_all_collections_langs = pd.read_csv('language_analysis/fb/bbcm-lang-analysis_fb-all-posts-lang-annotations.csv')\n"
   ]
  },
  {
   "cell_type": "code",
   "execution_count": 119,
   "metadata": {},
   "outputs": [],
   "source": [
    "combined_bbc_coll_fb_lang = bbc_fb_all_collections_langs.set_index('crowdtangle.account/platformId').join(bbc_fb_sheet_langs.set_index('extracted/id'))\n",
    "combined_bbc_coll_fb_lang.index.name = 'crowdtangle.account/platformId'\n"
   ]
  },
  {
   "cell_type": "code",
   "execution_count": 45,
   "metadata": {},
   "outputs": [],
   "source": [
    "bbc_fb_all_collections_langs = bbc_fb_all_collections_langs.set_index('twitter.user/screenName').join(bbc_fb_sheet_langs.set_index('account'))\n",
    "combined_bbc_coll_tw_lang.index.name = 'witter.user/screenName'"
   ]
  },
  {
   "cell_type": "code",
   "execution_count": 46,
   "metadata": {},
   "outputs": [],
   "source": []
  },
  {
   "cell_type": "code",
   "execution_count": null,
   "metadata": {},
   "outputs": [],
   "source": []
  }
 ],
 "metadata": {
  "kernelspec": {
   "display_name": "FT3.6",
   "language": "python",
   "name": "ft3.6"
  },
  "language_info": {
   "codemirror_mode": {
    "name": "ipython",
    "version": 3
   },
   "file_extension": ".py",
   "mimetype": "text/x-python",
   "name": "python",
   "nbconvert_exporter": "python",
   "pygments_lexer": "ipython3",
   "version": "3.6.7"
  }
 },
 "nbformat": 4,
 "nbformat_minor": 4
}
