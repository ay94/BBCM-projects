{
 "cells": [
  {
   "cell_type": "code",
   "execution_count": 1,
   "metadata": {},
   "outputs": [],
   "source": [
    "import pandas as pd"
   ]
  },
  {
   "cell_type": "code",
   "execution_count": 3,
   "metadata": {},
   "outputs": [],
   "source": [
    "fb_collectable_accounts = pd.read_csv('Collectibility/fb/collectable/bbcm-china-source-data_fb-accounts-v2-collectable.csv')\n",
    "fb_not_collectable_accounts = pd.read_csv('Collectibility/fb/not_collectable/bbcm-china-source-data_fb-accounts-v2-not-collectable.csv')\n",
    "tw_collectable_accounts = pd.read_csv('Collectibility/tw/collectable/bbcm-china-source-data_tw-accounts-v2-collectable.csv')\n",
    "tw_not_collectable_accounts = pd.read_csv('Collectibility/tw/not_collectable/bbcm-china-source-data_tw-accounts-v2-not-collectable.csv')"
   ]
  },
  {
   "cell_type": "code",
   "execution_count": 8,
   "metadata": {},
   "outputs": [],
   "source": [
    "fb_collectable_accounts.to_excel('Collectibility/fb/collectable/bbcm-china-source-data_fb-accounts-v2-collectable.xlsx')\n",
    "tw_collectable_accounts.to_excel('Collectibility/tw/collectable/bbcm-china-source-data_tw-accounts-v2-collectable.xlsx')\n"
   ]
  },
  {
   "cell_type": "markdown",
   "metadata": {},
   "source": [
    "### Language annotation"
   ]
  },
  {
   "cell_type": "code",
   "execution_count": null,
   "metadata": {},
   "outputs": [],
   "source": []
  }
 ],
 "metadata": {
  "kernelspec": {
   "display_name": "FT3.6",
   "language": "python",
   "name": "ft3.6"
  },
  "language_info": {
   "codemirror_mode": {
    "name": "ipython",
    "version": 3
   },
   "file_extension": ".py",
   "mimetype": "text/x-python",
   "name": "python",
   "nbconvert_exporter": "python",
   "pygments_lexer": "ipython3",
   "version": "3.6.7"
  }
 },
 "nbformat": 4,
 "nbformat_minor": 4
}
