{
 "cells": [
  {
   "cell_type": "code",
   "execution_count": 1,
   "metadata": {},
   "outputs": [],
   "source": [
    "import matplotlib.pyplot as plt\n",
    "from collections import Counter\n",
    "from tqdm import tqdm\n",
    "import seaborn as sns\n",
    "import pandas as pd\n",
    "pd.set_option('display.max_rows', 500)"
   ]
  },
  {
   "cell_type": "code",
   "execution_count": 1,
   "metadata": {},
   "outputs": [],
   "source": [
    "# TW_LANG_PATH = 'bbcm-lang-analysis_tw-all-tweets-lang-annotations.csv' \n",
    "# FB_LANG_PATH = 'bbcm-lang-analysis_fb-all-posts-lang-annotations.csv' \n",
    "COMBINED_LANG_PATH = 'bbcm-lang-analysis_combined-all-posts-lang-annotations-20201014.csv' \n"
   ]
  },
  {
   "cell_type": "code",
   "execution_count": 3,
   "metadata": {},
   "outputs": [],
   "source": [
    "# tw_lang_df = pd.read_csv(TW_LANG_PATH)\n",
    "# fb_lang_df = pd.read_csv(FB_LANG_PATH)\n",
    "comb_lang_df = pd.read_csv(COMBINED_LANG_PATH)\n"
   ]
  },
  {
   "cell_type": "markdown",
   "metadata": {},
   "source": [
    "# Language Propotions"
   ]
  },
  {
   "cell_type": "code",
   "execution_count": 4,
   "metadata": {},
   "outputs": [],
   "source": [
    "tw_lang_df = tw_lang_df[~tw_lang_df['language'].isna()]\n",
    "fb_lang_df = fb_lang_df[~fb_lang_df['language'].isna()]\n"
   ]
  },
  {
   "cell_type": "code",
   "execution_count": 5,
   "metadata": {},
   "outputs": [],
   "source": [
    "# Get all used lanaguage tags\n",
    "tw_langs = list(set(tw_lang_df['language'].fillna('EMPTY').values))\n",
    "fb_langs = list(set(fb_lang_df['language'].fillna('EMPTY').values))"
   ]
  },
  {
   "cell_type": "code",
   "execution_count": 14,
   "metadata": {},
   "outputs": [],
   "source": [
    "# Languages across posts\n",
    "def lang_from_posts(df, lang_col):\n",
    "    return df.value_counts(lang_col).rename_axis(lang_col).reset_index(name='post_count')\n",
    "# round(((tw_lang_df.value_counts('language')/len(tw_lang_df))*100),5) if we want percentage\n",
    "\n",
    "# Num users using each language (at least once)\n",
    "def get_users_using_lang(df, languages, lang_col, user_col):\n",
    "    data = []\n",
    "\n",
    "    for lang in languages:\n",
    "        per_lang_df = df[df[lang_col] == lang].copy()\n",
    "        per_lang_df = per_lang_df.drop_duplicates(user_col)\n",
    "        total_num_users = len(df.drop_duplicates(user_col))\n",
    "        data.append(dict(language=lang, used_by=(round(len(per_lang_df)/total_num_users*100,3))))\n",
    "\n",
    "    return pd.DataFrame(data).sort_values('used_by', ascending=False)"
   ]
  },
  {
   "cell_type": "code",
   "execution_count": 15,
   "metadata": {
    "scrolled": true
   },
   "outputs": [],
   "source": [
    "tw_lang_per_posts = lang_from_posts(df=tw_lang_df, \n",
    "                    lang_col='language')\n",
    "fb_lang_per_posts = lang_from_posts(df=fb_lang_df, \n",
    "                    lang_col='language')"
   ]
  },
  {
   "cell_type": "code",
   "execution_count": 16,
   "metadata": {
    "scrolled": true
   },
   "outputs": [],
   "source": [
    "tw_lang_per_user = get_users_using_lang(df=tw_lang_df,\n",
    "                     languages=tw_langs,\n",
    "                    lang_col='language',\n",
    "                    user_col='twitter.user/id')\n",
    "\n",
    "fb_lang_per_user = get_users_using_lang(df=fb_lang_df,\n",
    "                     languages=fb_langs,\n",
    "                    lang_col='language',\n",
    "                    user_col='crowdtangle.account/platformId')"
   ]
  },
  {
   "cell_type": "code",
   "execution_count": 17,
   "metadata": {},
   "outputs": [],
   "source": [
    "combined_tw_lang_propotion = tw_lang_per_posts.set_index('language').join(tw_lang_per_user.set_index('language'))\n",
    "combined_fb_lang_propotion = fb_lang_per_posts.set_index('language').join(fb_lang_per_user.set_index('language'))"
   ]
  },
  {
   "cell_type": "code",
   "execution_count": 25,
   "metadata": {},
   "outputs": [],
   "source": [
    "combined_tw_lang_propotion.to_csv('combined_tw_lang_propotion.csv')\n",
    "combined_fb_lang_propotion.to_csv('combined_fb_lang_propotion.csv')"
   ]
  },
  {
   "cell_type": "markdown",
   "metadata": {},
   "source": [
    "# User Language   Propotion"
   ]
  },
  {
   "cell_type": "code",
   "execution_count": 20,
   "metadata": {},
   "outputs": [],
   "source": [
    "def top_n_to_dict(most_common, prefix='top_lang'):\n",
    "    \n",
    "    data = {} \n",
    "    \n",
    "    for i, (lang, count) in enumerate(most_common):\n",
    "        data[f'{prefix}_{i+1}'] = lang\n",
    "        data[f'{prefix}_count_{i+1}'] = count\n",
    "        \n",
    "    return data"
   ]
  },
  {
   "cell_type": "code",
   "execution_count": 21,
   "metadata": {},
   "outputs": [],
   "source": [
    "def lang_user_propotion(df, user_col,lang_col,join_col):\n",
    "        user_ids = list(set(df[user_col].values))\n",
    "\n",
    "        u_data = []\n",
    "\n",
    "        for u_id in tqdm(user_ids):\n",
    "            u_df = df[df[user_col] == u_id].copy()\n",
    "\n",
    "            lang_counts = Counter(u_df[lang_col].values).most_common(3)\n",
    "            top_langs = top_n_to_dict(lang_counts)\n",
    "\n",
    "            row_dict = {**dict(user_id=u_id), **top_langs}\n",
    "            u_data.append(row_dict)\n",
    "\n",
    "        _df = pd.DataFrame(u_data).sort_values('top_lang_count_1', ascending=False)\n",
    "        _df = _df.set_index('user_id').join(df.set_index(user_col)[join_col], how='left')\n",
    "\n",
    "        _df = _df.reset_index().drop_duplicates(subset=[join_col])\n",
    "        _df = _df.rename(columns={'index': user_col})\n",
    "        _df = _df[[\n",
    "            join_col,\n",
    "            user_col,\n",
    "            'top_lang_1',\n",
    "            'top_lang_count_1',\n",
    "            'top_lang_2',\n",
    "            'top_lang_count_2',\n",
    "            'top_lang_3',\n",
    "            'top_lang_count_3',\n",
    "        ]]\n",
    "        return _df\n"
   ]
  },
  {
   "cell_type": "code",
   "execution_count": 22,
   "metadata": {},
   "outputs": [
    {
     "name": "stderr",
     "output_type": "stream",
     "text": [
      "100%|██████████| 224/224 [00:00<00:00, 816.68it/s]\n",
      "100%|██████████| 78/78 [00:00<00:00, 1532.41it/s]\n"
     ]
    }
   ],
   "source": [
    "tw_lang_user_propotion = lang_user_propotion(df=tw_lang_df,\n",
    "                            user_col='twitter.user/id',\n",
    "                            lang_col='language',\n",
    "                            join_col='twitter.user/screenName')\n",
    "\n",
    "\n",
    "fb_lang_user_propotion = lang_user_propotion(df=fb_lang_df,\n",
    "                            user_col='crowdtangle.account/platformId',\n",
    "                            lang_col='language',\n",
    "                            join_col='crowdtangle.account/handle')\n",
    "\n"
   ]
  },
  {
   "cell_type": "code",
   "execution_count": 24,
   "metadata": {},
   "outputs": [],
   "source": [
    "tw_lang_user_propotion.to_csv('tw_lang_user_propotion.csv')\n",
    "fb_lang_user_propotion.to_csv('fb_lang_user_propotion.csv')"
   ]
  },
  {
   "cell_type": "code",
   "execution_count": null,
   "metadata": {
    "scrolled": false
   },
   "outputs": [],
   "source": [
    "# user_ids = list(set(tw_lang_df['twitter.user/id'].values))\n",
    "\n",
    "# u_data = []\n",
    "\n",
    "# for u_id in tqdm(user_ids):\n",
    "#     u_df = tw_lang_df[tw_lang_df['twitter.user/id'] == u_id].copy()\n",
    "    \n",
    "#     lang_counts = Counter(u_df['language'].values).most_common(3)\n",
    "#     top_langs = top_n_to_dict(lang_counts)\n",
    "    \n",
    "#     row_dict = {**dict(user_id=u_id), **top_langs}\n",
    "#     u_data.append(row_dict)\n",
    "\n",
    "# _df = pd.DataFrame(u_data).sort_values('top_lang_count_1', ascending=False)\n",
    "# _df = _df.set_index('user_id').join(tw_lang_df.set_index('twitter.user/id')['twitter.user/screenName'], how='left')"
   ]
  },
  {
   "cell_type": "code",
   "execution_count": null,
   "metadata": {
    "scrolled": false
   },
   "outputs": [],
   "source": [
    "# _df = _df.reset_index().drop_duplicates(subset=['twitter.user/screenName'])\n",
    "# _df = _df.rename(columns={'index': 'twitter.user/id'})\n",
    "# _df = _df[[\n",
    "#     'twitter.user/screenName',\n",
    "#     'twitter.user/id',\n",
    "#     'top_lang_1',\n",
    "#     'top_lang_count_1',\n",
    "#     'top_lang_2',\n",
    "#     'top_lang_count_2',\n",
    "#     'top_lang_3',\n",
    "#     'top_lang_count_3',\n",
    "# ]]"
   ]
  },
  {
   "cell_type": "code",
   "execution_count": null,
   "metadata": {
    "scrolled": false
   },
   "outputs": [],
   "source": [
    "_df"
   ]
  },
  {
   "cell_type": "code",
   "execution_count": null,
   "metadata": {
    "scrolled": false
   },
   "outputs": [],
   "source": [
    "sns.set(font_scale=1.5)\n",
    "\n",
    "tw_lang_df.value_counts('language').plot(kind='bar', figsize=(12, 6), rot=90)\n",
    "\n",
    "plt.xlabel(\"Language\", labelpad=14)\n",
    "plt.ylabel(\"Post Languages\", labelpad=14)\n",
    "plt.title(\"Twitter Post Language\", y=1.02)"
   ]
  },
  {
   "cell_type": "code",
   "execution_count": null,
   "metadata": {},
   "outputs": [],
   "source": [
    "sns.set(font_scale=1.5)\n",
    "\n",
    "tw_lang_df[tw_lang_df['language'] != 'en'].value_counts('language').plot(kind='bar', figsize=(12, 6), rot=90)\n",
    "\n",
    "plt.xlabel(\"Language\", labelpad=14)\n",
    "plt.ylabel(\"Post Languages\", labelpad=14)\n",
    "plt.title(\"Twitter Post Language (Without EN)\", y=1.02)"
   ]
  },
  {
   "cell_type": "code",
   "execution_count": null,
   "metadata": {},
   "outputs": [],
   "source": []
  }
 ],
 "metadata": {
  "kernelspec": {
   "display_name": "FT3.6",
   "language": "python",
   "name": "ft3.6"
  },
  "language_info": {
   "codemirror_mode": {
    "name": "ipython",
    "version": 3
   },
   "file_extension": ".py",
   "mimetype": "text/x-python",
   "name": "python",
   "nbconvert_exporter": "python",
   "pygments_lexer": "ipython3",
   "version": "3.6.7"
  }
 },
 "nbformat": 4,
 "nbformat_minor": 4
}
