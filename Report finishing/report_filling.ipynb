{
 "cells": [
  {
   "cell_type": "code",
   "execution_count": 590,
   "metadata": {},
   "outputs": [],
   "source": [
    "import warnings\n",
    "import pandas as pd\n",
    "import numpy as np\n",
    "import seaborn as sns\n",
    "import matplotlib.pyplot as plt\n",
    "warnings.filterwarnings('ignore')\n",
    "pd.set_option(\"display.max_columns\", 130)"
   ]
  },
  {
   "cell_type": "code",
   "execution_count": 526,
   "metadata": {},
   "outputs": [],
   "source": [
    "all_data = pd.read_csv('data/all_u.csv')\n",
    "tw = pd.read_csv('data/tw.csv')\n",
    "tw = pd.read_csv('data/fb.csv')\n",
    "accounts = pd.read_csv('data/accounts.csv')\n",
    "df = all_data.rename({'combined/createdDate':'createdDate',\n",
    "                          'combined/messageId': 'uniqueMessageId',\n",
    "                          'combined/uniqueUserId':'uniqueUserId',\n",
    "                          'twitter.tweet/retweetCount': 'retweetCount',\n",
    "                          'crowdtangle.account/subscriberCount' : 'subscriberCount',\n",
    "                          'combined/userHandle':'userHandle',\n",
    "                          'combined/text':'text'}, axis=1)\n",
    "df['createdDate'] = pd.to_datetime(df['createdDate'], errors='coerce')\n"
   ]
  },
  {
   "cell_type": "code",
   "execution_count": 580,
   "metadata": {},
   "outputs": [],
   "source": [
    "df_2020 = df[df.createdDate.dt.year==2020]\n",
    "df_2020_week = df_2020.groupby( df_2020.createdDate.dt.strftime('%W'))\n",
    "df_2020_tw = df_2020[df_2020.platformPrefix =='tw']\n",
    "df_2020_fb = df_2020[df_2020.platformPrefix =='fb']\n",
    "df_2020_week_tw = df_2020_tw.groupby( df_2020.createdDate.dt.strftime('%W'))\n",
    "df_2020_week_fb = df_2020_fb.groupby( df_2020.createdDate.dt.strftime('%W'))"
   ]
  },
  {
   "cell_type": "markdown",
   "metadata": {},
   "source": [
    "# Twitter engagement"
   ]
  },
  {
   "cell_type": "code",
   "execution_count": 617,
   "metadata": {},
   "outputs": [
    {
     "data": {
      "text/plain": [
       "52020453.85691713"
      ]
     },
     "execution_count": 617,
     "metadata": {},
     "output_type": "execute_result"
    }
   ],
   "source": [
    "df_2020_tw.groupby(['uniqueUserId'])['twitter.user/followersCount'].mean().sum()"
   ]
  },
  {
   "cell_type": "markdown",
   "metadata": {},
   "source": [
    "# Facebook engagement"
   ]
  },
  {
   "cell_type": "code",
   "execution_count": 552,
   "metadata": {},
   "outputs": [
    {
     "data": {
      "text/plain": [
       "1426.4528301886792"
      ]
     },
     "execution_count": 552,
     "metadata": {},
     "output_type": "execute_result"
    }
   ],
   "source": [
    "df_2020_week['crowdtangle.stats.actual/angryCount'].sum().mean()\n",
    "# df_2020_week['retweetCount'].sum().mean()"
   ]
  },
  {
   "cell_type": "code",
   "execution_count": 597,
   "metadata": {},
   "outputs": [],
   "source": [
    "engagement = {'retweetCount':[44,312151],\n",
    "             'angryCount':[1.34,1426],\n",
    "             'careCount':[0.87,203],\n",
    "             'commentCount':[15.3,16352],\n",
    "             'hahaCount':[2.06,2197],\n",
    "             'likeCount':[169.8,180642],\n",
    "             'loveCount':[14.2,15108],\n",
    "             'sadCount':[2.5,2671],\n",
    "             'shareCount':[23.4,24938],\n",
    "             'wowCount':[1.47,1565],\n",
    "             }\n",
    "\n"
   ]
  },
  {
   "cell_type": "code",
   "execution_count": 598,
   "metadata": {},
   "outputs": [],
   "source": [
    "d = pd.DataFrame(engagement.items(), columns =['metric','score'])\n"
   ]
  },
  {
   "cell_type": "code",
   "execution_count": 599,
   "metadata": {},
   "outputs": [],
   "source": [
    "\n",
    "engagment_df = pd.DataFrame(d.score.tolist(), index= d.index, columns =['average per message', 'average per week'])"
   ]
  },
  {
   "cell_type": "code",
   "execution_count": 600,
   "metadata": {},
   "outputs": [],
   "source": [
    "engagment_df['metric'] = d['metric']"
   ]
  },
  {
   "cell_type": "code",
   "execution_count": 601,
   "metadata": {},
   "outputs": [
    {
     "data": {
      "text/html": [
       "<div>\n",
       "<style scoped>\n",
       "    .dataframe tbody tr th:only-of-type {\n",
       "        vertical-align: middle;\n",
       "    }\n",
       "\n",
       "    .dataframe tbody tr th {\n",
       "        vertical-align: top;\n",
       "    }\n",
       "\n",
       "    .dataframe thead th {\n",
       "        text-align: right;\n",
       "    }\n",
       "</style>\n",
       "<table border=\"1\" class=\"dataframe\">\n",
       "  <thead>\n",
       "    <tr style=\"text-align: right;\">\n",
       "      <th></th>\n",
       "      <th>metric</th>\n",
       "      <th>average per message</th>\n",
       "      <th>average per week</th>\n",
       "    </tr>\n",
       "  </thead>\n",
       "  <tbody>\n",
       "    <tr>\n",
       "      <th>0</th>\n",
       "      <td>retweetCount</td>\n",
       "      <td>44.00</td>\n",
       "      <td>312151</td>\n",
       "    </tr>\n",
       "    <tr>\n",
       "      <th>1</th>\n",
       "      <td>angryCount</td>\n",
       "      <td>1.34</td>\n",
       "      <td>1426</td>\n",
       "    </tr>\n",
       "    <tr>\n",
       "      <th>2</th>\n",
       "      <td>careCount</td>\n",
       "      <td>0.87</td>\n",
       "      <td>203</td>\n",
       "    </tr>\n",
       "    <tr>\n",
       "      <th>3</th>\n",
       "      <td>commentCount</td>\n",
       "      <td>15.30</td>\n",
       "      <td>16352</td>\n",
       "    </tr>\n",
       "    <tr>\n",
       "      <th>4</th>\n",
       "      <td>hahaCount</td>\n",
       "      <td>2.06</td>\n",
       "      <td>2197</td>\n",
       "    </tr>\n",
       "    <tr>\n",
       "      <th>5</th>\n",
       "      <td>likeCount</td>\n",
       "      <td>169.80</td>\n",
       "      <td>180642</td>\n",
       "    </tr>\n",
       "    <tr>\n",
       "      <th>6</th>\n",
       "      <td>loveCount</td>\n",
       "      <td>14.20</td>\n",
       "      <td>15108</td>\n",
       "    </tr>\n",
       "    <tr>\n",
       "      <th>7</th>\n",
       "      <td>sadCount</td>\n",
       "      <td>2.50</td>\n",
       "      <td>2671</td>\n",
       "    </tr>\n",
       "    <tr>\n",
       "      <th>8</th>\n",
       "      <td>shareCount</td>\n",
       "      <td>23.40</td>\n",
       "      <td>24938</td>\n",
       "    </tr>\n",
       "    <tr>\n",
       "      <th>9</th>\n",
       "      <td>wowCount</td>\n",
       "      <td>1.47</td>\n",
       "      <td>1565</td>\n",
       "    </tr>\n",
       "  </tbody>\n",
       "</table>\n",
       "</div>"
      ],
      "text/plain": [
       "         metric  average per message  average per week\n",
       "0  retweetCount                44.00            312151\n",
       "1    angryCount                 1.34              1426\n",
       "2     careCount                 0.87               203\n",
       "3  commentCount                15.30             16352\n",
       "4     hahaCount                 2.06              2197\n",
       "5     likeCount               169.80            180642\n",
       "6     loveCount                14.20             15108\n",
       "7      sadCount                 2.50              2671\n",
       "8    shareCount                23.40             24938\n",
       "9      wowCount                 1.47              1565"
      ]
     },
     "execution_count": 601,
     "metadata": {},
     "output_type": "execute_result"
    }
   ],
   "source": [
    "engagment_df[['metric','average per message','average per week' ]]"
   ]
  },
  {
   "cell_type": "code",
   "execution_count": 606,
   "metadata": {},
   "outputs": [],
   "source": [
    "engagment_df = engagment_df.iloc[1:]"
   ]
  },
  {
   "cell_type": "code",
   "execution_count": 611,
   "metadata": {},
   "outputs": [
    {
     "name": "stdout",
     "output_type": "stream",
     "text": [
      "245102\n",
      "230.94\n"
     ]
    }
   ],
   "source": [
    "print(engagment_df['average per week'].sum())\n",
    "print(engagment_df['average per message'].sum())"
   ]
  },
  {
   "cell_type": "code",
   "execution_count": null,
   "metadata": {},
   "outputs": [],
   "source": [
    "1426\n",
    "203\n",
    "16352\n",
    "2197\n",
    "180642\n",
    "15108\n",
    "2671\n",
    "24938\n",
    "1565"
   ]
  },
  {
   "cell_type": "code",
   "execution_count": null,
   "metadata": {},
   "outputs": [],
   "source": [
    "'crowdtangle.stats.actual/angryCount'\n",
    "'crowdtangle.stats.actual/careCount'\n",
    "'crowdtangle.stats.actual/commentCount'\n",
    "'crowdtangle.stats.actual/favoriteCount'\n",
    "'crowdtangle.stats.actual/hahaCount'\n",
    "'crowdtangle.stats.actual/likeCount'\n",
    "'crowdtangle.stats.actual/loveCount'\n",
    "'crowdtangle.stats.actual/sadCount'\n",
    "'crowdtangle.stats.actual/shareCount'\n",
    "'crowdtangle.stats.actual/thankfulCount'\n",
    "'crowdtangle.stats.actual/wowCount'"
   ]
  },
  {
   "cell_type": "code",
   "execution_count": 546,
   "metadata": {},
   "outputs": [
    {
     "name": "stdout",
     "output_type": "stream",
     "text": [
      "1.3410554323725055\n",
      "0.8702715809893308\n",
      "15.37360532150776\n",
      "2.0657560975609757\n",
      "169.8279024390244\n",
      "14.204221729490023\n",
      "2.5112549889135254\n",
      "23.44569401330377\n",
      "1.471929046563193\n"
     ]
    }
   ],
   "source": [
    "print(df_2020_fb['crowdtangle.stats.actual/angryCount'].mean())\n",
    "print(df_2020_fb['crowdtangle.stats.actual/careCount'].mean())\n",
    "print(df_2020_fb['crowdtangle.stats.actual/commentCount'].mean())\n",
    "print(df_2020_fb['crowdtangle.stats.actual/hahaCount'].mean())\n",
    "print(df_2020_fb['crowdtangle.stats.actual/likeCount'].mean())\n",
    "print(df_2020_fb['crowdtangle.stats.actual/loveCount'].mean())\n",
    "print(df_2020_fb['crowdtangle.stats.actual/sadCount'].mean())\n",
    "print(df_2020_fb['crowdtangle.stats.actual/shareCount'].mean())\n",
    "print(df_2020_fb['crowdtangle.stats.actual/wowCount'].mean())\n",
    "\n",
    "\n"
   ]
  },
  {
   "cell_type": "code",
   "execution_count": 553,
   "metadata": {},
   "outputs": [
    {
     "name": "stdout",
     "output_type": "stream",
     "text": [
      "1426.4528301886792\n",
      "203.1509433962264\n",
      "16352.584905660377\n",
      "2197.301886792453\n",
      "180642.4150943396\n",
      "15108.735849056604\n",
      "2671.169811320755\n",
      "24938.69811320755\n",
      "1565.6603773584907\n"
     ]
    }
   ],
   "source": [
    "print(df_2020_week['crowdtangle.stats.actual/angryCount'].sum().mean())\n",
    "print(df_2020_week['crowdtangle.stats.actual/careCount'].sum().mean())\n",
    "print(df_2020_week['crowdtangle.stats.actual/commentCount'].sum().mean())\n",
    "print(df_2020_week['crowdtangle.stats.actual/hahaCount'].sum().mean())\n",
    "print(df_2020_week['crowdtangle.stats.actual/likeCount'].sum().mean())\n",
    "print(df_2020_week['crowdtangle.stats.actual/loveCount'].sum().mean())\n",
    "print(df_2020_week['crowdtangle.stats.actual/sadCount'].sum().mean())\n",
    "print(df_2020_week['crowdtangle.stats.actual/shareCount'].sum().mean())\n",
    "print(df_2020_week['crowdtangle.stats.actual/wowCount'].sum().mean())\n",
    "\n",
    "\n"
   ]
  },
  {
   "cell_type": "code",
   "execution_count": 554,
   "metadata": {},
   "outputs": [
    {
     "name": "stdout",
     "output_type": "stream",
     "text": [
      "1.36681923185585\n",
      "0.866932088840806\n",
      "15.264234126432607\n",
      "2.1313700441509495\n",
      "174.77246073375835\n",
      "14.109281541810303\n",
      "2.4980504628760025\n",
      "23.109045565968223\n",
      "1.6112186070464372\n"
     ]
    }
   ],
   "source": [
    "print(df_2020_week['crowdtangle.stats.actual/angryCount'].mean().mean())\n",
    "print(df_2020_week['crowdtangle.stats.actual/careCount'].mean().mean())\n",
    "print(df_2020_week['crowdtangle.stats.actual/commentCount'].mean().mean())\n",
    "print(df_2020_week['crowdtangle.stats.actual/hahaCount'].mean().mean())\n",
    "print(df_2020_week['crowdtangle.stats.actual/likeCount'].mean().mean())\n",
    "print(df_2020_week['crowdtangle.stats.actual/loveCount'].mean().mean())\n",
    "print(df_2020_week['crowdtangle.stats.actual/sadCount'].mean().mean())\n",
    "print(df_2020_week['crowdtangle.stats.actual/shareCount'].mean().mean())\n",
    "print(df_2020_week['crowdtangle.stats.actual/wowCount'].mean().mean())\n",
    "\n",
    "\n"
   ]
  },
  {
   "cell_type": "code",
   "execution_count": 581,
   "metadata": {},
   "outputs": [
    {
     "data": {
      "text/plain": [
       "227.81132075471697"
      ]
     },
     "execution_count": 581,
     "metadata": {},
     "output_type": "execute_result"
    }
   ],
   "source": [
    "df_2020_week['uniqueUserId'].nunique().mean()\n"
   ]
  },
  {
   "cell_type": "code",
   "execution_count": 585,
   "metadata": {},
   "outputs": [
    {
     "data": {
      "text/plain": [
       "156.0"
      ]
     },
     "execution_count": 585,
     "metadata": {},
     "output_type": "execute_result"
    }
   ],
   "source": [
    "df_2020_week_tw['uniqueUserId'].nunique().mean()\n"
   ]
  },
  {
   "cell_type": "code",
   "execution_count": 583,
   "metadata": {},
   "outputs": [
    {
     "data": {
      "text/plain": [
       "71.81132075471699"
      ]
     },
     "execution_count": 583,
     "metadata": {},
     "output_type": "execute_result"
    }
   ],
   "source": [
    "df_2020_week_fb['uniqueUserId'].nunique().mean()\n"
   ]
  },
  {
   "cell_type": "markdown",
   "metadata": {},
   "source": [
    "# EXECUTIVE SUMMARY"
   ]
  },
  {
   "cell_type": "code",
   "execution_count": 91,
   "metadata": {},
   "outputs": [],
   "source": [
    "df_2020 = df[df.createdDate.dt.year==2020]\n",
    "df_2020_week = df_2020.groupby( df_2020.createdDate.dt.strftime('%W'))"
   ]
  },
  {
   "cell_type": "markdown",
   "metadata": {},
   "source": [
    "### X Chinese public diplomacy accounts will be active across Facebook and Twitter : 227.811 a week"
   ]
  },
  {
   "cell_type": "code",
   "execution_count": 92,
   "metadata": {},
   "outputs": [
    {
     "data": {
      "text/plain": [
       "227.81132075471697"
      ]
     },
     "execution_count": 92,
     "metadata": {},
     "output_type": "execute_result"
    }
   ],
   "source": [
    "df_2020_week['uniqueUserId'].nunique().mean()"
   ]
  },
  {
   "cell_type": "markdown",
   "metadata": {},
   "source": [
    "### They’ll post X times in total. Y on Twitter and Y on Facebook : 8057.11 a week. 6993.43 on Twitter and 1063.67 on Facebook."
   ]
  },
  {
   "cell_type": "code",
   "execution_count": 93,
   "metadata": {},
   "outputs": [
    {
     "data": {
      "text/plain": [
       "8057.11320754717"
      ]
     },
     "execution_count": 93,
     "metadata": {},
     "output_type": "execute_result"
    }
   ],
   "source": [
    "df_2020_week['uniqueMessageId'].nunique().mean()"
   ]
  },
  {
   "cell_type": "code",
   "execution_count": 95,
   "metadata": {},
   "outputs": [
    {
     "data": {
      "text/plain": [
       "6993.433962264151"
      ]
     },
     "execution_count": 95,
     "metadata": {},
     "output_type": "execute_result"
    }
   ],
   "source": [
    "tw_2020 = df_2020[df_2020.platformPrefix=='tw']\n",
    "tw_2020.groupby( df_2020.createdDate.dt.strftime('%W'))['uniqueMessageId'].nunique().mean()"
   ]
  },
  {
   "cell_type": "code",
   "execution_count": 96,
   "metadata": {},
   "outputs": [
    {
     "data": {
      "text/plain": [
       "1063.6792452830189"
      ]
     },
     "execution_count": 96,
     "metadata": {},
     "output_type": "execute_result"
    }
   ],
   "source": [
    "fb_2020 = df_2020[df_2020.platformPrefix=='fb']\n",
    "fb_2020.groupby( df_2020.createdDate.dt.strftime('%W'))['uniqueMessageId'].nunique().mean()"
   ]
  },
  {
   "cell_type": "markdown",
   "metadata": {},
   "source": [
    "### They’ll receive Y Retweets: 312151.09  a week. The max was week 11:  1913104.0.   The min was week 2:       25937.0"
   ]
  },
  {
   "cell_type": "code",
   "execution_count": 114,
   "metadata": {},
   "outputs": [],
   "source": []
  },
  {
   "cell_type": "code",
   "execution_count": 264,
   "metadata": {},
   "outputs": [],
   "source": [
    "# total number of tw users: 204\n",
    "# total number of fb users: 121\n",
    "\n",
    "    "
   ]
  },
  {
   "cell_type": "code",
   "execution_count": 164,
   "metadata": {},
   "outputs": [
    {
     "data": {
      "text/plain": [
       "44.63488123630791"
      ]
     },
     "execution_count": 164,
     "metadata": {},
     "output_type": "execute_result"
    }
   ],
   "source": [
    "df_2020_tw['retweetCount'].mean()"
   ]
  },
  {
   "cell_type": "code",
   "execution_count": 292,
   "metadata": {},
   "outputs": [
    {
     "data": {
      "text/plain": [
       "54.57403676333292"
      ]
     },
     "execution_count": 292,
     "metadata": {},
     "output_type": "execute_result"
    }
   ],
   "source": [
    "df_2020_week['retweetCount'].mean().mean()"
   ]
  },
  {
   "cell_type": "code",
   "execution_count": 391,
   "metadata": {
    "scrolled": true
   },
   "outputs": [
    {
     "data": {
      "text/plain": [
       "312151.09433962265"
      ]
     },
     "execution_count": 391,
     "metadata": {},
     "output_type": "execute_result"
    }
   ],
   "source": [
    "df_2020_week['retweetCount'].sum().mean()\n"
   ]
  },
  {
   "cell_type": "markdown",
   "metadata": {},
   "source": [
    "###  What engagement, interaction and amplification metrics have we collected? Sum that all here please: There are 3 types as i understand the engagment: \n",
    "- Retweet Count (tw) : average Retweets: 312151.09  a week. The max was week 11:  1913104.0.   The min was week 2:       25937.0\n",
    "- Subscriber count (fb)\n"
   ]
  },
  {
   "cell_type": "code",
   "execution_count": 586,
   "metadata": {},
   "outputs": [
    {
     "data": {
      "text/plain": [
       "Text(0,0.5,'Number of retweets')"
      ]
     },
     "execution_count": 586,
     "metadata": {},
     "output_type": "execute_result"
    },
    {
     "data": {
      "image/png": "[encoded data removed]",
      "text/plain": [
       "<Figure size 792x360 with 1 Axes>"
      ]
     },
     "metadata": {},
     "output_type": "display_data"
    }
   ],
   "source": [
    "sns.set(rc={'figure.figsize':(11, 5)})\n",
    "df_2020_week['retweetCount'].sum().plot(linewidth=1)\n",
    "\n",
    "\n",
    "plt.title(\"The total Number of retweets each week\", fontsize = 15)\n",
    "plt.xlabel(\"Week number\", fontsize = 15)\n",
    "plt.ylabel(\"Number of retweets\", fontsize = 15)"
   ]
  },
  {
   "cell_type": "code",
   "execution_count": 511,
   "metadata": {},
   "outputs": [
    {
     "data": {
      "text/plain": [
       "Text(0,0.5,'Number of retweets')"
      ]
     },
     "execution_count": 511,
     "metadata": {},
     "output_type": "execute_result"
    },
    {
     "data": {
      "image/png": "[encoded data removed]",
      "text/plain": [
       "<Figure size 792x360 with 1 Axes>"
      ]
     },
     "metadata": {},
     "output_type": "display_data"
    }
   ],
   "source": [
    "sns.set(rc={'figure.figsize':(11, 5)})\n",
    "df_2020_week['retweetCount'].mean().plot(linewidth=1)\n",
    "\n",
    "plt.title(\"Average Number of retweets each week\", fontsize = 15)\n",
    "plt.xlabel(\"Week number\", fontsize = 15)\n",
    "plt.ylabel(\"Number of retweets\", fontsize = 15)"
   ]
  },
  {
   "attachments": {},
   "cell_type": "markdown",
   "metadata": {},
   "source": [
    "# Number of subscirbers there are 121 users  . Each user have different subscritber count. I took the average of subscriber count for each user then averaged that across all users :"
   ]
  },
  {
   "cell_type": "code",
   "execution_count": 386,
   "metadata": {},
   "outputs": [],
   "source": [
    "\n",
    "# sum(df_2020_fb.groupby(['subscriberCount'])['userHandle'].unique().index)/2211"
   ]
  },
  {
   "cell_type": "code",
   "execution_count": 385,
   "metadata": {},
   "outputs": [
    {
     "data": {
      "text/plain": [
       "456570.55218196724"
      ]
     },
     "execution_count": 385,
     "metadata": {},
     "output_type": "execute_result"
    }
   ],
   "source": [
    "df_2020_fb.groupby(['uniqueUserId'])['subscriberCount'].mean().mean()"
   ]
  },
  {
   "cell_type": "code",
   "execution_count": 380,
   "metadata": {},
   "outputs": [],
   "source": [
    "# user_id = list(df_2020_fb.groupby(['userHandle'])['userHandle'].count().index)"
   ]
  },
  {
   "cell_type": "code",
   "execution_count": 381,
   "metadata": {},
   "outputs": [],
   "source": [
    "# df_2020_fb[df_2020_fb.userHandle == user_id[2]]['subscriberCount'].unique()"
   ]
  },
  {
   "cell_type": "code",
   "execution_count": 382,
   "metadata": {},
   "outputs": [],
   "source": [
    "# for i in s:\n",
    "#     print(i)"
   ]
  },
  {
   "cell_type": "code",
   "execution_count": 245,
   "metadata": {},
   "outputs": [],
   "source": [
    "# sns.set(rc={'figure.figsize':(11, 5)})\n",
    "# df_2020_week['subscriberCount'].sum().plot(linewidth=1)\n",
    "# plt.title(\"Number of subscribers each week\", fontsize = 15)\n",
    "# plt.xlabel(\"Week number\", fontsize = 15)\n",
    "# plt.ylabel(\"Number of subscribers # billions\", fontsize = 15)"
   ]
  },
  {
   "cell_type": "markdown",
   "metadata": {},
   "source": [
    "### A number to characterise the activity. X% increase in messages from the the first week to the last week (or something?)"
   ]
  },
  {
   "cell_type": "code",
   "execution_count": 397,
   "metadata": {},
   "outputs": [],
   "source": [
    "# df_2020_week['uniqueMessageId'].unique().mean()"
   ]
  },
  {
   "cell_type": "code",
   "execution_count": 256,
   "metadata": {},
   "outputs": [],
   "source": [
    "messages_over_week = df_2020_week['uniqueMessageId'].nunique()"
   ]
  },
  {
   "cell_type": "code",
   "execution_count": 389,
   "metadata": {},
   "outputs": [],
   "source": [
    "messages_over_week = messages_over_week[:-1]"
   ]
  },
  {
   "cell_type": "code",
   "execution_count": 390,
   "metadata": {},
   "outputs": [
    {
     "data": {
      "text/plain": [
       "Text(0,0.5,'Number of messages')"
      ]
     },
     "execution_count": 390,
     "metadata": {},
     "output_type": "execute_result"
    },
    {
     "data": {
      "image/png": "[encoded data removed]",
      "text/plain": [
       "<Figure size 792x360 with 1 Axes>"
      ]
     },
     "metadata": {},
     "output_type": "display_data"
    }
   ],
   "source": [
    "messages_over_week.plot(linewidth=1)\n",
    "plt.title(\"Activity rate each week\", fontsize = 15)\n",
    "plt.xlabel(\"Week number\", fontsize = 15)\n",
    "plt.ylabel(\"Number of messages\", fontsize = 15)"
   ]
  },
  {
   "cell_type": "markdown",
   "metadata": {},
   "source": [
    "# China’s messengers "
   ]
  },
  {
   "cell_type": "code",
   "execution_count": 422,
   "metadata": {},
   "outputs": [],
   "source": [
    "messanger = df_2020.set_index('uniqueUserId').join(accounts.set_index('combined/uniqueUserId'), lsuffix='_left', rsuffix='_right')\n"
   ]
  },
  {
   "cell_type": "markdown",
   "metadata": {},
   "source": [
    "### How many of each account type is in the list? "
   ]
  },
  {
   "cell_type": "code",
   "execution_count": 449,
   "metadata": {},
   "outputs": [
    {
     "data": {
      "text/plain": [
       "account_category\n",
       "Chinese Ambassador      36\n",
       "Confucius Institute    131\n",
       "Consulate General       15\n",
       "Embassy                129\n",
       "Media outlet            63\n",
       "Ministry official        7\n",
       "Other diplomat           3\n",
       "Name: account, dtype: int64"
      ]
     },
     "execution_count": 449,
     "metadata": {},
     "output_type": "execute_result"
    }
   ],
   "source": [
    "accounts.groupby('account_category')['account'].count()"
   ]
  },
  {
   "cell_type": "markdown",
   "metadata": {},
   "source": [
    "### State media are by far the most active: sending XXX messages: 258068"
   ]
  },
  {
   "cell_type": "code",
   "execution_count": null,
   "metadata": {},
   "outputs": [],
   "source": [
    "# messanger.groupby(messanger.account_category)['uniqueMessageId'].nunique()"
   ]
  },
  {
   "cell_type": "markdown",
   "metadata": {},
   "source": [
    "# Total number of keywords and average performance"
   ]
  },
  {
   "cell_type": "code",
   "execution_count": 431,
   "metadata": {},
   "outputs": [],
   "source": [
    "xls = pd.ExcelFile('data/All-languages-keywords-consolidated-version.xlsx')\n"
   ]
  },
  {
   "cell_type": "code",
   "execution_count": 437,
   "metadata": {},
   "outputs": [],
   "source": [
    "sheet1 = xls.parse(0)\n",
    "sheet2 = xls.parse(1)\n",
    "sheet3 = xls.parse(2)\n",
    "sheet4 = xls.parse(3)"
   ]
  },
  {
   "cell_type": "code",
   "execution_count": 438,
   "metadata": {},
   "outputs": [
    {
     "name": "stdout",
     "output_type": "stream",
     "text": [
      "566\n",
      "322\n",
      "184\n",
      "521\n"
     ]
    }
   ],
   "source": [
    "print(sheet1.count().sum())\n",
    "print(sheet2.count().sum())\n",
    "print(sheet3.count().sum())\n",
    "print(sheet4.count().sum())"
   ]
  },
  {
   "cell_type": "code",
   "execution_count": 439,
   "metadata": {},
   "outputs": [
    {
     "data": {
      "text/plain": [
       "1593"
      ]
     },
     "execution_count": 439,
     "metadata": {},
     "output_type": "execute_result"
    }
   ],
   "source": [
    "566+322+184+521"
   ]
  },
  {
   "cell_type": "markdown",
   "metadata": {},
   "source": [
    "# Master file columns"
   ]
  },
  {
   "cell_type": "code",
   "execution_count": 440,
   "metadata": {},
   "outputs": [
    {
     "data": {
      "text/plain": [
       "Index(['Unnamed: 0', 'account', 'region', 'country', 'is_diplomatic_outlet',\n",
       "       'is_state_media_outlet', 'is_confucius_institute',\n",
       "       'is_official_central', 'account_category', 'name', 'social_media_type',\n",
       "       'langs', 'link_or_handle', 'extracted_from_file', 'extracted_from_col',\n",
       "       'lookup.twitter.user/verified',\n",
       "       'lookup.lookup.crowdtangle.account/verified',\n",
       "       'lookup.twitter.user/createdAt', 'combined/userHandle',\n",
       "       'combined/uniqueUserId'],\n",
       "      dtype='object')"
      ]
     },
     "execution_count": 440,
     "metadata": {},
     "output_type": "execute_result"
    }
   ],
   "source": [
    "accounts.columns"
   ]
  },
  {
   "cell_type": "markdown",
   "metadata": {},
   "source": [
    "# get all the messages produce by acccount type and make VOT for it to see the trend"
   ]
  },
  {
   "cell_type": "code",
   "execution_count": 452,
   "metadata": {},
   "outputs": [],
   "source": [
    "state_media = messanger.groupby(messanger.account_category=='Media outlet')['uniqueMessageId'].nunique()"
   ]
  },
  {
   "cell_type": "code",
   "execution_count": 462,
   "metadata": {},
   "outputs": [],
   "source": [
    "state_media = messanger[messanger.account_category=='Media outlet']"
   ]
  },
  {
   "cell_type": "code",
   "execution_count": 463,
   "metadata": {},
   "outputs": [],
   "source": [
    "state_media = state_media.reset_index()"
   ]
  },
  {
   "cell_type": "code",
   "execution_count": 465,
   "metadata": {},
   "outputs": [],
   "source": [
    "state_media.index = state_media.createdDate"
   ]
  },
  {
   "cell_type": "code",
   "execution_count": 484,
   "metadata": {},
   "outputs": [
    {
     "data": {
      "text/plain": [
       "<matplotlib.axes._subplots.AxesSubplot at 0x7fa06fbb4dd8>"
      ]
     },
     "execution_count": 484,
     "metadata": {},
     "output_type": "execute_result"
    },
    {
     "data": {
      "image/png": "[encoded data removed]",
      "text/plain": [
       "<Figure size 792x360 with 1 Axes>"
      ]
     },
     "metadata": {},
     "output_type": "display_data"
    }
   ],
   "source": [
    "state_media.groupby(state_media.createdDate)['uniqueMessageId'].count().plot()"
   ]
  },
  {
   "cell_type": "code",
   "execution_count": 485,
   "metadata": {},
   "outputs": [],
   "source": [
    "# for i,j in zip(state_media.groupby(state_media.createdDate)['uniqueMessageId'].count(),state_media.groupby(state_media.createdDate)['uniqueMessageId'].count().index):\n",
    "#     print(i,j)"
   ]
  },
  {
   "cell_type": "markdown",
   "metadata": {},
   "source": [
    "# China’s Focus "
   ]
  },
  {
   "cell_type": "markdown",
   "metadata": {},
   "source": [
    "### Language focus\n",
    "- Arabic : 46047, 10.78\n",
    "- English : 251730, 58.94\n",
    "- Spanish : 34024, 7.96\n",
    "- French : 19995, 4.6"
   ]
  },
  {
   "cell_type": "code",
   "execution_count": 155,
   "metadata": {},
   "outputs": [],
   "source": [
    "language_proportion = df_2020.groupby(all_data.language)['uniqueMessageId'].nunique()"
   ]
  },
  {
   "cell_type": "markdown",
   "metadata": {},
   "source": [
    "### How many accounts on the Master List were based in each region?"
   ]
  },
  {
   "cell_type": "code",
   "execution_count": 442,
   "metadata": {},
   "outputs": [],
   "source": [
    "accounts_region = accounts.groupby(accounts.region)['account'].nunique()"
   ]
  },
  {
   "cell_type": "code",
   "execution_count": 579,
   "metadata": {},
   "outputs": [
    {
     "data": {
      "text/plain": [
       "region\n",
       "Africa            40\n",
       "Americas         101\n",
       "Asia Pacific     102\n",
       "Eurasia           13\n",
       "Europe           104\n",
       "International      5\n",
       "Middle East       16\n",
       "Name: account, dtype: int64"
      ]
     },
     "execution_count": 579,
     "metadata": {},
     "output_type": "execute_result"
    }
   ],
   "source": [
    "accounts_region"
   ]
  },
  {
   "cell_type": "markdown",
   "metadata": {},
   "source": [
    "### What Was the total number of messages sent by all accounts from each region?\n",
    "- Slide 52 and 81 Asia-Pacific (talk to Francesca to adjust them)"
   ]
  },
  {
   "cell_type": "code",
   "execution_count": 515,
   "metadata": {},
   "outputs": [],
   "source": [
    "messages_region = messanger.groupby(messanger.region)['uniqueMessageId'].nunique()"
   ]
  },
  {
   "cell_type": "code",
   "execution_count": 518,
   "metadata": {},
   "outputs": [
    {
     "data": {
      "text/plain": [
       "region\n",
       "Africa            21588\n",
       "Americas          47193\n",
       "Asia Pacific     297053\n",
       "Eurasia            1896\n",
       "Europe            41573\n",
       "International      6141\n",
       "Middle East       11565\n",
       "Name: uniqueMessageId, dtype: int64"
      ]
     },
     "execution_count": 518,
     "metadata": {},
     "output_type": "execute_result"
    }
   ],
   "source": [
    "messages_region"
   ]
  },
  {
   "cell_type": "code",
   "execution_count": 186,
   "metadata": {},
   "outputs": [],
   "source": [
    "language_mapping = {'af': 'Afrikaans',\n",
    " 'ar': 'Arabic',\n",
    " 'bg': 'Bulgarian',\n",
    " 'bn': 'Bengali',\n",
    " 'ca': 'Catalan, Valencian',\n",
    " 'cs': 'Czech',\n",
    " 'da': 'Danish',\n",
    " 'de': 'German',\n",
    " 'el': 'Greek',\n",
    " 'en': 'English',\n",
    " 'es': 'Spanish',\n",
    " 'et': 'Estonian',\n",
    " 'fa': 'Persian',\n",
    " 'fi': 'Finnish',\n",
    " 'fr': 'French',\n",
    " 'he': 'Hebrew',\n",
    " 'hi': 'Hindi',\n",
    " 'hr': 'Croatian',\n",
    " 'hu': 'Hungarian',\n",
    " 'id': 'Indonesian',\n",
    " 'it': 'Italian',\n",
    " 'ja': 'Japanese',\n",
    " 'ko': 'Korean',\n",
    " 'lt': 'Lithuanian',\n",
    " 'lv': 'Latvian',\n",
    " 'mk': 'Macedonian',\n",
    " 'ne': 'Nepali',\n",
    " 'nl': 'Dutch, Flemish',\n",
    " 'no': 'Norwegian',\n",
    " 'pl': 'Polish',\n",
    " 'pt': 'Portuguese',\n",
    " 'ro': 'Romanian, Moldavian, Moldovan',\n",
    " 'ru': 'Russian',\n",
    " 'si': 'Sinhala, Sinhalese',\n",
    " 'sk': 'Slovak',\n",
    " 'sl': 'Slovenian',\n",
    " 'so': 'Somali',\n",
    " 'sq': 'Albanian',\n",
    " 'sv': 'Swedish',\n",
    " 'sw': 'Swahili',\n",
    " 'ta': 'Tamil',\n",
    " 'th': 'Thai',\n",
    " 'tl': 'Tagalog',\n",
    " 'tr': 'Turkish',\n",
    " 'uk': 'Ukrainian',\n",
    " 'ur': 'Urdu',\n",
    " 'vi': 'Vietnamese',\n",
    " 'zh-cn': 'Chinese Simplified',\n",
    " 'zh-tw': 'Chinese Traditional'}"
   ]
  },
  {
   "cell_type": "code",
   "execution_count": 486,
   "metadata": {},
   "outputs": [],
   "source": [
    "language_mapping = {\n",
    " 'ar': 'Arabic',\n",
    " 'de': 'German',\n",
    " 'en': 'English',\n",
    " 'es': 'Spanish',\n",
    " 'fr': 'French',\n",
    " 'it': 'Italian',\n",
    " 'ja': 'Japanese',\n",
    " 'ta': 'Tamil',\n",
    " 'tl': 'Tagalog',\n",
    " 'zh-cn': 'Chinese Simplified',\n",
    " 'zh-tw': 'Chinese Traditional'}"
   ]
  },
  {
   "cell_type": "code",
   "execution_count": 491,
   "metadata": {},
   "outputs": [
    {
     "data": {
      "text/plain": [
       "0                  Arabic\n",
       "1                  German\n",
       "2                 English\n",
       "3                 Spanish\n",
       "4                  French\n",
       "5                 Italian\n",
       "6                Japanese\n",
       "7                   Tamil\n",
       "8                 Tagalog\n",
       "9      Chinese Simplified\n",
       "10    Chinese Traditional\n",
       "Name: 1, dtype: object"
      ]
     },
     "execution_count": 491,
     "metadata": {},
     "output_type": "execute_result"
    }
   ],
   "source": [
    "pd.DataFrame(language_mapping.items())[1]"
   ]
  },
  {
   "cell_type": "code",
   "execution_count": 187,
   "metadata": {},
   "outputs": [],
   "source": [
    "df_2020.language = df_2020.language.replace(language_mapping)"
   ]
  },
  {
   "cell_type": "code",
   "execution_count": 191,
   "metadata": {},
   "outputs": [],
   "source": [
    "df_2020.to_csv('visualization/updated_languag')"
   ]
  },
  {
   "cell_type": "markdown",
   "metadata": {},
   "source": [
    "# Performance of the analytics "
   ]
  },
  {
   "cell_type": "code",
   "execution_count": 494,
   "metadata": {},
   "outputs": [],
   "source": [
    "Y = pd.read_csv('data/themes.csv')\n"
   ]
  },
  {
   "cell_type": "code",
   "execution_count": 495,
   "metadata": {},
   "outputs": [],
   "source": [
    "T = []\n",
    "for i in list(Y.columns):\n",
    "    if 'key' in i and 'matchSpans' not in i and 'numOfMatches' not in i and 'matches' not in i:\n",
    "#     if 'key' in i:\n",
    "        T.append(i)\n",
    "        \n",
    "mapping = {}\n",
    "for t in T:\n",
    "    mapping[t.replace('keyword.match/','')] = Y[Y[t]==True].index\n",
    "    \n",
    "F = [None] * len(Y)\n",
    "R = []\n",
    "for t,ind in mapping.items():\n",
    "    for i in mapping[t]:\n",
    "        if F[i] == None:\n",
    "            F[i]=[t]\n",
    "        else:\n",
    "            F[i].append(t)"
   ]
  },
  {
   "cell_type": "code",
   "execution_count": 496,
   "metadata": {},
   "outputs": [],
   "source": [
    "Y['combined/themes']=pd.Series(F)"
   ]
  },
  {
   "cell_type": "code",
   "execution_count": 497,
   "metadata": {},
   "outputs": [],
   "source": [
    "multi_themes = []\n",
    "for i in Y['combined/themes']:\n",
    "    if i:\n",
    "        if len(i)>1:\n",
    "            multi_themes.append(i)"
   ]
  },
  {
   "cell_type": "code",
   "execution_count": 498,
   "metadata": {},
   "outputs": [],
   "source": [
    "Final_data = Y.explode('combined/themes')"
   ]
  },
  {
   "cell_type": "code",
   "execution_count": 499,
   "metadata": {},
   "outputs": [
    {
     "data": {
      "text/plain": [
       "combined/themes\n",
       "chinese-culture-and-people     25706\n",
       "covid-19                       61085\n",
       "economy                        39666\n",
       "environment                     2546\n",
       "geopolitics                    94521\n",
       "media-narratives               80988\n",
       "military-and-security          16683\n",
       "other                         168120\n",
       "politics-and-society           68970\n",
       "technology                     11196\n",
       "Name: combined/messageId, dtype: int64"
      ]
     },
     "execution_count": 499,
     "metadata": {},
     "output_type": "execute_result"
    }
   ],
   "source": [
    "Final_data.groupby('combined/themes').count()['combined/messageId']\n",
    "Final_data['combined/themes'] = Final_data['combined/themes'].fillna('other')\n",
    "Final_data.groupby('combined/themes').count()['combined/messageId']"
   ]
  },
  {
   "cell_type": "code",
   "execution_count": 500,
   "metadata": {},
   "outputs": [],
   "source": [
    "output_columns =['combined/messageId',\n",
    "                 'combined/userHandle',\n",
    "                 'combined/createdDate',\n",
    "                 'combined/uniqueUserId',\n",
    "                 'combined/language',\n",
    "                 'combined/themes']"
   ]
  },
  {
   "cell_type": "code",
   "execution_count": 501,
   "metadata": {},
   "outputs": [],
   "source": [
    "Final_data[output_columns].to_csv('data/combined-themes-in-one-column.csv',index = False)"
   ]
  },
  {
   "cell_type": "code",
   "execution_count": 502,
   "metadata": {},
   "outputs": [
    {
     "data": {
      "text/plain": [
       "401361"
      ]
     },
     "execution_count": 502,
     "metadata": {},
     "output_type": "execute_result"
    }
   ],
   "source": [
    "len(Final_data)-len(Final_data[Final_data['combined/themes']=='other'])"
   ]
  },
  {
   "cell_type": "code",
   "execution_count": 503,
   "metadata": {},
   "outputs": [
    {
     "data": {
      "text/plain": [
       "401361"
      ]
     },
     "execution_count": 503,
     "metadata": {},
     "output_type": "execute_result"
    }
   ],
   "source": [
    "len(Final_data[Final_data['combined/themes']!='other'])"
   ]
  },
  {
   "cell_type": "code",
   "execution_count": 507,
   "metadata": {},
   "outputs": [
    {
     "data": {
      "text/plain": [
       "0.2081263466208706"
      ]
     },
     "execution_count": 507,
     "metadata": {},
     "output_type": "execute_result"
    }
   ],
   "source": [
    "118524 /len(Final_data)"
   ]
  },
  {
   "cell_type": "code",
   "execution_count": null,
   "metadata": {},
   "outputs": [],
   "source": [
    "401361"
   ]
  },
  {
   "cell_type": "code",
   "execution_count": 220,
   "metadata": {},
   "outputs": [
    {
     "data": {
      "text/plain": [
       "168120"
      ]
     },
     "execution_count": 220,
     "metadata": {},
     "output_type": "execute_result"
    }
   ],
   "source": [
    "len(Final_data[Final_data['combined/themes']=='other'])"
   ]
  },
  {
   "cell_type": "code",
   "execution_count": 238,
   "metadata": {},
   "outputs": [
    {
     "data": {
      "text/plain": [
       "569481"
      ]
     },
     "execution_count": 238,
     "metadata": {},
     "output_type": "execute_result"
    }
   ],
   "source": [
    "len(Final_data)"
   ]
  },
  {
   "cell_type": "code",
   "execution_count": 225,
   "metadata": {},
   "outputs": [
    {
     "data": {
      "text/plain": [
       "{'chinese-culture-and-people',\n",
       " 'covid-19',\n",
       " 'economy',\n",
       " 'environment',\n",
       " 'geopolitics',\n",
       " 'media-narratives',\n",
       " 'military-and-security',\n",
       " 'other',\n",
       " 'politics-and-society',\n",
       " 'technology'}"
      ]
     },
     "execution_count": 225,
     "metadata": {},
     "output_type": "execute_result"
    }
   ],
   "source": [
    "set(Final_data['combined/themes'])"
   ]
  },
  {
   "cell_type": "code",
   "execution_count": 236,
   "metadata": {},
   "outputs": [
    {
     "name": "stdout",
     "output_type": "stream",
     "text": [
      "Multi_themes: 118524\n"
     ]
    }
   ],
   "source": [
    "print(f'Multi_themes: {len(multi_themes)}')"
   ]
  },
  {
   "cell_type": "code",
   "execution_count": 508,
   "metadata": {},
   "outputs": [
    {
     "data": {
      "text/plain": [
       "0.9540636042402827"
      ]
     },
     "execution_count": 508,
     "metadata": {},
     "output_type": "execute_result"
    }
   ],
   "source": [
    "Language\tF1-score\tPrecision-score\tRecall-score\n",
    "Arabic\t0.519\t0.626\t0.482\n",
    "English\t0.566\t0.627\t0.545\n",
    "Spanish\t0.47\t0.616\t0.425\n",
    "French\t0.476\t0.434\t0.573\n"
   ]
  },
  {
   "cell_type": "code",
   "execution_count": 509,
   "metadata": {},
   "outputs": [
    {
     "data": {
      "text/plain": [
       "0.5757500000000001"
      ]
     },
     "execution_count": 509,
     "metadata": {},
     "output_type": "execute_result"
    }
   ],
   "source": [
    "(0.626+0.627+0.616+0.434)/4"
   ]
  },
  {
   "cell_type": "code",
   "execution_count": 510,
   "metadata": {},
   "outputs": [
    {
     "data": {
      "text/plain": [
       "0.5062500000000001"
      ]
     },
     "execution_count": 510,
     "metadata": {},
     "output_type": "execute_result"
    }
   ],
   "source": [
    "(0.482+0.545+0.425+0.573)/4"
   ]
  },
  {
   "cell_type": "markdown",
   "metadata": {},
   "source": [
    "### How many of each account type is in the list? "
   ]
  },
  {
   "cell_type": "markdown",
   "metadata": {},
   "source": [
    "### How many of each account type is in the list? "
   ]
  },
  {
   "cell_type": "markdown",
   "metadata": {},
   "source": [
    "### How many of each account type is in the list? "
   ]
  },
  {
   "cell_type": "markdown",
   "metadata": {},
   "source": [
    "### How many of each account type is in the list? "
   ]
  },
  {
   "cell_type": "markdown",
   "metadata": {},
   "source": [
    "### How many of each account type is in the list? "
   ]
  },
  {
   "cell_type": "markdown",
   "metadata": {},
   "source": [
    "### How many of each account type is in the list? "
   ]
  },
  {
   "cell_type": "markdown",
   "metadata": {},
   "source": [
    "### How many of each account type is in the list? "
   ]
  },
  {
   "cell_type": "markdown",
   "metadata": {},
   "source": [
    "### How many of each account type is in the list? "
   ]
  },
  {
   "cell_type": "markdown",
   "metadata": {},
   "source": [
    "### How many of each account type is in the list? "
   ]
  },
  {
   "cell_type": "markdown",
   "metadata": {},
   "source": [
    "### How many of each account type is in the list? "
   ]
  },
  {
   "cell_type": "markdown",
   "metadata": {},
   "source": [
    "### How many of each account type is in the list? "
   ]
  },
  {
   "cell_type": "markdown",
   "metadata": {},
   "source": [
    "### How many of each account type is in the list? "
   ]
  },
  {
   "cell_type": "code",
   "execution_count": null,
   "metadata": {},
   "outputs": [],
   "source": []
  }
 ],
 "metadata": {
  "kernelspec": {
   "display_name": "crf",
   "language": "python",
   "name": "crf"
  },
  "language_info": {
   "codemirror_mode": {
    "name": "ipython",
    "version": 3
   },
   "file_extension": ".py",
   "mimetype": "text/x-python",
   "name": "python",
   "nbconvert_exporter": "python",
   "pygments_lexer": "ipython3",
   "version": "3.6.7"
  }
 },
 "nbformat": 4,
 "nbformat_minor": 4
}
