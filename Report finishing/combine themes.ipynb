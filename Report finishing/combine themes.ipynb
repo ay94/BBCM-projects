{
 "cells": [
  {
   "cell_type": "code",
   "execution_count": 2,
   "metadata": {},
   "outputs": [],
   "source": [
    "import pandas as pd\n",
    "import numpy as np"
   ]
  },
  {
   "cell_type": "code",
   "execution_count": 3,
   "metadata": {},
   "outputs": [
    {
     "data": {
      "text/plain": [
       "0.5077499999999999"
      ]
     },
     "execution_count": 3,
     "metadata": {},
     "output_type": "execute_result"
    }
   ],
   "source": [
    "np.mean([0.519,\n",
    "0.566,\n",
    "0.47,\n",
    "0.476\n",
    "])"
   ]
  },
  {
   "cell_type": "code",
   "execution_count": 3,
   "metadata": {},
   "outputs": [],
   "source": [
    "X = pd.read_csv('themes.csv')"
   ]
  },
  {
   "cell_type": "code",
   "execution_count": 3,
   "metadata": {},
   "outputs": [
    {
     "data": {
      "text/plain": [
       "combined/theme\n",
       "chinese-culture-and-people      5656\n",
       "covid-19                       16839\n",
       "economy                        11998\n",
       "environment                       43\n",
       "geopolitics                    30717\n",
       "media_narratives               20011\n",
       "military-and-security           4501\n",
       "other                         230541\n",
       "politics-and-society           18576\n",
       "technology                      2039\n",
       "Name: combined/messageId, dtype: int64"
      ]
     },
     "execution_count": 3,
     "metadata": {},
     "output_type": "execute_result"
    }
   ],
   "source": [
    "X.groupby('combined/theme').count()['combined/messageId']"
   ]
  },
  {
   "cell_type": "code",
   "execution_count": 101,
   "metadata": {},
   "outputs": [
    {
     "name": "stderr",
     "output_type": "stream",
     "text": [
      "/Users/ay227/Desktop/first-trial/FT3.6/lib/python3.6/site-packages/IPython/core/interactiveshell.py:3072: DtypeWarning: Columns (2) have mixed types.Specify dtype option on import or set low_memory=False.\n",
      "  interactivity=interactivity, compiler=compiler, result=result)\n"
     ]
    }
   ],
   "source": [
    "Y = pd.read_csv('final_themes.csv')"
   ]
  },
  {
   "cell_type": "code",
   "execution_count": 102,
   "metadata": {},
   "outputs": [],
   "source": [
    "T = []\n",
    "for i in list(Y.columns):\n",
    "    if 'key' in i and 'matchSpans' not in i and 'numOfMatches' not in i and 'matches' not in i:\n",
    "#     if 'key' in i:\n",
    "        T.append(i)"
   ]
  },
  {
   "cell_type": "code",
   "execution_count": 103,
   "metadata": {},
   "outputs": [],
   "source": [
    "mapping = {}\n",
    "for t in T:\n",
    "    mapping[t.replace('keyword.match/','')] = Y[Y[t]==True].index"
   ]
  },
  {
   "cell_type": "code",
   "execution_count": 104,
   "metadata": {},
   "outputs": [],
   "source": [
    "F = [None] * len(Y)\n",
    "R = []\n",
    "for t,ind in mapping.items():\n",
    "    for i in mapping[t]:\n",
    "        if F[i] == None:\n",
    "            F[i]=[t]\n",
    "        else:\n",
    "            F[i].append(t)"
   ]
  },
  {
   "cell_type": "code",
   "execution_count": 105,
   "metadata": {},
   "outputs": [],
   "source": [
    "Y['combined/themes']=pd.Series(F)"
   ]
  },
  {
   "cell_type": "code",
   "execution_count": 106,
   "metadata": {},
   "outputs": [],
   "source": [
    "Final_data = Y.explode('combined/themes')"
   ]
  },
  {
   "cell_type": "code",
   "execution_count": 107,
   "metadata": {},
   "outputs": [
    {
     "data": {
      "text/plain": [
       "combined/themes\n",
       "chinese-culture-and-people    25706\n",
       "covid-19                      61085\n",
       "economy                       39666\n",
       "environment                    2546\n",
       "geopolitics                   94521\n",
       "media-narratives              80988\n",
       "military-and-security         16683\n",
       "politics-and-society          68970\n",
       "technology                    11196\n",
       "Name: combined/messageId, dtype: int64"
      ]
     },
     "execution_count": 107,
     "metadata": {},
     "output_type": "execute_result"
    }
   ],
   "source": [
    "Final_data.groupby('combined/themes').count()['combined/messageId']"
   ]
  },
  {
   "cell_type": "code",
   "execution_count": 108,
   "metadata": {},
   "outputs": [],
   "source": [
    "Final_data['combined/themes'] = Final_data['combined/themes'].fillna('other')"
   ]
  },
  {
   "cell_type": "code",
   "execution_count": 109,
   "metadata": {},
   "outputs": [
    {
     "data": {
      "text/plain": [
       "combined/themes\n",
       "chinese-culture-and-people     25706\n",
       "covid-19                       61085\n",
       "economy                        39666\n",
       "environment                     2546\n",
       "geopolitics                    94521\n",
       "media-narratives               80988\n",
       "military-and-security          16683\n",
       "other                         168120\n",
       "politics-and-society           68970\n",
       "technology                     11196\n",
       "Name: combined/messageId, dtype: int64"
      ]
     },
     "execution_count": 109,
     "metadata": {},
     "output_type": "execute_result"
    }
   ],
   "source": [
    "Final_data.groupby('combined/themes').count()['combined/messageId']"
   ]
  },
  {
   "cell_type": "code",
   "execution_count": 115,
   "metadata": {},
   "outputs": [],
   "source": [
    "output_columns =['combined/messageId',\n",
    "                 'combined/userHandle',\n",
    "                 'combined/createdDate',\n",
    "                 'combined/uniqueUserId',\n",
    "                 'combined/language',\n",
    "                 'combined/themes']"
   ]
  },
  {
   "cell_type": "code",
   "execution_count": 119,
   "metadata": {},
   "outputs": [],
   "source": [
    "Final_data[output_columns].to_csv('combined-themes-in-one-column_reduced.csv',index = False)"
   ]
  },
  {
   "cell_type": "code",
   "execution_count": 92,
   "metadata": {},
   "outputs": [],
   "source": [
    "# Final_data.to_csv('combined-themes-in-one-column.csv')"
   ]
  },
  {
   "cell_type": "code",
   "execution_count": 121,
   "metadata": {},
   "outputs": [
    {
     "data": {
      "text/plain": [
       "combined/themes\n",
       "chinese-culture-and-people     25706\n",
       "covid-19                       61085\n",
       "economy                        39666\n",
       "environment                     2546\n",
       "geopolitics                    94521\n",
       "media-narratives               80988\n",
       "military-and-security          16683\n",
       "other                         168120\n",
       "politics-and-society           68970\n",
       "technology                     11196\n",
       "Name: combined/messageId, dtype: int64"
      ]
     },
     "execution_count": 121,
     "metadata": {},
     "output_type": "execute_result"
    }
   ],
   "source": [
    "Final_data[output_columns].groupby('combined/themes').count()['combined/messageId']"
   ]
  },
  {
   "cell_type": "code",
   "execution_count": 122,
   "metadata": {},
   "outputs": [
    {
     "data": {
      "text/plain": [
       "401361"
      ]
     },
     "execution_count": 122,
     "metadata": {},
     "output_type": "execute_result"
    }
   ],
   "source": [
    "25706+61085+39666+2546+94521+80988+16683+68970+11196"
   ]
  },
  {
   "cell_type": "code",
   "execution_count": null,
   "metadata": {},
   "outputs": [],
   "source": []
  }
 ],
 "metadata": {
  "kernelspec": {
   "display_name": "crf",
   "language": "python",
   "name": "crf"
  },
  "language_info": {
   "codemirror_mode": {
    "name": "ipython",
    "version": 3
   },
   "file_extension": ".py",
   "mimetype": "text/x-python",
   "name": "python",
   "nbconvert_exporter": "python",
   "pygments_lexer": "ipython3",
   "version": "3.6.7"
  }
 },
 "nbformat": 4,
 "nbformat_minor": 4
}
