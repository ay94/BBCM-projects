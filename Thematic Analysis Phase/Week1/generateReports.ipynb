{
 "cells": [
  {
   "cell_type": "code",
   "execution_count": 82,
   "metadata": {},
   "outputs": [],
   "source": [
    "import matplotlib.pyplot as plt\n",
    "from collections import Counter\n",
    "from tqdm import tqdm\n",
    "import seaborn as sns\n",
    "import pandas as pd\n",
    "import numpy as np\n",
    "import re\n",
    "import datetime\n",
    "from pylab import rcParams\n",
    "import seaborn as sns\n",
    "from collections import Counter\n",
    "sns.set(rc={'figure.figsize':(11, 10)})\n",
    "\n",
    "pd.set_option('display.max_rows', 500)"
   ]
  },
  {
   "cell_type": "code",
   "execution_count": 5,
   "metadata": {},
   "outputs": [],
   "source": [
    "Arabic_folder = 'Arabic'\n",
    "English_folder = 'English'\n",
    "Spanish_folder = 'Spanish'\n",
    "French_folder = 'French'"
   ]
  },
  {
   "cell_type": "markdown",
   "metadata": {},
   "source": [
    "### Arabic Team Preformance "
   ]
  },
  {
   "cell_type": "code",
   "execution_count": 14,
   "metadata": {},
   "outputs": [],
   "source": [
    "ar_fb = pd.read_excel(Arabic_folder+'/ar-fb-random-500-28-Oct.xlsx')\n",
    "ar_tw = pd.read_excel(Arabic_folder+'/ar-tw-random-500-28-Oct.xlsx')"
   ]
  },
  {
   "cell_type": "markdown",
   "metadata": {},
   "source": [
    "### English Team Preformance "
   ]
  },
  {
   "cell_type": "code",
   "execution_count": 499,
   "metadata": {},
   "outputs": [],
   "source": [
    "def clean_en_df (data):\n",
    "    data['Suggested Themes'] = data['Suggested Themes'].str.strip()\n",
    "    extracted = data['Suggested Themes'].apply(lambda x: re.split('; |, |\\*|\\n',str(x))).explode().value_counts().reset_index()\n",
    "    extracted.iloc[15].values[0]\n",
    "    cleaned = extracted[extracted['index'].str.strip().astype(bool)]\n",
    "    cleaned = extracted[extracted['index'].str.strip('nan').astype(bool)]\n",
    "    cleaned = cleaned.rename(columns={\"index\": \"Suggested Theme\", \"Suggested Themes\": \"Count\"})\n",
    "    return cleaned\n",
    "\n",
    "    "
   ]
  },
  {
   "cell_type": "code",
   "execution_count": 538,
   "metadata": {},
   "outputs": [],
   "source": [
    "en_fb = pd.read_excel(English_folder+'/en-fb-random-500-28-Oct.xlsx')\n",
    "en_tw = pd.read_excel(English_folder+'/en-tw-random-500-28-Oct.xlsx')\n"
   ]
  },
  {
   "cell_type": "code",
   "execution_count": 539,
   "metadata": {},
   "outputs": [
    {
     "name": "stdout",
     "output_type": "stream",
     "text": [
      " The number of annotated facebook posts: 214\n",
      " The number of annotated tweets : 154\n"
     ]
    }
   ],
   "source": [
    "print(f\" The number of annotated facebook posts: {en_fb['Suggested Themes'].value_counts().reset_index()['Suggested Themes'].sum()}\")\n",
    "print(f\" The number of annotated tweets : {en_tw['Suggested Themes'].value_counts().reset_index()['Suggested Themes'].sum()}\")\n"
   ]
  },
  {
   "cell_type": "code",
   "execution_count": 540,
   "metadata": {},
   "outputs": [],
   "source": [
    "en_fb_themes_count = clean_en_df(en_fb)\n",
    "en_tw_themes_count = clean_en_df(en_tw)\n"
   ]
  },
  {
   "cell_type": "code",
   "execution_count": 541,
   "metadata": {},
   "outputs": [],
   "source": [
    "en_fb_themes_count.to_csv('English/fb_english_extracted_themes.csv',index = False)\n"
   ]
  },
  {
   "cell_type": "code",
   "execution_count": 543,
   "metadata": {},
   "outputs": [],
   "source": [
    "en_tw_themes_count.to_csv('English/tw_english_extracted_themes.csv',index = False)"
   ]
  },
  {
   "cell_type": "markdown",
   "metadata": {},
   "source": [
    "### Spanish Team Preformance "
   ]
  },
  {
   "cell_type": "code",
   "execution_count": 413,
   "metadata": {},
   "outputs": [],
   "source": [
    "def clean_es_df (data):\n",
    "        data['Suggested Themes'] = data['Suggested Themes'].str.strip()\n",
    "        extracted = data['Suggested Themes'].apply(lambda x: re.split('; |, |\\*|\\n',str(x))).explode().value_counts().reset_index()\n",
    "        cleaned = extracted.rename(columns={\"index\": \"Suggested Theme\", \"Suggested Themes\": \"Count\"})\n",
    "        return cleaned\n",
    "\n",
    "    "
   ]
  },
  {
   "cell_type": "code",
   "execution_count": 472,
   "metadata": {},
   "outputs": [],
   "source": [
    "initial_es_tw = pd.read_excel(Spanish_folder+'/es-initial-sampe-1000-27-10-finished_work_on_the_other_files.xlsx',converters={'Suggested Themes': str.lstrip})\n",
    "es_fb = pd.read_excel(Spanish_folder+'/es-fb-random-500-28-Oct.xlsx')\n",
    "es_tw = pd.read_excel(Spanish_folder+'/es-tw-random-500-28-Oct-annotate-only-300.xlsx')"
   ]
  },
  {
   "cell_type": "code",
   "execution_count": 476,
   "metadata": {},
   "outputs": [],
   "source": [
    "es_tw_themes_count = clean_en_df(initial_es_tw)"
   ]
  },
  {
   "cell_type": "code",
   "execution_count": null,
   "metadata": {},
   "outputs": [],
   "source": []
  },
  {
   "cell_type": "code",
   "execution_count": 478,
   "metadata": {},
   "outputs": [],
   "source": [
    "es_tw_themes_count.to_csv('Spanish/spanish_extracted_themes.csv',index = False)"
   ]
  },
  {
   "cell_type": "code",
   "execution_count": 417,
   "metadata": {},
   "outputs": [
    {
     "name": "stdout",
     "output_type": "stream",
     "text": [
      " The number of annotated tweets : 233\n",
      " The number of retweets : 21\n"
     ]
    }
   ],
   "source": [
    "print(f\" The number of annotated tweets : {initial_es_tw['Suggested Themes'].value_counts().reset_index()['Suggested Themes'].sum()}\")\n",
    "print(f\" The number of retweets : {len(initial_es_tw['Issues'].dropna())}\")\n"
   ]
  },
  {
   "cell_type": "markdown",
   "metadata": {},
   "source": [
    "### French Team Preformance "
   ]
  },
  {
   "cell_type": "code",
   "execution_count": 561,
   "metadata": {},
   "outputs": [],
   "source": [
    "fr_fb = pd.read_excel(French_folder+'/fr-fb-random-500-28-Oct.xlsx')\n",
    "fr_tw = pd.read_excel(French_folder+'/fr-tw-random-500-28-Oct.xlsx')"
   ]
  },
  {
   "cell_type": "code",
   "execution_count": 562,
   "metadata": {},
   "outputs": [],
   "source": [
    "fr_fb_themes_count = clean_en_df(fr_fb)\n",
    "fr_tw_themes_count = clean_en_df(fr_tw)\n"
   ]
  },
  {
   "cell_type": "code",
   "execution_count": 563,
   "metadata": {},
   "outputs": [
    {
     "name": "stdout",
     "output_type": "stream",
     "text": [
      " The number of annotated facebook posts: 22\n",
      " The number of annotated tweets : 16\n"
     ]
    }
   ],
   "source": [
    "print(f\" The number of annotated facebook posts: {fr_fb['Suggested Themes'].value_counts().reset_index()['Suggested Themes'].sum()}\")\n",
    "print(f\" The number of annotated tweets : {fr_tw['Suggested Themes'].value_counts().reset_index()['Suggested Themes'].sum()}\")\n"
   ]
  },
  {
   "cell_type": "code",
   "execution_count": 568,
   "metadata": {},
   "outputs": [],
   "source": [
    "fr_fb_themes_count.head()\n",
    "fr_fb_themes_count.to_csv('French/fb_french_extracted_themes.csv',index = False)"
   ]
  },
  {
   "cell_type": "code",
   "execution_count": 569,
   "metadata": {},
   "outputs": [],
   "source": [
    "fr_tw_themes_count.head()\n",
    "fr_tw_themes_count.to_csv('French/tw_french_extracted_themes.csv',index = False)"
   ]
  },
  {
   "cell_type": "code",
   "execution_count": null,
   "metadata": {},
   "outputs": [],
   "source": []
  }
 ],
 "metadata": {
  "kernelspec": {
   "display_name": "FT3.6",
   "language": "python",
   "name": "ft3.6"
  },
  "language_info": {
   "codemirror_mode": {
    "name": "ipython",
    "version": 3
   },
   "file_extension": ".py",
   "mimetype": "text/x-python",
   "name": "python",
   "nbconvert_exporter": "python",
   "pygments_lexer": "ipython3",
   "version": "3.6.7"
  }
 },
 "nbformat": 4,
 "nbformat_minor": 4
}
