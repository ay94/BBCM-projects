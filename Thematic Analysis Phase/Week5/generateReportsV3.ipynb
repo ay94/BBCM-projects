{
 "cells": [
  {
   "cell_type": "code",
   "execution_count": 1,
   "metadata": {},
   "outputs": [],
   "source": [
    "import matplotlib.pyplot as plt\n",
    "from collections import Counter\n",
    "from tqdm import tqdm\n",
    "import seaborn as sns\n",
    "import pandas as pd\n",
    "import numpy as np\n",
    "import re\n",
    "import datetime\n",
    "from pylab import rcParams\n",
    "import seaborn as sns\n",
    "from collections import Counter\n",
    "sns.set(rc={'figure.figsize':(11, 10)})\n",
    "\n",
    "pd.set_option('display.max_rows', 500)"
   ]
  },
  {
   "cell_type": "code",
   "execution_count": 2,
   "metadata": {},
   "outputs": [],
   "source": [
    "Arabic_folder = 'Arabic'\n",
    "English_folder = 'English'\n",
    "Spanish_folder = 'Spanish'\n",
    "French_folder = 'French'"
   ]
  },
  {
   "cell_type": "code",
   "execution_count": 61,
   "metadata": {},
   "outputs": [],
   "source": [
    "\n",
    "def clean_spaces(data):\n",
    "    df_obj = data.select_dtypes(['object'])\n",
    "    data[df_obj.columns] = df_obj.apply(lambda x: x.str.strip()).values\n",
    "    return data\n",
    "\n",
    "    \n",
    "    \n",
    "def clean_ar_df (data , cleaning):\n",
    "    data['Suggested Themes'] = data['Suggested Themes'].replace(cleaning, regex=True)\n",
    "    extracted = data['Suggested Themes'].apply(lambda x: re.split('; |,|\\*|\\n',str(x))).explode()\n",
    "    extracted = extracted.str.strip().value_counts().to_frame().reset_index()\n",
    "    cleaned = extracted[extracted[extracted.columns[0]].str.strip().astype(bool)]\n",
    "    cleaned = cleaned[cleaned['index'].str.strip('nan').astype(bool)]\n",
    "    cleaned = cleaned.rename(columns={'index': 'Suggested Themes', 'Suggested Themes': 'Count'})\n",
    "    return cleaned\n",
    "\n",
    "    \n",
    "\n",
    "    \n",
    "def clean_en_df (data , cleaning):\n",
    "#    \n",
    "#     if  'china-US' in list(data['Suggested Themes']):\n",
    "#         data['Suggested Themes'] = data['Suggested Themes'].replace({'china-US' : 'China-US relations'}, regex=True)\n",
    "#     \"China's relations with Africa\" : \"China's relations with African countries\" ,\n",
    "#     if  'China and the neighbours' in list(data['Suggested Themes']):\n",
    "#         data['Suggested Themes'] = data['Suggested Themes'].replace({'China and the neighbours' : \"China’s relations with neighbours\"}, regex=True)\n",
    "\n",
    "#     if  \"China's relations with Africa\" in list(data['Suggested Themes']):\n",
    "#         data['Suggested Themes'] = data['Suggested Themes'].replace({\"China's relations with Africa\" : \"China's relations with African countries\"}, regex=True)\n",
    "#             'China and the neighbours' : \"China’s relations with neighbours\" ,\n",
    "\n",
    "    \n",
    "\n",
    "    data['Suggested Themes'] = data['Suggested Themes'].replace(cleaning, regex=True)\n",
    "    extracted = data['Suggested Themes'].apply(lambda x: re.split('; |, |\\*|\\n',str(x))).explode()\n",
    "    extracted = extracted.str.strip().value_counts().to_frame().reset_index()\n",
    "    cleaned = extracted[extracted[extracted.columns[0]].str.strip().astype(bool)]\n",
    "    cleaned = cleaned[cleaned['index'].str.strip('nan').astype(bool)]\n",
    "    cleaned = cleaned[cleaned['index'].str.strip(',').astype(bool)]\n",
    "    cleaned = cleaned.rename(columns={'index': 'Suggested Themes', 'Suggested Themes': 'Count'})\n",
    "\n",
    "#     data['Suggested Themes'] = data['Suggested Themes'].str.strip()\n",
    "#     extracted = data['Suggested Themes'].apply(lambda x: re.split('; |, |\\*|\\n',str(x))).explode()\n",
    "#     extracted.str.strip().value_counts()\n",
    "\n",
    "#     extracted = data['Suggested Themes'].apply(lambda x: re.split('; |, |\\*|\\n',str(x))).explode().value_counts().reset_index()\n",
    "#     cleaned = extracted[extracted['index'].str.strip().astype(bool)]\n",
    "#     cleaned = extracted[extracted['index'].str.strip(['nan',]).astype(bool)]\n",
    "#     cleaned = cleaned.rename(columns={'index': 'Suggested Themes', 'Suggested Themes': 'Count'})\n",
    "    return cleaned\n",
    "\n",
    "    \n",
    "\n",
    "\n",
    "def clean_es_df (data , cleaning):\n",
    "    data['Suggested Themes'] = data['Suggested Themes'].str.strip()\n",
    "    data['Suggested Themes'] = data['Suggested Themes'].replace(cleaning, regex=True)\n",
    "    if 'Chinese Media coverage of foreign countries' in list(data['Suggested Themes']):\n",
    "        data['Suggested Themes'] = data['Suggested Themes'].replace({'Chinese Media coverage of foreign countries' : 'Foreign news'}, regex=True)    \n",
    "    if 'Belt and Road initiative (BRI)' in list(data['Suggested Themes']):\n",
    "        data['Suggested Themes'] = data['Suggested Themes'].replace({'Belt and Road initiative (BRI)' : 'Belt and Road Initiative (BRI)'}, regex=True)    \n",
    "        \n",
    "    \n",
    "   \n",
    "    if 'Development/Development/aid' in list(data['Suggested Themes']):\n",
    "            data['Suggested Themes'] = data['Suggested Themes'].replace({'Development/Development/aid' : 'Development/aid'}, regex=True)\n",
    "    \n",
    "    extracted = data['Suggested Themes'].apply(lambda x: re.split('; |, |\\*|\\n',str(x))).explode().value_counts().reset_index()\n",
    "    cleaned = extracted[extracted['index'].str.strip().astype(bool)]\n",
    "    cleaned = extracted[extracted['index'].str.strip('nan').astype(bool)]\n",
    "    cleaned = cleaned.rename(columns={'index': 'Suggested Themes', 'Suggested Themes': 'Count'})\n",
    "    return cleaned\n",
    "\n",
    "\n",
    "def clean_fr_df (data , cleaning):\n",
    "        \n",
    "        if 'Environment' in list(data['Suggested Themes']): \n",
    "            data['Suggested Themes'] = data['Suggested Themes'].replace({'Environment' : 'Environmental protection'}, regex=True)\n",
    "        \n",
    "        data['Suggested Themes'] = data['Suggested Themes'].replace(cleaning, regex=True)\n",
    "        \n",
    "        data['Suggested Themes'] = data['Suggested Themes'].replace({'Environmental protectional protection' : 'Environmental protection'}, regex=True)\n",
    "\n",
    "        if 'Development' in list(data['Suggested Themes']): \n",
    "            data['Suggested Themes'] = data['Suggested Themes'].replace({'Development' : 'Development/aid'}, regex=True)\n",
    "            \n",
    "        extracted = data['Suggested Themes'].apply(lambda x: re.split('; |,|\\*|\\n',str(x))).explode()\n",
    "        extracted = extracted.str.strip().value_counts().to_frame().reset_index()\n",
    "        cleaned = extracted[extracted[extracted.columns[0]].str.strip().astype(bool)]\n",
    "        cleaned = cleaned[cleaned['index'].str.strip('nan').astype(bool)]\n",
    "        cleaned = cleaned.rename(columns={'index': 'Suggested Themes', 'Suggested Themes': 'Count'})\n",
    "        return cleaned\n",
    "\n",
    "\n",
    "def remove_spaces_from_df (data):\n",
    "        data['Suggested Themes'] = data['Suggested Themes'].str.strip()\n",
    "        extracted = data['Suggested Themes'].apply(lambda x: re.split('; |, |\\*|\\n',str(x))).explode().value_counts().reset_index()\n",
    "        cleaned = extracted.rename(columns={'index': 'Suggested Themes', 'Suggested Themes': 'Count'})\n",
    "        return cleaned\n",
    "    \n",
    "    \n",
    "def combine_tw_fb_counts(tw,fb):\n",
    "    combined_tw_fb_themes_counts = tw.set_index('Suggested Themes').join(fb.set_index('Suggested Themes'), lsuffix='_Of_Twitter', rsuffix='_Of_Facebook').fillna(0)\n",
    "    combined_tw_fb_themes_counts['Count_Of_Facebook'] = combined_tw_fb_themes_counts['Count_Of_Facebook'].astype(int)\n",
    "    Total = combined_tw_fb_themes_counts['Count_Of_Twitter'] + combined_tw_fb_themes_counts['Count_Of_Facebook']\n",
    "    combined_tw_fb_themes_counts['Total'] = Total\n",
    "    Final = combined_tw_fb_themes_counts.reset_index().sort_values('Total', ascending= False)\n",
    "    return Final\n",
    "                     \n",
    "\n",
    "\n"
   ]
  },
  {
   "cell_type": "markdown",
   "metadata": {},
   "source": [
    "### Arabic Team Preformance "
   ]
  },
  {
   "cell_type": "code",
   "execution_count": 13,
   "metadata": {},
   "outputs": [],
   "source": [
    "ar_fb = pd.read_excel(Arabic_folder+'/ar-fb-random-500-28-Oct.xlsx')\n",
    "ar_tw = pd.read_excel(Arabic_folder+'/ar-tw-random-500-28-Oct.xlsx')"
   ]
  },
  {
   "cell_type": "code",
   "execution_count": 14,
   "metadata": {},
   "outputs": [],
   "source": [
    "ar_cleaning_dict = {\n",
    "    'Covid-19 diplomacy' : 'Covid-19 Diplomacy' ,\n",
    "    'the Chinese political system' : 'Chinese political system' ,\n",
    "}"
   ]
  },
  {
   "cell_type": "code",
   "execution_count": 77,
   "metadata": {},
   "outputs": [],
   "source": [
    "ar_fb_themes_count = clean_ar_df(ar_fb,ar_cleaning_dict)\n",
    "ar_tw_themes_count = clean_ar_df(ar_tw , ar_cleaning_dict)\n",
    "combine_ar_tw_fb_counts = combine_tw_fb_counts(ar_tw_themes_count,ar_fb_themes_count)\n",
    "combine_ar_tw_fb_counts.to_csv('Arabic/reports/Arabic_extracted_themes.csv',index = False)\n"
   ]
  },
  {
   "cell_type": "code",
   "execution_count": 22,
   "metadata": {},
   "outputs": [
    {
     "name": "stdout",
     "output_type": "stream",
     "text": [
      " The number of annotated facebook posts: 250\n",
      " The number of annotated tweets : 480\n"
     ]
    }
   ],
   "source": [
    "print(f\" The number of annotated facebook posts: {ar_fb['Suggested Themes'].value_counts().reset_index()['Suggested Themes'].sum()}\")\n",
    "print(f\" The number of annotated tweets : {ar_tw['Suggested Themes'].value_counts().reset_index()['Suggested Themes'].sum()}\")\n"
   ]
  },
  {
   "cell_type": "markdown",
   "metadata": {},
   "source": [
    "### English Team Preformance\n"
   ]
  },
  {
   "cell_type": "code",
   "execution_count": 23,
   "metadata": {},
   "outputs": [],
   "source": [
    "en_fb = pd.read_excel(English_folder+'/en-fb-random-500-28-Oct.xlsx')\n",
    "en_tw = pd.read_excel(English_folder+'/en-tw-random-500-28-Oct.xlsx')\n"
   ]
  },
  {
   "cell_type": "code",
   "execution_count": 24,
   "metadata": {},
   "outputs": [],
   "source": [
    "en_cleaning_dict = {\n",
    "    'xi jinping' : 'Xi Jinping' ,\n",
    "    'health' : 'Health' , \n",
    "    'Covid-19 diplomacy' : 'Covid-19 Diplomacy' ,\n",
    "    'china and the world' : 'China and the World' ,\n",
    "    'covid-19' : 'Covid-19' ,\n",
    "    'to be omitted?' : 'To be omitted' ,\n",
    "    'Chinese people and culture' : 'Chinese culture and people' ,\n",
    "    'chinese people and culture' : 'Chinese culture and people' ,\n",
    "    'China and the world' : 'China and the World' ,\n",
    "    'chinese people' : 'Chinese culture and people' ,\n",
    "    'Chinese people' : 'Chinese culture and people' ,\n",
    "    'diplomacy' : 'Diplomacy' ,\n",
    "    'Food diplomacy' : 'Food Diplomacy' ,\n",
    "    'development/aid' : 'Development/aid' ,\n",
    "    'cooperation' : 'Cooperation' ,\n",
    "    'politics' : 'Politics' ,\n",
    "    'economy' : 'Economy ' ,\n",
    "    'anti-US' : 'Anti-US' ,\n",
    "    'chinese leadership appearances and messaging' : 'Chinese leadership appearances and messaging' ,\n",
    "    'technology' : 'Technology' ,\n",
    "    'the Chinese political system' : 'Chinese political system' ,\n",
    "#     'china and the UN' : 'China’s relations with the UN' ,\n",
    "    'Chinese leadership apperaances and messaging' : 'Chinese leadership appearances and messaging' ,\n",
    "    'Turming messages back on US/West' : 'Turning messages back on US/West' ,\n",
    "    'china\\'s relations with african countries' : 'China\\'s relations with African countries' ,\n",
    "    'china\\'s relations with african countries' : 'China\\'s relations with African countries' ,\n",
    "    'china\\'s relations with Africa' : 'China\\'s relations with African countries' ,\n",
    "    'countering negative news on china' : 'Countering negative news on China' ,\n",
    "    'anti-Trump' : 'Anti-Trump' ,\n",
    "    'US-China' : 'China-US relations' ,\n",
    "#     'China and the neighbours' : \"China’s relations with neighbours\" ,\n",
    "    \"China’s relations with the US\" : 'China-US relations' ,\n",
    "#     'china and UN' : 'China’s relations with the UN' ,\n",
    "    'chinese leadership messaging and apperances' : 'Chinese leadership appearances and messaging' ,\n",
    "#     'Military modernisation?' : 'Modernisation' ,\n",
    "#     'china-US' : 'China-US relations' ,\n",
    "#     'China-US' : 'China-US relations' ,\n",
    "#     'china and the EU' : 'China’s relations with the EU' ,\n",
    "    'China and the WRold' : 'China and the World' ,\n",
    "#     \"China's relations with Africa\" : \"China's relations with African countries\" ,\n",
    "    'foreign media coverage of China' : 'Foreign media coverage of China' ,\n",
    "    'South China' : 'South China Sea' ,\n",
    "#     'china and EU' : 'China’s relations with the EU' ,\n",
    "    'education' : 'Education' ,\n",
    "    '(China and US)' : 'China-US relations' ,\n",
    "    'chinese leadership apperances and messaging' : 'Chinese leadership appearances and messaging' ,\n",
    "    'development/ aid' : 'Development/aid' ,\n",
    "#     'China's relation with the UN' : 'China’s relations with the UN' ,\n",
    "    'treatment of minorities in US' : 'Treatment of minorities in US' ,\n",
    "    'Historical injustices against China' : 'Historical injustices towards China' ,\n",
    "    'China\\'s allies' : 'Allies' ,\n",
    "    'freedom of speech' : 'Freedom of speech'\n",
    "}"
   ]
  },
  {
   "cell_type": "code",
   "execution_count": 25,
   "metadata": {},
   "outputs": [
    {
     "name": "stderr",
     "output_type": "stream",
     "text": [
      "/Users/ay227/Desktop/first-trial/FT3.6/lib/python3.6/site-packages/pandas/core/computation/expressions.py:68: FutureWarning: elementwise comparison failed; returning scalar instead, but in the future will perform elementwise comparison\n",
      "  return op(a, b)\n"
     ]
    }
   ],
   "source": [
    "en_fb_themes_count = clean_en_df(en_fb,en_cleaning_dict)\n",
    "# Delete the extra China's relations with the UN\n",
    "index = en_fb_themes_count.loc[(en_fb_themes_count['Suggested Themes'] == 'China’s relations with the UN') | (en_fb_themes_count['Count'] == '1')].index[0]\n",
    "en_fb_themes_count = en_fb_themes_count.drop(index) \n",
    "en_tw_themes_count = clean_en_df(en_tw,en_cleaning_dict)\n",
    "\n",
    "combine_en_tw_fb_counts = combine_tw_fb_counts(en_tw_themes_count,en_fb_themes_count)\n"
   ]
  },
  {
   "cell_type": "code",
   "execution_count": 26,
   "metadata": {},
   "outputs": [],
   "source": [
    "combine_en_tw_fb_counts.to_csv('English/reports/English_extracted_themes.csv',index = False)\n"
   ]
  },
  {
   "cell_type": "code",
   "execution_count": 27,
   "metadata": {},
   "outputs": [
    {
     "name": "stdout",
     "output_type": "stream",
     "text": [
      " The number of annotated facebook posts: 477\n",
      " The number of annotated tweets : 399\n"
     ]
    }
   ],
   "source": [
    "print(f\" The number of annotated facebook posts: {en_fb['Suggested Themes'].value_counts().reset_index()['Suggested Themes'].sum()}\")\n",
    "print(f\" The number of annotated tweets : {en_tw['Suggested Themes'].value_counts().reset_index()['Suggested Themes'].sum()}\")\n"
   ]
  },
  {
   "cell_type": "markdown",
   "metadata": {},
   "source": [
    "### Spanish Team Preformance "
   ]
  },
  {
   "cell_type": "code",
   "execution_count": 28,
   "metadata": {},
   "outputs": [],
   "source": [
    "es_cleaning_dict = {'cooperation' : 'Cooperation' ,\n",
    "                     'coorperation' : 'Cooperation' ,\n",
    "                     'development/aid' : 'Development/aid' ,\n",
    "                     'economy' : 'Economy' ,\n",
    "                     'health' : 'Health' , \n",
    "                     'countering negative news on China' : 'Countering negative news on China' , \n",
    "                     'Countering negative news of China' : 'Countering negative news on China' , \n",
    "                     'countering negative news of China' : 'Countering negative news on China' ,\n",
    "                     'Aid' : 'Development/aid' , \n",
    "                     'media' : 'Media' ,\n",
    "                     'Chinese leadership appearances and messaging to the world' : 'Chinese leadership appearances and messaging' , \n",
    "                     'tourism': 'Tourism' ,\n",
    "                     'technology' : 'Technology' ,\n",
    "                     'BLM' : 'Black Lives Matter' ,\n",
    "                     'allies' : 'Allies' , \n",
    "                     'politics' : 'Politics' ,\n",
    "                     'diplomacy' : 'Diplomacy' , \n",
    "                     'aid' : 'Development/aid' ,\n",
    "                     'environmental protection' : 'Environmental protection' , \n",
    "                     'poverty alleviation' : 'Poverty alleviation' , \n",
    "                     'covid-19' : 'Covid-19' , \n",
    "                     'economic reform' : 'Economic reform' , \n",
    "                     'turning messages back on US' : 'Turning messages back on US' ,\n",
    "                     'trade' : 'Trade' , \n",
    "                     'modernisation' : 'Modernisation' , \n",
    "                     'education' : 'Education' , \n",
    "                     'Environemental protection' : 'Environmental protection' ,\n",
    "                     'infrastructure' : 'Infrastructure' ,\n",
    "                     'Enviornmental protection' : 'Environmental protection' ,\n",
    "                     'green energy' : 'Green energy' ,\n",
    "                     'history' : 'Chinese history' ,\n",
    "                     'Xi Jingping' : 'Xi Jinping' , \n",
    "                     'human rights' : 'Human rights' ,\n",
    "                     'irrelevant' : 'Irrelevant' ,\n",
    "                     'Chinese culutre and people' : 'Chinese culture and people'\n",
    "                    }"
   ]
  },
  {
   "cell_type": "code",
   "execution_count": 41,
   "metadata": {},
   "outputs": [],
   "source": [
    "initial_es_tw = pd.read_excel(Spanish_folder+'/es-initial-sampe-1000-27-10-finished_work_on_the_other_files.xlsx',converters={'Suggested Themes': str.lstrip})\n",
    "es_tw = pd.read_excel(Spanish_folder+'/es-tw-random-500-28-Oct-annotate-only-300.xlsx')\n",
    "combined_es_tw = pd.concat([initial_es_tw,es_tw]) \n",
    "es_fb = pd.read_excel(Spanish_folder+'/es-fb-random-500-28-Oct.xlsx')\n"
   ]
  },
  {
   "cell_type": "code",
   "execution_count": 42,
   "metadata": {},
   "outputs": [],
   "source": [
    "es_tw_themes_count = clean_es_df(combined_es_tw , es_cleaning_dict)\n",
    "es_fb_themes_count = clean_es_df(es_fb , es_cleaning_dict)\n",
    "combine_es_tw_fb_counts = combine_tw_fb_counts(es_tw_themes_count,es_fb_themes_count)\n"
   ]
  },
  {
   "cell_type": "code",
   "execution_count": 45,
   "metadata": {},
   "outputs": [],
   "source": [
    "combine_es_tw_fb_counts.to_csv('Spanish/reports/Spanish_extracted_themes.csv',index = False)\n"
   ]
  },
  {
   "cell_type": "code",
   "execution_count": 44,
   "metadata": {},
   "outputs": [
    {
     "name": "stdout",
     "output_type": "stream",
     "text": [
      " The number of annotated facebook posts: 496\n",
      " The total number of annotated tweets : 531\n",
      " The number of annotated tweets : 298\n",
      " The number of initial annotated tweets : 233\n"
     ]
    }
   ],
   "source": [
    "print(f\" The number of annotated facebook posts: {es_fb['Suggested Themes'].value_counts().reset_index()['Suggested Themes'].sum()}\")\n",
    "print(f\" The total number of annotated tweets : {es_tw['Suggested Themes'].value_counts().reset_index()['Suggested Themes'].sum() + initial_es_tw['Suggested Themes'].value_counts().reset_index()['Suggested Themes'].sum()}\")\n",
    "print(f\" The number of annotated tweets : {es_tw['Suggested Themes'].value_counts().reset_index()['Suggested Themes'].sum()}\")\n",
    "print(f\" The number of initial annotated tweets : {initial_es_tw['Suggested Themes'].value_counts().reset_index()['Suggested Themes'].sum()}\")\n"
   ]
  },
  {
   "cell_type": "markdown",
   "metadata": {},
   "source": [
    "### French Team Preformance "
   ]
  },
  {
   "cell_type": "code",
   "execution_count": 62,
   "metadata": {},
   "outputs": [],
   "source": [
    "fr_cleaning_dict = {\n",
    "    'green technology' : 'Green energy' , \n",
    "    'sustainable development' : ' Sustainable Development' ,\n",
    "    'virus' : 'Covid-19' ,\n",
    "    'trade' : 'Trade' ,\n",
    "    'Chinese people and culture' : 'Chinese culture and people' ,\n",
    "    'tourism' : 'Tourism' ,\n",
    "    'economy' : 'Economy' ,\n",
    "    'food diplomacy' : 'Food Diplomacy' ,\n",
    "    'Chinese relations with Arab countries' : 'China\\'s relations with Arab countries' ,\n",
    "    'foreign media coverage of China' : 'Foreign media coverage of China' ,\n",
    "    'cultural diplomacy' : 'Cultural Diplomacy' ,\n",
    "    'technology' : 'Technology' ,\n",
    "#     'development' : 'Development/aid' ,\n",
    "    'irrelevant' : 'Irrelevant' ,\n",
    "    'Chinese realtions with Arab countries' : 'China\\'s relations with Arab countries' ,\n",
    "    'Chinese Economic Development' : 'Chinese economic development' ,\n",
    "    'Covid-10' : 'Covid-19' ,\n",
    "#     'development aid' : 'Development/aid' ,\n",
    "    'Chinese relations with the World' : 'China and the World' ,\n",
    "    'China\\'s relations with Afrrican countries' : 'China\\'s relations with African countries' ,\n",
    "    'Chinese relations with African countries' : 'China\\'s relations with African countries' ,\n",
    "    'health' : 'Health' ,\n",
    "#     'Development' : 'Development/aid' , \n",
    "    'China relations with Africa' : 'China\\'s relations with African countries' ,\n",
    "#     'Environment' : 'Environmental protection' ,\n",
    "    'COVID-19' : 'Covid-19' ,\n",
    "    'Chinese media' : 'Foreign news' ,\n",
    "    'poverty alleviation' : 'Poverty alleviation' ,\n",
    "    'diplomacy' : 'Diplomacy' , \n",
    "    \n",
    "    'Hongkong' : 'Hong Kong' ,\n",
    "    'China\\'s relations with Africa' : 'China\\'s relations with African countries' ,\n",
    "    'China relations with UN' : 'China\\'s relations with the UN' ,\n",
    "    'China relations and the world' : 'China and the World' ,\n",
    "    'politics' : 'Politics' , \n",
    "    'wildlife' : 'Wildlife' ,\n",
    "    'chinese festivals' : 'Chinese festivals' ,\n",
    "    'education' : 'Education' ,\n",
    "    'Chinese relations with the EU' : 'China’s relations with the EU'\n",
    "   \n",
    "}"
   ]
  },
  {
   "cell_type": "code",
   "execution_count": 68,
   "metadata": {},
   "outputs": [],
   "source": [
    "fr_fb = pd.read_excel(French_folder+'/fr-fb-random-500-28-Oct.xlsx')\n",
    "fr_tw = pd.read_excel(French_folder+'/fr-tw-random-500-28-Oct.xlsx')"
   ]
  },
  {
   "cell_type": "code",
   "execution_count": 72,
   "metadata": {},
   "outputs": [],
   "source": [
    "fr_fb_themes_count = clean_fr_df(fr_fb , fr_cleaning_dict)\n",
    "fr_tw_themes_count = clean_fr_df(fr_tw , fr_cleaning_dict)\n",
    "combine_es_tw_fb_counts = combine_tw_fb_counts(fr_fb_themes_count,fr_tw_themes_count)\n"
   ]
  },
  {
   "cell_type": "code",
   "execution_count": 74,
   "metadata": {},
   "outputs": [],
   "source": [
    "# This is to remove something i am not sure about it \n",
    "combine_es_tw_fb_counts = combine_es_tw_fb_counts.drop(29)"
   ]
  },
  {
   "cell_type": "code",
   "execution_count": 75,
   "metadata": {},
   "outputs": [],
   "source": [
    "combine_es_tw_fb_counts.to_csv('French/reports/French_extracted_themes.csv',index = False)\n"
   ]
  },
  {
   "cell_type": "code",
   "execution_count": 76,
   "metadata": {},
   "outputs": [
    {
     "name": "stdout",
     "output_type": "stream",
     "text": [
      " The number of annotated facebook posts: 102\n",
      " The number of annotated tweets : 135\n"
     ]
    }
   ],
   "source": [
    "print(f\" The number of annotated facebook posts: {fr_fb['Suggested Themes'].value_counts().reset_index()['Suggested Themes'].sum()}\")\n",
    "print(f\" The number of annotated tweets : {fr_tw['Suggested Themes'].value_counts().reset_index()['Suggested Themes'].sum()}\")\n"
   ]
  },
  {
   "cell_type": "code",
   "execution_count": null,
   "metadata": {},
   "outputs": [],
   "source": []
  }
 ],
 "metadata": {
  "kernelspec": {
   "display_name": "FT3.6",
   "language": "python",
   "name": "ft3.6"
  },
  "language_info": {
   "codemirror_mode": {
    "name": "ipython",
    "version": 3
   },
   "file_extension": ".py",
   "mimetype": "text/x-python",
   "name": "python",
   "nbconvert_exporter": "python",
   "pygments_lexer": "ipython3",
   "version": "3.6.7"
  }
 },
 "nbformat": 4,
 "nbformat_minor": 4
}
