{
 "cells": [
  {
   "cell_type": "code",
   "execution_count": 62,
   "metadata": {},
   "outputs": [],
   "source": [
    "import matplotlib.pyplot as plt\n",
    "from collections import Counter\n",
    "from tqdm import tqdm\n",
    "import seaborn as sns\n",
    "import pandas as pd\n",
    "import numpy as np\n",
    "import datetime\n",
    "from pylab import rcParams\n",
    "\n",
    "\n",
    "import seaborn as sns\n",
    "sns.set(rc={'figure.figsize':(11, 10)})\n",
    "\n",
    "\n",
    "pd.set_option('display.max_rows', 500)\n",
    "pd.set_option('display.max_columns', 100)"
   ]
  },
  {
   "cell_type": "markdown",
   "metadata": {},
   "source": [
    "# Access the data "
   ]
  },
  {
   "cell_type": "code",
   "execution_count": 93,
   "metadata": {},
   "outputs": [
    {
     "name": "stderr",
     "output_type": "stream",
     "text": [
      "/Users/ay227/Desktop/first-trial/FT3.6/lib/python3.6/site-packages/IPython/core/interactiveshell.py:3072: DtypeWarning: Columns (3,7,14,20,22,23,27,29,31,33,34,36,40,49,51,53,54,55,56,57,60,62,66,72,74,75,76,82,83,84,86,93,96,100,103,104,106,114,118,119,120,124,126) have mixed types.Specify dtype option on import or set low_memory=False.\n",
      "  interactivity=interactivity, compiler=compiler, result=result)\n"
     ]
    }
   ],
   "source": [
    "COMBINED_LANG_PATH = 'bbcm-lang-analysis_combined-all-posts-lang-annotations-20201027-v2.csv' \n",
    "comb_lang_df = pd.read_csv(COMBINED_LANG_PATH)\n"
   ]
  },
  {
   "cell_type": "code",
   "execution_count": 13,
   "metadata": {},
   "outputs": [],
   "source": [
    "COMBINED_LANG_PATH = 'bbcm-lang-analysis_combined-all-posts-lang-annotations-20201014.csv' \n",
    "MASTER_FILE = 'all_accounts_master_file-v2.csv'\n"
   ]
  },
  {
   "cell_type": "code",
   "execution_count": 14,
   "metadata": {},
   "outputs": [
    {
     "name": "stderr",
     "output_type": "stream",
     "text": [
      "/Users/ay227/Desktop/first-trial/FT3.6/lib/python3.6/site-packages/IPython/core/interactiveshell.py:3072: DtypeWarning: Columns (1,2,6,8,10,13,14,16,17,18,21,22,24,25,28,31,34,36,39,40,42) have mixed types.Specify dtype option on import or set low_memory=False.\n",
      "  interactivity=interactivity, compiler=compiler, result=result)\n"
     ]
    }
   ],
   "source": [
    "comb_lang_df = pd.read_csv(COMBINED_LANG_PATH)\n",
    "master_file = pd.read_csv(MASTER_FILE)"
   ]
  },
  {
   "cell_type": "code",
   "execution_count": 4,
   "metadata": {},
   "outputs": [],
   "source": [
    "df = comb_lang_df.rename({'combined/createdDate':'createdDate',\n",
    "                          'combined/uniqueUserId':'uniqueUserId',\n",
    "                         'combined/userHandle':'userHandle',\n",
    "                         'combined/text':'text'}, axis=1)\n",
    "\n",
    "df['createdDate'] = pd.to_datetime(df['createdDate'], errors='coerce')\n"
   ]
  },
  {
   "cell_type": "code",
   "execution_count": 6,
   "metadata": {},
   "outputs": [],
   "source": [
    "\n",
    "df_year= df[df.createdDate.dt.year==2020]\n",
    "df_month = df_year[df_year.createdDate.dt.month==9]"
   ]
  },
  {
   "cell_type": "code",
   "execution_count": null,
   "metadata": {},
   "outputs": [],
   "source": [
    "set(list(df_month['lookup.general/social_media_type']))"
   ]
  },
  {
   "cell_type": "code",
   "execution_count": null,
   "metadata": {},
   "outputs": [],
   "source": [
    "print(len(df_month[df_month['lookup.general/social_media_type']=='fb']))\n",
    "print(len(df_month[df_month['lookup.general/social_media_type']=='tw']))"
   ]
  },
  {
   "cell_type": "code",
   "execution_count": null,
   "metadata": {},
   "outputs": [],
   "source": [
    "print( f' This is the total number of tweets/posts:{len(df_month[df_month['lookup.general/social_media_type']=='fb'])}')"
   ]
  },
  {
   "cell_type": "code",
   "execution_count": null,
   "metadata": {},
   "outputs": [],
   "source": [
    "df_month.to_csv('languages-data-within-timeframe.csv')"
   ]
  },
  {
   "cell_type": "code",
   "execution_count": null,
   "metadata": {},
   "outputs": [],
   "source": [
    "combined_tw_fb_added_columns = comb_lang_df.set_index('combined/uniqueUserId').join(master_file.set_index('combined/uniqueUserId'), lsuffix='_left', rsuffix='_right')\n"
   ]
  },
  {
   "cell_type": "code",
   "execution_count": null,
   "metadata": {},
   "outputs": [],
   "source": [
    "combined_tw_fb_added_columns = combined_tw_fb_added_columns.reset_index()"
   ]
  },
  {
   "cell_type": "code",
   "execution_count": null,
   "metadata": {},
   "outputs": [],
   "source": [
    "df = combined_tw_fb_added_columns.rename({'combined/createdDate':'createdDate',\n",
    "                          'combined/uniqueUserId':'uniqueUserId',\n",
    "                         'combined/userHandle':'userHandle',\n",
    "                         'combined/text':'text'}, axis=1)\n",
    "\n",
    "df['createdDate'] = pd.to_datetime(df['createdDate'], errors='coerce')\n"
   ]
  },
  {
   "cell_type": "code",
   "execution_count": null,
   "metadata": {},
   "outputs": [],
   "source": [
    "set(list(df['language']))"
   ]
  },
  {
   "cell_type": "code",
   "execution_count": null,
   "metadata": {},
   "outputs": [],
   "source": [
    "df_year= df[df.createdDate.dt.year==2020]\n",
    "df_month = df_year[df_year.createdDate.dt.month==9]"
   ]
  },
  {
   "cell_type": "code",
   "execution_count": null,
   "metadata": {},
   "outputs": [],
   "source": [
    "print( f' This is the total number of tweets/posts:{len(df_month[\"createdDate\"])}')"
   ]
  },
  {
   "cell_type": "code",
   "execution_count": null,
   "metadata": {},
   "outputs": [],
   "source": [
    "print(f'Total Number of users within this time frame: {len(set(df.uniqueUserId))}')"
   ]
  },
  {
   "cell_type": "code",
   "execution_count": null,
   "metadata": {},
   "outputs": [],
   "source": [
    "plt.figure(1)\n",
    "# plt.figure.figure_size=(10,20)\n",
    "plt.rcParams[\"figure.figsize\"] = [15, 15]\n",
    "plt.subplot(2,2,1)\n",
    "plt.title('The number of active users per year',fontsize=14)\n",
    "df.groupby(df.createdDate.dt.year)['uniqueUserId'].nunique().plot.bar()\n",
    "plt.ylabel('Number of distinct users',fontsize=14)\n",
    "plt.xlabel('Years',fontsize=14)\n",
    "\n",
    "plt.subplot(2,2,2)\n",
    "plt.title('The number of active users in 2020 per month ',fontsize=14)\n",
    "df_year.groupby(df.createdDate.dt.month)['uniqueUserId'].nunique().plot.bar()\n",
    "plt.ylabel('Number of distinct users',fontsize=14)\n",
    "plt.xlabel('Months',fontsize=14)\n",
    "\n",
    "plt.savefig('lang_analysis-2020-10-22/timeframe selection /time-frame-with-the-highest-number-of-active-users.png')"
   ]
  },
  {
   "cell_type": "code",
   "execution_count": null,
   "metadata": {},
   "outputs": [],
   "source": [
    "plt.title('The number of active users per day in September',fontsize=14)\n",
    "\n",
    "df_month.groupby(df.createdDate.dt.date)['uniqueUserId'].nunique().plot.bar()\n",
    "plt.xlabel('Days',fontsize=14)\n",
    "plt.ylabel('Number of distinct users ',fontsize=14)\n",
    "plt.savefig('lang_analysis-2020-10-22/timeframe selection /The-number-of-active-users-per-day-in-September.png')"
   ]
  },
  {
   "cell_type": "code",
   "execution_count": null,
   "metadata": {},
   "outputs": [],
   "source": [
    "plt.title('The number of activities: tweets/posts per day in September',fontsize=14)\n",
    "\n",
    "df_month.groupby(df.createdDate.dt.date)['uniqueUserId'].count().plot.bar()\n",
    "plt.xlabel('Days ',fontsize=14)\n",
    "plt.ylabel('Number of activities: tweets/posts',fontsize=14)\n",
    "\n",
    "plt.savefig('lang_analysis-2020-10-22/timeframe selection /The-number-of-activities-per-day-in-September.png')\n"
   ]
  },
  {
   "cell_type": "code",
   "execution_count": null,
   "metadata": {},
   "outputs": [],
   "source": [
    "rcParams['figure.figsize'] = 20, 10\n",
    "number_of_user_df = df_month.groupby(df.createdDate.dt.date)['uniqueUserId'].nunique().to_frame(name='Number of users')\n",
    "number_0f_post_df = df_month.groupby(df.createdDate.dt.date)['uniqueUserId'].count().to_frame(name='Number of posts/tweets')\n",
    "combined_tw_fb_added_columns = number_of_user_df.join(number_0f_post_df)\n",
    "combined_tw_fb_added_columns.plot.bar()"
   ]
  },
  {
   "cell_type": "markdown",
   "metadata": {},
   "source": [
    "### This function is to show the amont of acitvity pre day"
   ]
  },
  {
   "cell_type": "code",
   "execution_count": null,
   "metadata": {},
   "outputs": [],
   "source": [
    "activity_per_day = df_month.groupby(df.createdDate.dt.date)['uniqueUserId'].count().reset_index()\n",
    "activity_per_day = activity_per_day.rename({'createdDate':'timeframe_days','uniqueUserId':'number_of_activity_per_day',}, axis=1)\n",
    "activity_per_day['number_of_activity_per_day'] = activity_per_day['number_of_activity_per_day']\n",
    "activity_per_day.to_csv('lang_analysis-2020-10-22/timeframe selection /number_of_activity_per_day_within_timeframe.csv')\n"
   ]
  },
  {
   "cell_type": "code",
   "execution_count": null,
   "metadata": {},
   "outputs": [],
   "source": [
    "user_acitvity_per_day = round(df_month.groupby('uniqueUserId')['createdDate'].count()/30,3).reset_index()\n",
    "user_acitvity_per_day= user_acitvity_per_day.rename({'createdDate':'rate_of_user_activity_per_day'}, axis=1)\n",
    "# user_acitvity_per_day = user_acitvity_per_day.replace('fb-','fb-N/A')\n",
    "user_acitvity_per_day = user_acitvity_per_day.set_index('uniqueUserId').join(master_file.set_index('combined/uniqueUserId'), lsuffix='_left', rsuffix='_right')\n",
    "user_acitvity_per_day.to_csv('lang_analysis-2020-10-22/timeframe selection /rate_calculation_per_account_within_time_frame.csv')\n",
    "\n"
   ]
  },
  {
   "cell_type": "code",
   "execution_count": null,
   "metadata": {},
   "outputs": [],
   "source": [
    "category_acitvity_per_day = round(df_month.groupby('account_category')['createdDate'].count()/30,3).reset_index()\n",
    "category_acitvity_per_day= category_acitvity_per_day.rename({'createdDate':'rate_of_category_activity_per_day'}, axis=1)\n",
    "category_acitvity_per_day.to_csv('lang_analysis-2020-10-22/timeframe selection /rate_of_category_activity_per_day.csv', index = False)\n"
   ]
  },
  {
   "cell_type": "markdown",
   "metadata": {},
   "source": [
    "# VOT"
   ]
  },
  {
   "cell_type": "code",
   "execution_count": null,
   "metadata": {},
   "outputs": [],
   "source": [
    "df_fb_vol.set_index('Timestamp', inplace=True)\n",
    "df_tw_vol.set_index('Timestamp', inplace=True)"
   ]
  },
  {
   "cell_type": "code",
   "execution_count": null,
   "metadata": {},
   "outputs": [],
   "source": [
    "ax = df_fb_vol.plot()\n",
    "plt.title('Over all activity',fontsize =14)\n",
    "plt.xlabel('Time',fontsize =14)\n",
    "plt.ylabel('Number of Posts',fontsize =14)\n"
   ]
  },
  {
   "cell_type": "code",
   "execution_count": null,
   "metadata": {},
   "outputs": [],
   "source": [
    "ax = df_tw_vol.plot()\n",
    "plt.title('Over all activity',fontsize =14)\n",
    "plt.xlabel('Time',fontsize =14)\n",
    "plt.ylabel('Number of Posts',fontsize =14)\n"
   ]
  },
  {
   "cell_type": "code",
   "execution_count": null,
   "metadata": {},
   "outputs": [],
   "source": [
    "df_fb_back = pd.read_csv('bbcm-china-collections_fb-v2-post-collections-fullbacksearch-20201014.csv')\n",
    "\n",
    "df_tw_back = pd.read_csv('bbcm-china-collections_tw-v2-tweet-collections-fullbacksearch-20201003.csv')\n"
   ]
  },
  {
   "cell_type": "code",
   "execution_count": null,
   "metadata": {},
   "outputs": [],
   "source": [
    "df_fb_back['crowdtangle.post/date'] = df_fb_back['crowdtangle.post/date'].apply(pd.to_datetime)\n",
    "df_tw_back['twitter.tweet/created'] = df_tw_back['twitter.tweet/created'].apply(pd.to_datetime)\n",
    "\n",
    "# df_fb_back.info()\n",
    "# df_tw_back.info()"
   ]
  },
  {
   "cell_type": "code",
   "execution_count": null,
   "metadata": {},
   "outputs": [],
   "source": [
    "df_tw_back = df_tw_back.rename({'twitter.tweet/created':'createdDate'}, axis=1)\n",
    "df_tw_back_year = df_tw_back[df_tw_back.createdDate.dt.year==2020]\n",
    "df_tw_back_year['createdDate'] = df_tw_back_year['createdDate'].apply(pd.to_datetime)"
   ]
  },
  {
   "cell_type": "code",
   "execution_count": null,
   "metadata": {},
   "outputs": [],
   "source": [
    "df_fb_back['crowdtangle.post/date'] = df_fb_back['crowdtangle.post/date'].dt.date\n",
    "df_tw_back_year['createdDate'] = df_tw_back_year['createdDate'].dt.date"
   ]
  },
  {
   "cell_type": "code",
   "execution_count": null,
   "metadata": {},
   "outputs": [],
   "source": [
    "df_fb_back.set_index('crowdtangle.post/date', inplace=True)\n",
    "df_tw_back_year.set_index('createdDate', inplace=True)\n",
    "\n"
   ]
  },
  {
   "cell_type": "code",
   "execution_count": null,
   "metadata": {},
   "outputs": [],
   "source": [
    "df_fb_back.groupby('crowdtangle.post/date').count()['crowdtangle.post/platformId'].plot(figsize=(16,8),title='Adjusted Closing Price')\n",
    "\n"
   ]
  },
  {
   "cell_type": "code",
   "execution_count": null,
   "metadata": {},
   "outputs": [],
   "source": [
    "df_tw_back_year.groupby('createdDate').count()['retweet.twitter.tweet/id'].plot(figsize=(16,8),title='Adjusted Closing Price')\n"
   ]
  },
  {
   "cell_type": "code",
   "execution_count": null,
   "metadata": {},
   "outputs": [],
   "source": [
    "df.groupby('crowdtangle.post/date').count()['crowdtangle.post/message'].to_frame(name='mean').reset_index()\n",
    "df_tw_back_year.groupby('createdDate').count()['retweet.twitter.tweet/id'].to_frame(name='mean').reset_index()"
   ]
  },
  {
   "cell_type": "code",
   "execution_count": null,
   "metadata": {},
   "outputs": [],
   "source": []
  }
 ],
 "metadata": {
  "kernelspec": {
   "display_name": "FT3.6",
   "language": "python",
   "name": "ft3.6"
  },
  "language_info": {
   "codemirror_mode": {
    "name": "ipython",
    "version": 3
   },
   "file_extension": ".py",
   "mimetype": "text/x-python",
   "name": "python",
   "nbconvert_exporter": "python",
   "pygments_lexer": "ipython3",
   "version": "3.6.7"
  }
 },
 "nbformat": 4,
 "nbformat_minor": 4
}
