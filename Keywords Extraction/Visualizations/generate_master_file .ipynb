{
 "cells": [
  {
   "cell_type": "code",
   "execution_count": 2,
   "metadata": {},
   "outputs": [],
   "source": [
    "import pandas as pd \n",
    "import numpy as np"
   ]
  },
  {
   "cell_type": "code",
   "execution_count": 3,
   "metadata": {},
   "outputs": [],
   "source": [
    "pd.set_option('display.max_rows', 500)\n",
    "pd.set_option('display.max_columns', 80)"
   ]
  },
  {
   "cell_type": "code",
   "execution_count": 9,
   "metadata": {},
   "outputs": [],
   "source": [
    "collectable_accounts = pd.read_csv('bbcm-china-source-data_combined-tw-fb-collectable-account-details.csv')\n",
    "bbcm_excel = pd.read_excel('/Users/ay227/Desktop/BBC_Monitoring/Data Collection and Language analysis Phase/Data_Source_Sheets/ChinaSocialMedia20200928.xlsx')\n",
    "filtered_bbcm_excel = pd.read_csv('/Users/ay227/Desktop/BBC_Monitoring/Data Collection and Language analysis Phase/Data_Source_Sheets/all_accounts_20201022_v2.csv')\n",
    "\n"
   ]
  },
  {
   "cell_type": "code",
   "execution_count": 14,
   "metadata": {},
   "outputs": [],
   "source": [
    "combined_tw_fb_added_columns = filtered_bbcm_excel.set_index('account').join(collectable_accounts.set_index('account'), lsuffix='_left', rsuffix='_right')\n",
    "combined_tw_fb_added_columns.to_csv('/Users/ay227/Desktop/BBC_Monitoring/Week4/lang_analysis-2020-10-22/master_file/all_accounts_master_file.csv')\n"
   ]
  },
  {
   "cell_type": "code",
   "execution_count": 60,
   "metadata": {},
   "outputs": [],
   "source": [
    "# df = bbcm_excel\n",
    "# # to fill the column with the value of another column \n",
    "\n",
    "# df.loc[df['Diplomatic outlet'] == 0,'Diplomatic outlet'] = df['General notes'] \n",
    "# df['Diplomatic outlet'].fillna(df['Confucius Institute'], inplace=True)\n",
    "# df['Diplomatic outlet'].fillna(df['State media outlet'], inplace=True)\n"
   ]
  },
  {
   "cell_type": "code",
   "execution_count": 61,
   "metadata": {},
   "outputs": [],
   "source": [
    "# set(list(df['Diplomatic outlet'].isna()))"
   ]
  },
  {
   "cell_type": "code",
   "execution_count": 50,
   "metadata": {},
   "outputs": [],
   "source": [
    "# user_details_maping = dict()\n",
    "# user_id = collectable_accounts.iloc[1]['combined/uniqueUserId']\n",
    "# col = collectable_accounts.iloc[1]['extracted_from_col']\n",
    "# acc = collectable_accounts.iloc[1]['account']\n",
    "# df = filtered_bbcm_excel[filtered_bbcm_excel[col] == acc]\n",
    "# df = df.dropna(axis = 1)\n",
    "# # remove stuff with zeros \n",
    "# # df = df.drop([col for col in df.columns if df[col].eq(0).any()], axis=1)\n",
    "# details = df.to_dict('list')\n",
    "# df['userID'] = user_id"
   ]
  },
  {
   "cell_type": "code",
   "execution_count": null,
   "metadata": {},
   "outputs": [],
   "source": [
    "pd.DataFrame(user_details_maping.items())"
   ]
  },
  {
   "cell_type": "code",
   "execution_count": null,
   "metadata": {},
   "outputs": [],
   "source": [
    "pd.DataFrame(df.to_dict('list').items())"
   ]
  },
  {
   "cell_type": "code",
   "execution_count": 11,
   "metadata": {},
   "outputs": [
    {
     "data": {
      "text/plain": [
       "{'CG/Mission Twitter handle',\n",
       " 'Chinese Ambassador Twitter handle',\n",
       " 'Chinese Press Officer Twitter handle',\n",
       " 'Consul General Twitter handle',\n",
       " 'Consulate General Facebook handle',\n",
       " 'Deputy chief of mission Twitter handle',\n",
       " 'Embassy Twitter handle without NA',\n",
       " 'Facebook link',\n",
       " 'Institute Twitter handle',\n",
       " 'Main Facebook Page Link',\n",
       " 'Media outlet Facebook handle',\n",
       " 'Media outlet Twitter handle',\n",
       " 'Ministry official Twitter handle'}"
      ]
     },
     "execution_count": 11,
     "metadata": {},
     "output_type": "execute_result"
    }
   ],
   "source": [
    "set(list(collectable_accounts['extracted_from_col']))"
   ]
  },
  {
   "cell_type": "code",
   "execution_count": null,
   "metadata": {},
   "outputs": [],
   "source": []
  }
 ],
 "metadata": {
  "kernelspec": {
   "display_name": "FT3.6",
   "language": "python",
   "name": "ft3.6"
  },
  "language_info": {
   "codemirror_mode": {
    "name": "ipython",
    "version": 3
   },
   "file_extension": ".py",
   "mimetype": "text/x-python",
   "name": "python",
   "nbconvert_exporter": "python",
   "pygments_lexer": "ipython3",
   "version": "3.6.7"
  }
 },
 "nbformat": 4,
 "nbformat_minor": 4
}
